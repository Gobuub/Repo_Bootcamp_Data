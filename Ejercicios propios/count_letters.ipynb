{
 "cells": [
  {
   "cell_type": "markdown",
   "id": "ef5b583f-b3c7-48ca-bea8-88947b53bce8",
   "metadata": {
    "tags": []
   },
   "source": [
    "Resumen\n",
    "\n",
    "If the numbers 1 to 5 are written out in words: one, two, three, four, five, then there are 3 + 3 + 5 + 4 + 4 = 19 letters used in total.\n",
    "\n",
    "If all the numbers from 1 to 1000 (one thousand) inclusive were written out in words, how many letters would be used?\n",
    "\n",
    "NOTE: Do not count spaces or hyphens. For example, 342 (three hundred and forty-two) contains 23 letters and 115 (one hundred and fifteen) contains 20 letters. The use of \"and\" when writing out numbers is in compliance with British usage.\n",
    "\n"
   ]
  },
  {
   "cell_type": "code",
   "execution_count": 5,
   "id": "bc7cc1a6-0796-4a18-a8c8-964922e0f8b9",
   "metadata": {},
   "outputs": [],
   "source": [
    "def count_letters(s):\n",
    "    count = 0\n",
    "    \n",
    "    for c in s:\n",
    "        if c.isalpha():\n",
    "            count += 1\n",
    "    return count"
   ]
  },
  {
   "cell_type": "code",
   "execution_count": 7,
   "id": "b929435c-acd8-4feb-8c41-bd0592d6022d",
   "metadata": {},
   "outputs": [
    {
     "data": {
      "text/plain": [
       "11"
      ]
     },
     "execution_count": 7,
     "metadata": {},
     "output_type": "execute_result"
    }
   ],
   "source": [
    "count_letters('one thousand')"
   ]
  },
  {
   "cell_type": "code",
   "execution_count": null,
   "id": "985f478e-9089-49e0-a392-a218e6cb818c",
   "metadata": {},
   "outputs": [],
   "source": []
  }
 ],
 "metadata": {
  "kernelspec": {
   "display_name": "Python 3 (ipykernel)",
   "language": "python",
   "name": "python3"
  },
  "language_info": {
   "codemirror_mode": {
    "name": "ipython",
    "version": 3
   },
   "file_extension": ".py",
   "mimetype": "text/x-python",
   "name": "python",
   "nbconvert_exporter": "python",
   "pygments_lexer": "ipython3",
   "version": "3.8.11"
  }
 },
 "nbformat": 4,
 "nbformat_minor": 5
}
