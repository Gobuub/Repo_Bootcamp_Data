{
 "cells": [
  {
   "cell_type": "markdown",
   "id": "a87c8fc9-ea33-4618-a1d1-7f7d815bc6aa",
   "metadata": {},
   "source": [
    "### Primer ejercicio de Prueba demo"
   ]
  },
  {
   "cell_type": "code",
   "execution_count": null,
   "id": "258667e4-98bf-4438-9751-55b3b86d459a",
   "metadata": {},
   "outputs": [],
   "source": [
    "def array_queries(arr, op):\n",
    "     '''\n",
    "    This function takes two arrays like parameters in one of this we realice the operations.\n",
    "    The second array is an array of list that give us the sub-array that we must to reverse into the first array.\n",
    "    We must do this operation for both of the elements that have in op argurment.\n",
    "    ex: If we have and sub-array of [1,3] we must to take the first array on his index[1] to index[3] and reverse it.\n",
    "    \n",
    "    arr = [1,2,3,4,5]\n",
    "    op = [0,1]\n",
    "    \n",
    "    array_queris(arr, op)\n",
    "    [1,4,3,2,5]\n",
    "    \n",
    "    '''\n",
    "    \n",
    "    for o in op:\n",
    "        x = o[0]\n",
    "        y = o[1]\n",
    "        print(x,y)\n",
    "        i = x\n",
    "        for i in range(x,y-i):\n",
    "            print(i)\n",
    "            print(f\"Antes del cambio x={arr[i]},y={arr[y]}\")\n",
    "            arr[i],arr[y]=arr[y],arr[i]\n",
    "            print(f\"Despues del cambio x={arr[i]}, y={arr[y]}\")\n",
    "            print(arr)\n",
    "    return arr"
   ]
  },
  {
   "cell_type": "code",
   "execution_count": null,
   "id": "67a1ac02-dbdc-4cdb-884f-1825e78e9777",
   "metadata": {},
   "outputs": [
    {
     "name": "stdout",
     "output_type": "stream",
     "text": [
      "0 1\n",
      "0\n",
      "Antes del cambio x=5,y=3\n",
      "Despues del cambio x=3, y=5\n",
      "[3, 5, 2, 1, 3]\n",
      "1 3\n",
      "1\n",
      "Antes del cambio x=5,y=1\n",
      "Despues del cambio x=1, y=5\n",
      "[3, 1, 2, 5, 3]\n",
      "0 2\n",
      "0\n",
      "Antes del cambio x=3,y=2\n",
      "Despues del cambio x=2, y=3\n",
      "[2, 1, 3, 5, 3]\n",
      "1\n",
      "Antes del cambio x=1,y=3\n",
      "Despues del cambio x=3, y=1\n",
      "[2, 3, 1, 5, 3]\n",
      "2 4\n"
     ]
    },
    {
     "data": {
      "text/plain": [
       "[2, 3, 1, 5, 3]"
      ]
     },
     "execution_count": 22,
     "metadata": {},
     "output_type": "execute_result"
    }
   ],
   "source": [
    "arr = [5,3,2,1,3]\n",
    "op = [[0,1],[1,3],[0,2],[2,4]]\n",
    "array_queries(arr,op)"
   ]
  },
  {
   "cell_type": "code",
   "execution_count": null,
   "id": "87b984ee-cf4a-4cd0-b03d-7e9ea9c64500",
   "metadata": {},
   "outputs": [],
   "source": [
    "def array_queries(arr, op):\n",
    "    '''\n",
    "    This function takes two arrays like parameters in one of this we realice the operations.\n",
    "    The second array is an array of list that give us the sub-array that we must to reverse into the first array.\n",
    "    We must do this operation for both of the elements that have in op argurment.\n",
    "    ex: If we have and sub-array of [1,3] we must to take the first array on his index[1] to index[3] and reverse it.\n",
    "    \n",
    "    arr = [1,2,3,4,5]\n",
    "    op = [0,1]\n",
    "    \n",
    "    array_queris(arr, op)\n",
    "    [1,4,3,2,5]\n",
    "    \n",
    "    '''\n",
    "    \n",
    "    for o in op:\n",
    "        x = o[0]\n",
    "        y = o[1]\n",
    "        print(x,y)\n",
    "        i = x\n",
    "        sub_arr = arr[x:y+1]\n",
    "        print(sub_arr)\n",
    "        sub_arr.reverse()\n",
    "        print(sub_arr)\n",
    "        del arr[x:y+1]\n",
    "        print(arr)\n",
    "        for val in sub_arr:\n",
    "            arr.insert(x, val)\n",
    "            x+=1\n",
    "        \n",
    "    return arr"
   ]
  },
  {
   "cell_type": "code",
   "execution_count": null,
   "id": "6c9e3a57-250f-45e5-9f42-4cbe4ab0850e",
   "metadata": {},
   "outputs": [
    {
     "name": "stdout",
     "output_type": "stream",
     "text": [
      "0 1\n",
      "[5, 3]\n",
      "[3, 5]\n",
      "[2, 1, 3]\n",
      "1 3\n",
      "[5, 2, 1]\n",
      "[1, 2, 5]\n",
      "[3, 3]\n"
     ]
    },
    {
     "data": {
      "text/plain": [
       "[3, 1, 2, 5, 3]"
      ]
     },
     "execution_count": 34,
     "metadata": {},
     "output_type": "execute_result"
    }
   ],
   "source": [
    "arr = [5,3,2,1,3]\n",
    "op = [[0,1],[1,3]]\n",
    "array_queries(arr,op)"
   ]
  },
  {
   "cell_type": "markdown",
   "id": "3238eb50-a615-4bad-b96e-ced52b19ad8a",
   "metadata": {},
   "source": [
    "### Segundo ejercicio prueba Demo. \n",
    "#### Encontrar expresion regex"
   ]
  },
  {
   "cell_type": "code",
   "execution_count": null,
   "id": "b3b70117-2ac9-41a6-a170-c387104eaa66",
   "metadata": {},
   "outputs": [],
   "source": [
    "pattern = r\"(^aa?$)|(^bb?$)|(^a(.*)?a$)|(^b(.*)?b$)\" \n",
    "#regex para detectar expresiones que comiencen y terminen por a o b, incluye que solo contenga un letra como entrada\n"
   ]
  },
  {
   "cell_type": "markdown",
   "id": "2e043666-d6a7-4d95-a3ca-5399ad6f419d",
   "metadata": {},
   "source": [
    "#### Ejercicio 1 Day one\n"
   ]
  },
  {
   "cell_type": "code",
   "execution_count": null,
   "id": "6996bbec-e32f-49cf-9af6-aed672a586d0",
   "metadata": {},
   "outputs": [],
   "source": [
    "def plusMinus(arr):\n",
    "    '''\n",
    "    This función takes an array and returns the mean of positive, negative and zero numbers on the array, \n",
    "    with a maximun of 6 numbers after the float dot.\n",
    "    ex: 0.650300f\n",
    "    '''\n",
    "    pos = 0\n",
    "    neg = 0\n",
    "    zero = 0\n",
    "    \n",
    "    for i in arr:\n",
    "        if i < 0:\n",
    "            neg +=1\n",
    "        elif i > 0:\n",
    "            pos +=1\n",
    "        else:\n",
    "            zero += 1  \n",
    "    # Write your code here\n",
    "            \n",
    "    results = [pos/len(arr), neg/len(arr), zero/len(arr)]\n",
    "    for val in results:\n",
    "        print(\"{0:.6f}\".format(val))"
   ]
  },
  {
   "cell_type": "markdown",
   "id": "3f454946-87b8-4eb7-9b3c-20326c7eeda3",
   "metadata": {},
   "source": [
    "#### Ejercicio 2 Day 1."
   ]
  },
  {
   "cell_type": "code",
   "execution_count": null,
   "id": "ed32a8e4-d01a-4b77-ac11-cd461db6a036",
   "metadata": {
    "tags": []
   },
   "outputs": [],
   "source": [
    "def miniMaxSum(arr):\n",
    "    '''\n",
    "    This function takes an array and returns the minimun and the maximun sum of it elements.\n",
    "    '''\n",
    "    arr.sort() # easy way sort the array\n",
    "    sum_total = 0\n",
    "    for val in arr:\n",
    "        sum_total += val # realices the sum of his elements\n",
    "    \n",
    "    print(sum_total-arr[-1],sum_total-arr[0]) #returns the sum minus the first value (min), and the last value(max) \n",
    "    \n",
    "    "
   ]
  },
  {
   "cell_type": "markdown",
   "id": "200eda86-0b32-4381-a338-53dbbc3bc03a",
   "metadata": {},
   "source": [
    "#### Ejercicio 3 Day 1"
   ]
  },
  {
   "cell_type": "code",
   "execution_count": null,
   "id": "475f069a-8358-4594-b179-0afeaf3a9cfb",
   "metadata": {},
   "outputs": [],
   "source": [
    "def timeConversion(s):\n",
    "    '''\n",
    "    This function takes an string like 12-hour format and returns it like 24-hours format. \n",
    "    '''\n",
    "   # case for 12:00:00AM to 12:59:59PM\n",
    "    if s[-2:] == \"AM\" and s[:2] == \"12\": \n",
    "        return \"00\" + s[2:-2] \n",
    "    # case for 01:00:00 AM to 11:59:59AM\n",
    "    elif s[-2:] == \"AM\": \n",
    "        return s[:-2] \n",
    "      # case for 12:00:00PM to 12:59:59\n",
    "    elif s[-2:] == \"PM\" and s[:2] == \"12\": \n",
    "        return s[:-2] \n",
    "          \n",
    "    else: \n",
    "    # case for 01:00:00PM to 11:59:59PM\n",
    "        return str(int(s[:2]) + 12) + s[2:8] \n",
    "    "
   ]
  },
  {
   "cell_type": "markdown",
   "id": "1ff5f059-bc7d-4b71-aa4b-5de72f2fdccf",
   "metadata": {},
   "source": [
    "#### Ejercicio 1 Day 2\n"
   ]
  },
  {
   "cell_type": "code",
   "execution_count": null,
   "id": "e5309840-4ff8-480f-ae81-bc4cb224ea9c",
   "metadata": {},
   "outputs": [],
   "source": [
    "def lonelyinteger(a):\n",
    "    # Write your code here\n",
    "    '''\n",
    "    Given an array of integers, where all elements but one occur twice, \n",
    "    find the unique element.\n",
    "    '''\n",
    "    a_set= set(a)\n",
    "    count = 0\n",
    "    for val in a_set:\n",
    "        count = 0\n",
    "        for val2 in a:\n",
    "            if val2 == val:\n",
    "                count += 1\n",
    "            else:\n",
    "                pass\n",
    "        if count == 1:\n",
    "            return val\n",
    "                "
   ]
  },
  {
   "cell_type": "markdown",
   "id": "bcf2463d-171b-42f7-82c6-e6d867ce6342",
   "metadata": {},
   "source": [
    "#### Ejercicio 2 Day 2"
   ]
  },
  {
   "cell_type": "code",
   "execution_count": null,
   "id": "6c85cd16-b498-4a33-be72-a2ad2718a55d",
   "metadata": {},
   "outputs": [],
   "source": [
    "def diagonalDifference(arr):\n",
    "    # Write your code here\n",
    "    '''\n",
    "    Given a square matrix, calculate the absolute difference between the sums of its diagonals.\n",
    "    '''\n",
    "    a,b = 0,0\n",
    "    for i in range(len(arr)):\n",
    "        a += arr[i][i]\n",
    "        b += arr[i][-i-1]\n",
    "    return abs(a-b)\n"
   ]
  },
  {
   "cell_type": "markdown",
   "id": "4833e0f4-0555-4d0a-b736-8bbfc5ed8754",
   "metadata": {},
   "source": [
    "#### Ejercicio 3 Day 2\n"
   ]
  },
  {
   "cell_type": "code",
   "execution_count": null,
   "id": "c38adc6f-65f9-45ae-8ddf-439476d242fb",
   "metadata": {},
   "outputs": [],
   "source": [
    "def countingSort(arr):\n",
    "    # Write your code here\n",
    "    '''\n",
    "    Quicksort usually has a running time of , but is there an algorithm that can sort even faster? \n",
    "    In general, this is not possible. Most sorting algorithms are comparison sorts, i.e. they sort \n",
    "    a list just by comparing the elements to one another. A comparison sort algorithm cannot beat  \n",
    "    (worst-case) running time, since  represents the minimum number of comparisons needed to know\n",
    "    where to place each element. \n",
    "    '''\n",
    "    sol=[0]*100  # creates an array filled with 0s\n",
    "    for a in arr : \n",
    "        sol[a] += 1\n",
    "\n",
    "    return sol\n"
   ]
  },
  {
   "cell_type": "markdown",
   "id": "ec008933-d91c-440f-bf93-98c1603826a1",
   "metadata": {},
   "source": [
    "#### Ejercicio 1 Day 3 (Bug en la pagina)"
   ]
  },
  {
   "cell_type": "code",
   "execution_count": null,
   "id": "58007803-48e4-4555-88e9-9ad000976863",
   "metadata": {},
   "outputs": [],
   "source": [
    "def findZigZagSequence(a, n):\n",
    "    '''\n",
    "    Given an array of  distinct integers, transform the array into a zig zag sequence \n",
    "    by permuting the array elements. A sequence will be called a zig zag sequence if the \n",
    "    first  elements in the sequence are in increasing order and the last  elements are \n",
    "    in decreasing order, where . You need to find the lexicographically smallest zig zag \n",
    "    sequence of the given array.\n",
    "    '''\n",
    "    a.sort()\n",
    "    mid = int(n/2)\n",
    "    a[mid], a[n-1] = a[n-1], a[mid]\n",
    "    \n",
    "    st = mid + 1\n",
    "    ed = n - 2\n",
    "    while(st <= ed):\n",
    "        a[st], a[ed] = a[ed], a[st]\n",
    "        st = st + 1\n",
    "        ed = ed - 1\n",
    "\n",
    "    for i in range (n):\n",
    "        if i == n-1:\n",
    "            print(a[i])\n",
    "        else:\n",
    "            print(a[i], end = ' ')\n",
    "    return"
   ]
  },
  {
   "cell_type": "markdown",
   "id": "d1ead5a2-e37f-4a2b-a2bd-bf6b1e0fa5e4",
   "metadata": {},
   "source": [
    "#### Ejercicio 2 Day 3"
   ]
  },
  {
   "cell_type": "code",
   "execution_count": null,
   "id": "f844ecdd-8d73-4692-a4ed-dea316b4bd22",
   "metadata": {
    "tags": []
   },
   "outputs": [],
   "source": [
    "def towerBreakers(n, m):\n",
    "    '''\n",
    "    This function describes a towers breakers games, and the play strategy of both players, in a loop, the player always\n",
    "    make the same move evenly divisble, divide by the size\n",
    "    '''\n",
    "    return 2 if n%2 == 0 or m==1 else 1"
   ]
  },
  {
   "cell_type": "markdown",
   "id": "e7170f19-4226-45b0-9757-8931111dfc00",
   "metadata": {},
   "source": [
    "#### Ejercicio 3 Day 3"
   ]
  },
  {
   "cell_type": "code",
   "execution_count": null,
   "id": "96efa495-b948-4ed3-9523-e26c97de8b8d",
   "metadata": {},
   "outputs": [],
   "source": [
    "def caesarCipher(s, k):\n",
    "    lower = [chr(a) for a in range(97, 123)]\n",
    "    upper = [chr(a) for a in range(65, 91)]\n",
    "    k = k % 26\n",
    "    lower_shift = lower[k:] + lower[:k]\n",
    "    upper_shift = upper[k:] + upper[:k]\n",
    "    \n",
    "    map_letters={}\n",
    "    \n",
    "    for i in range(26):\n",
    "        map_letters[lower[i]] = lower_shift[i]\n",
    "        map_letters[upper[i]] = upper_shift[i]\n",
    "    \n",
    "    outstring = ''\n",
    "    for i in s:\n",
    "        if i in lower or i in upper:\n",
    "            outstring+=map_letters[i]\n",
    "        else:\n",
    "            outstring += i\n",
    "\n",
    "    return(outstring)"
   ]
  },
  {
   "cell_type": "code",
   "execution_count": null,
   "id": "b93971ab-5167-471d-b27d-7c501f9a9225",
   "metadata": {},
   "outputs": [
    {
     "name": "stdout",
     "output_type": "stream",
     "text": [
      "['a', 'b', 'c', 'd', 'e', 'f', 'g', 'h', 'i', 'j', 'k', 'l', 'm', 'n', 'o', 'p', 'q', 'r', 's', 't', 'u', 'v', 'w', 'x', 'y', 'z']\n"
     ]
    }
   ],
   "source": [
    "lower = [chr(a) for a in range(97,123)]\n",
    "print(lower)"
   ]
  },
  {
   "cell_type": "markdown",
   "id": "6adcbe6e-3244-47d9-90f4-724fea2181ad",
   "metadata": {},
   "source": [
    "#### Ejercicio 1 Day 4"
   ]
  },
  {
   "cell_type": "code",
   "execution_count": null,
   "id": "b3a8ebad-caa0-4bdc-96f0-49da94027ab9",
   "metadata": {},
   "outputs": [],
   "source": [
    "grid = ['ebacd', 'fghij', 'olmkn', 'trpqs', 'xywuv']\n",
    "\n",
    "def gridChallenge(grid):\n",
    "    # Write your code here\n",
    "    '''\n",
    "    Given a square grid of characters in the range ascii[a-z], rearrange elements of each row alphabetically, ascending. \n",
    "    Determine if the columns are also in ascending alphabetical order, top to bottom. Return YES if they are or NO if they are not.\n",
    "    '''\n",
    "    print(grid)\n",
    "    res = [sorted(g) for g in grid]\n",
    "    print(res)\n",
    "    res_t = [list(x) for x in zip(*res)]\n",
    "    print(res_t)\n",
    "    test_res_t = [sorted(t) for t in res_t]\n",
    "    print(test_res_t)\n",
    "    return 'YES' if res == sorted(res) and res_t == test_res_t else 'NO'\n",
    "    "
   ]
  },
  {
   "cell_type": "code",
   "execution_count": null,
   "id": "1fb122bf-20d1-403b-bd07-e28f6fad5e63",
   "metadata": {},
   "outputs": [
    {
     "name": "stdout",
     "output_type": "stream",
     "text": [
      "['ebacd', 'fghij', 'olmkn', 'trpqs', 'xywuv']\n",
      "[['a', 'b', 'c', 'd', 'e'], ['f', 'g', 'h', 'i', 'j'], ['k', 'l', 'm', 'n', 'o'], ['p', 'q', 'r', 's', 't'], ['u', 'v', 'w', 'x', 'y']]\n",
      "[['a', 'f', 'k', 'p', 'u'], ['b', 'g', 'l', 'q', 'v'], ['c', 'h', 'm', 'r', 'w'], ['d', 'i', 'n', 's', 'x'], ['e', 'j', 'o', 't', 'y']]\n",
      "[['a', 'f', 'k', 'p', 'u'], ['b', 'g', 'l', 'q', 'v'], ['c', 'h', 'm', 'r', 'w'], ['d', 'i', 'n', 's', 'x'], ['e', 'j', 'o', 't', 'y']]\n"
     ]
    },
    {
     "data": {
      "text/plain": [
       "'YES'"
      ]
     },
     "execution_count": 29,
     "metadata": {},
     "output_type": "execute_result"
    }
   ],
   "source": [
    "gridChallenge(grid)"
   ]
  },
  {
   "cell_type": "code",
   "execution_count": null,
   "id": "166173c1-cf22-47e0-8260-45e4c1758ad7",
   "metadata": {},
   "outputs": [],
   "source": [
    "def gridChallenge(grid):\n",
    "    '''\n",
    "    Another version.\n",
    "    Given a square grid of characters in the range ascii[a-z], rearrange elements of each row alphabetically, ascending. \n",
    "    Determine if the columns are also in ascending alphabetical order, top to bottom. Return YES if they are or NO if they are not.\n",
    "    '''\n",
    "    outGrid = []\n",
    "\n",
    "    for row in grid:\n",
    "        print(row)\n",
    "        outGrid.append(''.join(sorted(row))) #sort the rows\n",
    "        print(outGrid)\n",
    "\n",
    "        for i in range(len(grid[0])): #for each column\n",
    "                column = [row[i] for row in outGrid] #genera las columnas\n",
    "                print(column)\n",
    "                if (sorted(column) != column):\n",
    "                        return 'NO'\n",
    "\n",
    "    return 'YES'"
   ]
  },
  {
   "cell_type": "code",
   "execution_count": null,
   "id": "b1997ad8-ac6f-467b-8338-6a19f2b0d5d4",
   "metadata": {},
   "outputs": [
    {
     "name": "stdout",
     "output_type": "stream",
     "text": [
      "ebacd\n",
      "['abcde']\n",
      "['a']\n",
      "['b']\n",
      "['c']\n",
      "['d']\n",
      "['e']\n",
      "fghij\n",
      "['abcde', 'fghij']\n",
      "['a', 'f']\n",
      "['b', 'g']\n",
      "['c', 'h']\n",
      "['d', 'i']\n",
      "['e', 'j']\n",
      "olmkn\n",
      "['abcde', 'fghij', 'klmno']\n",
      "['a', 'f', 'k']\n",
      "['b', 'g', 'l']\n",
      "['c', 'h', 'm']\n",
      "['d', 'i', 'n']\n",
      "['e', 'j', 'o']\n",
      "trpqs\n",
      "['abcde', 'fghij', 'klmno', 'pqrst']\n",
      "['a', 'f', 'k', 'p']\n",
      "['b', 'g', 'l', 'q']\n",
      "['c', 'h', 'm', 'r']\n",
      "['d', 'i', 'n', 's']\n",
      "['e', 'j', 'o', 't']\n",
      "xywuv\n",
      "['abcde', 'fghij', 'klmno', 'pqrst', 'uvwxy']\n",
      "['a', 'f', 'k', 'p', 'u']\n",
      "['b', 'g', 'l', 'q', 'v']\n",
      "['c', 'h', 'm', 'r', 'w']\n",
      "['d', 'i', 'n', 's', 'x']\n",
      "['e', 'j', 'o', 't', 'y']\n"
     ]
    },
    {
     "data": {
      "text/plain": [
       "'YES'"
      ]
     },
     "execution_count": 45,
     "metadata": {},
     "output_type": "execute_result"
    }
   ],
   "source": [
    "gridChallenge(grid)"
   ]
  },
  {
   "cell_type": "markdown",
   "id": "18a4055c-3031-4741-b502-dcbcfdc7c06a",
   "metadata": {},
   "source": [
    "#### Ejercicio 2 Day 4\n"
   ]
  },
  {
   "cell_type": "code",
   "execution_count": null,
   "id": "6dc710f7-991d-499c-97c9-a6915f767721",
   "metadata": {},
   "outputs": [],
   "source": [
    "def superDigit(n, k):\n",
    "    '''\n",
    "    This function have 2 arguments n (string) and k(integer), we must concatenate n, k times, it give us a superdigit,\n",
    "    the we return a number that it the result of the sum of all of it digits, until the number only have one digit.\n",
    "    '''\n",
    "    sd = int(n*k)\n",
    "    return recursive_sp(sd)\n",
    "    print(sd)\n",
    "def recursive_sp(sd):\n",
    "    sd_r = 0\n",
    "    while sd > 9:\n",
    "        sd_r += sd%10\n",
    "        print(sd_r)\n",
    "        sd = sd//10\n",
    "        print(sd)\n",
    "    sd_r = sd_r + sd\n",
    "    print(sd_r)\n",
    "    while sd_r > 9:\n",
    "        return recursive_sp(sd_r)\n",
    "    else:\n",
    "        print(sd_r)   \n",
    "    return sd_r\n",
    "    \n",
    "    \n",
    "            "
   ]
  },
  {
   "cell_type": "markdown",
   "id": "25ffd1d4-4521-4568-bc4a-75899e8a886d",
   "metadata": {},
   "source": [
    "##### Otro ejemplo de la función anterior mas optimizado"
   ]
  },
  {
   "cell_type": "code",
   "execution_count": null,
   "id": "9131f6f3-8e83-484a-b794-788e7de1b5ab",
   "metadata": {},
   "outputs": [],
   "source": [
    "def superDigit(n, k):\n",
    "    '''\n",
    "    This function have 2 arguments n (string) and k(integer), we must concatenate n, k times, it give us a superdigit,\n",
    "    the we return a number that it the result of the sum of all of it digits, until the number only have one digit.\n",
    "    '''\n",
    "    a = digsum(n)\n",
    "    return sup_digit(str(int(a)*k))\n",
    "\n",
    "def sup_digit(n):\n",
    "    if len(n) <= 1:\n",
    "        return n\n",
    "    else:\n",
    "        return sup_digit( digsum(n) )\n",
    "\n",
    "def digsum(n):\n",
    "    return str(sum((int(i) for i in list(n))))\n"
   ]
  },
  {
   "cell_type": "markdown",
   "id": "ef3893fc-478f-4826-96e3-251e9a20f947",
   "metadata": {},
   "source": [
    "#### Ejercicio 3 day 4"
   ]
  },
  {
   "cell_type": "code",
   "execution_count": null,
   "id": "fc45eacc-2dd4-42b4-bf27-fa48c32964b0",
   "metadata": {
    "tags": []
   },
   "outputs": [],
   "source": [
    "def minimumBribes(q):\n",
    "    '''\n",
    "    It is New Year's Day and people are in line for the Wonderland rollercoaster ride. \n",
    "    Each person wears a sticker indicating their initial position in the queue from  to . \n",
    "    Any person can bribe the person directly in front of them to swap positions, but they still wear their original sticker. \n",
    "    One person can bribe at most two others.\n",
    "\n",
    "    Determine the minimum number of bribes that took place to get to a given queue order. \n",
    "    Print the number of bribes, or, if anyone has bribed more than two people, print Too chaotic.\n",
    "    '''\n",
    "    total_bribes = 0\n",
    "    i = len(q) - 1\n",
    "    while i >= 0:\n",
    "        diff = q[i] - 1 - i\n",
    "        if diff == 1:\n",
    "            total_bribes += 1\n",
    "            q[i], q[i + 1] = q[i + 1], q[i]\n",
    "            i += 1\n",
    "        elif diff == 2:\n",
    "            total_bribes += 2\n",
    "            q[i], q[i + 2] = q[i + 2], q[i]\n",
    "            q[i], q[i + 1] = q[i + 1], q[i]\n",
    "            i += 2\n",
    "        elif diff > 2:\n",
    "            print(\"Too chaotic\")\n",
    "            return\n",
    "        i -= 1\n",
    "    print(total_bribes)"
   ]
  },
  {
   "cell_type": "code",
   "execution_count": null,
   "id": "766f7cf9-008f-4a21-8179-0ffbcf9a636e",
   "metadata": {},
   "outputs": [
    {
     "name": "stdout",
     "output_type": "stream",
     "text": [
      "Too chaotic\n"
     ]
    }
   ],
   "source": [
    "q = [5, 1, 2, 3, 7, 8, 6, 4]\n",
    "minimumBribes(q)"
   ]
  },
  {
   "cell_type": "markdown",
   "id": "d90075bc-db7e-42ce-92a0-c1f3b12fbabb",
   "metadata": {},
   "source": [
    "#### Ejercicio 4 day 4. Mock test"
   ]
  },
  {
   "cell_type": "code",
   "execution_count": null,
   "id": "120b797b-b278-4880-a700-89db38e290a1",
   "metadata": {},
   "outputs": [],
   "source": [
    "def truckTour(petrolpumps):\n",
    "    # Write your code here\n",
    "    '''\n",
    "    This funcions\n",
    "    '''\n",
    "    fuel = 0\n",
    "    distance = len(petrolpumps)\n",
    "    l = 0\n",
    "    i = l\n",
    "    while i < distance:\n",
    "        fuel = fuel + petrolpumps[i][0]-petrolpumps[i][1]\n",
    "        if fuel < 0:\n",
    "            l = l+1\n",
    "            i = l\n",
    "            fuel = 0\n",
    "        else:\n",
    "            i += 1\n",
    "    return l\n"
   ]
  },
  {
   "cell_type": "markdown",
   "id": "01da2b27-80e8-4d18-9481-e0611ba034f9",
   "metadata": {},
   "source": [
    "#### Ejercicio 1 Day 5"
   ]
  },
  {
   "cell_type": "code",
   "execution_count": null,
   "id": "bdb1deac-b6f5-4b1c-82df-f36ccff0c08a",
   "metadata": {},
   "outputs": [],
   "source": [
    "def mergeLists(head1, head2):\n",
    "    '''\n",
    "    Given pointers to the heads of two sorted linked lists, merge them into a single, \n",
    "    sorted linked list. Either head pointer may be null meaning that the corresponding \n",
    "    list is empty.\n",
    "    '''\n",
    "    if not head1 and not head2:\n",
    "        return head1\n",
    "    if not head1:\n",
    "        return head2\n",
    "    if not head2:\n",
    "        return head1\n",
    "    res = SinglyLinkedListNode(None)\n",
    "    c = res\n",
    "    c1 = head1\n",
    "    c2 = head2\n",
    "    while c1 and c2:\n",
    "        print(res)\n",
    "        if c1.data <= c2.data:\n",
    "            c.next = c1\n",
    "            c1 = c1.next\n",
    "        else:\n",
    "            c.next = c2\n",
    "            c2 = c2.next\n",
    "        c = c.next\n",
    "    if c1:\n",
    "        c.next = c1\n",
    "    if c2:\n",
    "        c.next = c2\n",
    "    return res.next"
   ]
  },
  {
   "cell_type": "markdown",
   "id": "0cff1103-91bb-4149-9a97-be54a3f33c55",
   "metadata": {},
   "source": [
    "#### Ejercicio 2 day 5"
   ]
  },
  {
   "cell_type": "code",
   "execution_count": null,
   "id": "de9071fc-b9cb-4d66-8e53-272e8858cadc",
   "metadata": {},
   "outputs": [],
   "source": [
    "import math\n",
    "import os\n",
    "import random\n",
    "import re\n",
    "import sys\n",
    "\n",
    "if __name__ == '__main__':\n",
    "    queue1 = []\n",
    "    queue2 = []\n",
    "    queries = int(input())\n",
    "    for x in range(queries):\n",
    "        y = list(map(int, input().rstrip().split()))\n",
    "        #print(f\"Consulta numero {x}:{y}\")\n",
    "        #print(f\" Q1 {queue1}\")\n",
    "        #print(f\" Q2 {queue2}\")\n",
    "        if y[0] == 1: # si el valor de la consulta es 1, hace esto\n",
    "                queue2.append(y[1])\n",
    "        if y[0] == 2: # si el valor de la consulta es 2, hace esto\n",
    "            if queue1:\n",
    "                queue1.pop()\n",
    "            else:\n",
    "                queue1 = [None]*len(queue2)\n",
    "                for x in range (len(queue2)):\n",
    "                    queue1[x]=queue2[len(queue2)-x-1]\n",
    "                queue2=[]\n",
    "                #movetoqueue2\n",
    "                queue1.pop()\n",
    "        if y[0] == 3:\n",
    "            if queue1:\n",
    "                print(queue1[-1])\n",
    "            else:\n",
    "                print(queue2[0])\n"
   ]
  },
  {
   "cell_type": "markdown",
   "id": "8e18ee36-ba00-432a-b9c6-1a9862248474",
   "metadata": {},
   "source": [
    "#### Ejercicio 3 day 5"
   ]
  },
  {
   "cell_type": "code",
   "execution_count": null,
   "id": "568aa768-581c-40af-a296-5519efca8a96",
   "metadata": {},
   "outputs": [],
   "source": [
    "def isBalanced(s):\n",
    "    # Write your code here\n",
    "    string = []\n",
    "    if len(s) % 2 != 0:\n",
    "        return 'NO'\n",
    "    for symbol in s:\n",
    "        print(symbol)\n",
    "        if symbol in '{[(':\n",
    "            string.append(symbol)\n",
    "            continue\n",
    "        #Add the open simbols if no is an open symbol continues the script\n",
    "        print(string)\n",
    "        # when finish to add the open simbols start to check the structure\n",
    "        if string != []:\n",
    "            last = string[-1]\n",
    "            print(f\"Este es last: {last}\")\n",
    "            print(f\"Este es symbol: {symbol}\")\n",
    "            if last == '(' and symbol == ')':\n",
    "                string.pop()\n",
    "            elif last == '[' and symbol == ']':\n",
    "                string.pop()\n",
    "            elif last == '{' and symbol == '}':\n",
    "                string.pop()\n",
    "            else:\n",
    "                return 'NO'\n",
    "    if string == []:\n",
    "        return 'YES'\n",
    "    else:\n",
    "        return 'NO'"
   ]
  },
  {
   "cell_type": "code",
   "execution_count": null,
   "id": "6fd4efef-16f8-4105-a046-770cd38c71b6",
   "metadata": {},
   "outputs": [
    {
     "name": "stdout",
     "output_type": "stream",
     "text": [
      "{\n",
      "[\n",
      "(\n",
      "[\n",
      "(\n",
      ")\n",
      "['{', '[', '(', '[', '(']\n",
      "Este es last: (\n",
      "Este es symbol: )\n",
      "]\n",
      "['{', '[', '(', '[']\n",
      "Este es last: [\n",
      "Este es symbol: ]\n",
      ")\n",
      "['{', '[', '(']\n",
      "Este es last: (\n",
      "Este es symbol: )\n",
      "]\n",
      "['{', '[']\n",
      "Este es last: [\n",
      "Este es symbol: ]\n",
      "}\n",
      "['{']\n",
      "Este es last: {\n",
      "Este es symbol: }\n"
     ]
    },
    {
     "data": {
      "text/plain": [
       "'YES'"
      ]
     },
     "execution_count": 140,
     "metadata": {},
     "output_type": "execute_result"
    }
   ],
   "source": [
    "isBalanced('{[([()])]}')"
   ]
  },
  {
   "cell_type": "markdown",
   "id": "e39e6fbf-8920-4457-a967-3c479b739c4e",
   "metadata": {},
   "source": [
    "#### Test Mock Day 5"
   ]
  },
  {
   "cell_type": "code",
   "execution_count": null,
   "id": "67699f9b-e811-4cd5-86c5-32e9649cfbcd",
   "metadata": {},
   "outputs": [],
   "source": [
    "def pairs(k, arr):\n",
    "\n",
    "    return len(set(arr) & set([item + k for item in set(arr)]))"
   ]
  },
  {
   "cell_type": "code",
   "execution_count": null,
   "id": "a4cbd870-1843-4e24-83d2-1d7f737e7572",
   "metadata": {},
   "outputs": [
    {
     "data": {
      "text/plain": [
       "3"
      ]
     },
     "execution_count": 163,
     "metadata": {},
     "output_type": "execute_result"
    }
   ],
   "source": [
    "k = 2\n",
    "arr = [1,2,5,4,3]\n",
    "pairs(k, arr)"
   ]
  },
  {
   "cell_type": "markdown",
   "id": "f3d46eba-f6ef-4fd0-802d-7046288156a2",
   "metadata": {},
   "source": [
    "#### Ejercicio 1 day 6"
   ]
  },
  {
   "cell_type": "code",
   "execution_count": null,
   "id": "812d9a12-b226-4c9b-a9bd-1f65728ed406",
   "metadata": {},
   "outputs": [],
   "source": [
    "class SingleTextEditor:\n",
    "    def __init__(self, s=''):\n",
    "        self.s = s\n",
    "        self.h = []\n",
    "        \n",
    "    def append(self, w):\n",
    "        self.h.append(len(w))\n",
    "        self.s += w\n",
    "        \n",
    "    def delete(self, k):\n",
    "        self.h.append(self.s[-k:])\n",
    "        self.s = self.s[:-k]\n",
    "        \n",
    "        \n",
    "    def printK(self, k):\n",
    "        print(self.s[k-1])\n",
    "        \n",
    "    def undo(self):\n",
    "        last = self.h.pop()\n",
    "        if type(last) is int:\n",
    "            self.s = self.s[:-last]\n",
    "        else:\n",
    "            self.s += last\n",
    " \n",
    "        \n",
    "def doSmthng(inst, q):\n",
    "    q = q.split()\n",
    "    if q[0] == '1':\n",
    "        inst.append(q[1])\n",
    "    elif q[0] == '2':\n",
    "        inst.delete(int(q[1]))\n",
    "    elif q[0] == '3':\n",
    "        inst.printK(int(q[1]))\n",
    "    else:\n",
    "        inst.undo()\n",
    "\n",
    "        \n",
    "            \n",
    "if __name__ == '__main__':\n",
    "    t = int(input())\n",
    "    qqq = SingleTextEditor()\n",
    "    for i in range(t):\n",
    "        cmd = input()\n",
    "        doSmthng(qqq, cmd)\n"
   ]
  },
  {
   "cell_type": "markdown",
   "id": "502c5b0e-e5d6-4b20-bdef-2291121527ac",
   "metadata": {},
   "source": [
    "#### Ejercicio 2 day 6"
   ]
  },
  {
   "cell_type": "code",
   "execution_count": null,
   "id": "ed937452-79c7-4dff-a048-961213032b9d",
   "metadata": {},
   "outputs": [],
   "source": [
    "def legoBlocks(n, m):\n",
    "    # Write your code here\n",
    "    M = 1000000007\n",
    "\n",
    "    a = [0,1,2,4,8] # a[i] is the number of all walls with width i \n",
    "    for j in range(5,m+1):  # this formula executes only when we have width 5 or more\n",
    "        a.append((a[j-1]+a[j-2]+a[j-3]+a[j-4])%M)\n",
    "    \n",
    "    for i in range(m+1): # this will give us all the walls for height n \n",
    "        a[i] = pow(a[i],n,M)\n",
    "\n",
    "    # let r[i] be the number of good layouts that have height n, and width i\n",
    "    r = [a[i] for i in range(m+1)] # start with all of them \n",
    "    for i in range(1,m+1):\n",
    "        for j in range(1,i):\n",
    "            r[i] -= (r[j]*a[i-j]) # subtract the number of bad layouts, when the FIRST vertical break in the wall appears at index j \n",
    "        r[i] = r[i]%M # make the computations easier \n",
    "    return r[m]"
   ]
  },
  {
   "cell_type": "markdown",
   "id": "501418c3-4ac4-411e-9bf5-6b9d81cdba57",
   "metadata": {},
   "source": [
    "#### Ejercicio 3 day 6"
   ]
  },
  {
   "cell_type": "code",
   "execution_count": null,
   "id": "3284b296-6b9e-404a-89ba-c2590b8e370a",
   "metadata": {},
   "outputs": [],
   "source": [
    "def cookies(k, A):\n",
    "    # Write your code here\n",
    "    A.sort()\n",
    "    i = 0\n",
    "    while A[0] < k or A[1] < k:\n",
    "        A.sort()\n",
    "        check_minimus(A)\n",
    "        print(A)\n",
    "        i+=1\n",
    "    return i\n",
    "\n",
    "def check_minimus(a):\n",
    "    \n",
    "    val_min = a[0]\n",
    "    val_min2 = a[1]\n",
    "    if a[0] < k or a[1] < k:\n",
    "        a.append(op_sweet(val_min, val_min2))\n",
    "    a.pop(0)\n",
    "    a.pop(0)\n",
    "    return a\n",
    "\n",
    "def op_sweet(x1, x2):\n",
    "    return 1 * x1 + (2 * x2)"
   ]
  },
  {
   "cell_type": "code",
   "execution_count": null,
   "id": "b28c9591-134b-4367-a0a3-b140b3aad02a",
   "metadata": {},
   "outputs": [
    {
     "name": "stdout",
     "output_type": "stream",
     "text": [
      "[2, 3, 4, 5, 5, 6, 7, 7, 8, 9, 5]\n",
      "[4, 5, 5, 5, 6, 7, 7, 8, 9, 8]\n",
      "[5, 5, 6, 7, 7, 8, 8, 9, 14]\n",
      "[6, 7, 7, 8, 8, 9, 14, 15]\n",
      "[7, 8, 8, 9, 14, 15, 20]\n"
     ]
    },
    {
     "data": {
      "text/plain": [
       "5"
      ]
     },
     "execution_count": 155,
     "metadata": {},
     "output_type": "execute_result"
    }
   ],
   "source": [
    "k = 7\n",
    "A = [2, 4, 5, 2, 1, 7, 8, 9, 3, 5, 6, 7]\n",
    "cookies(k, A)"
   ]
  },
  {
   "cell_type": "code",
   "execution_count": null,
   "id": "52e5ef2f-2ded-4dab-b819-0f60bafdba61",
   "metadata": {},
   "outputs": [],
   "source": [
    "### otra forma con heapq library\n",
    "import heapq\n",
    "\n",
    "def cookies_heapq(k, A):\n",
    "    heapq.heapify(A)\n",
    "    \n",
    "    ops = 0\n",
    "    while True:\n",
    "        f = heapq.heappop(A)\n",
    "                \n",
    "        if f >= k:\n",
    "            return ops\n",
    "        \n",
    "        if len(A) == 0:\n",
    "            return -1\n",
    "        \n",
    "        s = heapq.heappop(A)\n",
    "        n = f + 2*s\n",
    "        heapq.heappush(A, n)\n",
    "        \n",
    "        ops += 1"
   ]
  },
  {
   "cell_type": "code",
   "execution_count": null,
   "id": "42d693c3-c4c2-4e4f-a163-8e0877f32a2a",
   "metadata": {},
   "outputs": [
    {
     "data": {
      "text/plain": [
       "5"
      ]
     },
     "execution_count": 160,
     "metadata": {},
     "output_type": "execute_result"
    }
   ],
   "source": [
    "k = 7\n",
    "A = [2, 4, 5, 2, 1, 7, 8, 9, 3, 5, 6, 7]\n",
    "cookies_heapq(k, A)"
   ]
  },
  {
   "cell_type": "code",
   "execution_count": null,
   "id": "14108d59-372c-4820-9fd3-8f625abf882b",
   "metadata": {},
   "outputs": [],
   "source": [
    "def simpleCipher(encrypted, k):\n",
    "    '''\n",
    "    Given an encrypted string only in Uppercase, the function replace\n",
    "    each character whit the kth character away (char - k), in \n",
    "    counter-clockwise.\n",
    "    '''\n",
    "    abc = [chr(a) for a in range(65,91)]\n",
    "    k = k % 26\n",
    "    abc_shift = abc[-k:] + abc[:-k]\n",
    "    map_abc={}\n",
    "    \n",
    "    for i in range(26):\n",
    "        map_abc[abc[i]] = abc_shift[i]\n",
    "    encrypted_text = ''\n",
    "    \n",
    "    for char in encrypted:\n",
    "        if char in abc:\n",
    "            encrypted_text += map_abc[char]\n",
    "        else:\n",
    "            encrypted_text += char\n",
    "    return (encrypted_text)"
   ]
  },
  {
   "cell_type": "code",
   "execution_count": null,
   "id": "601be2c7-47a1-4df9-931d-855b1676bdca",
   "metadata": {},
   "outputs": [],
   "source": [
    "def counting(s):\n",
    "    '''\n",
    "    Description\n",
    "    -----------\n",
    "    Give a binary string s, return the number of non-empty substrings that \n",
    "    have the same number of 0's and 1's, and all the 0's and all the 1's in \n",
    "    these substrings are grouped consecutively.\n",
    "\n",
    "    Substrings that occur multiple times are counted the number of times they occur.\n",
    "    \n",
    "    Algorithm\n",
    "    ---------\n",
    "\n",
    "    Let's create groups as defined above. \n",
    "    The first element of s belongs in it's own group. \n",
    "    From then on, each element either doesn't match the previous element, \n",
    "    so that it starts a new group of size 1; or it does match, so that the \n",
    "    size of the most recent group increases by 1.\n",
    "\n",
    "    Afterwards, we will take the sum of min(groups[i-1], groups[i]).\n",
    "    '''\n",
    "    groups = [1]\n",
    "    for i in range(1, len(s)):\n",
    "        if s[i-1] != s[i]:\n",
    "             groups.append(1)\n",
    "        else:\n",
    "            groups[-1] += 1\n",
    "\n",
    "    ans = 0\n",
    "    for i in range(1, len(groups)):\n",
    "        ans += min(groups[i-1], groups[i])\n",
    "    return ans"
   ]
  },
  {
   "cell_type": "code",
   "execution_count": 34,
   "id": "f2ca5752-a86e-448a-9220-3feab6ee9144",
   "metadata": {},
   "outputs": [
    {
     "name": "stdout",
     "output_type": "stream",
     "text": [
      "o------------------------------------------------o\n",
      "|                                                |\n",
      "|                                                |\n",
      "|                                                |\n",
      "|                                                |\n",
      "|                                                |\n",
      "|                                                |\n",
      "|                                                |\n",
      "|                                                |\n",
      "|                                                |\n",
      "|                                                |\n",
      "|                                                |\n",
      "|                                                |\n",
      "|                                                |\n",
      "|                                                |\n",
      "|                                                |\n",
      "|                                                |\n",
      "|                                                |\n",
      "|                                                |\n",
      "|                                                |\n",
      "|                                                |\n",
      "|                                                |\n",
      "|                                                |\n",
      "|                                                |\n",
      "o------------------------------------------------o\n"
     ]
    }
   ],
   "source": [
    "def print_square():\n",
    "    '''\n",
    "    This funcion prints a square in the terminal.\n",
    "    \n",
    "    Params.\n",
    "    -------\n",
    "    \n",
    "    Receive the values of x (witdh) and y (heigth).\n",
    "    \n",
    "    Returns.\n",
    "    --------\n",
    "    \n",
    "    Print a square of the width ang height give by the user.\n",
    "    '''\n",
    "    x = int(input(\"Set a value for the witdh:\"))\n",
    "    y = int(input(\"Set a value for the height:\"))\n",
    "    top = ''\n",
    "    center = ''\n",
    "    for j in range(y):\n",
    "        for i in range(x):\n",
    "            if (i == 0 and j == 0) or (i == x-1  and j == 0):\n",
    "                top += 'o'\n",
    "            elif 0 < i < x and j == 0:\n",
    "                top += '-'\n",
    "            elif (i == 0 and j == 1) or (i == x-1  and j == 1):  \n",
    "                center += '|'\n",
    "            elif 0 < i < x and j == 1:\n",
    "                center += ' '\n",
    "            else: \n",
    "                pass\n",
    "        if j == 0:\n",
    "            print(top)\n",
    "        elif j >= 1 and j <= y-2:\n",
    "            print(center)\n",
    "        else:\n",
    "            print (top)\n",
    "print_square()"
   ]
  },
  {
   "cell_type": "code",
   "execution_count": 3,
   "id": "01fdeffc-d4ca-4a6b-98b8-86ec8a99ed5f",
   "metadata": {},
   "outputs": [
    {
     "data": {
      "text/plain": [
       "tuple"
      ]
     },
     "execution_count": 3,
     "metadata": {},
     "output_type": "execute_result"
    }
   ],
   "source": [
    "var = 1,2,3\n",
    "type(var)"
   ]
  },
  {
   "cell_type": "code",
   "execution_count": 5,
   "id": "adcadf3b-e380-4640-9625-ca17d2fb0098",
   "metadata": {},
   "outputs": [
    {
     "name": "stdout",
     "output_type": "stream",
     "text": [
      "El numero es 2\n"
     ]
    },
    {
     "ename": "TypeError",
     "evalue": "can only concatenate str (not \"int\") to str",
     "output_type": "error",
     "traceback": [
      "\u001b[0;31m---------------------------------------------------------------------------\u001b[0m",
      "\u001b[0;31mTypeError\u001b[0m                                 Traceback (most recent call last)",
      "\u001b[0;32m/var/folders/yw/344n0znn0ds9rjkb7bct5q4w0000gn/T/ipykernel_68533/3515481192.py\u001b[0m in \u001b[0;36m<module>\u001b[0;34m\u001b[0m\n\u001b[1;32m      2\u001b[0m \u001b[0;34m\u001b[0m\u001b[0m\n\u001b[1;32m      3\u001b[0m \u001b[0mprint\u001b[0m\u001b[0;34m(\u001b[0m\u001b[0;34m\"El numero es %d\"\u001b[0m\u001b[0;34m%\u001b[0m\u001b[0mnum\u001b[0m\u001b[0;34m)\u001b[0m\u001b[0;34m\u001b[0m\u001b[0;34m\u001b[0m\u001b[0m\n\u001b[0;32m----> 4\u001b[0;31m \u001b[0mprint\u001b[0m\u001b[0;34m(\u001b[0m\u001b[0;34m\"El numero es\"\u001b[0m \u001b[0;34m+\u001b[0m \u001b[0mnum\u001b[0m\u001b[0;34m)\u001b[0m\u001b[0;34m\u001b[0m\u001b[0;34m\u001b[0m\u001b[0m\n\u001b[0m",
      "\u001b[0;31mTypeError\u001b[0m: can only concatenate str (not \"int\") to str"
     ]
    }
   ],
   "source": [
    "num = 2\n",
    "\n",
    "print(\"El numero es %d\"%num)\n",
    "print(\"El numero es\" + num)"
   ]
  },
  {
   "cell_type": "code",
   "execution_count": null,
   "id": "e1693730-e386-4423-be4b-89d06ceafcd0",
   "metadata": {},
   "outputs": [],
   "source": []
  },
  {
   "cell_type": "code",
   "execution_count": null,
   "id": "c7f204ca-6f08-4d80-af56-86440ac68430",
   "metadata": {},
   "outputs": [],
   "source": []
  },
  {
   "cell_type": "code",
   "execution_count": null,
   "id": "398a0a3e-b6e4-4e37-8fe0-50b53a8c8917",
   "metadata": {
    "jupyter": {
     "source_hidden": true
    },
    "tags": []
   },
   "outputs": [],
   "source": []
  }
 ],
 "metadata": {
  "interpreter": {
   "hash": "c76c193c566fdf872a2f06d559ae2b9102676fc906d51fbbc6a896e7855e227d"
  },
  "kernelspec": {
   "display_name": "Python 3.8.11 64-bit ('Entorno_Virtual_BT_Data_Science': conda)",
   "name": "python3"
  },
  "language_info": {
   "codemirror_mode": {
    "name": "ipython",
    "version": 3
   },
   "file_extension": ".py",
   "mimetype": "text/x-python",
   "name": "python",
   "nbconvert_exporter": "python",
   "pygments_lexer": "ipython3",
   "version": "3.8.11"
  }
 },
 "nbformat": 4,
 "nbformat_minor": 5
}
