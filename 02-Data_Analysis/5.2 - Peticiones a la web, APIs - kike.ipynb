{
 "cells": [
  {
   "cell_type": "markdown",
   "metadata": {},
   "source": [
    "# 5.2 - Peticiones a la web, APIs\n",
    "\n",
    "[**APIs publicas**](https://github.com/public-apis/public-apis)\n",
    "\n",
    "\n",
    "![api_request](images/api_request.svg)\n",
    "\n",
    "\n",
    "\n",
    "Una api interfaz de programación de aplicaciones, es un código que permite que dos programas de software se comuniquen entre sí.\n",
    "\n",
    "La api define la forma correcta para que un desarrollador escriba un programa que solicite servicios de un sistema operativo u otra aplicación. Las api se implementan mediante llamadas a funciones. La sintaxis requerida se describe en la documentación de la api a la que se llama, y cada una es diferente.\n",
    "\n",
    "Las api se componen de dos elementos relacionados. La primera es una especificación que describe cómo se intercambia la información entre programas, hecha en forma de una solicitud de procesamiento y una devolución de los datos necesarios. El segundo es una interfaz de software escrita según esa especificación y publicada de alguna manera para su uso. Se dice que el software que quiere acceder a las características y capacidades de la API la llama, y se dice que el software que crea la API la publica.\n",
    "\n",
    "De manera general, usaremos las api para obtener información."
   ]
  },
  {
   "cell_type": "markdown",
   "metadata": {},
   "source": [
    "### Realizando una petición a la web (GET)\n",
    "\n",
    "Usaremos la librería [requests](https://docs.python-requests.org/en/master/) para realizar peticiones a la web."
   ]
  },
  {
   "cell_type": "code",
   "execution_count": 2,
   "metadata": {},
   "outputs": [
    {
     "name": "stdout",
     "output_type": "stream",
     "text": [
      "Requirement already satisfied: requests in /Users/Kike/opt/anaconda3/envs/Entorno_Virtual_BT_Data_Science/lib/python3.8/site-packages (2.26.0)\n",
      "Requirement already satisfied: charset-normalizer~=2.0.0; python_version >= \"3\" in /Users/Kike/opt/anaconda3/envs/Entorno_Virtual_BT_Data_Science/lib/python3.8/site-packages (from requests) (2.0.6)\n",
      "Requirement already satisfied: idna<4,>=2.5; python_version >= \"3\" in /Users/Kike/opt/anaconda3/envs/Entorno_Virtual_BT_Data_Science/lib/python3.8/site-packages (from requests) (3.2)\n",
      "Requirement already satisfied: certifi>=2017.4.17 in /Users/Kike/opt/anaconda3/envs/Entorno_Virtual_BT_Data_Science/lib/python3.8/site-packages (from requests) (2021.5.30)\n",
      "Requirement already satisfied: urllib3<1.27,>=1.21.1 in /Users/Kike/opt/anaconda3/envs/Entorno_Virtual_BT_Data_Science/lib/python3.8/site-packages (from requests) (1.26.6)\n"
     ]
    }
   ],
   "source": [
    "!pip install requests"
   ]
  },
  {
   "cell_type": "code",
   "execution_count": 3,
   "metadata": {},
   "outputs": [],
   "source": [
    "import requests as req"
   ]
  },
  {
   "cell_type": "code",
   "execution_count": 4,
   "metadata": {},
   "outputs": [],
   "source": [
    "url='http://www.google.es'"
   ]
  },
  {
   "cell_type": "code",
   "execution_count": 5,
   "metadata": {},
   "outputs": [
    {
     "data": {
      "text/plain": [
       "<Response [200]>"
      ]
     },
     "execution_count": 5,
     "metadata": {},
     "output_type": "execute_result"
    }
   ],
   "source": [
    "req.get(url)"
   ]
  },
  {
   "cell_type": "code",
   "execution_count": 6,
   "metadata": {},
   "outputs": [],
   "source": [
    "url='http://www.google.es/search?q=machine+learning'"
   ]
  },
  {
   "cell_type": "code",
   "execution_count": 9,
   "metadata": {},
   "outputs": [
    {
     "data": {
      "text/plain": [
       "<Response [200]>"
      ]
     },
     "execution_count": 9,
     "metadata": {},
     "output_type": "execute_result"
    }
   ],
   "source": [
    "req.get(url)"
   ]
  },
  {
   "cell_type": "code",
   "execution_count": 11,
   "metadata": {},
   "outputs": [
    {
     "data": {
      "text/plain": [
       "'<!doctype html><html lang=\"es\"><head><meta charset'"
      ]
     },
     "execution_count": 11,
     "metadata": {},
     "output_type": "execute_result"
    }
   ],
   "source": [
    "req.get(url).text[:50]"
   ]
  },
  {
   "cell_type": "code",
   "execution_count": null,
   "metadata": {},
   "outputs": [],
   "source": []
  },
  {
   "cell_type": "code",
   "execution_count": null,
   "metadata": {},
   "outputs": [],
   "source": []
  },
  {
   "cell_type": "markdown",
   "metadata": {},
   "source": [
    "### API de [Anime](https://jikan.moe/)"
   ]
  },
  {
   "cell_type": "code",
   "execution_count": 13,
   "metadata": {},
   "outputs": [],
   "source": [
    "URL_BASE = 'https://api.jikan.moe/v3/search/anime?q='"
   ]
  },
  {
   "cell_type": "code",
   "execution_count": 17,
   "metadata": {},
   "outputs": [],
   "source": [
    "busqueda = 'kuokaku kidoutai' #ghost in the sell"
   ]
  },
  {
   "cell_type": "code",
   "execution_count": 22,
   "metadata": {},
   "outputs": [
    {
     "data": {
      "text/plain": [
       "<Response [200]>"
      ]
     },
     "execution_count": 22,
     "metadata": {},
     "output_type": "execute_result"
    }
   ],
   "source": [
    "req.get(URL_BASE+busqueda)"
   ]
  },
  {
   "cell_type": "code",
   "execution_count": 21,
   "metadata": {},
   "outputs": [
    {
     "data": {
      "text/plain": [
       "{'mal_id': 43,\n",
       " 'url': 'https://myanimelist.net/anime/43/Koukaku_Kidoutai',\n",
       " 'image_url': 'https://cdn.myanimelist.net/images/anime/10/82594.jpg?s=077dce74e000ea7dcd77c738bd1cbee0',\n",
       " 'title': 'Koukaku Kidoutai',\n",
       " 'airing': False,\n",
       " 'synopsis': 'In the year 2029, Niihama City has become a technologically advanced metropolis. Due to great improvements in cybernetics, its citizens are able to replace their limbs with robotic parts. The world is...',\n",
       " 'type': 'Movie',\n",
       " 'episodes': 1,\n",
       " 'score': 8.28,\n",
       " 'start_date': '1995-11-18T00:00:00+00:00',\n",
       " 'end_date': '1995-11-18T00:00:00+00:00',\n",
       " 'members': 520754,\n",
       " 'rated': 'R+'}"
      ]
     },
     "execution_count": 21,
     "metadata": {},
     "output_type": "execute_result"
    }
   ],
   "source": [
    "req.get(URL_BASE+busqueda).json()['results'][0]"
   ]
  },
  {
   "cell_type": "code",
   "execution_count": null,
   "metadata": {},
   "outputs": [],
   "source": []
  },
  {
   "cell_type": "code",
   "execution_count": null,
   "metadata": {},
   "outputs": [],
   "source": []
  },
  {
   "cell_type": "code",
   "execution_count": null,
   "metadata": {},
   "outputs": [],
   "source": []
  },
  {
   "cell_type": "markdown",
   "metadata": {},
   "source": [
    "### [PokeAPI](https://pokeapi.co/)"
   ]
  },
  {
   "cell_type": "code",
   "execution_count": 23,
   "metadata": {},
   "outputs": [],
   "source": [
    "BASE = 'https://pokeapi.co/api/v2/'"
   ]
  },
  {
   "cell_type": "code",
   "execution_count": 24,
   "metadata": {},
   "outputs": [],
   "source": [
    "pokemon = 'pokemon/25'"
   ]
  },
  {
   "cell_type": "code",
   "execution_count": 25,
   "metadata": {},
   "outputs": [],
   "source": [
    "response = req.get(BASE+pokemon)"
   ]
  },
  {
   "cell_type": "code",
   "execution_count": 26,
   "metadata": {},
   "outputs": [
    {
     "data": {
      "text/plain": [
       "<Response [200]>"
      ]
     },
     "execution_count": 26,
     "metadata": {},
     "output_type": "execute_result"
    }
   ],
   "source": [
    "response"
   ]
  },
  {
   "cell_type": "code",
   "execution_count": 29,
   "metadata": {},
   "outputs": [
    {
     "data": {
      "text/plain": [
       "'pikachu'"
      ]
     },
     "execution_count": 29,
     "metadata": {},
     "output_type": "execute_result"
    }
   ],
   "source": [
    "response.json()['forms'][0]['name']"
   ]
  },
  {
   "cell_type": "code",
   "execution_count": 30,
   "metadata": {},
   "outputs": [
    {
     "data": {
      "text/plain": [
       "{'count': 1118,\n",
       " 'next': 'https://pokeapi.co/api/v2/pokemon?offset=4&limit=3',\n",
       " 'previous': 'https://pokeapi.co/api/v2/pokemon?offset=0&limit=1',\n",
       " 'results': [{'name': 'ivysaur',\n",
       "   'url': 'https://pokeapi.co/api/v2/pokemon/2/'},\n",
       "  {'name': 'venusaur', 'url': 'https://pokeapi.co/api/v2/pokemon/3/'},\n",
       "  {'name': 'charmander', 'url': 'https://pokeapi.co/api/v2/pokemon/4/'}]}"
      ]
     },
     "execution_count": 30,
     "metadata": {},
     "output_type": "execute_result"
    }
   ],
   "source": [
    "query = {'limit':3, 'offset':1}\n",
    "res_poke = req.get(BASE+'pokemon', params=query)\n",
    "res_poke.json()"
   ]
  },
  {
   "cell_type": "code",
   "execution_count": null,
   "metadata": {},
   "outputs": [],
   "source": []
  },
  {
   "cell_type": "markdown",
   "metadata": {},
   "source": [
    "### [ISS](https://wheretheiss.at/w/developer) API"
   ]
  },
  {
   "cell_type": "code",
   "execution_count": 31,
   "metadata": {},
   "outputs": [
    {
     "data": {
      "text/plain": [
       "<Response [200]>"
      ]
     },
     "execution_count": 31,
     "metadata": {},
     "output_type": "execute_result"
    }
   ],
   "source": [
    "URL='https://api.wheretheiss.at/v1/satellites/25544'\n",
    "res_iss = req.get(URL)\n",
    "res_iss"
   ]
  },
  {
   "cell_type": "code",
   "execution_count": 34,
   "metadata": {},
   "outputs": [
    {
     "name": "stdout",
     "output_type": "stream",
     "text": [
      "Help on Response in module requests.models object:\n",
      "\n",
      "class Response(builtins.object)\n",
      " |  The :class:`Response <Response>` object, which contains a\n",
      " |  server's response to an HTTP request.\n",
      " |  \n",
      " |  Methods defined here:\n",
      " |  \n",
      " |  __bool__(self)\n",
      " |      Returns True if :attr:`status_code` is less than 400.\n",
      " |      \n",
      " |      This attribute checks if the status code of the response is between\n",
      " |      400 and 600 to see if there was a client error or a server error. If\n",
      " |      the status code, is between 200 and 400, this will return True. This\n",
      " |      is **not** a check to see if the response code is ``200 OK``.\n",
      " |  \n",
      " |  __enter__(self)\n",
      " |  \n",
      " |  __exit__(self, *args)\n",
      " |  \n",
      " |  __getstate__(self)\n",
      " |  \n",
      " |  __init__(self)\n",
      " |      Initialize self.  See help(type(self)) for accurate signature.\n",
      " |  \n",
      " |  __iter__(self)\n",
      " |      Allows you to use a response as an iterator.\n",
      " |  \n",
      " |  __nonzero__(self)\n",
      " |      Returns True if :attr:`status_code` is less than 400.\n",
      " |      \n",
      " |      This attribute checks if the status code of the response is between\n",
      " |      400 and 600 to see if there was a client error or a server error. If\n",
      " |      the status code, is between 200 and 400, this will return True. This\n",
      " |      is **not** a check to see if the response code is ``200 OK``.\n",
      " |  \n",
      " |  __repr__(self)\n",
      " |      Return repr(self).\n",
      " |  \n",
      " |  __setstate__(self, state)\n",
      " |  \n",
      " |  close(self)\n",
      " |      Releases the connection back to the pool. Once this method has been\n",
      " |      called the underlying ``raw`` object must not be accessed again.\n",
      " |      \n",
      " |      *Note: Should not normally need to be called explicitly.*\n",
      " |  \n",
      " |  iter_content(self, chunk_size=1, decode_unicode=False)\n",
      " |      Iterates over the response data.  When stream=True is set on the\n",
      " |      request, this avoids reading the content at once into memory for\n",
      " |      large responses.  The chunk size is the number of bytes it should\n",
      " |      read into memory.  This is not necessarily the length of each item\n",
      " |      returned as decoding can take place.\n",
      " |      \n",
      " |      chunk_size must be of type int or None. A value of None will\n",
      " |      function differently depending on the value of `stream`.\n",
      " |      stream=True will read data as it arrives in whatever size the\n",
      " |      chunks are received. If stream=False, data is returned as\n",
      " |      a single chunk.\n",
      " |      \n",
      " |      If decode_unicode is True, content will be decoded using the best\n",
      " |      available encoding based on the response.\n",
      " |  \n",
      " |  iter_lines(self, chunk_size=512, decode_unicode=False, delimiter=None)\n",
      " |      Iterates over the response data, one line at a time.  When\n",
      " |      stream=True is set on the request, this avoids reading the\n",
      " |      content at once into memory for large responses.\n",
      " |      \n",
      " |      .. note:: This method is not reentrant safe.\n",
      " |  \n",
      " |  json(self, **kwargs)\n",
      " |      Returns the json-encoded content of a response, if any.\n",
      " |      \n",
      " |      :param \\*\\*kwargs: Optional arguments that ``json.loads`` takes.\n",
      " |      :raises simplejson.JSONDecodeError: If the response body does not\n",
      " |          contain valid json and simplejson is installed.\n",
      " |      :raises json.JSONDecodeError: If the response body does not contain\n",
      " |          valid json and simplejson is not installed on Python 3.\n",
      " |      :raises ValueError: If the response body does not contain valid\n",
      " |          json and simplejson is not installed on Python 2.\n",
      " |  \n",
      " |  raise_for_status(self)\n",
      " |      Raises :class:`HTTPError`, if one occurred.\n",
      " |  \n",
      " |  ----------------------------------------------------------------------\n",
      " |  Readonly properties defined here:\n",
      " |  \n",
      " |  apparent_encoding\n",
      " |      The apparent encoding, provided by the charset_normalizer or chardet libraries.\n",
      " |  \n",
      " |  content\n",
      " |      Content of the response, in bytes.\n",
      " |  \n",
      " |  is_permanent_redirect\n",
      " |      True if this Response one of the permanent versions of redirect.\n",
      " |  \n",
      " |  is_redirect\n",
      " |      True if this Response is a well-formed HTTP redirect that could have\n",
      " |      been processed automatically (by :meth:`Session.resolve_redirects`).\n",
      " |  \n",
      " |  links\n",
      " |      Returns the parsed header links of the response, if any.\n",
      " |  \n",
      " |  next\n",
      " |      Returns a PreparedRequest for the next request in a redirect chain, if there is one.\n",
      " |  \n",
      " |  ok\n",
      " |      Returns True if :attr:`status_code` is less than 400, False if not.\n",
      " |      \n",
      " |      This attribute checks if the status code of the response is between\n",
      " |      400 and 600 to see if there was a client error or a server error. If\n",
      " |      the status code is between 200 and 400, this will return True. This\n",
      " |      is **not** a check to see if the response code is ``200 OK``.\n",
      " |  \n",
      " |  text\n",
      " |      Content of the response, in unicode.\n",
      " |      \n",
      " |      If Response.encoding is None, encoding will be guessed using\n",
      " |      ``charset_normalizer`` or ``chardet``.\n",
      " |      \n",
      " |      The encoding of the response content is determined based solely on HTTP\n",
      " |      headers, following RFC 2616 to the letter. If you can take advantage of\n",
      " |      non-HTTP knowledge to make a better guess at the encoding, you should\n",
      " |      set ``r.encoding`` appropriately before accessing this property.\n",
      " |  \n",
      " |  ----------------------------------------------------------------------\n",
      " |  Data descriptors defined here:\n",
      " |  \n",
      " |  __dict__\n",
      " |      dictionary for instance variables (if defined)\n",
      " |  \n",
      " |  __weakref__\n",
      " |      list of weak references to the object (if defined)\n",
      " |  \n",
      " |  ----------------------------------------------------------------------\n",
      " |  Data and other attributes defined here:\n",
      " |  \n",
      " |  __attrs__ = ['_content', 'status_code', 'headers', 'url', 'history', '...\n",
      "\n"
     ]
    }
   ],
   "source": [
    "help(res_iss)"
   ]
  },
  {
   "cell_type": "code",
   "execution_count": 35,
   "metadata": {},
   "outputs": [
    {
     "data": {
      "text/plain": [
       "{'Date': 'Thu, 11 Nov 2021 18:47:40 GMT', 'Server': 'Apache/2.2.22 (Ubuntu)', 'X-Powered-By': 'PHP/5.3.10-1ubuntu3.26', 'X-Rate-Limit-Limit': '350', 'X-Rate-Limit-Remaining': '349', 'X-Rate-Limit-Interval': '5 minutes', 'Access-Control-Allow-Origin': '*', 'X-Apache-Time': 'D=26111', 'Cache-Control': 'max-age=0, no-cache', 'Content-Length': '314', 'Keep-Alive': 'timeout=15, max=100', 'Connection': 'Keep-Alive', 'Content-Type': 'application/json'}"
      ]
     },
     "execution_count": 35,
     "metadata": {},
     "output_type": "execute_result"
    }
   ],
   "source": [
    "res_iss.headers"
   ]
  },
  {
   "cell_type": "code",
   "execution_count": 36,
   "metadata": {},
   "outputs": [
    {
     "data": {
      "text/plain": [
       "{'name': 'iss',\n",
       " 'id': 25544,\n",
       " 'latitude': 0.2258258680322,\n",
       " 'longitude': 0.033106770506301,\n",
       " 'altitude': 426.04575144187,\n",
       " 'velocity': 27559.839366061,\n",
       " 'visibility': 'daylight',\n",
       " 'footprint': 4538.0945189846,\n",
       " 'timestamp': 1636656460,\n",
       " 'daynum': 2459530.2831019,\n",
       " 'solar_lat': -17.634038552168,\n",
       " 'solar_lon': 254.10803048598,\n",
       " 'units': 'kilometers'}"
      ]
     },
     "execution_count": 36,
     "metadata": {},
     "output_type": "execute_result"
    }
   ],
   "source": [
    "res_iss.json()"
   ]
  },
  {
   "cell_type": "code",
   "execution_count": 37,
   "metadata": {},
   "outputs": [],
   "source": [
    "import time"
   ]
  },
  {
   "cell_type": "code",
   "execution_count": 38,
   "metadata": {},
   "outputs": [
    {
     "name": "stdout",
     "output_type": "stream",
     "text": [
      "0\n",
      "1\n",
      "2\n",
      "3\n",
      "4\n",
      "5\n",
      "6\n",
      "7\n",
      "8\n",
      "9\n",
      "10\n",
      "11\n",
      "12\n",
      "13\n",
      "14\n",
      "15\n",
      "16\n",
      "17\n",
      "18\n",
      "19\n"
     ]
    }
   ],
   "source": [
    "posiciones=[]\n",
    "\n",
    "for i in range(20):\n",
    "    \n",
    "    print(i)\n",
    "    \n",
    "    res_iss=req.get(URL)\n",
    "    \n",
    "    data= res_iss.json()\n",
    "    \n",
    "    posiciones.append(data)\n",
    "    \n",
    "    time.sleep(1)"
   ]
  },
  {
   "cell_type": "code",
   "execution_count": 39,
   "metadata": {},
   "outputs": [
    {
     "data": {
      "text/html": [
       "<div>\n",
       "<style scoped>\n",
       "    .dataframe tbody tr th:only-of-type {\n",
       "        vertical-align: middle;\n",
       "    }\n",
       "\n",
       "    .dataframe tbody tr th {\n",
       "        vertical-align: top;\n",
       "    }\n",
       "\n",
       "    .dataframe thead th {\n",
       "        text-align: right;\n",
       "    }\n",
       "</style>\n",
       "<table border=\"1\" class=\"dataframe\">\n",
       "  <thead>\n",
       "    <tr style=\"text-align: right;\">\n",
       "      <th></th>\n",
       "      <th>name</th>\n",
       "      <th>id</th>\n",
       "      <th>latitude</th>\n",
       "      <th>longitude</th>\n",
       "      <th>altitude</th>\n",
       "      <th>velocity</th>\n",
       "      <th>visibility</th>\n",
       "      <th>footprint</th>\n",
       "      <th>timestamp</th>\n",
       "      <th>daynum</th>\n",
       "      <th>solar_lat</th>\n",
       "      <th>solar_lon</th>\n",
       "      <th>units</th>\n",
       "    </tr>\n",
       "  </thead>\n",
       "  <tbody>\n",
       "    <tr>\n",
       "      <th>0</th>\n",
       "      <td>iss</td>\n",
       "      <td>25544</td>\n",
       "      <td>14.873302</td>\n",
       "      <td>10.691059</td>\n",
       "      <td>425.359232</td>\n",
       "      <td>27565.740877</td>\n",
       "      <td>eclipsed</td>\n",
       "      <td>4534.628947</td>\n",
       "      <td>1636656750</td>\n",
       "      <td>2.459530e+06</td>\n",
       "      <td>-17.634951</td>\n",
       "      <td>252.899799</td>\n",
       "      <td>kilometers</td>\n",
       "    </tr>\n",
       "    <tr>\n",
       "      <th>1</th>\n",
       "      <td>iss</td>\n",
       "      <td>25544</td>\n",
       "      <td>14.923043</td>\n",
       "      <td>10.729688</td>\n",
       "      <td>425.360258</td>\n",
       "      <td>27565.757104</td>\n",
       "      <td>eclipsed</td>\n",
       "      <td>4534.634130</td>\n",
       "      <td>1636656751</td>\n",
       "      <td>2.459530e+06</td>\n",
       "      <td>-17.634955</td>\n",
       "      <td>252.895632</td>\n",
       "      <td>kilometers</td>\n",
       "    </tr>\n",
       "    <tr>\n",
       "      <th>2</th>\n",
       "      <td>iss</td>\n",
       "      <td>25544</td>\n",
       "      <td>15.022499</td>\n",
       "      <td>10.807006</td>\n",
       "      <td>425.362374</td>\n",
       "      <td>27565.789476</td>\n",
       "      <td>eclipsed</td>\n",
       "      <td>4534.644816</td>\n",
       "      <td>1636656753</td>\n",
       "      <td>2.459530e+06</td>\n",
       "      <td>-17.634961</td>\n",
       "      <td>252.887300</td>\n",
       "      <td>kilometers</td>\n",
       "    </tr>\n",
       "    <tr>\n",
       "      <th>3</th>\n",
       "      <td>iss</td>\n",
       "      <td>25544</td>\n",
       "      <td>15.121922</td>\n",
       "      <td>10.884403</td>\n",
       "      <td>425.364575</td>\n",
       "      <td>27565.821739</td>\n",
       "      <td>eclipsed</td>\n",
       "      <td>4534.655928</td>\n",
       "      <td>1636656755</td>\n",
       "      <td>2.459530e+06</td>\n",
       "      <td>-17.634967</td>\n",
       "      <td>252.878967</td>\n",
       "      <td>kilometers</td>\n",
       "    </tr>\n",
       "    <tr>\n",
       "      <th>4</th>\n",
       "      <td>iss</td>\n",
       "      <td>25544</td>\n",
       "      <td>15.171622</td>\n",
       "      <td>10.923131</td>\n",
       "      <td>425.365706</td>\n",
       "      <td>27565.837829</td>\n",
       "      <td>eclipsed</td>\n",
       "      <td>4534.661643</td>\n",
       "      <td>1636656756</td>\n",
       "      <td>2.459530e+06</td>\n",
       "      <td>-17.634970</td>\n",
       "      <td>252.874801</td>\n",
       "      <td>kilometers</td>\n",
       "    </tr>\n",
       "    <tr>\n",
       "      <th>5</th>\n",
       "      <td>iss</td>\n",
       "      <td>25544</td>\n",
       "      <td>15.270997</td>\n",
       "      <td>11.000650</td>\n",
       "      <td>425.368033</td>\n",
       "      <td>27565.869928</td>\n",
       "      <td>eclipsed</td>\n",
       "      <td>4534.673393</td>\n",
       "      <td>1636656758</td>\n",
       "      <td>2.459530e+06</td>\n",
       "      <td>-17.634977</td>\n",
       "      <td>252.866468</td>\n",
       "      <td>kilometers</td>\n",
       "    </tr>\n",
       "    <tr>\n",
       "      <th>6</th>\n",
       "      <td>iss</td>\n",
       "      <td>25544</td>\n",
       "      <td>15.370337</td>\n",
       "      <td>11.078248</td>\n",
       "      <td>425.370443</td>\n",
       "      <td>27565.901918</td>\n",
       "      <td>eclipsed</td>\n",
       "      <td>4534.685564</td>\n",
       "      <td>1636656760</td>\n",
       "      <td>2.459530e+06</td>\n",
       "      <td>-17.634983</td>\n",
       "      <td>252.858136</td>\n",
       "      <td>kilometers</td>\n",
       "    </tr>\n",
       "    <tr>\n",
       "      <th>7</th>\n",
       "      <td>iss</td>\n",
       "      <td>25544</td>\n",
       "      <td>15.419995</td>\n",
       "      <td>11.117078</td>\n",
       "      <td>425.371679</td>\n",
       "      <td>27565.917871</td>\n",
       "      <td>eclipsed</td>\n",
       "      <td>4534.691809</td>\n",
       "      <td>1636656761</td>\n",
       "      <td>2.459530e+06</td>\n",
       "      <td>-17.634986</td>\n",
       "      <td>252.853969</td>\n",
       "      <td>kilometers</td>\n",
       "    </tr>\n",
       "    <tr>\n",
       "      <th>8</th>\n",
       "      <td>iss</td>\n",
       "      <td>25544</td>\n",
       "      <td>15.519284</td>\n",
       "      <td>11.194798</td>\n",
       "      <td>425.374215</td>\n",
       "      <td>27565.949698</td>\n",
       "      <td>eclipsed</td>\n",
       "      <td>4534.704612</td>\n",
       "      <td>1636656763</td>\n",
       "      <td>2.459530e+06</td>\n",
       "      <td>-17.634992</td>\n",
       "      <td>252.845637</td>\n",
       "      <td>kilometers</td>\n",
       "    </tr>\n",
       "    <tr>\n",
       "      <th>9</th>\n",
       "      <td>iss</td>\n",
       "      <td>25544</td>\n",
       "      <td>15.618541</td>\n",
       "      <td>11.272602</td>\n",
       "      <td>425.376833</td>\n",
       "      <td>27565.981416</td>\n",
       "      <td>eclipsed</td>\n",
       "      <td>4534.717836</td>\n",
       "      <td>1636656765</td>\n",
       "      <td>2.459530e+06</td>\n",
       "      <td>-17.634999</td>\n",
       "      <td>252.837304</td>\n",
       "      <td>kilometers</td>\n",
       "    </tr>\n",
       "    <tr>\n",
       "      <th>10</th>\n",
       "      <td>iss</td>\n",
       "      <td>25544</td>\n",
       "      <td>15.717761</td>\n",
       "      <td>11.350488</td>\n",
       "      <td>425.379534</td>\n",
       "      <td>27566.013025</td>\n",
       "      <td>eclipsed</td>\n",
       "      <td>4534.731478</td>\n",
       "      <td>1636656767</td>\n",
       "      <td>2.459530e+06</td>\n",
       "      <td>-17.635005</td>\n",
       "      <td>252.828971</td>\n",
       "      <td>kilometers</td>\n",
       "    </tr>\n",
       "    <tr>\n",
       "      <th>11</th>\n",
       "      <td>iss</td>\n",
       "      <td>25544</td>\n",
       "      <td>15.816947</td>\n",
       "      <td>11.428457</td>\n",
       "      <td>425.382318</td>\n",
       "      <td>27566.044526</td>\n",
       "      <td>eclipsed</td>\n",
       "      <td>4534.745537</td>\n",
       "      <td>1636656769</td>\n",
       "      <td>2.459530e+06</td>\n",
       "      <td>-17.635011</td>\n",
       "      <td>252.820639</td>\n",
       "      <td>kilometers</td>\n",
       "    </tr>\n",
       "    <tr>\n",
       "      <th>12</th>\n",
       "      <td>iss</td>\n",
       "      <td>25544</td>\n",
       "      <td>15.866527</td>\n",
       "      <td>11.467473</td>\n",
       "      <td>425.383741</td>\n",
       "      <td>27566.060236</td>\n",
       "      <td>eclipsed</td>\n",
       "      <td>4534.752722</td>\n",
       "      <td>1636656770</td>\n",
       "      <td>2.459530e+06</td>\n",
       "      <td>-17.635014</td>\n",
       "      <td>252.816473</td>\n",
       "      <td>kilometers</td>\n",
       "    </tr>\n",
       "    <tr>\n",
       "      <th>13</th>\n",
       "      <td>iss</td>\n",
       "      <td>25544</td>\n",
       "      <td>15.965662</td>\n",
       "      <td>11.545570</td>\n",
       "      <td>425.386648</td>\n",
       "      <td>27566.091576</td>\n",
       "      <td>eclipsed</td>\n",
       "      <td>4534.767404</td>\n",
       "      <td>1636656772</td>\n",
       "      <td>2.459530e+06</td>\n",
       "      <td>-17.635021</td>\n",
       "      <td>252.808140</td>\n",
       "      <td>kilometers</td>\n",
       "    </tr>\n",
       "    <tr>\n",
       "      <th>14</th>\n",
       "      <td>iss</td>\n",
       "      <td>25544</td>\n",
       "      <td>16.064760</td>\n",
       "      <td>11.623751</td>\n",
       "      <td>425.389637</td>\n",
       "      <td>27566.122807</td>\n",
       "      <td>eclipsed</td>\n",
       "      <td>4534.782499</td>\n",
       "      <td>1636656774</td>\n",
       "      <td>2.459530e+06</td>\n",
       "      <td>-17.635027</td>\n",
       "      <td>252.799807</td>\n",
       "      <td>kilometers</td>\n",
       "    </tr>\n",
       "    <tr>\n",
       "      <th>15</th>\n",
       "      <td>iss</td>\n",
       "      <td>25544</td>\n",
       "      <td>16.114295</td>\n",
       "      <td>11.662873</td>\n",
       "      <td>425.391162</td>\n",
       "      <td>27566.138383</td>\n",
       "      <td>eclipsed</td>\n",
       "      <td>4534.790202</td>\n",
       "      <td>1636656775</td>\n",
       "      <td>2.459530e+06</td>\n",
       "      <td>-17.635030</td>\n",
       "      <td>252.795641</td>\n",
       "      <td>kilometers</td>\n",
       "    </tr>\n",
       "    <tr>\n",
       "      <th>16</th>\n",
       "      <td>iss</td>\n",
       "      <td>25544</td>\n",
       "      <td>16.213339</td>\n",
       "      <td>11.741183</td>\n",
       "      <td>425.394274</td>\n",
       "      <td>27566.169453</td>\n",
       "      <td>eclipsed</td>\n",
       "      <td>4534.805915</td>\n",
       "      <td>1636656777</td>\n",
       "      <td>2.459530e+06</td>\n",
       "      <td>-17.635036</td>\n",
       "      <td>252.787308</td>\n",
       "      <td>kilometers</td>\n",
       "    </tr>\n",
       "    <tr>\n",
       "      <th>17</th>\n",
       "      <td>iss</td>\n",
       "      <td>25544</td>\n",
       "      <td>16.312349</td>\n",
       "      <td>11.819580</td>\n",
       "      <td>425.397466</td>\n",
       "      <td>27566.200417</td>\n",
       "      <td>eclipsed</td>\n",
       "      <td>4534.822039</td>\n",
       "      <td>1636656779</td>\n",
       "      <td>2.459530e+06</td>\n",
       "      <td>-17.635043</td>\n",
       "      <td>252.778976</td>\n",
       "      <td>kilometers</td>\n",
       "    </tr>\n",
       "    <tr>\n",
       "      <th>18</th>\n",
       "      <td>iss</td>\n",
       "      <td>25544</td>\n",
       "      <td>16.361840</td>\n",
       "      <td>11.858811</td>\n",
       "      <td>425.399093</td>\n",
       "      <td>27566.215858</td>\n",
       "      <td>eclipsed</td>\n",
       "      <td>4534.830254</td>\n",
       "      <td>1636656780</td>\n",
       "      <td>2.459530e+06</td>\n",
       "      <td>-17.635046</td>\n",
       "      <td>252.774809</td>\n",
       "      <td>kilometers</td>\n",
       "    </tr>\n",
       "    <tr>\n",
       "      <th>19</th>\n",
       "      <td>iss</td>\n",
       "      <td>25544</td>\n",
       "      <td>16.460793</td>\n",
       "      <td>11.937338</td>\n",
       "      <td>425.402407</td>\n",
       "      <td>27566.246660</td>\n",
       "      <td>eclipsed</td>\n",
       "      <td>4534.846990</td>\n",
       "      <td>1636656782</td>\n",
       "      <td>2.459530e+06</td>\n",
       "      <td>-17.635052</td>\n",
       "      <td>252.766477</td>\n",
       "      <td>kilometers</td>\n",
       "    </tr>\n",
       "  </tbody>\n",
       "</table>\n",
       "</div>"
      ],
      "text/plain": [
       "   name     id   latitude  longitude    altitude      velocity visibility  \\\n",
       "0   iss  25544  14.873302  10.691059  425.359232  27565.740877   eclipsed   \n",
       "1   iss  25544  14.923043  10.729688  425.360258  27565.757104   eclipsed   \n",
       "2   iss  25544  15.022499  10.807006  425.362374  27565.789476   eclipsed   \n",
       "3   iss  25544  15.121922  10.884403  425.364575  27565.821739   eclipsed   \n",
       "4   iss  25544  15.171622  10.923131  425.365706  27565.837829   eclipsed   \n",
       "5   iss  25544  15.270997  11.000650  425.368033  27565.869928   eclipsed   \n",
       "6   iss  25544  15.370337  11.078248  425.370443  27565.901918   eclipsed   \n",
       "7   iss  25544  15.419995  11.117078  425.371679  27565.917871   eclipsed   \n",
       "8   iss  25544  15.519284  11.194798  425.374215  27565.949698   eclipsed   \n",
       "9   iss  25544  15.618541  11.272602  425.376833  27565.981416   eclipsed   \n",
       "10  iss  25544  15.717761  11.350488  425.379534  27566.013025   eclipsed   \n",
       "11  iss  25544  15.816947  11.428457  425.382318  27566.044526   eclipsed   \n",
       "12  iss  25544  15.866527  11.467473  425.383741  27566.060236   eclipsed   \n",
       "13  iss  25544  15.965662  11.545570  425.386648  27566.091576   eclipsed   \n",
       "14  iss  25544  16.064760  11.623751  425.389637  27566.122807   eclipsed   \n",
       "15  iss  25544  16.114295  11.662873  425.391162  27566.138383   eclipsed   \n",
       "16  iss  25544  16.213339  11.741183  425.394274  27566.169453   eclipsed   \n",
       "17  iss  25544  16.312349  11.819580  425.397466  27566.200417   eclipsed   \n",
       "18  iss  25544  16.361840  11.858811  425.399093  27566.215858   eclipsed   \n",
       "19  iss  25544  16.460793  11.937338  425.402407  27566.246660   eclipsed   \n",
       "\n",
       "      footprint   timestamp        daynum  solar_lat   solar_lon       units  \n",
       "0   4534.628947  1636656750  2.459530e+06 -17.634951  252.899799  kilometers  \n",
       "1   4534.634130  1636656751  2.459530e+06 -17.634955  252.895632  kilometers  \n",
       "2   4534.644816  1636656753  2.459530e+06 -17.634961  252.887300  kilometers  \n",
       "3   4534.655928  1636656755  2.459530e+06 -17.634967  252.878967  kilometers  \n",
       "4   4534.661643  1636656756  2.459530e+06 -17.634970  252.874801  kilometers  \n",
       "5   4534.673393  1636656758  2.459530e+06 -17.634977  252.866468  kilometers  \n",
       "6   4534.685564  1636656760  2.459530e+06 -17.634983  252.858136  kilometers  \n",
       "7   4534.691809  1636656761  2.459530e+06 -17.634986  252.853969  kilometers  \n",
       "8   4534.704612  1636656763  2.459530e+06 -17.634992  252.845637  kilometers  \n",
       "9   4534.717836  1636656765  2.459530e+06 -17.634999  252.837304  kilometers  \n",
       "10  4534.731478  1636656767  2.459530e+06 -17.635005  252.828971  kilometers  \n",
       "11  4534.745537  1636656769  2.459530e+06 -17.635011  252.820639  kilometers  \n",
       "12  4534.752722  1636656770  2.459530e+06 -17.635014  252.816473  kilometers  \n",
       "13  4534.767404  1636656772  2.459530e+06 -17.635021  252.808140  kilometers  \n",
       "14  4534.782499  1636656774  2.459530e+06 -17.635027  252.799807  kilometers  \n",
       "15  4534.790202  1636656775  2.459530e+06 -17.635030  252.795641  kilometers  \n",
       "16  4534.805915  1636656777  2.459530e+06 -17.635036  252.787308  kilometers  \n",
       "17  4534.822039  1636656779  2.459530e+06 -17.635043  252.778976  kilometers  \n",
       "18  4534.830254  1636656780  2.459530e+06 -17.635046  252.774809  kilometers  \n",
       "19  4534.846990  1636656782  2.459530e+06 -17.635052  252.766477  kilometers  "
      ]
     },
     "execution_count": 39,
     "metadata": {},
     "output_type": "execute_result"
    }
   ],
   "source": [
    "import pandas as pd\n",
    "\n",
    "pd.DataFrame(posiciones)"
   ]
  },
  {
   "cell_type": "code",
   "execution_count": null,
   "metadata": {},
   "outputs": [],
   "source": []
  },
  {
   "cell_type": "code",
   "execution_count": null,
   "metadata": {},
   "outputs": [],
   "source": []
  },
  {
   "cell_type": "code",
   "execution_count": null,
   "metadata": {
    "jupyter": {
     "source_hidden": true
    },
    "tags": []
   },
   "outputs": [],
   "source": []
  },
  {
   "cell_type": "markdown",
   "metadata": {},
   "source": [
    "### [GitHub](https://docs.github.com/en/rest) API"
   ]
  },
  {
   "cell_type": "code",
   "execution_count": 44,
   "metadata": {},
   "outputs": [],
   "source": [
    "URL = 'https://api.github.com/'"
   ]
  },
  {
   "cell_type": "code",
   "execution_count": 46,
   "metadata": {},
   "outputs": [],
   "source": [
    "eventos = 'events'"
   ]
  },
  {
   "cell_type": "code",
   "execution_count": 47,
   "metadata": {},
   "outputs": [
    {
     "data": {
      "text/plain": [
       "<Response [200]>"
      ]
     },
     "execution_count": 47,
     "metadata": {},
     "output_type": "execute_result"
    }
   ],
   "source": [
    "res_git =req.get(URL+eventos)\n",
    "\n",
    "res_git"
   ]
  },
  {
   "cell_type": "code",
   "execution_count": 49,
   "metadata": {},
   "outputs": [
    {
     "data": {
      "text/plain": [
       "{'id': 351202222,\n",
       " 'name': 'jpbnetley/nextjs-course-code',\n",
       " 'url': 'https://api.github.com/repos/jpbnetley/nextjs-course-code'}"
      ]
     },
     "execution_count": 49,
     "metadata": {},
     "output_type": "execute_result"
    }
   ],
   "source": [
    "res_git.json()[8]['repo']"
   ]
  },
  {
   "cell_type": "code",
   "execution_count": 51,
   "metadata": {},
   "outputs": [
    {
     "data": {
      "text/html": [
       "<div>\n",
       "<style scoped>\n",
       "    .dataframe tbody tr th:only-of-type {\n",
       "        vertical-align: middle;\n",
       "    }\n",
       "\n",
       "    .dataframe tbody tr th {\n",
       "        vertical-align: top;\n",
       "    }\n",
       "\n",
       "    .dataframe thead th {\n",
       "        text-align: right;\n",
       "    }\n",
       "</style>\n",
       "<table border=\"1\" class=\"dataframe\">\n",
       "  <thead>\n",
       "    <tr style=\"text-align: right;\">\n",
       "      <th></th>\n",
       "      <th>id</th>\n",
       "      <th>type</th>\n",
       "      <th>public</th>\n",
       "      <th>created_at</th>\n",
       "      <th>actor.id</th>\n",
       "      <th>actor.login</th>\n",
       "      <th>actor.display_login</th>\n",
       "      <th>actor.gravatar_id</th>\n",
       "      <th>actor.url</th>\n",
       "      <th>actor.avatar_url</th>\n",
       "      <th>...</th>\n",
       "      <th>payload.pull_request.review_comments</th>\n",
       "      <th>payload.pull_request.maintainer_can_modify</th>\n",
       "      <th>payload.pull_request.commits</th>\n",
       "      <th>payload.pull_request.additions</th>\n",
       "      <th>payload.pull_request.deletions</th>\n",
       "      <th>payload.pull_request.changed_files</th>\n",
       "      <th>payload.ref_type</th>\n",
       "      <th>payload.master_branch</th>\n",
       "      <th>payload.description</th>\n",
       "      <th>payload.pusher_type</th>\n",
       "    </tr>\n",
       "  </thead>\n",
       "  <tbody>\n",
       "    <tr>\n",
       "      <th>0</th>\n",
       "      <td>18849903654</td>\n",
       "      <td>IssuesEvent</td>\n",
       "      <td>True</td>\n",
       "      <td>2021-11-11T19:23:56Z</td>\n",
       "      <td>38561704</td>\n",
       "      <td>bertsky</td>\n",
       "      <td>bertsky</td>\n",
       "      <td></td>\n",
       "      <td>https://api.github.com/users/bertsky</td>\n",
       "      <td>https://avatars.githubusercontent.com/u/38561704?</td>\n",
       "      <td>...</td>\n",
       "      <td>NaN</td>\n",
       "      <td>NaN</td>\n",
       "      <td>NaN</td>\n",
       "      <td>NaN</td>\n",
       "      <td>NaN</td>\n",
       "      <td>NaN</td>\n",
       "      <td>NaN</td>\n",
       "      <td>NaN</td>\n",
       "      <td>NaN</td>\n",
       "      <td>NaN</td>\n",
       "    </tr>\n",
       "    <tr>\n",
       "      <th>1</th>\n",
       "      <td>18849903636</td>\n",
       "      <td>PushEvent</td>\n",
       "      <td>True</td>\n",
       "      <td>2021-11-11T19:23:56Z</td>\n",
       "      <td>40173237</td>\n",
       "      <td>smInAction</td>\n",
       "      <td>smInAction</td>\n",
       "      <td></td>\n",
       "      <td>https://api.github.com/users/smInAction</td>\n",
       "      <td>https://avatars.githubusercontent.com/u/40173237?</td>\n",
       "      <td>...</td>\n",
       "      <td>NaN</td>\n",
       "      <td>NaN</td>\n",
       "      <td>NaN</td>\n",
       "      <td>NaN</td>\n",
       "      <td>NaN</td>\n",
       "      <td>NaN</td>\n",
       "      <td>NaN</td>\n",
       "      <td>NaN</td>\n",
       "      <td>NaN</td>\n",
       "      <td>NaN</td>\n",
       "    </tr>\n",
       "    <tr>\n",
       "      <th>2</th>\n",
       "      <td>18849903595</td>\n",
       "      <td>PushEvent</td>\n",
       "      <td>True</td>\n",
       "      <td>2021-11-11T19:23:56Z</td>\n",
       "      <td>3950300</td>\n",
       "      <td>leaumar</td>\n",
       "      <td>leaumar</td>\n",
       "      <td></td>\n",
       "      <td>https://api.github.com/users/leaumar</td>\n",
       "      <td>https://avatars.githubusercontent.com/u/3950300?</td>\n",
       "      <td>...</td>\n",
       "      <td>NaN</td>\n",
       "      <td>NaN</td>\n",
       "      <td>NaN</td>\n",
       "      <td>NaN</td>\n",
       "      <td>NaN</td>\n",
       "      <td>NaN</td>\n",
       "      <td>NaN</td>\n",
       "      <td>NaN</td>\n",
       "      <td>NaN</td>\n",
       "      <td>NaN</td>\n",
       "    </tr>\n",
       "    <tr>\n",
       "      <th>3</th>\n",
       "      <td>18849903603</td>\n",
       "      <td>PushEvent</td>\n",
       "      <td>True</td>\n",
       "      <td>2021-11-11T19:23:56Z</td>\n",
       "      <td>41898282</td>\n",
       "      <td>github-actions[bot]</td>\n",
       "      <td>github-actions</td>\n",
       "      <td></td>\n",
       "      <td>https://api.github.com/users/github-actions[bot]</td>\n",
       "      <td>https://avatars.githubusercontent.com/u/41898282?</td>\n",
       "      <td>...</td>\n",
       "      <td>NaN</td>\n",
       "      <td>NaN</td>\n",
       "      <td>NaN</td>\n",
       "      <td>NaN</td>\n",
       "      <td>NaN</td>\n",
       "      <td>NaN</td>\n",
       "      <td>NaN</td>\n",
       "      <td>NaN</td>\n",
       "      <td>NaN</td>\n",
       "      <td>NaN</td>\n",
       "    </tr>\n",
       "    <tr>\n",
       "      <th>4</th>\n",
       "      <td>18849903596</td>\n",
       "      <td>IssuesEvent</td>\n",
       "      <td>True</td>\n",
       "      <td>2021-11-11T19:23:56Z</td>\n",
       "      <td>5332524</td>\n",
       "      <td>shaneutt</td>\n",
       "      <td>shaneutt</td>\n",
       "      <td></td>\n",
       "      <td>https://api.github.com/users/shaneutt</td>\n",
       "      <td>https://avatars.githubusercontent.com/u/5332524?</td>\n",
       "      <td>...</td>\n",
       "      <td>NaN</td>\n",
       "      <td>NaN</td>\n",
       "      <td>NaN</td>\n",
       "      <td>NaN</td>\n",
       "      <td>NaN</td>\n",
       "      <td>NaN</td>\n",
       "      <td>NaN</td>\n",
       "      <td>NaN</td>\n",
       "      <td>NaN</td>\n",
       "      <td>NaN</td>\n",
       "    </tr>\n",
       "  </tbody>\n",
       "</table>\n",
       "<p>5 rows × 460 columns</p>\n",
       "</div>"
      ],
      "text/plain": [
       "            id         type  public            created_at  actor.id  \\\n",
       "0  18849903654  IssuesEvent    True  2021-11-11T19:23:56Z  38561704   \n",
       "1  18849903636    PushEvent    True  2021-11-11T19:23:56Z  40173237   \n",
       "2  18849903595    PushEvent    True  2021-11-11T19:23:56Z   3950300   \n",
       "3  18849903603    PushEvent    True  2021-11-11T19:23:56Z  41898282   \n",
       "4  18849903596  IssuesEvent    True  2021-11-11T19:23:56Z   5332524   \n",
       "\n",
       "           actor.login actor.display_login actor.gravatar_id  \\\n",
       "0              bertsky             bertsky                     \n",
       "1           smInAction          smInAction                     \n",
       "2              leaumar             leaumar                     \n",
       "3  github-actions[bot]      github-actions                     \n",
       "4             shaneutt            shaneutt                     \n",
       "\n",
       "                                          actor.url  \\\n",
       "0              https://api.github.com/users/bertsky   \n",
       "1           https://api.github.com/users/smInAction   \n",
       "2              https://api.github.com/users/leaumar   \n",
       "3  https://api.github.com/users/github-actions[bot]   \n",
       "4             https://api.github.com/users/shaneutt   \n",
       "\n",
       "                                    actor.avatar_url  ...  \\\n",
       "0  https://avatars.githubusercontent.com/u/38561704?  ...   \n",
       "1  https://avatars.githubusercontent.com/u/40173237?  ...   \n",
       "2   https://avatars.githubusercontent.com/u/3950300?  ...   \n",
       "3  https://avatars.githubusercontent.com/u/41898282?  ...   \n",
       "4   https://avatars.githubusercontent.com/u/5332524?  ...   \n",
       "\n",
       "   payload.pull_request.review_comments  \\\n",
       "0                                   NaN   \n",
       "1                                   NaN   \n",
       "2                                   NaN   \n",
       "3                                   NaN   \n",
       "4                                   NaN   \n",
       "\n",
       "  payload.pull_request.maintainer_can_modify payload.pull_request.commits  \\\n",
       "0                                        NaN                          NaN   \n",
       "1                                        NaN                          NaN   \n",
       "2                                        NaN                          NaN   \n",
       "3                                        NaN                          NaN   \n",
       "4                                        NaN                          NaN   \n",
       "\n",
       "  payload.pull_request.additions payload.pull_request.deletions  \\\n",
       "0                            NaN                            NaN   \n",
       "1                            NaN                            NaN   \n",
       "2                            NaN                            NaN   \n",
       "3                            NaN                            NaN   \n",
       "4                            NaN                            NaN   \n",
       "\n",
       "  payload.pull_request.changed_files payload.ref_type payload.master_branch  \\\n",
       "0                                NaN              NaN                   NaN   \n",
       "1                                NaN              NaN                   NaN   \n",
       "2                                NaN              NaN                   NaN   \n",
       "3                                NaN              NaN                   NaN   \n",
       "4                                NaN              NaN                   NaN   \n",
       "\n",
       "  payload.description payload.pusher_type  \n",
       "0                 NaN                 NaN  \n",
       "1                 NaN                 NaN  \n",
       "2                 NaN                 NaN  \n",
       "3                 NaN                 NaN  \n",
       "4                 NaN                 NaN  \n",
       "\n",
       "[5 rows x 460 columns]"
      ]
     },
     "execution_count": 51,
     "metadata": {},
     "output_type": "execute_result"
    }
   ],
   "source": [
    "pd.json_normalize(res_git.json()).head()"
   ]
  },
  {
   "cell_type": "code",
   "execution_count": null,
   "metadata": {},
   "outputs": [],
   "source": []
  },
  {
   "cell_type": "code",
   "execution_count": 52,
   "metadata": {},
   "outputs": [
    {
     "name": "stdout",
     "output_type": "stream",
     "text": [
      "Requirement already satisfied: kaggle in /Users/Kike/opt/anaconda3/envs/Entorno_Virtual_BT_Data_Science/lib/python3.8/site-packages (1.5.0)\n",
      "Collecting urllib3<1.23.0,>=1.15\n",
      "  Using cached urllib3-1.22-py2.py3-none-any.whl (132 kB)\n",
      "Requirement already satisfied: python-dateutil in /Users/Kike/opt/anaconda3/envs/Entorno_Virtual_BT_Data_Science/lib/python3.8/site-packages (from kaggle) (2.8.2)\n",
      "Requirement already satisfied: requests in /Users/Kike/opt/anaconda3/envs/Entorno_Virtual_BT_Data_Science/lib/python3.8/site-packages (from kaggle) (2.26.0)\n",
      "Requirement already satisfied: six>=1.10 in /Users/Kike/opt/anaconda3/envs/Entorno_Virtual_BT_Data_Science/lib/python3.8/site-packages (from kaggle) (1.16.0)\n",
      "Requirement already satisfied: python-slugify in /Users/Kike/opt/anaconda3/envs/Entorno_Virtual_BT_Data_Science/lib/python3.8/site-packages (from kaggle) (5.0.2)\n",
      "Requirement already satisfied: certifi in /Users/Kike/opt/anaconda3/envs/Entorno_Virtual_BT_Data_Science/lib/python3.8/site-packages (from kaggle) (2021.5.30)\n",
      "Requirement already satisfied: tqdm in /Users/Kike/opt/anaconda3/envs/Entorno_Virtual_BT_Data_Science/lib/python3.8/site-packages (from kaggle) (4.62.3)\n",
      "Requirement already satisfied: idna<4,>=2.5; python_version >= \"3\" in /Users/Kike/opt/anaconda3/envs/Entorno_Virtual_BT_Data_Science/lib/python3.8/site-packages (from requests->kaggle) (3.2)\n",
      "Requirement already satisfied: charset-normalizer~=2.0.0; python_version >= \"3\" in /Users/Kike/opt/anaconda3/envs/Entorno_Virtual_BT_Data_Science/lib/python3.8/site-packages (from requests->kaggle) (2.0.6)\n",
      "Requirement already satisfied: text-unidecode>=1.3 in /Users/Kike/opt/anaconda3/envs/Entorno_Virtual_BT_Data_Science/lib/python3.8/site-packages (from python-slugify->kaggle) (1.3)\n",
      "Installing collected packages: urllib3\n",
      "  Attempting uninstall: urllib3\n",
      "    Found existing installation: urllib3 1.26.6\n",
      "    Uninstalling urllib3-1.26.6:\n",
      "      Successfully uninstalled urllib3-1.26.6\n",
      "Successfully installed urllib3-1.22\n"
     ]
    }
   ],
   "source": [
    "!pip install kaggle"
   ]
  },
  {
   "cell_type": "code",
   "execution_count": 56,
   "metadata": {},
   "outputs": [
    {
     "name": "stdout",
     "output_type": "stream",
     "text": [
      "Warning: Your Kaggle API key is readable by otherusers on this system! To fix this, you can run'chmod 600 /Users/Kike/.kaggle/kaggle.json'\n"
     ]
    }
   ],
   "source": [
    "import kaggle"
   ]
  },
  {
   "cell_type": "markdown",
   "metadata": {},
   "source": [
    "### [Kaggle](https://www.kaggle.com/docs/api) API\n",
    "\n",
    "Para usar la API de Kaggle, primero tenemos que registrarnos en la página. En la información de nuestra cuenta podemos pedir el token de la API:\n",
    "\n",
    "![kaggle_api](images/kaggle_api.png)\n",
    "\n",
    "\n",
    "Al pedir el token, se descargará un archivo llamado `kaggls.json`, el cual tendremos que guardar en la carpeta oculta `.kaggle`. \n",
    "\n",
    "Para ocultar el token del resto de usuarios se escribe algo como: `chmod 600 /Users/iudh/.kaggle/kaggle.json` en la terminal."
   ]
  },
  {
   "cell_type": "code",
   "execution_count": null,
   "metadata": {},
   "outputs": [],
   "source": []
  },
  {
   "cell_type": "code",
   "execution_count": null,
   "metadata": {},
   "outputs": [],
   "source": []
  },
  {
   "cell_type": "code",
   "execution_count": null,
   "metadata": {},
   "outputs": [],
   "source": []
  },
  {
   "cell_type": "code",
   "execution_count": null,
   "metadata": {},
   "outputs": [],
   "source": []
  },
  {
   "cell_type": "code",
   "execution_count": null,
   "metadata": {},
   "outputs": [],
   "source": []
  },
  {
   "cell_type": "code",
   "execution_count": null,
   "metadata": {},
   "outputs": [],
   "source": []
  },
  {
   "cell_type": "markdown",
   "metadata": {},
   "source": [
    "### [Nasa](https://api.nasa.gov/) API"
   ]
  },
  {
   "cell_type": "code",
   "execution_count": null,
   "metadata": {},
   "outputs": [],
   "source": [
    "BASE = 'https://api.nasa.gov/'\n",
    "\n",
    "fotos_marte = 'mars-photos/api/v"
   ]
  },
  {
   "cell_type": "code",
   "execution_count": null,
   "metadata": {},
   "outputs": [],
   "source": []
  },
  {
   "cell_type": "code",
   "execution_count": null,
   "metadata": {},
   "outputs": [],
   "source": []
  },
  {
   "cell_type": "code",
   "execution_count": null,
   "metadata": {},
   "outputs": [],
   "source": []
  },
  {
   "cell_type": "code",
   "execution_count": null,
   "metadata": {},
   "outputs": [],
   "source": []
  },
  {
   "cell_type": "code",
   "execution_count": null,
   "metadata": {},
   "outputs": [],
   "source": []
  },
  {
   "cell_type": "code",
   "execution_count": null,
   "metadata": {},
   "outputs": [],
   "source": []
  },
  {
   "cell_type": "markdown",
   "metadata": {},
   "source": [
    "### Yahoo Finance"
   ]
  },
  {
   "cell_type": "code",
   "execution_count": 57,
   "metadata": {},
   "outputs": [
    {
     "name": "stdout",
     "output_type": "stream",
     "text": [
      "Collecting yfinance\n",
      "  Downloading yfinance-0.1.64.tar.gz (26 kB)\n",
      "Requirement already satisfied: pandas>=0.24 in /Users/Kike/opt/anaconda3/envs/Entorno_Virtual_BT_Data_Science/lib/python3.8/site-packages (from yfinance) (1.0.5)\n",
      "Requirement already satisfied: numpy>=1.15 in /Users/Kike/opt/anaconda3/envs/Entorno_Virtual_BT_Data_Science/lib/python3.8/site-packages (from yfinance) (1.19.2)\n",
      "Requirement already satisfied: requests>=2.20 in /Users/Kike/opt/anaconda3/envs/Entorno_Virtual_BT_Data_Science/lib/python3.8/site-packages (from yfinance) (2.26.0)\n",
      "Collecting multitasking>=0.0.7\n",
      "  Downloading multitasking-0.0.9.tar.gz (8.1 kB)\n",
      "Collecting lxml>=4.5.1\n",
      "  Downloading lxml-4.6.4-cp38-cp38-macosx_10_14_x86_64.whl (4.5 MB)\n",
      "\u001b[K     |████████████████████████████████| 4.5 MB 12.3 MB/s eta 0:00:01\n",
      "\u001b[?25hRequirement already satisfied: python-dateutil>=2.6.1 in /Users/Kike/opt/anaconda3/envs/Entorno_Virtual_BT_Data_Science/lib/python3.8/site-packages (from pandas>=0.24->yfinance) (2.8.2)\n",
      "Requirement already satisfied: pytz>=2017.2 in /Users/Kike/opt/anaconda3/envs/Entorno_Virtual_BT_Data_Science/lib/python3.8/site-packages (from pandas>=0.24->yfinance) (2021.1)\n",
      "Requirement already satisfied: certifi>=2017.4.17 in /Users/Kike/opt/anaconda3/envs/Entorno_Virtual_BT_Data_Science/lib/python3.8/site-packages (from requests>=2.20->yfinance) (2021.5.30)\n",
      "Requirement already satisfied: urllib3<1.27,>=1.21.1 in /Users/Kike/opt/anaconda3/envs/Entorno_Virtual_BT_Data_Science/lib/python3.8/site-packages (from requests>=2.20->yfinance) (1.22)\n",
      "Requirement already satisfied: idna<4,>=2.5; python_version >= \"3\" in /Users/Kike/opt/anaconda3/envs/Entorno_Virtual_BT_Data_Science/lib/python3.8/site-packages (from requests>=2.20->yfinance) (3.2)\n",
      "Requirement already satisfied: charset-normalizer~=2.0.0; python_version >= \"3\" in /Users/Kike/opt/anaconda3/envs/Entorno_Virtual_BT_Data_Science/lib/python3.8/site-packages (from requests>=2.20->yfinance) (2.0.6)\n",
      "Requirement already satisfied: six>=1.5 in /Users/Kike/opt/anaconda3/envs/Entorno_Virtual_BT_Data_Science/lib/python3.8/site-packages (from python-dateutil>=2.6.1->pandas>=0.24->yfinance) (1.16.0)\n",
      "Building wheels for collected packages: yfinance, multitasking\n",
      "  Building wheel for yfinance (setup.py) ... \u001b[?25ldone\n",
      "\u001b[?25h  Created wheel for yfinance: filename=yfinance-0.1.64-py2.py3-none-any.whl size=24109 sha256=17d2ff98248c7708a64b68bc4d2e36bf2fb86abedd70aa3a6818563135d677b5\n",
      "  Stored in directory: /Users/Kike/Library/Caches/pip/wheels/f9/e9/7e/8b13db3bf3aeb5049d759e10702736fb96753089ac950fddc0\n",
      "  Building wheel for multitasking (setup.py) ... \u001b[?25ldone\n",
      "\u001b[?25h  Created wheel for multitasking: filename=multitasking-0.0.9-py3-none-any.whl size=8375 sha256=4468b4b38200cd21bde36c47389d5241263b283fdbeb4a339854d795ee10c09d\n",
      "  Stored in directory: /Users/Kike/Library/Caches/pip/wheels/57/6d/a3/a39b839cc75274d2acfb1c58bfead2f726c6577fe8c4723f13\n",
      "Successfully built yfinance multitasking\n",
      "Installing collected packages: multitasking, lxml, yfinance\n",
      "Successfully installed lxml-4.6.4 multitasking-0.0.9 yfinance-0.1.64\n"
     ]
    }
   ],
   "source": [
    "!pip install yfinance"
   ]
  },
  {
   "cell_type": "code",
   "execution_count": 58,
   "metadata": {},
   "outputs": [],
   "source": [
    "import pandas as pd\n",
    "import yfinance as yf\n",
    "\n",
    "import time"
   ]
  },
  {
   "cell_type": "code",
   "execution_count": 59,
   "metadata": {},
   "outputs": [
    {
     "name": "stdout",
     "output_type": "stream",
     "text": [
      "[*********************100%***********************]  1 of 1 completed\n"
     ]
    },
    {
     "data": {
      "text/html": [
       "<div>\n",
       "<style scoped>\n",
       "    .dataframe tbody tr th:only-of-type {\n",
       "        vertical-align: middle;\n",
       "    }\n",
       "\n",
       "    .dataframe tbody tr th {\n",
       "        vertical-align: top;\n",
       "    }\n",
       "\n",
       "    .dataframe thead th {\n",
       "        text-align: right;\n",
       "    }\n",
       "</style>\n",
       "<table border=\"1\" class=\"dataframe\">\n",
       "  <thead>\n",
       "    <tr style=\"text-align: right;\">\n",
       "      <th></th>\n",
       "      <th>Open</th>\n",
       "      <th>High</th>\n",
       "      <th>Low</th>\n",
       "      <th>Close</th>\n",
       "      <th>Adj Close</th>\n",
       "      <th>Volume</th>\n",
       "      <th>datetime</th>\n",
       "    </tr>\n",
       "    <tr>\n",
       "      <th>Datetime</th>\n",
       "      <th></th>\n",
       "      <th></th>\n",
       "      <th></th>\n",
       "      <th></th>\n",
       "      <th></th>\n",
       "      <th></th>\n",
       "      <th></th>\n",
       "    </tr>\n",
       "  </thead>\n",
       "  <tbody>\n",
       "    <tr>\n",
       "      <th>2021-11-05 09:30:00-04:00</th>\n",
       "      <td>36268.750000</td>\n",
       "      <td>36331.339844</td>\n",
       "      <td>36268.750000</td>\n",
       "      <td>36320.550781</td>\n",
       "      <td>36320.550781</td>\n",
       "      <td>0</td>\n",
       "      <td>2021-11-05 09:30:00-04:00</td>\n",
       "    </tr>\n",
       "    <tr>\n",
       "      <th>2021-11-05 09:31:00-04:00</th>\n",
       "      <td>36274.898438</td>\n",
       "      <td>36290.000000</td>\n",
       "      <td>36269.539062</td>\n",
       "      <td>36283.460938</td>\n",
       "      <td>36283.460938</td>\n",
       "      <td>6473430</td>\n",
       "      <td>2021-11-05 09:31:00-04:00</td>\n",
       "    </tr>\n",
       "    <tr>\n",
       "      <th>2021-11-05 09:32:00-04:00</th>\n",
       "      <td>36277.699219</td>\n",
       "      <td>36297.578125</td>\n",
       "      <td>36277.378906</td>\n",
       "      <td>36292.511719</td>\n",
       "      <td>36292.511719</td>\n",
       "      <td>2549986</td>\n",
       "      <td>2021-11-05 09:32:00-04:00</td>\n",
       "    </tr>\n",
       "    <tr>\n",
       "      <th>2021-11-05 09:33:00-04:00</th>\n",
       "      <td>36292.761719</td>\n",
       "      <td>36317.351562</td>\n",
       "      <td>36290.910156</td>\n",
       "      <td>36317.351562</td>\n",
       "      <td>36317.351562</td>\n",
       "      <td>2092280</td>\n",
       "      <td>2021-11-05 09:33:00-04:00</td>\n",
       "    </tr>\n",
       "    <tr>\n",
       "      <th>2021-11-05 09:34:00-04:00</th>\n",
       "      <td>36318.308594</td>\n",
       "      <td>36348.468750</td>\n",
       "      <td>36318.308594</td>\n",
       "      <td>36336.519531</td>\n",
       "      <td>36336.519531</td>\n",
       "      <td>1807783</td>\n",
       "      <td>2021-11-05 09:34:00-04:00</td>\n",
       "    </tr>\n",
       "    <tr>\n",
       "      <th>...</th>\n",
       "      <td>...</td>\n",
       "      <td>...</td>\n",
       "      <td>...</td>\n",
       "      <td>...</td>\n",
       "      <td>...</td>\n",
       "      <td>...</td>\n",
       "      <td>...</td>\n",
       "    </tr>\n",
       "    <tr>\n",
       "      <th>2021-11-11 15:01:00-05:00</th>\n",
       "      <td>35947.039062</td>\n",
       "      <td>35947.980469</td>\n",
       "      <td>35936.218750</td>\n",
       "      <td>35936.449219</td>\n",
       "      <td>35936.449219</td>\n",
       "      <td>637967</td>\n",
       "      <td>2021-11-11 15:01:00-05:00</td>\n",
       "    </tr>\n",
       "    <tr>\n",
       "      <th>2021-11-11 15:02:00-05:00</th>\n",
       "      <td>35936.300781</td>\n",
       "      <td>35938.710938</td>\n",
       "      <td>35932.289062</td>\n",
       "      <td>35932.289062</td>\n",
       "      <td>35932.289062</td>\n",
       "      <td>514319</td>\n",
       "      <td>2021-11-11 15:02:00-05:00</td>\n",
       "    </tr>\n",
       "    <tr>\n",
       "      <th>2021-11-11 15:03:00-05:00</th>\n",
       "      <td>35932.371094</td>\n",
       "      <td>35938.851562</td>\n",
       "      <td>35931.238281</td>\n",
       "      <td>35935.101562</td>\n",
       "      <td>35935.101562</td>\n",
       "      <td>519785</td>\n",
       "      <td>2021-11-11 15:03:00-05:00</td>\n",
       "    </tr>\n",
       "    <tr>\n",
       "      <th>2021-11-11 15:04:00-05:00</th>\n",
       "      <td>35935.289062</td>\n",
       "      <td>35942.589844</td>\n",
       "      <td>35935.210938</td>\n",
       "      <td>35941.578125</td>\n",
       "      <td>35941.578125</td>\n",
       "      <td>519459</td>\n",
       "      <td>2021-11-11 15:04:00-05:00</td>\n",
       "    </tr>\n",
       "    <tr>\n",
       "      <th>2021-11-11 15:05:55-05:00</th>\n",
       "      <td>35946.531250</td>\n",
       "      <td>35946.531250</td>\n",
       "      <td>35946.531250</td>\n",
       "      <td>35946.531250</td>\n",
       "      <td>35946.531250</td>\n",
       "      <td>0</td>\n",
       "      <td>2021-11-11 15:05:55-05:00</td>\n",
       "    </tr>\n",
       "  </tbody>\n",
       "</table>\n",
       "<p>1893 rows × 7 columns</p>\n",
       "</div>"
      ],
      "text/plain": [
       "                                   Open          High           Low  \\\n",
       "Datetime                                                              \n",
       "2021-11-05 09:30:00-04:00  36268.750000  36331.339844  36268.750000   \n",
       "2021-11-05 09:31:00-04:00  36274.898438  36290.000000  36269.539062   \n",
       "2021-11-05 09:32:00-04:00  36277.699219  36297.578125  36277.378906   \n",
       "2021-11-05 09:33:00-04:00  36292.761719  36317.351562  36290.910156   \n",
       "2021-11-05 09:34:00-04:00  36318.308594  36348.468750  36318.308594   \n",
       "...                                 ...           ...           ...   \n",
       "2021-11-11 15:01:00-05:00  35947.039062  35947.980469  35936.218750   \n",
       "2021-11-11 15:02:00-05:00  35936.300781  35938.710938  35932.289062   \n",
       "2021-11-11 15:03:00-05:00  35932.371094  35938.851562  35931.238281   \n",
       "2021-11-11 15:04:00-05:00  35935.289062  35942.589844  35935.210938   \n",
       "2021-11-11 15:05:55-05:00  35946.531250  35946.531250  35946.531250   \n",
       "\n",
       "                                  Close     Adj Close   Volume  \\\n",
       "Datetime                                                         \n",
       "2021-11-05 09:30:00-04:00  36320.550781  36320.550781        0   \n",
       "2021-11-05 09:31:00-04:00  36283.460938  36283.460938  6473430   \n",
       "2021-11-05 09:32:00-04:00  36292.511719  36292.511719  2549986   \n",
       "2021-11-05 09:33:00-04:00  36317.351562  36317.351562  2092280   \n",
       "2021-11-05 09:34:00-04:00  36336.519531  36336.519531  1807783   \n",
       "...                                 ...           ...      ...   \n",
       "2021-11-11 15:01:00-05:00  35936.449219  35936.449219   637967   \n",
       "2021-11-11 15:02:00-05:00  35932.289062  35932.289062   514319   \n",
       "2021-11-11 15:03:00-05:00  35935.101562  35935.101562   519785   \n",
       "2021-11-11 15:04:00-05:00  35941.578125  35941.578125   519459   \n",
       "2021-11-11 15:05:55-05:00  35946.531250  35946.531250        0   \n",
       "\n",
       "                                           datetime  \n",
       "Datetime                                             \n",
       "2021-11-05 09:30:00-04:00 2021-11-05 09:30:00-04:00  \n",
       "2021-11-05 09:31:00-04:00 2021-11-05 09:31:00-04:00  \n",
       "2021-11-05 09:32:00-04:00 2021-11-05 09:32:00-04:00  \n",
       "2021-11-05 09:33:00-04:00 2021-11-05 09:33:00-04:00  \n",
       "2021-11-05 09:34:00-04:00 2021-11-05 09:34:00-04:00  \n",
       "...                                             ...  \n",
       "2021-11-11 15:01:00-05:00 2021-11-11 15:01:00-05:00  \n",
       "2021-11-11 15:02:00-05:00 2021-11-11 15:02:00-05:00  \n",
       "2021-11-11 15:03:00-05:00 2021-11-11 15:03:00-05:00  \n",
       "2021-11-11 15:04:00-05:00 2021-11-11 15:04:00-05:00  \n",
       "2021-11-11 15:05:55-05:00 2021-11-11 15:05:55-05:00  \n",
       "\n",
       "[1893 rows x 7 columns]"
      ]
     },
     "execution_count": 59,
     "metadata": {},
     "output_type": "execute_result"
    }
   ],
   "source": [
    "data=yf.download(tickers='^DJI', period='5d', interval='1m')\n",
    "\n",
    "data['datetime']=data.index\n",
    "\n",
    "data"
   ]
  },
  {
   "cell_type": "code",
   "execution_count": 60,
   "metadata": {},
   "outputs": [
    {
     "data": {
      "text/plain": [
       "{'Open': 35946.53125,\n",
       " 'High': 35946.53125,\n",
       " 'Low': 35946.53125,\n",
       " 'Close': 35946.53125,\n",
       " 'Adj Close': 35946.53125,\n",
       " 'Volume': 0,\n",
       " 'datetime': Timestamp('2021-11-11 15:05:55-0500', tz='America/New_York')}"
      ]
     },
     "execution_count": 60,
     "metadata": {},
     "output_type": "execute_result"
    }
   ],
   "source": [
    "data.to_dict(orient='records')[-1]"
   ]
  },
  {
   "cell_type": "code",
   "execution_count": 61,
   "metadata": {},
   "outputs": [
    {
     "name": "stdout",
     "output_type": "stream",
     "text": [
      "[*********************100%***********************]  1 of 1 completed\n",
      "{'Open': 43.1349983215332, 'High': 43.1349983215332, 'Low': 43.1349983215332, 'Close': 43.1349983215332, 'Adj Close': 43.1349983215332, 'Volume': 0, 'datetime': Timestamp('2021-11-11 15:12:17-0500', tz='America/New_York')}\n",
      "[*********************100%***********************]  1 of 1 completed\n",
      "{'Open': 43.1349983215332, 'High': 43.1349983215332, 'Low': 43.1349983215332, 'Close': 43.1349983215332, 'Adj Close': 43.1349983215332, 'Volume': 0, 'datetime': Timestamp('2021-11-11 15:12:17-0500', tz='America/New_York')}\n",
      "[*********************100%***********************]  1 of 1 completed\n",
      "{'Open': 43.1349983215332, 'High': 43.1349983215332, 'Low': 43.1349983215332, 'Close': 43.1349983215332, 'Adj Close': 43.1349983215332, 'Volume': 0, 'datetime': Timestamp('2021-11-11 15:12:17-0500', tz='America/New_York')}\n",
      "[*********************100%***********************]  1 of 1 completed\n",
      "{'Open': 43.130001068115234, 'High': 43.130001068115234, 'Low': 43.130001068115234, 'Close': 43.130001068115234, 'Adj Close': 43.130001068115234, 'Volume': 0, 'datetime': Timestamp('2021-11-11 15:12:24-0500', tz='America/New_York')}\n"
     ]
    },
    {
     "ename": "KeyboardInterrupt",
     "evalue": "",
     "output_type": "error",
     "traceback": [
      "\u001b[0;31m---------------------------------------------------------------------------\u001b[0m",
      "\u001b[0;31mKeyboardInterrupt\u001b[0m                         Traceback (most recent call last)",
      "\u001b[0;32m/var/folders/yw/344n0znn0ds9rjkb7bct5q4w0000gn/T/ipykernel_2338/2430735282.py\u001b[0m in \u001b[0;36m<module>\u001b[0;34m\u001b[0m\n\u001b[1;32m      1\u001b[0m \u001b[0;32mwhile\u001b[0m \u001b[0;36m1\u001b[0m\u001b[0;34m:\u001b[0m\u001b[0;34m\u001b[0m\u001b[0;34m\u001b[0m\u001b[0m\n\u001b[0;32m----> 2\u001b[0;31m     \u001b[0mdata\u001b[0m\u001b[0;34m=\u001b[0m\u001b[0myf\u001b[0m\u001b[0;34m.\u001b[0m\u001b[0mdownload\u001b[0m\u001b[0;34m(\u001b[0m\u001b[0mtickers\u001b[0m\u001b[0;34m=\u001b[0m\u001b[0;34m'UBER'\u001b[0m\u001b[0;34m,\u001b[0m \u001b[0mperiod\u001b[0m\u001b[0;34m=\u001b[0m\u001b[0;34m'5d'\u001b[0m\u001b[0;34m,\u001b[0m \u001b[0minterval\u001b[0m\u001b[0;34m=\u001b[0m\u001b[0;34m'1m'\u001b[0m\u001b[0;34m)\u001b[0m\u001b[0;34m\u001b[0m\u001b[0;34m\u001b[0m\u001b[0m\n\u001b[0m\u001b[1;32m      3\u001b[0m \u001b[0;34m\u001b[0m\u001b[0m\n\u001b[1;32m      4\u001b[0m     \u001b[0mdata\u001b[0m\u001b[0;34m[\u001b[0m\u001b[0;34m'datetime'\u001b[0m\u001b[0;34m]\u001b[0m\u001b[0;34m=\u001b[0m\u001b[0mdata\u001b[0m\u001b[0;34m.\u001b[0m\u001b[0mindex\u001b[0m\u001b[0;34m\u001b[0m\u001b[0;34m\u001b[0m\u001b[0m\n\u001b[1;32m      5\u001b[0m \u001b[0;34m\u001b[0m\u001b[0m\n",
      "\u001b[0;32m~/opt/anaconda3/envs/Entorno_Virtual_BT_Data_Science/lib/python3.8/site-packages/yfinance/multi.py\u001b[0m in \u001b[0;36mdownload\u001b[0;34m(tickers, start, end, actions, threads, group_by, auto_adjust, back_adjust, progress, period, show_errors, interval, prepost, proxy, rounding, **kwargs)\u001b[0m\n\u001b[1;32m     95\u001b[0m                                    rounding=rounding)\n\u001b[1;32m     96\u001b[0m         \u001b[0;32mwhile\u001b[0m \u001b[0mlen\u001b[0m\u001b[0;34m(\u001b[0m\u001b[0mshared\u001b[0m\u001b[0;34m.\u001b[0m\u001b[0m_DFS\u001b[0m\u001b[0;34m)\u001b[0m \u001b[0;34m<\u001b[0m \u001b[0mlen\u001b[0m\u001b[0;34m(\u001b[0m\u001b[0mtickers\u001b[0m\u001b[0;34m)\u001b[0m\u001b[0;34m:\u001b[0m\u001b[0;34m\u001b[0m\u001b[0;34m\u001b[0m\u001b[0m\n\u001b[0;32m---> 97\u001b[0;31m             \u001b[0m_time\u001b[0m\u001b[0;34m.\u001b[0m\u001b[0msleep\u001b[0m\u001b[0;34m(\u001b[0m\u001b[0;36m0.01\u001b[0m\u001b[0;34m)\u001b[0m\u001b[0;34m\u001b[0m\u001b[0;34m\u001b[0m\u001b[0m\n\u001b[0m\u001b[1;32m     98\u001b[0m \u001b[0;34m\u001b[0m\u001b[0m\n\u001b[1;32m     99\u001b[0m     \u001b[0;31m# download synchronously\u001b[0m\u001b[0;34m\u001b[0m\u001b[0;34m\u001b[0m\u001b[0;34m\u001b[0m\u001b[0m\n",
      "\u001b[0;31mKeyboardInterrupt\u001b[0m: "
     ]
    }
   ],
   "source": [
    "while 1:\n",
    "    data=yf.download(tickers='UBER', period='5d', interval='1m')\n",
    "\n",
    "    data['datetime']=data.index\n",
    "\n",
    "    print(data.to_dict(orient='records')[-1])\n",
    "    \n",
    "    time.sleep(0.5)"
   ]
  },
  {
   "cell_type": "markdown",
   "metadata": {},
   "source": [
    "### Twitter API, ejemplo\n",
    "\n",
    "**https://developer.twitter.com/en/apply-for-access.html**\n",
    "    \n",
    "**http://docs.tweepy.org/en/latest/**\n",
    "\n",
    "```python\n",
    "import tweepy\n",
    "\n",
    "API_KEY='apikey'\n",
    "API_SECRET='apisecret'\n",
    "ACCESS_TOKEN='tu_token'\n",
    "TOKEN_SECRET='tu_tokensecret'\n",
    "\n",
    "auth=tweepy.OAuthHandler(API_KEY, API_SECRET)\n",
    "auth.set_access_token(ACCESS_TOKEN, TOKEN_SECRET)\n",
    "\n",
    "api=tweepy.API(auth)\n",
    "\n",
    "\n",
    "def get_followers(user, count=100):\n",
    "    results=api.followers(user, count=count)\n",
    "    followers=[pd.Series(foll._json) for foll in results]\n",
    "    df=pd.DataFrame(followers)\n",
    "    return df\n",
    "\n",
    "\n",
    "df_followers=get_followers('canal_o_usuario')\n",
    "df_followers.head()\n",
    "```"
   ]
  }
 ],
 "metadata": {
  "kernelspec": {
   "display_name": "Python 3 (ipykernel)",
   "language": "python",
   "name": "python3"
  },
  "language_info": {
   "codemirror_mode": {
    "name": "ipython",
    "version": 3
   },
   "file_extension": ".py",
   "mimetype": "text/x-python",
   "name": "python",
   "nbconvert_exporter": "python",
   "pygments_lexer": "ipython3",
   "version": "3.8.11"
  },
  "varInspector": {
   "cols": {
    "lenName": 16,
    "lenType": 16,
    "lenVar": 40
   },
   "kernels_config": {
    "python": {
     "delete_cmd_postfix": "",
     "delete_cmd_prefix": "del ",
     "library": "var_list.py",
     "varRefreshCmd": "print(var_dic_list())"
    },
    "r": {
     "delete_cmd_postfix": ") ",
     "delete_cmd_prefix": "rm(",
     "library": "var_list.r",
     "varRefreshCmd": "cat(var_dic_list()) "
    }
   },
   "types_to_exclude": [
    "module",
    "function",
    "builtin_function_or_method",
    "instance",
    "_Feature"
   ],
   "window_display": false
  }
 },
 "nbformat": 4,
 "nbformat_minor": 4
}
