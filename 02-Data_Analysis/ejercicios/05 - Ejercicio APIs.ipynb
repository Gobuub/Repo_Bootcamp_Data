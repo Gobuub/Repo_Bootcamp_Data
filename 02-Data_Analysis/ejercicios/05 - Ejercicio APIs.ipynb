{
 "cells": [
  {
   "cell_type": "markdown",
   "id": "6c14e37d",
   "metadata": {},
   "source": [
    "![imagen](../images/ejercicios.png)"
   ]
  },
  {
   "cell_type": "markdown",
   "id": "7f412fff",
   "metadata": {},
   "source": [
    "# [Rick y Morty API](https://rickandmortyapi.com/api/)"
   ]
  },
  {
   "cell_type": "markdown",
   "id": "73b735b6",
   "metadata": {},
   "source": [
    "# Ejercicio 1 \n",
    "\n",
    "Importa la librería `requests` y accede a la API mostrando el `.json()`."
   ]
  },
  {
   "cell_type": "code",
   "execution_count": null,
   "id": "5b377a72",
   "metadata": {},
   "outputs": [],
   "source": []
  },
  {
   "cell_type": "code",
   "execution_count": null,
   "id": "8715a4a7",
   "metadata": {},
   "outputs": [],
   "source": []
  },
  {
   "cell_type": "markdown",
   "id": "d43554b8",
   "metadata": {},
   "source": [
    "# Ejercicio 2\n",
    "\n",
    "¿Cuántos personajes hay en la serie?"
   ]
  },
  {
   "cell_type": "code",
   "execution_count": null,
   "id": "c29a84d6",
   "metadata": {},
   "outputs": [],
   "source": []
  },
  {
   "cell_type": "markdown",
   "id": "2e0a1a77",
   "metadata": {},
   "source": [
    "# Ejercicio 3\n",
    "\n",
    "Crea un dataframe con todos los personajes."
   ]
  },
  {
   "cell_type": "code",
   "execution_count": null,
   "id": "056ecff1",
   "metadata": {},
   "outputs": [],
   "source": []
  },
  {
   "cell_type": "markdown",
   "id": "51169f52",
   "metadata": {},
   "source": [
    "# Ejercicio 4\n",
    "\n",
    "¿Cuántos personajes han muerto?"
   ]
  },
  {
   "cell_type": "code",
   "execution_count": null,
   "id": "8e47734b",
   "metadata": {},
   "outputs": [],
   "source": []
  },
  {
   "cell_type": "markdown",
   "id": "d1eadbb1",
   "metadata": {},
   "source": [
    "# Ejercicio 5\n",
    "\n",
    "Muestra una foto de Rick."
   ]
  },
  {
   "cell_type": "code",
   "execution_count": null,
   "id": "ef25e7e5",
   "metadata": {},
   "outputs": [],
   "source": []
  },
  {
   "cell_type": "markdown",
   "id": "2a5c5a76",
   "metadata": {},
   "source": [
    "# Ejercicio 6\n",
    "\n",
    "Muestra una foto de Cronenberg Morty."
   ]
  },
  {
   "cell_type": "code",
   "execution_count": null,
   "id": "445a2ca5",
   "metadata": {},
   "outputs": [],
   "source": []
  },
  {
   "cell_type": "markdown",
   "id": "474d4120",
   "metadata": {},
   "source": [
    "# Ejercicio 7\n",
    "\n",
    "¿Cuántas localizaciones hay en la serie?"
   ]
  },
  {
   "cell_type": "code",
   "execution_count": null,
   "id": "b3545a83",
   "metadata": {},
   "outputs": [],
   "source": []
  },
  {
   "cell_type": "markdown",
   "id": "621de907",
   "metadata": {},
   "source": [
    "# Ejercicio 8\n",
    "\n",
    "¿Cuántos personajes hay en la Ciudadela de los Rick?"
   ]
  },
  {
   "cell_type": "code",
   "execution_count": null,
   "id": "cc10737a",
   "metadata": {},
   "outputs": [],
   "source": []
  },
  {
   "cell_type": "markdown",
   "id": "08848f67",
   "metadata": {},
   "source": [
    "# Ejercicio 9\n",
    "\n",
    "¿y en la TV por cable interdimensional?"
   ]
  },
  {
   "cell_type": "code",
   "execution_count": null,
   "id": "24f0b983",
   "metadata": {},
   "outputs": [],
   "source": []
  },
  {
   "cell_type": "markdown",
   "id": "aa4c018e",
   "metadata": {},
   "source": [
    "# Ejercicio 10\n",
    "\n",
    "¿Cuál es la fecha de emisión del episodio piloto?"
   ]
  },
  {
   "cell_type": "code",
   "execution_count": null,
   "id": "6ebb0f9f",
   "metadata": {},
   "outputs": [],
   "source": []
  },
  {
   "cell_type": "markdown",
   "id": "b5b7d22c",
   "metadata": {},
   "source": [
    "# [API de Cervecerías](https://www.openbrewerydb.org/)"
   ]
  },
  {
   "cell_type": "markdown",
   "id": "68be020a",
   "metadata": {},
   "source": [
    "# Ejercicio 11\n",
    "\n",
    "Accede a la API mostrando el `.json()`."
   ]
  },
  {
   "cell_type": "code",
   "execution_count": null,
   "id": "fc397bd9",
   "metadata": {},
   "outputs": [],
   "source": []
  },
  {
   "cell_type": "markdown",
   "id": "5a0f02ba",
   "metadata": {},
   "source": [
    "# Ejercicio 11 \n",
    "\n",
    "¿Cuántas cervecerías hay en la ciudad de Nueva York?"
   ]
  },
  {
   "cell_type": "code",
   "execution_count": null,
   "id": "c6356921",
   "metadata": {},
   "outputs": [],
   "source": []
  },
  {
   "cell_type": "markdown",
   "id": "3b9a628e",
   "metadata": {},
   "source": [
    "# Ejercicio 12\n",
    "\n",
    "¿Cuántas de ellas tienen página web?"
   ]
  },
  {
   "cell_type": "code",
   "execution_count": null,
   "id": "4d1b721d",
   "metadata": {},
   "outputs": [],
   "source": []
  },
  {
   "cell_type": "markdown",
   "id": "eecaaeab",
   "metadata": {},
   "source": [
    "# Ejercicio 13\n",
    "\n",
    "¿Cuántas de ellas han sido cerradas?"
   ]
  },
  {
   "cell_type": "code",
   "execution_count": null,
   "id": "27377d2b",
   "metadata": {},
   "outputs": [],
   "source": []
  },
  {
   "cell_type": "markdown",
   "id": "9a17a300",
   "metadata": {},
   "source": [
    "# Ejercicio 14\n",
    "\n",
    "¿Cuántas grandes cervecerías hay en el estado de California?"
   ]
  },
  {
   "cell_type": "code",
   "execution_count": null,
   "id": "d02093c9",
   "metadata": {},
   "outputs": [],
   "source": []
  },
  {
   "cell_type": "markdown",
   "id": "b77911bf",
   "metadata": {},
   "source": [
    "# Ejercicio 15\n",
    "\n",
    "Enumera todas las cervecerías de San Francisco y ordenalas según su tipo."
   ]
  },
  {
   "cell_type": "code",
   "execution_count": null,
   "id": "97666bd7",
   "metadata": {},
   "outputs": [],
   "source": []
  }
 ],
 "metadata": {
  "kernelspec": {
   "display_name": "clase",
   "language": "python",
   "name": "clase"
  },
  "language_info": {
   "codemirror_mode": {
    "name": "ipython",
    "version": 3
   },
   "file_extension": ".py",
   "mimetype": "text/x-python",
   "name": "python",
   "nbconvert_exporter": "python",
   "pygments_lexer": "ipython3",
   "version": "3.8.8"
  }
 },
 "nbformat": 4,
 "nbformat_minor": 5
}
