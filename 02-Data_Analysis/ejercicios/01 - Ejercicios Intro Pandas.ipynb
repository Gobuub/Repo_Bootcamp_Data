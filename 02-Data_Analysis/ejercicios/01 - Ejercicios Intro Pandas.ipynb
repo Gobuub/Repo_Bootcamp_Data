{
 "cells": [
  {
   "cell_type": "markdown",
   "id": "99fff3ea",
   "metadata": {},
   "source": [
    "# Ejercicios Intro Pandas\n",
    "\n",
    "![imagen](img/ejercicios.png)"
   ]
  },
  {
   "cell_type": "markdown",
   "id": "e70f7da1",
   "metadata": {},
   "source": [
    "## Ejercicio 1\n",
    "Importa el módulo `pandas` y el módulo `numpy`."
   ]
  },
  {
   "cell_type": "code",
   "execution_count": 1,
   "id": "d2b0adcd",
   "metadata": {},
   "outputs": [],
   "source": [
    "import numpy as np\n",
    "import pandas as pd"
   ]
  },
  {
   "cell_type": "markdown",
   "id": "3ade1ed1",
   "metadata": {},
   "source": [
    "## Ejercicio 2\n",
    "\n",
    "Define una lista de 10 elementos y crea con ella un objeto `pandas.Series`."
   ]
  },
  {
   "cell_type": "code",
   "execution_count": 7,
   "id": "88b3e998",
   "metadata": {},
   "outputs": [
    {
     "data": {
      "text/plain": [
       "[2.0, 3.0, 6.0, 11.0, 18.0, 27.0, 38.0, 51.0, 66.0, 83.0]"
      ]
     },
     "execution_count": 7,
     "metadata": {},
     "output_type": "execute_result"
    }
   ],
   "source": [
    "lst=[i**2+2. for i in range(10)]\n",
    "\n",
    "lst"
   ]
  },
  {
   "cell_type": "code",
   "execution_count": 8,
   "id": "48335607",
   "metadata": {},
   "outputs": [
    {
     "data": {
      "text/plain": [
       "0     2.0\n",
       "1     3.0\n",
       "2     6.0\n",
       "3    11.0\n",
       "4    18.0\n",
       "5    27.0\n",
       "6    38.0\n",
       "7    51.0\n",
       "8    66.0\n",
       "9    83.0\n",
       "dtype: float64"
      ]
     },
     "execution_count": 8,
     "metadata": {},
     "output_type": "execute_result"
    }
   ],
   "source": [
    "serie = pd.Series(lst)\n",
    "\n",
    "serie"
   ]
  },
  {
   "cell_type": "markdown",
   "id": "67159926",
   "metadata": {},
   "source": [
    "## Ejercicio 3\n",
    "\n",
    "Usa los índices para devolver el cuarto valor de la serie anterior.\n",
    "\n",
    "*Recuerda que los índices en Python empiezan en 0.*"
   ]
  },
  {
   "cell_type": "code",
   "execution_count": 9,
   "id": "8054f4b3",
   "metadata": {},
   "outputs": [
    {
     "data": {
      "text/plain": [
       "11.0"
      ]
     },
     "execution_count": 9,
     "metadata": {},
     "output_type": "execute_result"
    }
   ],
   "source": [
    "serie[3]"
   ]
  },
  {
   "cell_type": "markdown",
   "id": "b14ebffa",
   "metadata": {},
   "source": [
    "## Ejercicio 4\n",
    "\n",
    "Define un `numpy.ndarray` de dimensiones (10, 5) y crea con él un `pandas.DataFrame`."
   ]
  },
  {
   "cell_type": "code",
   "execution_count": 10,
   "id": "7e3669ee",
   "metadata": {},
   "outputs": [
    {
     "data": {
      "text/plain": [
       "array([[0.17918023, 0.50452502, 0.9945287 , 0.69957231, 0.82367098],\n",
       "       [0.74190478, 0.05704472, 0.67469769, 0.60495196, 0.51030468],\n",
       "       [0.55504356, 0.99876732, 0.38611739, 0.25348095, 0.620555  ],\n",
       "       [0.16141535, 0.59174504, 0.751951  , 0.05335711, 0.06823953],\n",
       "       [0.48771001, 0.99736196, 0.0181214 , 0.17945455, 0.69093502],\n",
       "       [0.44843173, 0.02016562, 0.29823007, 0.45184755, 0.94589282],\n",
       "       [0.13216007, 0.7708588 , 0.03455161, 0.0131782 , 0.82266579],\n",
       "       [0.05444602, 0.45264938, 0.52338598, 0.73820147, 0.67511938],\n",
       "       [0.65945806, 0.23683834, 0.82652179, 0.98446542, 0.23276022],\n",
       "       [0.36589125, 0.99394518, 0.68627542, 0.31043719, 0.65745993]])"
      ]
     },
     "execution_count": 10,
     "metadata": {},
     "output_type": "execute_result"
    }
   ],
   "source": [
    "array = np.random.random((10, 5))\n",
    "\n",
    "array"
   ]
  },
  {
   "cell_type": "code",
   "execution_count": 11,
   "id": "da2d302e",
   "metadata": {},
   "outputs": [
    {
     "data": {
      "text/plain": [
       "numpy.ndarray"
      ]
     },
     "execution_count": 11,
     "metadata": {},
     "output_type": "execute_result"
    }
   ],
   "source": [
    "type(array)"
   ]
  },
  {
   "cell_type": "code",
   "execution_count": 12,
   "id": "a8228cd2",
   "metadata": {},
   "outputs": [
    {
     "data": {
      "text/html": [
       "<div>\n",
       "<style scoped>\n",
       "    .dataframe tbody tr th:only-of-type {\n",
       "        vertical-align: middle;\n",
       "    }\n",
       "\n",
       "    .dataframe tbody tr th {\n",
       "        vertical-align: top;\n",
       "    }\n",
       "\n",
       "    .dataframe thead th {\n",
       "        text-align: right;\n",
       "    }\n",
       "</style>\n",
       "<table border=\"1\" class=\"dataframe\">\n",
       "  <thead>\n",
       "    <tr style=\"text-align: right;\">\n",
       "      <th></th>\n",
       "      <th>0</th>\n",
       "      <th>1</th>\n",
       "      <th>2</th>\n",
       "      <th>3</th>\n",
       "      <th>4</th>\n",
       "    </tr>\n",
       "  </thead>\n",
       "  <tbody>\n",
       "    <tr>\n",
       "      <th>0</th>\n",
       "      <td>0.179180</td>\n",
       "      <td>0.504525</td>\n",
       "      <td>0.994529</td>\n",
       "      <td>0.699572</td>\n",
       "      <td>0.823671</td>\n",
       "    </tr>\n",
       "    <tr>\n",
       "      <th>1</th>\n",
       "      <td>0.741905</td>\n",
       "      <td>0.057045</td>\n",
       "      <td>0.674698</td>\n",
       "      <td>0.604952</td>\n",
       "      <td>0.510305</td>\n",
       "    </tr>\n",
       "    <tr>\n",
       "      <th>2</th>\n",
       "      <td>0.555044</td>\n",
       "      <td>0.998767</td>\n",
       "      <td>0.386117</td>\n",
       "      <td>0.253481</td>\n",
       "      <td>0.620555</td>\n",
       "    </tr>\n",
       "    <tr>\n",
       "      <th>3</th>\n",
       "      <td>0.161415</td>\n",
       "      <td>0.591745</td>\n",
       "      <td>0.751951</td>\n",
       "      <td>0.053357</td>\n",
       "      <td>0.068240</td>\n",
       "    </tr>\n",
       "    <tr>\n",
       "      <th>4</th>\n",
       "      <td>0.487710</td>\n",
       "      <td>0.997362</td>\n",
       "      <td>0.018121</td>\n",
       "      <td>0.179455</td>\n",
       "      <td>0.690935</td>\n",
       "    </tr>\n",
       "    <tr>\n",
       "      <th>5</th>\n",
       "      <td>0.448432</td>\n",
       "      <td>0.020166</td>\n",
       "      <td>0.298230</td>\n",
       "      <td>0.451848</td>\n",
       "      <td>0.945893</td>\n",
       "    </tr>\n",
       "    <tr>\n",
       "      <th>6</th>\n",
       "      <td>0.132160</td>\n",
       "      <td>0.770859</td>\n",
       "      <td>0.034552</td>\n",
       "      <td>0.013178</td>\n",
       "      <td>0.822666</td>\n",
       "    </tr>\n",
       "    <tr>\n",
       "      <th>7</th>\n",
       "      <td>0.054446</td>\n",
       "      <td>0.452649</td>\n",
       "      <td>0.523386</td>\n",
       "      <td>0.738201</td>\n",
       "      <td>0.675119</td>\n",
       "    </tr>\n",
       "    <tr>\n",
       "      <th>8</th>\n",
       "      <td>0.659458</td>\n",
       "      <td>0.236838</td>\n",
       "      <td>0.826522</td>\n",
       "      <td>0.984465</td>\n",
       "      <td>0.232760</td>\n",
       "    </tr>\n",
       "    <tr>\n",
       "      <th>9</th>\n",
       "      <td>0.365891</td>\n",
       "      <td>0.993945</td>\n",
       "      <td>0.686275</td>\n",
       "      <td>0.310437</td>\n",
       "      <td>0.657460</td>\n",
       "    </tr>\n",
       "  </tbody>\n",
       "</table>\n",
       "</div>"
      ],
      "text/plain": [
       "          0         1         2         3         4\n",
       "0  0.179180  0.504525  0.994529  0.699572  0.823671\n",
       "1  0.741905  0.057045  0.674698  0.604952  0.510305\n",
       "2  0.555044  0.998767  0.386117  0.253481  0.620555\n",
       "3  0.161415  0.591745  0.751951  0.053357  0.068240\n",
       "4  0.487710  0.997362  0.018121  0.179455  0.690935\n",
       "5  0.448432  0.020166  0.298230  0.451848  0.945893\n",
       "6  0.132160  0.770859  0.034552  0.013178  0.822666\n",
       "7  0.054446  0.452649  0.523386  0.738201  0.675119\n",
       "8  0.659458  0.236838  0.826522  0.984465  0.232760\n",
       "9  0.365891  0.993945  0.686275  0.310437  0.657460"
      ]
     },
     "execution_count": 12,
     "metadata": {},
     "output_type": "execute_result"
    }
   ],
   "source": [
    "df = pd.DataFrame(array)\n",
    "\n",
    "df"
   ]
  },
  {
   "cell_type": "markdown",
   "id": "a8e46b27",
   "metadata": {},
   "source": [
    "## Ejercicio 5\n",
    "\n",
    "Renombra las columnas con la siguiente lista:"
   ]
  },
  {
   "cell_type": "code",
   "execution_count": 13,
   "id": "45482e05",
   "metadata": {},
   "outputs": [],
   "source": [
    "columns = ['Rate_1', 'Rate_2', 'Rate_3', 'Rate_4', 'Rate_5']"
   ]
  },
  {
   "cell_type": "code",
   "execution_count": 14,
   "id": "4f19bac6",
   "metadata": {},
   "outputs": [
    {
     "data": {
      "text/html": [
       "<div>\n",
       "<style scoped>\n",
       "    .dataframe tbody tr th:only-of-type {\n",
       "        vertical-align: middle;\n",
       "    }\n",
       "\n",
       "    .dataframe tbody tr th {\n",
       "        vertical-align: top;\n",
       "    }\n",
       "\n",
       "    .dataframe thead th {\n",
       "        text-align: right;\n",
       "    }\n",
       "</style>\n",
       "<table border=\"1\" class=\"dataframe\">\n",
       "  <thead>\n",
       "    <tr style=\"text-align: right;\">\n",
       "      <th></th>\n",
       "      <th>Rate_1</th>\n",
       "      <th>Rate_2</th>\n",
       "      <th>Rate_3</th>\n",
       "      <th>Rate_4</th>\n",
       "      <th>Rate_5</th>\n",
       "    </tr>\n",
       "  </thead>\n",
       "  <tbody>\n",
       "    <tr>\n",
       "      <th>0</th>\n",
       "      <td>0.179180</td>\n",
       "      <td>0.504525</td>\n",
       "      <td>0.994529</td>\n",
       "      <td>0.699572</td>\n",
       "      <td>0.823671</td>\n",
       "    </tr>\n",
       "    <tr>\n",
       "      <th>1</th>\n",
       "      <td>0.741905</td>\n",
       "      <td>0.057045</td>\n",
       "      <td>0.674698</td>\n",
       "      <td>0.604952</td>\n",
       "      <td>0.510305</td>\n",
       "    </tr>\n",
       "    <tr>\n",
       "      <th>2</th>\n",
       "      <td>0.555044</td>\n",
       "      <td>0.998767</td>\n",
       "      <td>0.386117</td>\n",
       "      <td>0.253481</td>\n",
       "      <td>0.620555</td>\n",
       "    </tr>\n",
       "    <tr>\n",
       "      <th>3</th>\n",
       "      <td>0.161415</td>\n",
       "      <td>0.591745</td>\n",
       "      <td>0.751951</td>\n",
       "      <td>0.053357</td>\n",
       "      <td>0.068240</td>\n",
       "    </tr>\n",
       "    <tr>\n",
       "      <th>4</th>\n",
       "      <td>0.487710</td>\n",
       "      <td>0.997362</td>\n",
       "      <td>0.018121</td>\n",
       "      <td>0.179455</td>\n",
       "      <td>0.690935</td>\n",
       "    </tr>\n",
       "    <tr>\n",
       "      <th>5</th>\n",
       "      <td>0.448432</td>\n",
       "      <td>0.020166</td>\n",
       "      <td>0.298230</td>\n",
       "      <td>0.451848</td>\n",
       "      <td>0.945893</td>\n",
       "    </tr>\n",
       "    <tr>\n",
       "      <th>6</th>\n",
       "      <td>0.132160</td>\n",
       "      <td>0.770859</td>\n",
       "      <td>0.034552</td>\n",
       "      <td>0.013178</td>\n",
       "      <td>0.822666</td>\n",
       "    </tr>\n",
       "    <tr>\n",
       "      <th>7</th>\n",
       "      <td>0.054446</td>\n",
       "      <td>0.452649</td>\n",
       "      <td>0.523386</td>\n",
       "      <td>0.738201</td>\n",
       "      <td>0.675119</td>\n",
       "    </tr>\n",
       "    <tr>\n",
       "      <th>8</th>\n",
       "      <td>0.659458</td>\n",
       "      <td>0.236838</td>\n",
       "      <td>0.826522</td>\n",
       "      <td>0.984465</td>\n",
       "      <td>0.232760</td>\n",
       "    </tr>\n",
       "    <tr>\n",
       "      <th>9</th>\n",
       "      <td>0.365891</td>\n",
       "      <td>0.993945</td>\n",
       "      <td>0.686275</td>\n",
       "      <td>0.310437</td>\n",
       "      <td>0.657460</td>\n",
       "    </tr>\n",
       "  </tbody>\n",
       "</table>\n",
       "</div>"
      ],
      "text/plain": [
       "     Rate_1    Rate_2    Rate_3    Rate_4    Rate_5\n",
       "0  0.179180  0.504525  0.994529  0.699572  0.823671\n",
       "1  0.741905  0.057045  0.674698  0.604952  0.510305\n",
       "2  0.555044  0.998767  0.386117  0.253481  0.620555\n",
       "3  0.161415  0.591745  0.751951  0.053357  0.068240\n",
       "4  0.487710  0.997362  0.018121  0.179455  0.690935\n",
       "5  0.448432  0.020166  0.298230  0.451848  0.945893\n",
       "6  0.132160  0.770859  0.034552  0.013178  0.822666\n",
       "7  0.054446  0.452649  0.523386  0.738201  0.675119\n",
       "8  0.659458  0.236838  0.826522  0.984465  0.232760\n",
       "9  0.365891  0.993945  0.686275  0.310437  0.657460"
      ]
     },
     "execution_count": 14,
     "metadata": {},
     "output_type": "execute_result"
    }
   ],
   "source": [
    "df.columns = columns\n",
    "\n",
    "df"
   ]
  },
  {
   "cell_type": "markdown",
   "id": "a3910466",
   "metadata": {},
   "source": [
    "## Ejercicio 6\n",
    "\n",
    "Crea un subconjunto del dataframe que contenga las columnas `Rate_1`, `Rate_3` y `Rate_5`."
   ]
  },
  {
   "cell_type": "code",
   "execution_count": 15,
   "id": "33b01233",
   "metadata": {},
   "outputs": [
    {
     "data": {
      "text/html": [
       "<div>\n",
       "<style scoped>\n",
       "    .dataframe tbody tr th:only-of-type {\n",
       "        vertical-align: middle;\n",
       "    }\n",
       "\n",
       "    .dataframe tbody tr th {\n",
       "        vertical-align: top;\n",
       "    }\n",
       "\n",
       "    .dataframe thead th {\n",
       "        text-align: right;\n",
       "    }\n",
       "</style>\n",
       "<table border=\"1\" class=\"dataframe\">\n",
       "  <thead>\n",
       "    <tr style=\"text-align: right;\">\n",
       "      <th></th>\n",
       "      <th>Rate_1</th>\n",
       "      <th>Rate_3</th>\n",
       "      <th>Rate_5</th>\n",
       "    </tr>\n",
       "  </thead>\n",
       "  <tbody>\n",
       "    <tr>\n",
       "      <th>0</th>\n",
       "      <td>0.179180</td>\n",
       "      <td>0.994529</td>\n",
       "      <td>0.823671</td>\n",
       "    </tr>\n",
       "    <tr>\n",
       "      <th>1</th>\n",
       "      <td>0.741905</td>\n",
       "      <td>0.674698</td>\n",
       "      <td>0.510305</td>\n",
       "    </tr>\n",
       "    <tr>\n",
       "      <th>2</th>\n",
       "      <td>0.555044</td>\n",
       "      <td>0.386117</td>\n",
       "      <td>0.620555</td>\n",
       "    </tr>\n",
       "    <tr>\n",
       "      <th>3</th>\n",
       "      <td>0.161415</td>\n",
       "      <td>0.751951</td>\n",
       "      <td>0.068240</td>\n",
       "    </tr>\n",
       "    <tr>\n",
       "      <th>4</th>\n",
       "      <td>0.487710</td>\n",
       "      <td>0.018121</td>\n",
       "      <td>0.690935</td>\n",
       "    </tr>\n",
       "    <tr>\n",
       "      <th>5</th>\n",
       "      <td>0.448432</td>\n",
       "      <td>0.298230</td>\n",
       "      <td>0.945893</td>\n",
       "    </tr>\n",
       "    <tr>\n",
       "      <th>6</th>\n",
       "      <td>0.132160</td>\n",
       "      <td>0.034552</td>\n",
       "      <td>0.822666</td>\n",
       "    </tr>\n",
       "    <tr>\n",
       "      <th>7</th>\n",
       "      <td>0.054446</td>\n",
       "      <td>0.523386</td>\n",
       "      <td>0.675119</td>\n",
       "    </tr>\n",
       "    <tr>\n",
       "      <th>8</th>\n",
       "      <td>0.659458</td>\n",
       "      <td>0.826522</td>\n",
       "      <td>0.232760</td>\n",
       "    </tr>\n",
       "    <tr>\n",
       "      <th>9</th>\n",
       "      <td>0.365891</td>\n",
       "      <td>0.686275</td>\n",
       "      <td>0.657460</td>\n",
       "    </tr>\n",
       "  </tbody>\n",
       "</table>\n",
       "</div>"
      ],
      "text/plain": [
       "     Rate_1    Rate_3    Rate_5\n",
       "0  0.179180  0.994529  0.823671\n",
       "1  0.741905  0.674698  0.510305\n",
       "2  0.555044  0.386117  0.620555\n",
       "3  0.161415  0.751951  0.068240\n",
       "4  0.487710  0.018121  0.690935\n",
       "5  0.448432  0.298230  0.945893\n",
       "6  0.132160  0.034552  0.822666\n",
       "7  0.054446  0.523386  0.675119\n",
       "8  0.659458  0.826522  0.232760\n",
       "9  0.365891  0.686275  0.657460"
      ]
     },
     "execution_count": 15,
     "metadata": {},
     "output_type": "execute_result"
    }
   ],
   "source": [
    "df[['Rate_1', 'Rate_3', 'Rate_5']]"
   ]
  },
  {
   "cell_type": "code",
   "execution_count": 17,
   "id": "34a90deb",
   "metadata": {},
   "outputs": [
    {
     "data": {
      "text/html": [
       "<div>\n",
       "<style scoped>\n",
       "    .dataframe tbody tr th:only-of-type {\n",
       "        vertical-align: middle;\n",
       "    }\n",
       "\n",
       "    .dataframe tbody tr th {\n",
       "        vertical-align: top;\n",
       "    }\n",
       "\n",
       "    .dataframe thead th {\n",
       "        text-align: right;\n",
       "    }\n",
       "</style>\n",
       "<table border=\"1\" class=\"dataframe\">\n",
       "  <thead>\n",
       "    <tr style=\"text-align: right;\">\n",
       "      <th></th>\n",
       "      <th>Rate_1</th>\n",
       "      <th>Rate_3</th>\n",
       "      <th>Rate_5</th>\n",
       "    </tr>\n",
       "  </thead>\n",
       "  <tbody>\n",
       "    <tr>\n",
       "      <th>0</th>\n",
       "      <td>0.179180</td>\n",
       "      <td>0.994529</td>\n",
       "      <td>0.823671</td>\n",
       "    </tr>\n",
       "    <tr>\n",
       "      <th>1</th>\n",
       "      <td>0.741905</td>\n",
       "      <td>0.674698</td>\n",
       "      <td>0.510305</td>\n",
       "    </tr>\n",
       "    <tr>\n",
       "      <th>2</th>\n",
       "      <td>0.555044</td>\n",
       "      <td>0.386117</td>\n",
       "      <td>0.620555</td>\n",
       "    </tr>\n",
       "    <tr>\n",
       "      <th>3</th>\n",
       "      <td>0.161415</td>\n",
       "      <td>0.751951</td>\n",
       "      <td>0.068240</td>\n",
       "    </tr>\n",
       "    <tr>\n",
       "      <th>4</th>\n",
       "      <td>0.487710</td>\n",
       "      <td>0.018121</td>\n",
       "      <td>0.690935</td>\n",
       "    </tr>\n",
       "    <tr>\n",
       "      <th>5</th>\n",
       "      <td>0.448432</td>\n",
       "      <td>0.298230</td>\n",
       "      <td>0.945893</td>\n",
       "    </tr>\n",
       "    <tr>\n",
       "      <th>6</th>\n",
       "      <td>0.132160</td>\n",
       "      <td>0.034552</td>\n",
       "      <td>0.822666</td>\n",
       "    </tr>\n",
       "    <tr>\n",
       "      <th>7</th>\n",
       "      <td>0.054446</td>\n",
       "      <td>0.523386</td>\n",
       "      <td>0.675119</td>\n",
       "    </tr>\n",
       "    <tr>\n",
       "      <th>8</th>\n",
       "      <td>0.659458</td>\n",
       "      <td>0.826522</td>\n",
       "      <td>0.232760</td>\n",
       "    </tr>\n",
       "    <tr>\n",
       "      <th>9</th>\n",
       "      <td>0.365891</td>\n",
       "      <td>0.686275</td>\n",
       "      <td>0.657460</td>\n",
       "    </tr>\n",
       "  </tbody>\n",
       "</table>\n",
       "</div>"
      ],
      "text/plain": [
       "     Rate_1    Rate_3    Rate_5\n",
       "0  0.179180  0.994529  0.823671\n",
       "1  0.741905  0.674698  0.510305\n",
       "2  0.555044  0.386117  0.620555\n",
       "3  0.161415  0.751951  0.068240\n",
       "4  0.487710  0.018121  0.690935\n",
       "5  0.448432  0.298230  0.945893\n",
       "6  0.132160  0.034552  0.822666\n",
       "7  0.054446  0.523386  0.675119\n",
       "8  0.659458  0.826522  0.232760\n",
       "9  0.365891  0.686275  0.657460"
      ]
     },
     "execution_count": 17,
     "metadata": {},
     "output_type": "execute_result"
    }
   ],
   "source": [
    "df.loc[:, ['Rate_1', 'Rate_3', 'Rate_5']]"
   ]
  },
  {
   "cell_type": "markdown",
   "id": "875589f0",
   "metadata": {},
   "source": [
    "## Ejercicio 7\n",
    "\n",
    "Crea un subconjunto del dataframe que contenga las filas pares."
   ]
  },
  {
   "cell_type": "code",
   "execution_count": 21,
   "id": "3de3e518",
   "metadata": {},
   "outputs": [
    {
     "data": {
      "text/html": [
       "<div>\n",
       "<style scoped>\n",
       "    .dataframe tbody tr th:only-of-type {\n",
       "        vertical-align: middle;\n",
       "    }\n",
       "\n",
       "    .dataframe tbody tr th {\n",
       "        vertical-align: top;\n",
       "    }\n",
       "\n",
       "    .dataframe thead th {\n",
       "        text-align: right;\n",
       "    }\n",
       "</style>\n",
       "<table border=\"1\" class=\"dataframe\">\n",
       "  <thead>\n",
       "    <tr style=\"text-align: right;\">\n",
       "      <th></th>\n",
       "      <th>Rate_1</th>\n",
       "      <th>Rate_2</th>\n",
       "      <th>Rate_3</th>\n",
       "      <th>Rate_4</th>\n",
       "      <th>Rate_5</th>\n",
       "    </tr>\n",
       "  </thead>\n",
       "  <tbody>\n",
       "    <tr>\n",
       "      <th>0</th>\n",
       "      <td>0.179180</td>\n",
       "      <td>0.504525</td>\n",
       "      <td>0.994529</td>\n",
       "      <td>0.699572</td>\n",
       "      <td>0.823671</td>\n",
       "    </tr>\n",
       "    <tr>\n",
       "      <th>2</th>\n",
       "      <td>0.555044</td>\n",
       "      <td>0.998767</td>\n",
       "      <td>0.386117</td>\n",
       "      <td>0.253481</td>\n",
       "      <td>0.620555</td>\n",
       "    </tr>\n",
       "    <tr>\n",
       "      <th>4</th>\n",
       "      <td>0.487710</td>\n",
       "      <td>0.997362</td>\n",
       "      <td>0.018121</td>\n",
       "      <td>0.179455</td>\n",
       "      <td>0.690935</td>\n",
       "    </tr>\n",
       "    <tr>\n",
       "      <th>6</th>\n",
       "      <td>0.132160</td>\n",
       "      <td>0.770859</td>\n",
       "      <td>0.034552</td>\n",
       "      <td>0.013178</td>\n",
       "      <td>0.822666</td>\n",
       "    </tr>\n",
       "    <tr>\n",
       "      <th>8</th>\n",
       "      <td>0.659458</td>\n",
       "      <td>0.236838</td>\n",
       "      <td>0.826522</td>\n",
       "      <td>0.984465</td>\n",
       "      <td>0.232760</td>\n",
       "    </tr>\n",
       "  </tbody>\n",
       "</table>\n",
       "</div>"
      ],
      "text/plain": [
       "     Rate_1    Rate_2    Rate_3    Rate_4    Rate_5\n",
       "0  0.179180  0.504525  0.994529  0.699572  0.823671\n",
       "2  0.555044  0.998767  0.386117  0.253481  0.620555\n",
       "4  0.487710  0.997362  0.018121  0.179455  0.690935\n",
       "6  0.132160  0.770859  0.034552  0.013178  0.822666\n",
       "8  0.659458  0.236838  0.826522  0.984465  0.232760"
      ]
     },
     "execution_count": 21,
     "metadata": {},
     "output_type": "execute_result"
    }
   ],
   "source": [
    "df.iloc[::2]  # df.iloc[start:stop:step]"
   ]
  },
  {
   "cell_type": "markdown",
   "id": "27b3fe24",
   "metadata": {},
   "source": [
    "## Ejercicio 8\n",
    "\n",
    "Calcula la media de la columna `Rate_4`."
   ]
  },
  {
   "cell_type": "code",
   "execution_count": 23,
   "id": "813a5781",
   "metadata": {},
   "outputs": [
    {
     "data": {
      "text/plain": [
       "0.42889467129495423"
      ]
     },
     "execution_count": 23,
     "metadata": {},
     "output_type": "execute_result"
    }
   ],
   "source": [
    "df['Rate_4'].mean()"
   ]
  },
  {
   "cell_type": "markdown",
   "id": "f6cbe38c",
   "metadata": {},
   "source": [
    "## Ejercicio 8\n",
    "\n",
    "Calcula la mediana de la columna `Rate_1`."
   ]
  },
  {
   "cell_type": "code",
   "execution_count": 24,
   "id": "afaee0f2",
   "metadata": {},
   "outputs": [
    {
     "data": {
      "text/plain": [
       "0.4071614918166174"
      ]
     },
     "execution_count": 24,
     "metadata": {},
     "output_type": "execute_result"
    }
   ],
   "source": [
    "df['Rate_1'].median()"
   ]
  },
  {
   "cell_type": "markdown",
   "id": "a11d9fc6",
   "metadata": {},
   "source": [
    "## Ejercicio 9\n",
    "\n",
    "Calcula el mínimo de la columna `Rate_2`."
   ]
  },
  {
   "cell_type": "code",
   "execution_count": 25,
   "id": "a8d50f79",
   "metadata": {},
   "outputs": [
    {
     "data": {
      "text/plain": [
       "0.020165615215331778"
      ]
     },
     "execution_count": 25,
     "metadata": {},
     "output_type": "execute_result"
    }
   ],
   "source": [
    "df['Rate_2'].min()"
   ]
  },
  {
   "cell_type": "markdown",
   "id": "539a8999",
   "metadata": {},
   "source": [
    "## Ejercicio 10\n",
    "\n",
    "Calcula el máximo de la columna `Rate_5`."
   ]
  },
  {
   "cell_type": "code",
   "execution_count": 26,
   "id": "6b317e57",
   "metadata": {},
   "outputs": [
    {
     "data": {
      "text/plain": [
       "0.9458928222918034"
      ]
     },
     "execution_count": 26,
     "metadata": {},
     "output_type": "execute_result"
    }
   ],
   "source": [
    "df['Rate_5'].max()"
   ]
  },
  {
   "cell_type": "markdown",
   "id": "5eeb3de9",
   "metadata": {},
   "source": [
    "## Ejercicio 11\n",
    "\n",
    "Crea un `pandas.DataFrame` con el siguiente diccionario:"
   ]
  },
  {
   "cell_type": "code",
   "execution_count": 28,
   "id": "50900e98",
   "metadata": {},
   "outputs": [],
   "source": [
    "products = {'Desc': ['Lunch bag', 'Vintage leaf cake cases', 'Ribbon reel stripes','Gliders', 'Playing cards',\n",
    "                     'Popcorn holder', 'Alphabet blocks', 'Party bunting', 'Color Pen', 'Paint book'],\n",
    "           'Quantity': [1, 24, 1, 2880, 2, 7, 1, 4, 10, 48],\n",
    "           'UnitPrice': [1.65, 0.55, 1.65, 0.18, 1.25, 0.85, 11.95, 4.95, 0.19, 1.25],\n",
    "           'Revenue': [1.65, 13.2, 1.65, 518.4, 2.5, 5.95, 11.95, 19.8, 1.9, 60.0]}"
   ]
  },
  {
   "cell_type": "code",
   "execution_count": 29,
   "id": "af4d8225",
   "metadata": {},
   "outputs": [
    {
     "data": {
      "text/html": [
       "<div>\n",
       "<style scoped>\n",
       "    .dataframe tbody tr th:only-of-type {\n",
       "        vertical-align: middle;\n",
       "    }\n",
       "\n",
       "    .dataframe tbody tr th {\n",
       "        vertical-align: top;\n",
       "    }\n",
       "\n",
       "    .dataframe thead th {\n",
       "        text-align: right;\n",
       "    }\n",
       "</style>\n",
       "<table border=\"1\" class=\"dataframe\">\n",
       "  <thead>\n",
       "    <tr style=\"text-align: right;\">\n",
       "      <th></th>\n",
       "      <th>Desc</th>\n",
       "      <th>Quantity</th>\n",
       "      <th>UnitPrice</th>\n",
       "      <th>Revenue</th>\n",
       "    </tr>\n",
       "  </thead>\n",
       "  <tbody>\n",
       "    <tr>\n",
       "      <th>0</th>\n",
       "      <td>Lunch bag</td>\n",
       "      <td>1</td>\n",
       "      <td>1.65</td>\n",
       "      <td>1.65</td>\n",
       "    </tr>\n",
       "    <tr>\n",
       "      <th>1</th>\n",
       "      <td>Vintage leaf cake cases</td>\n",
       "      <td>24</td>\n",
       "      <td>0.55</td>\n",
       "      <td>13.20</td>\n",
       "    </tr>\n",
       "    <tr>\n",
       "      <th>2</th>\n",
       "      <td>Ribbon reel stripes</td>\n",
       "      <td>1</td>\n",
       "      <td>1.65</td>\n",
       "      <td>1.65</td>\n",
       "    </tr>\n",
       "    <tr>\n",
       "      <th>3</th>\n",
       "      <td>Gliders</td>\n",
       "      <td>2880</td>\n",
       "      <td>0.18</td>\n",
       "      <td>518.40</td>\n",
       "    </tr>\n",
       "    <tr>\n",
       "      <th>4</th>\n",
       "      <td>Playing cards</td>\n",
       "      <td>2</td>\n",
       "      <td>1.25</td>\n",
       "      <td>2.50</td>\n",
       "    </tr>\n",
       "    <tr>\n",
       "      <th>5</th>\n",
       "      <td>Popcorn holder</td>\n",
       "      <td>7</td>\n",
       "      <td>0.85</td>\n",
       "      <td>5.95</td>\n",
       "    </tr>\n",
       "    <tr>\n",
       "      <th>6</th>\n",
       "      <td>Alphabet blocks</td>\n",
       "      <td>1</td>\n",
       "      <td>11.95</td>\n",
       "      <td>11.95</td>\n",
       "    </tr>\n",
       "    <tr>\n",
       "      <th>7</th>\n",
       "      <td>Party bunting</td>\n",
       "      <td>4</td>\n",
       "      <td>4.95</td>\n",
       "      <td>19.80</td>\n",
       "    </tr>\n",
       "    <tr>\n",
       "      <th>8</th>\n",
       "      <td>Color Pen</td>\n",
       "      <td>10</td>\n",
       "      <td>0.19</td>\n",
       "      <td>1.90</td>\n",
       "    </tr>\n",
       "    <tr>\n",
       "      <th>9</th>\n",
       "      <td>Paint book</td>\n",
       "      <td>48</td>\n",
       "      <td>1.25</td>\n",
       "      <td>60.00</td>\n",
       "    </tr>\n",
       "  </tbody>\n",
       "</table>\n",
       "</div>"
      ],
      "text/plain": [
       "                      Desc  Quantity  UnitPrice  Revenue\n",
       "0                Lunch bag         1       1.65     1.65\n",
       "1  Vintage leaf cake cases        24       0.55    13.20\n",
       "2      Ribbon reel stripes         1       1.65     1.65\n",
       "3                  Gliders      2880       0.18   518.40\n",
       "4            Playing cards         2       1.25     2.50\n",
       "5           Popcorn holder         7       0.85     5.95\n",
       "6          Alphabet blocks         1      11.95    11.95\n",
       "7            Party bunting         4       4.95    19.80\n",
       "8                Color Pen        10       0.19     1.90\n",
       "9               Paint book        48       1.25    60.00"
      ]
     },
     "execution_count": 29,
     "metadata": {},
     "output_type": "execute_result"
    }
   ],
   "source": [
    "df_dic=pd.DataFrame(products)\n",
    "\n",
    "df_dic"
   ]
  },
  {
   "cell_type": "markdown",
   "id": "77c4d987",
   "metadata": {},
   "source": [
    "## Ejercicio 12\n",
    "\n",
    "Calcula la cantidad (`Quantity`) y beneficio (`Revenue`) totales."
   ]
  },
  {
   "cell_type": "code",
   "execution_count": 30,
   "id": "17db53f0",
   "metadata": {},
   "outputs": [
    {
     "data": {
      "text/plain": [
       "2978"
      ]
     },
     "execution_count": 30,
     "metadata": {},
     "output_type": "execute_result"
    }
   ],
   "source": [
    "df_dic['Quantity'].sum()"
   ]
  },
  {
   "cell_type": "code",
   "execution_count": 31,
   "id": "39e2ecdf",
   "metadata": {},
   "outputs": [
    {
     "data": {
      "text/plain": [
       "637.0"
      ]
     },
     "execution_count": 31,
     "metadata": {},
     "output_type": "execute_result"
    }
   ],
   "source": [
    "df_dic['Revenue'].sum()"
   ]
  },
  {
   "cell_type": "markdown",
   "id": "5a025c21",
   "metadata": {},
   "source": [
    "## Ejercicio 13\n",
    "\n",
    "¿Cuál es el producto más caro?. ¿El más barato?. ¿Y el más vendido?"
   ]
  },
  {
   "cell_type": "code",
   "execution_count": 58,
   "id": "f0e544a5",
   "metadata": {},
   "outputs": [
    {
     "data": {
      "text/plain": [
       "6    Alphabet blocks\n",
       "Name: Desc, dtype: object"
      ]
     },
     "execution_count": 58,
     "metadata": {},
     "output_type": "execute_result"
    }
   ],
   "source": [
    "df_dic['Desc'][df_dic['UnitPrice']==df_dic['UnitPrice'].max()]"
   ]
  },
  {
   "cell_type": "code",
   "execution_count": 54,
   "id": "e12dd009",
   "metadata": {},
   "outputs": [
    {
     "data": {
      "text/plain": [
       "pandas.core.series.Series"
      ]
     },
     "execution_count": 54,
     "metadata": {},
     "output_type": "execute_result"
    }
   ],
   "source": [
    "type(df_dic['Desc'][df_dic['UnitPrice']==df_dic['UnitPrice'].max()])"
   ]
  },
  {
   "cell_type": "code",
   "execution_count": 53,
   "id": "85ea2f59",
   "metadata": {},
   "outputs": [
    {
     "data": {
      "text/plain": [
       "'Alphabet blocks'"
      ]
     },
     "execution_count": 53,
     "metadata": {},
     "output_type": "execute_result"
    }
   ],
   "source": [
    "df_dic.loc[df_dic['UnitPrice'].idxmax(), 'Desc']"
   ]
  },
  {
   "cell_type": "code",
   "execution_count": 55,
   "id": "ca4d3d96",
   "metadata": {},
   "outputs": [
    {
     "data": {
      "text/plain": [
       "str"
      ]
     },
     "execution_count": 55,
     "metadata": {},
     "output_type": "execute_result"
    }
   ],
   "source": [
    "type(df_dic.loc[df_dic['UnitPrice'].idxmax(), 'Desc'])"
   ]
  },
  {
   "cell_type": "code",
   "execution_count": 44,
   "id": "fdf77c1b",
   "metadata": {},
   "outputs": [
    {
     "data": {
      "text/html": [
       "<div>\n",
       "<style scoped>\n",
       "    .dataframe tbody tr th:only-of-type {\n",
       "        vertical-align: middle;\n",
       "    }\n",
       "\n",
       "    .dataframe tbody tr th {\n",
       "        vertical-align: top;\n",
       "    }\n",
       "\n",
       "    .dataframe thead th {\n",
       "        text-align: right;\n",
       "    }\n",
       "</style>\n",
       "<table border=\"1\" class=\"dataframe\">\n",
       "  <thead>\n",
       "    <tr style=\"text-align: right;\">\n",
       "      <th></th>\n",
       "      <th>Desc</th>\n",
       "      <th>Quantity</th>\n",
       "      <th>UnitPrice</th>\n",
       "      <th>Revenue</th>\n",
       "    </tr>\n",
       "  </thead>\n",
       "  <tbody>\n",
       "    <tr>\n",
       "      <th>3</th>\n",
       "      <td>Gliders</td>\n",
       "      <td>2880</td>\n",
       "      <td>0.18</td>\n",
       "      <td>518.4</td>\n",
       "    </tr>\n",
       "  </tbody>\n",
       "</table>\n",
       "</div>"
      ],
      "text/plain": [
       "      Desc  Quantity  UnitPrice  Revenue\n",
       "3  Gliders      2880       0.18    518.4"
      ]
     },
     "execution_count": 44,
     "metadata": {},
     "output_type": "execute_result"
    }
   ],
   "source": [
    "df_dic[df_dic['UnitPrice']==df_dic['UnitPrice'].min()]"
   ]
  },
  {
   "cell_type": "code",
   "execution_count": 45,
   "id": "ca605fcc",
   "metadata": {},
   "outputs": [
    {
     "data": {
      "text/html": [
       "<div>\n",
       "<style scoped>\n",
       "    .dataframe tbody tr th:only-of-type {\n",
       "        vertical-align: middle;\n",
       "    }\n",
       "\n",
       "    .dataframe tbody tr th {\n",
       "        vertical-align: top;\n",
       "    }\n",
       "\n",
       "    .dataframe thead th {\n",
       "        text-align: right;\n",
       "    }\n",
       "</style>\n",
       "<table border=\"1\" class=\"dataframe\">\n",
       "  <thead>\n",
       "    <tr style=\"text-align: right;\">\n",
       "      <th></th>\n",
       "      <th>Desc</th>\n",
       "      <th>Quantity</th>\n",
       "      <th>UnitPrice</th>\n",
       "      <th>Revenue</th>\n",
       "    </tr>\n",
       "  </thead>\n",
       "  <tbody>\n",
       "    <tr>\n",
       "      <th>3</th>\n",
       "      <td>Gliders</td>\n",
       "      <td>2880</td>\n",
       "      <td>0.18</td>\n",
       "      <td>518.4</td>\n",
       "    </tr>\n",
       "  </tbody>\n",
       "</table>\n",
       "</div>"
      ],
      "text/plain": [
       "      Desc  Quantity  UnitPrice  Revenue\n",
       "3  Gliders      2880       0.18    518.4"
      ]
     },
     "execution_count": 45,
     "metadata": {},
     "output_type": "execute_result"
    }
   ],
   "source": [
    "df_dic[df_dic['Quantity']==df_dic['Quantity'].max()]"
   ]
  },
  {
   "cell_type": "code",
   "execution_count": 60,
   "id": "cf2a0e89",
   "metadata": {},
   "outputs": [],
   "source": [
    "df.index=[i for i in range(0, 2*len(df), 2)]"
   ]
  },
  {
   "cell_type": "code",
   "execution_count": 71,
   "id": "5a0eeefc",
   "metadata": {},
   "outputs": [
    {
     "name": "stdout",
     "output_type": "stream",
     "text": [
      "Rate_1    0.179180\n",
      "Rate_2    0.504525\n",
      "Rate_3    0.994529\n",
      "Rate_4    0.699572\n",
      "Rate_5    0.823671\n",
      "Name: 0, dtype: float64\n",
      "no\n",
      "Rate_1    0.741905\n",
      "Rate_2    0.057045\n",
      "Rate_3    0.674698\n",
      "Rate_4    0.604952\n",
      "Rate_5    0.510305\n",
      "Name: 2, dtype: float64\n",
      "no\n",
      "Rate_1    0.555044\n",
      "Rate_2    0.998767\n",
      "Rate_3    0.386117\n",
      "Rate_4    0.253481\n",
      "Rate_5    0.620555\n",
      "Name: 4, dtype: float64\n",
      "no\n",
      "Rate_1    0.161415\n",
      "Rate_2    0.591745\n",
      "Rate_3    0.751951\n",
      "Rate_4    0.053357\n",
      "Rate_5    0.068240\n",
      "Name: 6, dtype: float64\n",
      "no\n",
      "Rate_1    0.487710\n",
      "Rate_2    0.997362\n",
      "Rate_3    0.018121\n",
      "Rate_4    0.179455\n",
      "Rate_5    0.690935\n",
      "Name: 8, dtype: float64\n",
      "no\n"
     ]
    }
   ],
   "source": [
    "for i in range(len(df)):\n",
    "    try:\n",
    "        print(df.loc[i])\n",
    "    except:\n",
    "        print('no')"
   ]
  },
  {
   "cell_type": "code",
   "execution_count": 69,
   "id": "4a827b85",
   "metadata": {},
   "outputs": [
    {
     "data": {
      "text/plain": [
       "Rate_1    0.179180\n",
       "Rate_2    0.504525\n",
       "Rate_3    0.994529\n",
       "Rate_4    0.699572\n",
       "Rate_5    0.823671\n",
       "Name: 0, dtype: float64"
      ]
     },
     "execution_count": 69,
     "metadata": {},
     "output_type": "execute_result"
    }
   ],
   "source": [
    "df.loc[0]"
   ]
  },
  {
   "cell_type": "code",
   "execution_count": null,
   "id": "39c4ae93",
   "metadata": {},
   "outputs": [],
   "source": []
  }
 ],
 "metadata": {
  "kernelspec": {
   "display_name": "clase",
   "language": "python",
   "name": "clase"
  },
  "language_info": {
   "codemirror_mode": {
    "name": "ipython",
    "version": 3
   },
   "file_extension": ".py",
   "mimetype": "text/x-python",
   "name": "python",
   "nbconvert_exporter": "python",
   "pygments_lexer": "ipython3",
   "version": "3.8.8"
  }
 },
 "nbformat": 4,
 "nbformat_minor": 5
}
