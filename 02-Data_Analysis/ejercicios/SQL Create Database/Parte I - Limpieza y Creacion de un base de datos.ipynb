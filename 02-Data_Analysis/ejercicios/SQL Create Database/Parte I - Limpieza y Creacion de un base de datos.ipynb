{
 "cells": [
  {
   "cell_type": "markdown",
   "id": "a7d159f6",
   "metadata": {},
   "source": [
    "# Parte I - Limpieza y Creación de un base de datos\n",
    "\n",
    "![ejercicios](img/ejercicios.png)"
   ]
  },
  {
   "cell_type": "markdown",
   "id": "eed7983c",
   "metadata": {},
   "source": [
    "# 1 - Exploración y limpieza.\n",
    "\n",
    "En la carpeta `data` de este ejercicio hay 8 archivos csv. Cada uno de ellos corresponde a una entidad de una base de datos que pertenece a una compañia de compra-venta de automóviles clásicos. Estas son: `customers`, `employees`, `offices`, `orderdetails`, `orders`, `payments`, `productlines` y `products`.\n",
    "\n",
    "La primera tarea consiste en explorar los datos y realizar la limpieza si fuera necesario. ¿Existen nulos?.¿Cuales son las columnas?. ¿Existe relación entre las distintas tablas?"
   ]
  },
  {
   "cell_type": "code",
   "execution_count": null,
   "id": "5d3892e3",
   "metadata": {},
   "outputs": [],
   "source": []
  },
  {
   "cell_type": "code",
   "execution_count": null,
   "id": "f4a31792",
   "metadata": {},
   "outputs": [],
   "source": []
  },
  {
   "cell_type": "code",
   "execution_count": null,
   "id": "f13294ab",
   "metadata": {},
   "outputs": [],
   "source": []
  },
  {
   "cell_type": "code",
   "execution_count": null,
   "id": "6ab736bd",
   "metadata": {},
   "outputs": [],
   "source": []
  },
  {
   "cell_type": "code",
   "execution_count": null,
   "id": "b4671b7a",
   "metadata": {},
   "outputs": [],
   "source": []
  },
  {
   "cell_type": "code",
   "execution_count": null,
   "id": "f5a8b366",
   "metadata": {},
   "outputs": [],
   "source": []
  },
  {
   "cell_type": "code",
   "execution_count": null,
   "id": "7b2f553d",
   "metadata": {},
   "outputs": [],
   "source": []
  },
  {
   "cell_type": "code",
   "execution_count": null,
   "id": "39a28094",
   "metadata": {},
   "outputs": [],
   "source": []
  },
  {
   "cell_type": "code",
   "execution_count": null,
   "id": "909952e7",
   "metadata": {},
   "outputs": [],
   "source": []
  },
  {
   "cell_type": "code",
   "execution_count": null,
   "id": "30a4637e",
   "metadata": {},
   "outputs": [],
   "source": []
  },
  {
   "cell_type": "code",
   "execution_count": null,
   "id": "9f1d2cd7",
   "metadata": {},
   "outputs": [],
   "source": []
  },
  {
   "cell_type": "markdown",
   "id": "29aff8df",
   "metadata": {},
   "source": [
    "# 2 - Diagrama Entidades-Relaciones (ERD).\n",
    "\n",
    "![erd](img/erd.png)\n",
    "\n",
    "\n",
    "Una vez que se han explorado los datos y están limpios, procedemos a crear la estructura de la base de datos. Primero se crea una base de datos vacía y después se diseña la estructura de la base de datos con el diagrama de entidades-relaciones (ERD). \n",
    "\n",
    "Con el diseño del diagrama, podemos obtener una query que, cuando se ejecuta, genera la estructura de tablas y relaciones de la base de datos."
   ]
  },
  {
   "cell_type": "code",
   "execution_count": null,
   "id": "5e892aa0",
   "metadata": {},
   "outputs": [],
   "source": [
    "# Ejemplo de ERD"
   ]
  },
  {
   "cell_type": "markdown",
   "id": "fa81db2e",
   "metadata": {},
   "source": [
    "# 3 - Inserción de datos\n",
    "\n",
    "Ahora que tenemos la base de datos creada y con su estructura diseñada, se procede a insertar los datos. Pasamos los datos de los archivos `.csv` a nuestra base de datos `SQL`."
   ]
  },
  {
   "cell_type": "code",
   "execution_count": null,
   "id": "ddc071b1",
   "metadata": {},
   "outputs": [],
   "source": []
  },
  {
   "cell_type": "code",
   "execution_count": null,
   "id": "b1e7e114",
   "metadata": {},
   "outputs": [],
   "source": []
  },
  {
   "cell_type": "code",
   "execution_count": null,
   "id": "3f2479cc",
   "metadata": {},
   "outputs": [],
   "source": []
  },
  {
   "cell_type": "code",
   "execution_count": null,
   "id": "9a9d362f",
   "metadata": {},
   "outputs": [],
   "source": []
  },
  {
   "cell_type": "code",
   "execution_count": null,
   "id": "7ce27dcf",
   "metadata": {},
   "outputs": [],
   "source": []
  }
 ],
 "metadata": {
  "kernelspec": {
   "display_name": "clase",
   "language": "python",
   "name": "clase"
  },
  "language_info": {
   "codemirror_mode": {
    "name": "ipython",
    "version": 3
   },
   "file_extension": ".py",
   "mimetype": "text/x-python",
   "name": "python",
   "nbconvert_exporter": "python",
   "pygments_lexer": "ipython3",
   "version": "3.8.8"
  }
 },
 "nbformat": 4,
 "nbformat_minor": 5
}
