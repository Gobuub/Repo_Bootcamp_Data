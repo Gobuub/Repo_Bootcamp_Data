{
 "cells": [
  {
   "cell_type": "markdown",
   "id": "64f27926-dd51-4c3a-8fbe-ac193f922a6a",
   "metadata": {},
   "source": [
    "<div style=\"text-align:center\"><img src=\"./images/functions.png\" /></div>"
   ]
  },
  {
   "cell_type": "markdown",
   "id": "a272d497-5aa8-47f5-bae8-969699f2fa23",
   "metadata": {},
   "source": [
    "<a href=\"00_cover_page.ipynb\"><p style=\"text-align:right;\" href=\"00_cover_page.ipynb\">Back To Cover Page</p></a> "
   ]
  },
  {
   "cell_type": "markdown",
   "id": "fee9d3d0-84b2-4194-8b71-0502c6c496ee",
   "metadata": {},
   "source": [
    "<a id = \"idx6\"></a>\n",
    "<a href=\"05_loops.ipynb\"><p style=\"text-align:left;\" href=\"05_loops.ipynb\">Back - 5. Loops </p></a></div>\n",
    "#### Index\n",
    "- [6. Functions (I)](#6.)\n",
    "    + [6.1. Built-in functions](#6.1.)\n",
    "    + [6.2. User-defined functions](#6.2.)\n",
    "        * [6.2.1. \\*args](#6.2.1.)\n",
    "        * [6.2.2. \\*\\*kwargs](#6.2.2.)"
   ]
  },
  {
   "cell_type": "markdown",
   "id": "e5e6395e-2941-4cdf-b5ed-077f06ba43bc",
   "metadata": {},
   "source": [
    "<a id = \"6.\"></a>\n",
    "<a href=\"#idx6\"><p style=\"text-align:right;\" href=\"#idx6\">Back To Index</p></a> \n",
    "# 6. Functions (I)"
   ]
  },
  {
   "cell_type": "markdown",
   "id": "74ed0a07-1703-4395-a649-3f2460d985fb",
   "metadata": {},
   "source": [
    "- A function is a block of organized code written to carry out a specified task.\n",
    "- Functions help break our program into smaller and modular chunks for better readability.\n",
    "- Information can be passed into a function as arguments.\n",
    "- Parameters are specified after the function name inside the parentheses.\n",
    "- We can add as many parameters as we want. Parameters must be separated with a comma.\n",
    "- A function may or may not return data.\n",
    "- In Python a function is defined using the  `def` keyword\n",
    "- A parameter is the variable listed inside the parentheses in the function definition.\n",
    "- An argument is the value that is sent to the function when it is called."
   ]
  },
  {
   "cell_type": "markdown",
   "id": "609d0bae-a666-48d2-ae91-974bf7843f68",
   "metadata": {},
   "source": [
    "<a id = \"6.1.\"></a>\n",
    "<a href=\"#idx6\"><p style=\"text-align:right;\" href=\"#idx6\">Back To Index</p></a> \n",
    "## 6.1. Built-in functions"
   ]
  },
  {
   "cell_type": "markdown",
   "id": "179bbdf6-094b-4451-9184-c856523230ce",
   "metadata": {},
   "source": [
    "We can see a list of builts-in [here](https://www.w3schools.com/python/python_ref_functions.asp). Through the course we have been seen different built-in functions as `zip()`, `len()` among others. So a built-in is a function inside Python to do some calculation."
   ]
  },
  {
   "cell_type": "code",
   "execution_count": 1,
   "id": "f3896c89-4745-41a4-b20b-f41c8d687431",
   "metadata": {},
   "outputs": [
    {
     "data": {
      "text/plain": [
       "150"
      ]
     },
     "execution_count": 1,
     "metadata": {},
     "output_type": "execute_result"
    }
   ],
   "source": [
    "numbers = [10, 20, 30, 40, 50]\n",
    "sum(numbers)  # we can sum iterables"
   ]
  },
  {
   "cell_type": "code",
   "execution_count": 4,
   "id": "8246a0b9-69e5-4389-b660-f5e1386194c5",
   "metadata": {},
   "outputs": [
    {
     "data": {
      "text/plain": [
       "False"
      ]
     },
     "execution_count": 4,
     "metadata": {},
     "output_type": "execute_result"
    }
   ],
   "source": [
    "any([False, False, False])  # Check whether there are one True or not"
   ]
  },
  {
   "cell_type": "code",
   "execution_count": 5,
   "id": "50d73fe4-6468-43eb-beb2-5307974db64a",
   "metadata": {},
   "outputs": [
    {
     "data": {
      "text/plain": [
       "True"
      ]
     },
     "execution_count": 5,
     "metadata": {},
     "output_type": "execute_result"
    }
   ],
   "source": [
    "any([False, False, True])"
   ]
  },
  {
   "cell_type": "code",
   "execution_count": 8,
   "id": "e17705a4-0f8f-4369-9b0d-38b91b8d1bf1",
   "metadata": {},
   "outputs": [
    {
     "name": "stdout",
     "output_type": "stream",
     "text": [
      "False\n",
      "False\n",
      "True\n"
     ]
    }
   ],
   "source": [
    "print(all([False, False, False]))  # Check if all elements are True\n",
    "print(all([False, True, True]))\n",
    "print(all([True, True, True]))"
   ]
  },
  {
   "cell_type": "code",
   "execution_count": 9,
   "id": "e771740a-d11c-40e8-9d4d-83e9d98bb1eb",
   "metadata": {},
   "outputs": [
    {
     "data": {
      "text/plain": [
       "4"
      ]
     },
     "execution_count": 9,
     "metadata": {},
     "output_type": "execute_result"
    }
   ],
   "source": [
    "abs(-4)"
   ]
  },
  {
   "cell_type": "code",
   "execution_count": 10,
   "id": "eb3b47e1-a1b4-48cc-b968-047a61306335",
   "metadata": {},
   "outputs": [
    {
     "data": {
      "text/plain": [
       "(True, False)"
      ]
     },
     "execution_count": 10,
     "metadata": {},
     "output_type": "execute_result"
    }
   ],
   "source": [
    "isinstance(4, int), isinstance(\"Hello\", list)"
   ]
  },
  {
   "cell_type": "code",
   "execution_count": 12,
   "id": "9de92871-1cf9-48eb-b4dc-6b66ffd5eb5a",
   "metadata": {},
   "outputs": [
    {
     "name": "stdout",
     "output_type": "stream",
     "text": [
      "8400\n"
     ]
    }
   ],
   "source": [
    "code = \"NEW_VARIABLE = 56; print(sum(numbers) * NEW_VARIABLE)\"\n",
    "exec(code)"
   ]
  },
  {
   "cell_type": "code",
   "execution_count": 13,
   "id": "0f16c93b-8306-438f-8d67-fbf466cf9159",
   "metadata": {},
   "outputs": [
    {
     "data": {
      "text/plain": [
       "56"
      ]
     },
     "execution_count": 13,
     "metadata": {},
     "output_type": "execute_result"
    }
   ],
   "source": [
    "NEW_VARIABLE"
   ]
  },
  {
   "cell_type": "markdown",
   "id": "4549105b-b289-471b-bc2c-fea86defe1d0",
   "metadata": {},
   "source": [
    "#### Exercise 6.1.\n",
    "Calculate the max and the minumun value from the given list:\n",
    "```python\n",
    "lis = [1, 2, 4, 64, 8, 3, 1, 45, 7, 1, 7, 65, 10]\n",
    "```"
   ]
  },
  {
   "cell_type": "markdown",
   "id": "f0ec4bd9-2cf1-468c-8c93-99ee9d2d5574",
   "metadata": {},
   "source": [
    "<a id = \"6.2.\"></a>\n",
    "<a href=\"#idx6\"><p style=\"text-align:right;\" href=\"#idx6\">Back To Index</p></a> \n",
    "## 6.2. User-defined functions"
   ]
  },
  {
   "cell_type": "markdown",
   "id": "a029baf8-ad25-4760-98b9-0234d9960839",
   "metadata": {},
   "source": [
    "These functions are created by us"
   ]
  },
  {
   "cell_type": "markdown",
   "id": "0560431e-2f83-45ec-bdfa-dddc58f99121",
   "metadata": {},
   "source": [
    "```python\n",
    "# Theory\n",
    "def function_name(parameter):\n",
    "    \"\"\"Docstring\"\"\"\n",
    "    # code\n",
    "    return # something\n",
    "```"
   ]
  },
  {
   "cell_type": "code",
   "execution_count": 2,
   "id": "4efd8594-6657-4160-b161-077fc40a3bd5",
   "metadata": {},
   "outputs": [
    {
     "data": {
      "text/plain": [
       "2.3333333333333335"
      ]
     },
     "execution_count": 2,
     "metadata": {},
     "output_type": "execute_result"
    }
   ],
   "source": [
    "def mean(l):\n",
    "    return sum(l)/len(l)\n",
    "\n",
    "x = [1, 2, 4]\n",
    "m = mean(x)\n",
    "m"
   ]
  },
  {
   "cell_type": "code",
   "execution_count": 3,
   "id": "b38e01c6-877d-40c6-b2a7-7b2ba4317a80",
   "metadata": {},
   "outputs": [
    {
     "data": {
      "text/plain": [
       "2.0"
      ]
     },
     "execution_count": 3,
     "metadata": {},
     "output_type": "execute_result"
    }
   ],
   "source": [
    "# More elegant solution\n",
    "def mean(l):\n",
    "    \"\"\"Calculate the mean of a list of numbers.\n",
    "    \n",
    "    Use the built-in functions in Python to calculate the \n",
    "    mean of a list.\n",
    "    \n",
    "    Parameters\n",
    "    ----------\n",
    "        l list:\n",
    "            List of elements, each element must be numeric.\n",
    "    \n",
    "    Returns\n",
    "    -------\n",
    "        float:\n",
    "            result of the mean calculation.\n",
    "    \n",
    "    Example\n",
    "    -------\n",
    "        mean([1, 2, 3])\n",
    "        >> 2.0\n",
    "    \"\"\"\n",
    "    # Perform the sum\n",
    "    summa = sum(l)\n",
    "    \n",
    "    # Calculate the length of a list\n",
    "    length = len(l)\n",
    "    \n",
    "    # Calculate the mean\n",
    "    mean = summa / length\n",
    "    return mean\n",
    "\n",
    "x = [1, 2, 3]\n",
    "m = mean(x)\n",
    "m"
   ]
  },
  {
   "cell_type": "markdown",
   "id": "90d4f04e-a5a3-4f3a-841b-46a3d45dc618",
   "metadata": {},
   "source": [
    "Docstring is used to document the function. This is a important part of coding becasue it's quite common to start developing something that in a future you will not know how it works besides it is a good way to share the code easily."
   ]
  },
  {
   "cell_type": "code",
   "execution_count": 6,
   "id": "120bede9-da8c-46f2-888f-98f268f7f114",
   "metadata": {},
   "outputs": [
    {
     "name": "stdout",
     "output_type": "stream",
     "text": [
      "Calculate the mean of a list of numbers.\n",
      "    \n",
      "    Use the built-in functions in Python to calculate the \n",
      "    mean of a list.\n",
      "    \n",
      "    Parameters\n",
      "    ----------\n",
      "        l list:\n",
      "            List of elements, each element must be numeric.\n",
      "    \n",
      "    Returns\n",
      "    -------\n",
      "        float:\n",
      "            result of the mean calculation.\n",
      "    \n",
      "    Example\n",
      "    -------\n",
      "        mean([1, 2, 3])\n",
      "        >> 2.0\n",
      "    \n"
     ]
    }
   ],
   "source": [
    "print(mean.__doc__)"
   ]
  },
  {
   "cell_type": "markdown",
   "id": "32543fe1-ce26-4de1-be24-111f8b0cb63a",
   "metadata": {},
   "source": [
    "You can read more about typing in python and documenting functions [here](https://realpython.com/python-type-checking/) or [here](https://docs.python.org/3/library/typing.html)."
   ]
  },
  {
   "cell_type": "markdown",
   "id": "addb08e7-6f61-47e5-9ae3-ccd3db60daf7",
   "metadata": {},
   "source": [
    "A good way to document a functios is as follow:\n",
    "```python\n",
    "def f(p1, p2):\n",
    "    \"\"\"First short line summarizing the function.\n",
    "    \n",
    "    A more robust description of what use and what is doing\n",
    "    the user defined function in order to clarify its behaviour.\n",
    "    \n",
    "    Parameters\n",
    "    ----------\n",
    "        p1 <optional: type>:\n",
    "            description of the parameter\n",
    "        ...\n",
    "    \n",
    "    Returns\n",
    "    -------\n",
    "        type of the return:\n",
    "            description\n",
    "    \n",
    "    Example  <- this is optional\n",
    "    -------\n",
    "        example of execution\n",
    "    \"\"\"\n",
    "    ...\n",
    "```"
   ]
  },
  {
   "cell_type": "code",
   "execution_count": 8,
   "id": "46490e10-4f4e-4d6a-9af8-02cceff40653",
   "metadata": {},
   "outputs": [
    {
     "data": {
      "text/plain": [
       "'STOP!'"
      ]
     },
     "execution_count": 8,
     "metadata": {},
     "output_type": "execute_result"
    }
   ],
   "source": [
    "# A function could not have any parameters.\n",
    "def stop():\n",
    "    \"\"\"This gives us a stop message.\n",
    "    \n",
    "    Returns\n",
    "    -------\n",
    "        str:\n",
    "            stop message\n",
    "    \"\"\"\n",
    "    return \"STOP!\"\n",
    "\n",
    "stop()"
   ]
  },
  {
   "cell_type": "code",
   "execution_count": 9,
   "id": "12af0ac6-8397-4728-912f-1160e176de3e",
   "metadata": {},
   "outputs": [
    {
     "data": {
      "text/plain": [
       "True"
      ]
     },
     "execution_count": 9,
     "metadata": {},
     "output_type": "execute_result"
    }
   ],
   "source": [
    "# Or could have multiple parameters\n",
    "def check_password(ddbb_pass, input_pass):\n",
    "    \"\"\"This function check the given password with the associated with the user.\n",
    "    \n",
    "    This function check if two string are the same and returs a boolean of True\n",
    "    whether the passwords are the same or False whether not.\n",
    "    \n",
    "    Parameters\n",
    "    ----------\n",
    "        ddbb_pass str:\n",
    "            Password in the data base associated with the given user.\n",
    "        \n",
    "        input_pass str:\n",
    "            Password given in the webpage.\n",
    "    \n",
    "    Returns\n",
    "    -------\n",
    "        bool:\n",
    "            True if both passwords are the same, False if not.\n",
    "    \n",
    "    Example\n",
    "    -------\n",
    "        check_password(\"pepe\", \"PEPE\")\n",
    "        >> False\n",
    "        \n",
    "        check_password(\"H3110w0r1D\", \"H3110w0r1D\")\n",
    "        >> True\n",
    "    \"\"\"\n",
    "    return ddbb_pass == input_pass\n",
    "\n",
    "check_password(\"H3110w0r1D\", \"H3110w0r1D\")"
   ]
  },
  {
   "cell_type": "markdown",
   "id": "6741c713-3339-44b2-a6e3-acc404fb09aa",
   "metadata": {},
   "source": [
    "Inside a function we can use global variables however, we cannot use variables from a function outside of one."
   ]
  },
  {
   "cell_type": "code",
   "execution_count": 10,
   "id": "3ae68b49-efc8-455b-9050-53dd0b6485ad",
   "metadata": {},
   "outputs": [
    {
     "data": {
      "text/plain": [
       "54.0"
      ]
     },
     "execution_count": 10,
     "metadata": {},
     "output_type": "execute_result"
    }
   ],
   "source": [
    "MONTH_AVG = 4.5\n",
    "\n",
    "def total():\n",
    "    n_months = 12\n",
    "    return MONTH_AVG * n_months\n",
    "\n",
    "total()"
   ]
  },
  {
   "cell_type": "code",
   "execution_count": 11,
   "id": "d8270543-75c5-49ad-8689-b73115a65ad4",
   "metadata": {},
   "outputs": [
    {
     "ename": "NameError",
     "evalue": "name 'n_months' is not defined",
     "output_type": "error",
     "traceback": [
      "\u001b[1;31m---------------------------------------------------------------------------\u001b[0m",
      "\u001b[1;31mNameError\u001b[0m                                 Traceback (most recent call last)",
      "\u001b[1;32m<ipython-input-11-d135869bdfbe>\u001b[0m in \u001b[0;36m<module>\u001b[1;34m\u001b[0m\n\u001b[1;32m----> 1\u001b[1;33m \u001b[0mn_months\u001b[0m\u001b[1;33m\u001b[0m\u001b[1;33m\u001b[0m\u001b[0m\n\u001b[0m",
      "\u001b[1;31mNameError\u001b[0m: name 'n_months' is not defined"
     ]
    }
   ],
   "source": [
    "n_months"
   ]
  },
  {
   "cell_type": "code",
   "execution_count": 15,
   "id": "b6c6b9ce-874d-4997-9b05-0e5e715f7a05",
   "metadata": {},
   "outputs": [
    {
     "name": "stdout",
     "output_type": "stream",
     "text": [
      "Guau!Guau!\n"
     ]
    }
   ],
   "source": [
    "# A function could not have a return\n",
    "def print_msg(msg):\n",
    "    print(msg * 2)\n",
    "    \n",
    "print_msg(\"Guau!\")"
   ]
  },
  {
   "cell_type": "code",
   "execution_count": 14,
   "id": "f65d21ef-44ed-4f35-b8ce-9eca04ad2bcb",
   "metadata": {},
   "outputs": [
    {
     "name": "stdout",
     "output_type": "stream",
     "text": [
      "Guau!Guau!\n"
     ]
    },
    {
     "data": {
      "text/plain": [
       "NoneType"
      ]
     },
     "execution_count": 14,
     "metadata": {},
     "output_type": "execute_result"
    }
   ],
   "source": [
    "type(print_msg(\"Guau!\"))"
   ]
  },
  {
   "cell_type": "code",
   "execution_count": 19,
   "id": "9db3bb7f-89b5-42fa-8685-906f6fbd29e9",
   "metadata": {},
   "outputs": [
    {
     "name": "stdout",
     "output_type": "stream",
     "text": [
      "your order will arrive in 2 working days from 11-06-2021 None\n",
      "your order will arrive in 5 working days from 11-06-2021 Sorry for the delay.\n"
     ]
    }
   ],
   "source": [
    "# We can specify a parameter with a default argument.\n",
    "def shop_online(order_id, order_date, is_incident=False):  # parameters with default values should be at the end of parameters.\n",
    "    \"\"\"Check if an order will have a delay.\n",
    "    \n",
    "    Parameters\n",
    "    ----------\n",
    "        order_id str:\n",
    "            unique id od the order.\n",
    "        \n",
    "        order_date str:\n",
    "            day of the order in format yyyy-mm-dd.\n",
    "        \n",
    "        is_incident bool:\n",
    "            Boolean about whether there are an incident with the order.\n",
    "            By default is False.\n",
    "    \n",
    "    Returns\n",
    "    -------\n",
    "        tuple:\n",
    "            tuple of two elements, first one is the message and second one\n",
    "            is an aditional message.\n",
    "    \"\"\"\n",
    "    if is_incident:\n",
    "        ret = (f\"your order will arrive in 5 working days from {order_date}\", \"Sorry for the delay.\")\n",
    "    else:\n",
    "        ret = (f\"your order will arrive in 2 working days from {order_date}\", None)\n",
    "        \n",
    "    return ret\n",
    "\n",
    "m1, aux1 = shop_online(\"11\", \"11-06-2021\")\n",
    "m2, aux2 = shop_online(\"11\", \"11-06-2021\", True)\n",
    "\n",
    "print(m1, aux1)\n",
    "print(m2, aux2)"
   ]
  },
  {
   "cell_type": "markdown",
   "id": "3abb8408-67af-4982-a3f0-ceb8101df1e5",
   "metadata": {},
   "source": [
    "#### Exercise 6.2.\n",
    "Create a function to calculate the roots of an ecuation of second order"
   ]
  },
  {
   "cell_type": "markdown",
   "id": "6bf1004c-3d02-42b7-8828-e3a9db02d7f6",
   "metadata": {},
   "source": [
    "#### Exercise 6.3.\n",
    "Write a function to transfor numbers into Monday, Tuesday ..."
   ]
  },
  {
   "cell_type": "markdown",
   "id": "77d4eba8-58e3-4af5-a143-544af2e88c8d",
   "metadata": {},
   "source": [
    "<a id = \"6.2.1.\"></a>\n",
    "<a href=\"#idx6\"><p style=\"text-align:right;\" href=\"#idx6\">Back To Index</p></a> \n",
    "### 6.2.1. \\*args"
   ]
  },
  {
   "cell_type": "markdown",
   "id": "0d2f105d-f1be-4b13-9d42-150c575bd560",
   "metadata": {},
   "source": [
    "- When we are not sure about the number of arguments being passed to a function then we can use \\*args as function parameter.\n",
    "- \\*args allow us to pass the variable number of Non Keyword Arguments to function.\n",
    "- We can simply use an asterisk * before the parameter name to pass variable length arguments.\n",
    "- The arguments are always passed as a tuple.\n",
    "- We can rename it to anything as long as it is preceded by a single asterisk (\\*). It's best practice to keep naming it args to make it immediately recognizable.\n"
   ]
  },
  {
   "cell_type": "code",
   "execution_count": 20,
   "id": "0f50c1f6-f069-41ef-9309-f6aaf837cbda",
   "metadata": {},
   "outputs": [
    {
     "data": {
      "text/plain": [
       "(3, 75)"
      ]
     },
     "execution_count": 20,
     "metadata": {},
     "output_type": "execute_result"
    }
   ],
   "source": [
    "def add(*args):\n",
    "    return sum(args)\n",
    "\n",
    "add(1, 2), add(67, 7, 1)"
   ]
  },
  {
   "cell_type": "code",
   "execution_count": 21,
   "id": "61aec6be-4942-48e5-aebd-26b6c6b12d51",
   "metadata": {},
   "outputs": [],
   "source": [
    "l1, l2 = [1, 3, 4], [87, 9]"
   ]
  },
  {
   "cell_type": "code",
   "execution_count": 23,
   "id": "f299ef53-f601-4092-a02e-e1c9a1a6f771",
   "metadata": {},
   "outputs": [
    {
     "data": {
      "text/plain": [
       "104"
      ]
     },
     "execution_count": 23,
     "metadata": {},
     "output_type": "execute_result"
    }
   ],
   "source": [
    "add(*l1, *l2)"
   ]
  },
  {
   "cell_type": "code",
   "execution_count": 25,
   "id": "63e7c3a3-08a7-480b-b720-9dc4ac1a30b6",
   "metadata": {},
   "outputs": [
    {
     "data": {
      "text/plain": [
       "6"
      ]
     },
     "execution_count": 25,
     "metadata": {},
     "output_type": "execute_result"
    }
   ],
   "source": [
    "def add_numbers(*args):\n",
    "    ret = 0\n",
    "    for a in args:\n",
    "        if isinstance(a, float) or isinstance(a, int):\n",
    "            ret += a\n",
    "        else:\n",
    "            continue\n",
    "    return ret\n",
    "\n",
    "add_numbers(\"uno\", 1, 2, 3, \"ochenta\")"
   ]
  },
  {
   "cell_type": "markdown",
   "id": "9ea05e8c-4884-4bed-99bb-a44cbe850e55",
   "metadata": {},
   "source": [
    "#### Exercise 6.4.\n",
    "Write a function to calculate the range of an arbitrary list of number using `*args`."
   ]
  },
  {
   "cell_type": "markdown",
   "id": "1621f6fa-87c0-4ec9-92c9-d44158e67b5e",
   "metadata": {},
   "source": [
    "<a id = \"6.2.2.\"></a>\n",
    "<a href=\"#idx6\"><p style=\"text-align:right;\" href=\"#idx6\">Back To Index</p></a> \n",
    "### 6.2.2. \\*\\*kwargs"
   ]
  },
  {
   "cell_type": "markdown",
   "id": "2160ae3e-8174-487b-9fcd-e565224f409a",
   "metadata": {},
   "source": [
    "- \\*\\*kwargs allows us to pass the variable number of Keyword Arguments to the function.\n",
    "- We can simply use an double asterisk \\*\\* before the parameter name to pass variable length arguments.\n",
    "- The arguments are passed as a dictionary.\n",
    "- We can rename it to anything as long as it is preceded by a double asterisk (\\*\\*). It's best practice to keep naming it kwargs to make it immediately recognizable."
   ]
  },
  {
   "cell_type": "code",
   "execution_count": 26,
   "id": "d9bfb510-4e89-48e1-969d-85d3b7501664",
   "metadata": {},
   "outputs": [
    {
     "name": "stdout",
     "output_type": "stream",
     "text": [
      "name: Esteban\n",
      "age: 27\n",
      "country: Spain\n"
     ]
    }
   ],
   "source": [
    "def user_details(**kwargs):\n",
    "    for key,val in kwargs.items():\n",
    "        print(f\"{key}: {val}\")\n",
    "\n",
    "user_details(name=\"Esteban\", age=27, country=\"Spain\")"
   ]
  },
  {
   "cell_type": "markdown",
   "id": "61dcdf83-440d-422d-8c1f-69ee60d0828a",
   "metadata": {},
   "source": [
    "The order of parameters are:\n",
    "```python\n",
    "def function(parameter1, parameter2, *args, default_parameter1=..., default_parameter2=..., **kwargs):\n",
    "    ...\n",
    "```"
   ]
  },
  {
   "cell_type": "markdown",
   "id": "f0c3ff2a-31fc-4219-8990-c5e7715e07b1",
   "metadata": {},
   "source": [
    "<div><a href=\"07_modules.ipynb\"><p style=\"text-align:right;\" href=\"07_modules.ipynb\">Next - 7. Modules</p></a> "
   ]
  }
 ],
 "metadata": {
  "kernelspec": {
   "display_name": "Python 3",
   "language": "python",
   "name": "python3"
  },
  "language_info": {
   "codemirror_mode": {
    "name": "ipython",
    "version": 3
   },
   "file_extension": ".py",
   "mimetype": "text/x-python",
   "name": "python",
   "nbconvert_exporter": "python",
   "pygments_lexer": "ipython3",
   "version": "3.8.10"
  }
 },
 "nbformat": 4,
 "nbformat_minor": 5
}
