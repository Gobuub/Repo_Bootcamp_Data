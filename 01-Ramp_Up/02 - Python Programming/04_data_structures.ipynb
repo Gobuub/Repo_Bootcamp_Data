{
 "cells": [
  {
   "cell_type": "markdown",
   "id": "ccd3b9a5-a601-406d-8392-927828a74316",
   "metadata": {},
   "source": [
    "<div style=\"text-align:center\"><img src=\"./images/datastrcpng.png\" /></div>"
   ]
  },
  {
   "cell_type": "markdown",
   "id": "a086b7e9-3ee4-4115-945f-760f04910af2",
   "metadata": {},
   "source": [
    "<a href=\"00_cover_page.ipynb\"><p style=\"text-align:right;\" href=\"00_cover_page.ipynb\">Back To Cover Page</p></a> "
   ]
  },
  {
   "cell_type": "markdown",
   "id": "a8fddb13-1051-4261-93c3-a7f37597a172",
   "metadata": {},
   "source": [
    "<a id = \"idx4\"></a>\n",
    "<a href=\"03_conditionals.ipynb\"><p style=\"text-align:left;\" href=\"03_conditionals.ipynb\">Back - 3. Conditionals</p></a></div>\n",
    "#### Index\n",
    "- [4. Data structures](#4.)\n",
    "    + [4.1. List](#4.1.)\n",
    "        * [4.1.1. Indexing & slicing](#4.1.1.)\n",
    "        * [4.1.2. Operations with lists](#4.1.2.)\n",
    "    + [4.2. Tuple](#4.2.)\n",
    "    + [4.3. Dictionary](#4.3.)\n",
    "    + [4.4. Set](#4.4.)"
   ]
  },
  {
   "cell_type": "markdown",
   "id": "214f232f-b0e2-4ef0-baaa-2a5ab5713ca0",
   "metadata": {},
   "source": [
    "<a id = \"4.\"></a>\n",
    "<a href=\"#idx4\"><p style=\"text-align:right;\" href=\"#idx4\">Back To Index</p></a> \n",
    "# 4. Data structures"
   ]
  },
  {
   "cell_type": "markdown",
   "id": "a4c713a6-fd63-4177-be05-755d584a3ca1",
   "metadata": {},
   "source": [
    "- We use data structures to group data together.\n",
    "- Every data structure has its own properties such as mutability.\n",
    "- This structures are iterables."
   ]
  },
  {
   "cell_type": "markdown",
   "id": "beb3147c-a853-4d5d-a128-027d55e0d9e7",
   "metadata": {},
   "source": [
    "<a id = \"4.1.\"></a>\n",
    "<a href=\"#idx4\"><p style=\"text-align:right;\" href=\"#idx4\">Back To Index</p></a> \n",
    "## 4.1. List"
   ]
  },
  {
   "cell_type": "markdown",
   "id": "1475800f-cb8d-46fc-b5cc-2bf310408df9",
   "metadata": {},
   "source": [
    "This type of collection is **mutable** so we can change the values after creating them.\n",
    "\n",
    "```python\n",
    "# Theory\n",
    "l1 = [1, 2]\n",
    "l2 = list()\n",
    "```"
   ]
  },
  {
   "cell_type": "code",
   "execution_count": 8,
   "id": "8c2505eb-2f9b-431a-b2dc-ef01924cb1cb",
   "metadata": {},
   "outputs": [
    {
     "name": "stdout",
     "output_type": "stream",
     "text": [
      "[1, 2, 'hola', 5.7, True, [False, None]]\n"
     ]
    }
   ],
   "source": [
    "l1 = [1, 2, \"hola\", 5.7, True, [False, None]]  # we use ',' to separate each element in the list\n",
    "print(l1)  # as we can see we can mix different objects inside a list"
   ]
  },
  {
   "cell_type": "code",
   "execution_count": 4,
   "id": "960bf601-6ce4-4cb3-89a7-916128c88922",
   "metadata": {},
   "outputs": [
    {
     "data": {
      "text/plain": [
       "[]"
      ]
     },
     "execution_count": 4,
     "metadata": {},
     "output_type": "execute_result"
    }
   ],
   "source": [
    "l2 = list()  # create an empty list\n",
    "l2"
   ]
  },
  {
   "cell_type": "code",
   "execution_count": 5,
   "id": "34b5e934-5a9c-4e9a-8604-f0b16df09a6b",
   "metadata": {},
   "outputs": [],
   "source": [
    "l3 = []  # Other way to create an empty list"
   ]
  },
  {
   "cell_type": "code",
   "execution_count": 11,
   "id": "dbe7a4e1-215c-4032-ae35-c4223737ea03",
   "metadata": {},
   "outputs": [
    {
     "data": {
      "text/plain": [
       "(list, list, list)"
      ]
     },
     "execution_count": 11,
     "metadata": {},
     "output_type": "execute_result"
    }
   ],
   "source": [
    "type(l1), type(l2), type(l3)"
   ]
  },
  {
   "cell_type": "markdown",
   "id": "340b5bd8-61c2-4a2d-97b7-2a9d4f4c0e46",
   "metadata": {},
   "source": [
    "<a id = \"4.1.1.\"></a>\n",
    "<a href=\"#idx4\"><p style=\"text-align:right;\" href=\"#idx4\">Back To Index</p></a> \n",
    "### 4.1.1. Indexing & slicing"
   ]
  },
  {
   "cell_type": "markdown",
   "id": "3ce53084-9cd9-4090-8bb0-5723b1bacf24",
   "metadata": {},
   "source": [
    "<div style=\"text-align:center\"><img src=\"./images/indexing.png\" /></div>"
   ]
  },
  {
   "cell_type": "code",
   "execution_count": 17,
   "id": "70339410-d085-4480-a8b7-1a182c194b40",
   "metadata": {},
   "outputs": [],
   "source": [
    "l = [2.5, 3, 7, 9, 10]"
   ]
  },
  {
   "cell_type": "code",
   "execution_count": 18,
   "id": "7870e0af-8543-4639-a812-f4982e864d0b",
   "metadata": {},
   "outputs": [
    {
     "data": {
      "text/plain": [
       "2.5"
      ]
     },
     "execution_count": 18,
     "metadata": {},
     "output_type": "execute_result"
    }
   ],
   "source": [
    "l[0]  # to extract (index) first element of a list"
   ]
  },
  {
   "cell_type": "code",
   "execution_count": 19,
   "id": "d28ca8ef-7806-4e38-9de5-7fa04a839d3d",
   "metadata": {},
   "outputs": [
    {
     "data": {
      "text/plain": [
       "10"
      ]
     },
     "execution_count": 19,
     "metadata": {},
     "output_type": "execute_result"
    }
   ],
   "source": [
    "l[-1]  # to extract (index) last element of a list"
   ]
  },
  {
   "cell_type": "markdown",
   "id": "4b39d9d0-2dfa-4d02-8dc7-312eaf78054e",
   "metadata": {},
   "source": [
    "Due to its mutability we can do the following:"
   ]
  },
  {
   "cell_type": "code",
   "execution_count": 22,
   "id": "a5ec5740-2431-4305-b2a1-496984c08300",
   "metadata": {},
   "outputs": [
    {
     "name": "stdout",
     "output_type": "stream",
     "text": [
      "3rd position in list l is 7\n",
      "3rd position in list l after changing is 5\n"
     ]
    }
   ],
   "source": [
    "print(f\"3rd position in list l is {l[2]}\")\n",
    "l[2] = 5\n",
    "print(f\"3rd position in list l after changing is {l[2]}\")"
   ]
  },
  {
   "cell_type": "markdown",
   "id": "2097603c-f3cd-4ae0-8e44-d32aaf361f82",
   "metadata": {},
   "source": [
    "slicing is to index various elements inside a list\n",
    "\n",
    "```python\n",
    "l[:n]  # take all the elements from the beginning to the element in position n-1\n",
    "l[a:b]  # take the elements from position a to b-1\n",
    "l[-n:]  # take last n elements\n",
    "```"
   ]
  },
  {
   "cell_type": "code",
   "execution_count": 27,
   "id": "80276662-181d-4ccf-9a28-bbebca863507",
   "metadata": {},
   "outputs": [
    {
     "data": {
      "text/plain": [
       "[2.5, 3, 5, 9, 10]"
      ]
     },
     "execution_count": 27,
     "metadata": {},
     "output_type": "execute_result"
    }
   ],
   "source": [
    "l"
   ]
  },
  {
   "cell_type": "code",
   "execution_count": 26,
   "id": "cc88b7e2-6f1d-45d2-8111-e1e88ede4b1f",
   "metadata": {},
   "outputs": [
    {
     "data": {
      "text/plain": [
       "[2.5, 3, 5]"
      ]
     },
     "execution_count": 26,
     "metadata": {},
     "output_type": "execute_result"
    }
   ],
   "source": [
    "l[:3]  # take 3 elements"
   ]
  },
  {
   "cell_type": "code",
   "execution_count": 28,
   "id": "cd17867f-c689-4b69-aa96-7e60dd05d1df",
   "metadata": {},
   "outputs": [
    {
     "data": {
      "text/plain": [
       "[5, 9]"
      ]
     },
     "execution_count": 28,
     "metadata": {},
     "output_type": "execute_result"
    }
   ],
   "source": [
    "l[2:4]"
   ]
  },
  {
   "cell_type": "code",
   "execution_count": 29,
   "id": "7095bdb6-6599-4900-9603-e45399ad21c4",
   "metadata": {},
   "outputs": [
    {
     "data": {
      "text/plain": [
       "[9, 10]"
      ]
     },
     "execution_count": 29,
     "metadata": {},
     "output_type": "execute_result"
    }
   ],
   "source": [
    "l[-2:]"
   ]
  },
  {
   "cell_type": "markdown",
   "id": "3125b987-cda9-41ee-b19a-06e03d7f9262",
   "metadata": {},
   "source": [
    "<a id = \"4.1.2.\"></a>\n",
    "<a href=\"#idx4\"><p style=\"text-align:right;\" href=\"#idx4\">Back To Index</p></a> \n",
    "### 4.1.2. Operations with lists"
   ]
  },
  {
   "cell_type": "code",
   "execution_count": 30,
   "id": "6e29cc2b-0296-455b-beb2-d0aef4c1a927",
   "metadata": {},
   "outputs": [
    {
     "data": {
      "text/plain": [
       "[5, 4, 7, 6, 7, 8, 5, 8, 8]"
      ]
     },
     "execution_count": 30,
     "metadata": {},
     "output_type": "execute_result"
    }
   ],
   "source": [
    "# Concatenate lists\n",
    "l1 = [5, 4, 7]\n",
    "l2 = [6, 7, 8]\n",
    "l3 = [5, 8, 8]\n",
    "l123 = l1 + l2 + l3\n",
    "l123"
   ]
  },
  {
   "cell_type": "code",
   "execution_count": 32,
   "id": "4cb2e8df-3c52-4867-ba90-f491d766f509",
   "metadata": {},
   "outputs": [
    {
     "name": "stdout",
     "output_type": "stream",
     "text": [
      "['1', '2', '3', '4', '1', '2', '3', '4', '1', '2', '3', '4', '1', '2', '3', '4', '1', '2', '3', '4', '1', '2', '3', '4']\n"
     ]
    }
   ],
   "source": [
    "# Repeat n times a list\n",
    "aux = list(\"1234\")\n",
    "two_year_q = aux * 6\n",
    "print(two_year_q)"
   ]
  },
  {
   "cell_type": "code",
   "execution_count": 33,
   "id": "a5d722ed-d679-44a7-bc8c-2068834c83a9",
   "metadata": {},
   "outputs": [
    {
     "name": "stdout",
     "output_type": "stream",
     "text": [
      "['J', 'F', 'M', 'A']\n"
     ]
    }
   ],
   "source": [
    "# Add elements at the end of a list\n",
    "months = [\"J\", \"F\"]\n",
    "months.append(\"M\")  # this is a list method\n",
    "months.append(\"A\")\n",
    "print(months)"
   ]
  },
  {
   "cell_type": "code",
   "execution_count": 34,
   "id": "a3651736-64d7-4837-b62a-eb210b2599cd",
   "metadata": {},
   "outputs": [
    {
     "data": {
      "text/plain": [
       "['J', 'F', 'M', 'A', 'M', 'J', 'J', 'A']"
      ]
     },
     "execution_count": 34,
     "metadata": {},
     "output_type": "execute_result"
    }
   ],
   "source": [
    "# Extends a list with other list\n",
    "months.extend([\"M\", \"J\", \"J\", \"A\"])\n",
    "months"
   ]
  },
  {
   "cell_type": "markdown",
   "id": "c988b130-b7fc-46ac-aa0b-2fa33dee06be",
   "metadata": {},
   "source": [
    "Click here to see [list methods](https://www.w3schools.com/python/python_lists_methods.asp)."
   ]
  },
  {
   "cell_type": "markdown",
   "id": "d9981a50-6ecd-4264-9541-e15908b98098",
   "metadata": {},
   "source": [
    "```python\n",
    "l = [\"En\", \"un\", \"lugar\", \"de\", \"La\", \"Mancha\"]\n",
    "len(l)\n",
    ">> 6\n",
    "```"
   ]
  },
  {
   "cell_type": "code",
   "execution_count": 36,
   "id": "8781a017-f8a7-49b1-87ac-13e7ebccd6cb",
   "metadata": {},
   "outputs": [
    {
     "data": {
      "text/plain": [
       "(['H', 'e', 'l', 'l', 'o', ' ', 'W', 'o', 'r', 'l', 'd'], 11, 'e')"
      ]
     },
     "execution_count": 36,
     "metadata": {},
     "output_type": "execute_result"
    }
   ],
   "source": [
    "l = \"Hello World\"\n",
    "list(l), len(l), l[1]"
   ]
  },
  {
   "cell_type": "code",
   "execution_count": 58,
   "id": "8ea4068a-60df-4379-b70d-933e488abf91",
   "metadata": {},
   "outputs": [
    {
     "data": {
      "text/plain": [
       "(False, True)"
      ]
     },
     "execution_count": 58,
     "metadata": {},
     "output_type": "execute_result"
    }
   ],
   "source": [
    "# We can check if there are an element in a list\n",
    "l = [\"socks\", \"hat\", \"t-shirt\", \"jeans\"]\n",
    "\"glasses\" in l, \"socks\" in l"
   ]
  },
  {
   "cell_type": "markdown",
   "id": "3cc64e61-5d33-4e19-b9de-d136c730220a",
   "metadata": {},
   "source": [
    "<a id = \"4.2.\"></a>\n",
    "<a href=\"#idx4\"><p style=\"text-align:right;\" href=\"#idx4\">Back To Index</p></a> \n",
    "## 4.2. Tuple"
   ]
  },
  {
   "cell_type": "markdown",
   "id": "234e3c00-1646-44cd-af6c-90c6c1db7d57",
   "metadata": {},
   "source": [
    "Tuples are like list but **inmutable**.\n",
    "```python\n",
    "t = (1, 2)\n",
    "```"
   ]
  },
  {
   "cell_type": "code",
   "execution_count": 38,
   "id": "41c7ea31-34b6-4e6b-b1e2-6e79ddd832a7",
   "metadata": {},
   "outputs": [
    {
     "data": {
      "text/plain": [
       "(tuple, 5)"
      ]
     },
     "execution_count": 38,
     "metadata": {},
     "output_type": "execute_result"
    }
   ],
   "source": [
    "t = (\"t\", \"u\", \"p\", \"l\", \"e\")\n",
    "type(t), len(t)"
   ]
  },
  {
   "cell_type": "code",
   "execution_count": 39,
   "id": "db3f0ef9-4217-4b31-879b-b1f9c233ad9e",
   "metadata": {},
   "outputs": [
    {
     "data": {
      "text/plain": [
       "'u'"
      ]
     },
     "execution_count": 39,
     "metadata": {},
     "output_type": "execute_result"
    }
   ],
   "source": [
    "t[1]"
   ]
  },
  {
   "cell_type": "code",
   "execution_count": 41,
   "id": "c91503ea-df4e-4f60-ae74-ba31cabd97b3",
   "metadata": {},
   "outputs": [
    {
     "ename": "TypeError",
     "evalue": "'tuple' object does not support item assignment",
     "output_type": "error",
     "traceback": [
      "\u001b[1;31m---------------------------------------------------------------------------\u001b[0m",
      "\u001b[1;31mTypeError\u001b[0m                                 Traceback (most recent call last)",
      "\u001b[1;32m<ipython-input-41-efb9825f00b5>\u001b[0m in \u001b[0;36m<module>\u001b[1;34m\u001b[0m\n\u001b[1;32m----> 1\u001b[1;33m \u001b[0mt\u001b[0m\u001b[1;33m[\u001b[0m\u001b[1;36m1\u001b[0m\u001b[1;33m]\u001b[0m \u001b[1;33m=\u001b[0m \u001b[1;34m\"U\"\u001b[0m  \u001b[1;31m# Fails because a tuple is inmutable\u001b[0m\u001b[1;33m\u001b[0m\u001b[1;33m\u001b[0m\u001b[0m\n\u001b[0m",
      "\u001b[1;31mTypeError\u001b[0m: 'tuple' object does not support item assignment"
     ]
    }
   ],
   "source": [
    "t[1] = \"U\"  # Fails because a tuple is inmutable"
   ]
  },
  {
   "cell_type": "code",
   "execution_count": 43,
   "id": "88268945-9080-498f-a266-a4994c47ee89",
   "metadata": {},
   "outputs": [
    {
     "data": {
      "text/plain": [
       "(1, ['J', 'F'])"
      ]
     },
     "execution_count": 43,
     "metadata": {},
     "output_type": "execute_result"
    }
   ],
   "source": [
    "t2 = (1, [\"J\", \"F\"])  # It is possible to mix data structures\n",
    "t2"
   ]
  },
  {
   "cell_type": "markdown",
   "id": "63cf333b-5b45-4977-9dbc-881655eabd8e",
   "metadata": {},
   "source": [
    "<a id = \"4.3.\"></a>\n",
    "<a href=\"#idx4\"><p style=\"text-align:right;\" href=\"#idx4\">Back To Index</p></a> \n",
    "## 4.3. Dictionary"
   ]
  },
  {
   "cell_type": "markdown",
   "id": "0ef6d748-f640-40f4-b18a-30a595f6167a",
   "metadata": {},
   "source": [
    "With this data structure we can associate values between them with a pair key-value. This is a **mutable** data structure with an inserting order as lists or tuples.\n",
    "```python\n",
    "# Theory\n",
    "dic = {\n",
    "    \"clave1\": \"valor1\",\n",
    "    \"clave2\": \"valor2\",\n",
    "    ...\n",
    "}\n",
    "\n",
    "# Example\n",
    "dic = {\n",
    "    \"Q1\": 2e4,\n",
    "    \"Q2\": 2.5e4,\n",
    "    \"Q3\": 1.7e4\n",
    "}\n",
    "```"
   ]
  },
  {
   "cell_type": "code",
   "execution_count": 46,
   "id": "328e2de1-4a9d-483b-a9b9-b20514e047d1",
   "metadata": {},
   "outputs": [],
   "source": [
    "car = {\n",
    "    \"color\": \"Blue Panther\",  # BE CAREFULL: We have to end a pair key-value with ','\n",
    "    \"brand\": \"Ford\",\n",
    "    \"model\": \"Focus St-Line X\",\n",
    "    \"horses\": 115,\n",
    "    \"is_automatic\": False\n",
    "}"
   ]
  },
  {
   "cell_type": "code",
   "execution_count": 47,
   "id": "1aa167c0-8a9a-4ddf-bdb3-8e3312c10020",
   "metadata": {},
   "outputs": [
    {
     "data": {
      "text/plain": [
       "'Blue Panther'"
      ]
     },
     "execution_count": 47,
     "metadata": {},
     "output_type": "execute_result"
    }
   ],
   "source": [
    "car[\"color\"]  # call a value inside a dictionary with its key"
   ]
  },
  {
   "cell_type": "code",
   "execution_count": 48,
   "id": "a5ff4b7d-ce4e-4fa3-befc-fff08092ea48",
   "metadata": {},
   "outputs": [
    {
     "name": "stdout",
     "output_type": "stream",
     "text": [
      "My car is Ford Focus St-Line X\n"
     ]
    }
   ],
   "source": [
    "print(f\"My car is {car['brand']} {car['model']}\")"
   ]
  },
  {
   "cell_type": "code",
   "execution_count": 49,
   "id": "fb0f084a-e7c5-45d3-9c94-a6af8a52161c",
   "metadata": {},
   "outputs": [
    {
     "data": {
      "text/plain": [
       "False"
      ]
     },
     "execution_count": 49,
     "metadata": {},
     "output_type": "execute_result"
    }
   ],
   "source": [
    "# A more elegant way of access to the values\n",
    "car.get(\"is_automatic\")"
   ]
  },
  {
   "cell_type": "markdown",
   "id": "485e973d-3ccb-4c9e-8001-c3510e92b1d0",
   "metadata": {},
   "source": [
    "Last way is the most appropiated because the following."
   ]
  },
  {
   "cell_type": "code",
   "execution_count": 53,
   "id": "c9e35eb3-bc8e-408a-ba7f-77adbca08d85",
   "metadata": {},
   "outputs": [
    {
     "ename": "KeyError",
     "evalue": "'year'",
     "output_type": "error",
     "traceback": [
      "\u001b[1;31m---------------------------------------------------------------------------\u001b[0m",
      "\u001b[1;31mKeyError\u001b[0m                                  Traceback (most recent call last)",
      "\u001b[1;32m<ipython-input-53-34d1787c2834>\u001b[0m in \u001b[0;36m<module>\u001b[1;34m\u001b[0m\n\u001b[0;32m      1\u001b[0m \u001b[0mkey\u001b[0m \u001b[1;33m=\u001b[0m \u001b[1;34m\"year\"\u001b[0m\u001b[1;33m\u001b[0m\u001b[1;33m\u001b[0m\u001b[0m\n\u001b[1;32m----> 2\u001b[1;33m \u001b[0mcar\u001b[0m\u001b[1;33m[\u001b[0m\u001b[0mkey\u001b[0m\u001b[1;33m]\u001b[0m  \u001b[1;31m# we do not have this key on the dictionary\u001b[0m\u001b[1;33m\u001b[0m\u001b[1;33m\u001b[0m\u001b[0m\n\u001b[0m",
      "\u001b[1;31mKeyError\u001b[0m: 'year'"
     ]
    }
   ],
   "source": [
    "key = \"year\"\n",
    "car[key]  # we do not have this key on the dictionary"
   ]
  },
  {
   "cell_type": "code",
   "execution_count": 54,
   "id": "1df9c42f-5eae-42f1-947d-18679f1b345c",
   "metadata": {},
   "outputs": [
    {
     "name": "stdout",
     "output_type": "stream",
     "text": [
      "None\n"
     ]
    }
   ],
   "source": [
    "print(car.get(key))"
   ]
  },
  {
   "cell_type": "code",
   "execution_count": 56,
   "id": "d844a006-bc17-40a9-aa03-4fff262aee9f",
   "metadata": {},
   "outputs": [
    {
     "data": {
      "text/plain": [
       "\"the key 'year' does not exists\""
      ]
     },
     "execution_count": 56,
     "metadata": {},
     "output_type": "execute_result"
    }
   ],
   "source": [
    "car.get(key, f\"the key '{key}' does not exists\")"
   ]
  },
  {
   "cell_type": "code",
   "execution_count": 57,
   "id": "88ed1690-8bf6-4a70-91c4-874fa3f8117a",
   "metadata": {},
   "outputs": [
    {
     "data": {
      "text/plain": [
       "{'color': 'Blue Panther',\n",
       " 'brand': 'Ford',\n",
       " 'model': 'Focus St-Line X',\n",
       " 'horses': 115,\n",
       " 'is_automatic': False,\n",
       " 'year': 2020}"
      ]
     },
     "execution_count": 57,
     "metadata": {},
     "output_type": "execute_result"
    }
   ],
   "source": [
    "# We can add new values by doing\n",
    "car[\"year\"] = 2020\n",
    "car"
   ]
  },
  {
   "cell_type": "code",
   "execution_count": 60,
   "id": "c85665bf-877f-4c38-b593-7774fa981ad6",
   "metadata": {},
   "outputs": [
    {
     "name": "stdout",
     "output_type": "stream",
     "text": [
      "dict_values(['Blue Panther', 'Ford', 'Focus St-Line X', 115, False, 2020]) \n",
      "\n",
      "dict_keys(['color', 'brand', 'model', 'horses', 'is_automatic', 'year']) \n",
      "\n",
      "dict_items([('color', 'Blue Panther'), ('brand', 'Ford'), ('model', 'Focus St-Line X'), ('horses', 115), ('is_automatic', False), ('year', 2020)])\n"
     ]
    }
   ],
   "source": [
    "print(car.values(), \"\\n\")  # to get the values\n",
    "print(car.keys(), \"\\n\")  # to get the keys\n",
    "print(car.items())  # to get keys and values"
   ]
  },
  {
   "cell_type": "code",
   "execution_count": 61,
   "id": "d20cebe7-ac1d-4e20-ba22-6503b3130373",
   "metadata": {},
   "outputs": [
    {
     "data": {
      "text/plain": [
       "{'t1': [12, 11, True], 't2': [11, 4, False]}"
      ]
     },
     "execution_count": 61,
     "metadata": {},
     "output_type": "execute_result"
    }
   ],
   "source": [
    "# you can extend a dictionary by doing\n",
    "d1 = {\"t1\": [12, 11, True]}\n",
    "d2 = {**d1, \"t2\": [11, 4, False]}\n",
    "d2"
   ]
  },
  {
   "cell_type": "markdown",
   "id": "44c2185a-a685-4787-adea-08192ee99c69",
   "metadata": {},
   "source": [
    "<a id = \"4.4.\"></a>\n",
    "<a href=\"#idx4\"><p style=\"text-align:right;\" href=\"#idx4\">Back To Index</p></a> \n",
    "## 4.4. Set"
   ]
  },
  {
   "cell_type": "markdown",
   "id": "f6af89ff-86eb-40da-a514-dd27b0888196",
   "metadata": {},
   "source": [
    "Set structure is an special one because only have one ocurrence of values and these are ordered. They are **inmutable**.\n",
    "```python\n",
    "# Theory\n",
    "s1 = {1, 2}\n",
    "```"
   ]
  },
  {
   "cell_type": "code",
   "execution_count": 64,
   "id": "e2f2259d-4ebe-4b28-876d-09d5e19b23f1",
   "metadata": {},
   "outputs": [
    {
     "data": {
      "text/plain": [
       "({1, 2}, set)"
      ]
     },
     "execution_count": 64,
     "metadata": {},
     "output_type": "execute_result"
    }
   ],
   "source": [
    "s1 = {1, 2}\n",
    "s1, type(s1)"
   ]
  },
  {
   "cell_type": "code",
   "execution_count": 66,
   "id": "41011e70-5501-4f4f-a1ef-7b8c330114a0",
   "metadata": {},
   "outputs": [
    {
     "data": {
      "text/plain": [
       "{1, 2}"
      ]
     },
     "execution_count": 66,
     "metadata": {},
     "output_type": "execute_result"
    }
   ],
   "source": [
    "set([1, 2, 1])  # a list could have the same element, for a set is forbidden."
   ]
  },
  {
   "cell_type": "code",
   "execution_count": 67,
   "id": "80341367-4ae6-49e1-b216-1992fea8694a",
   "metadata": {},
   "outputs": [
    {
     "data": {
      "text/plain": [
       "{1, 3, 4, 700}"
      ]
     },
     "execution_count": 67,
     "metadata": {},
     "output_type": "execute_result"
    }
   ],
   "source": [
    "set([3, 4, 700, 1])  # also a set order the elements"
   ]
  },
  {
   "cell_type": "code",
   "execution_count": 68,
   "id": "d4ff7bac-da83-4319-8f12-a9e2feddd33d",
   "metadata": {},
   "outputs": [],
   "source": [
    "a = {1, 2, 3, 4}"
   ]
  },
  {
   "cell_type": "code",
   "execution_count": 69,
   "id": "b0216b81-c774-405c-b552-ad5905a4063f",
   "metadata": {},
   "outputs": [
    {
     "ename": "TypeError",
     "evalue": "'set' object is not subscriptable",
     "output_type": "error",
     "traceback": [
      "\u001b[1;31m---------------------------------------------------------------------------\u001b[0m",
      "\u001b[1;31mTypeError\u001b[0m                                 Traceback (most recent call last)",
      "\u001b[1;32m<ipython-input-69-6a1284577a36>\u001b[0m in \u001b[0;36m<module>\u001b[1;34m\u001b[0m\n\u001b[1;32m----> 1\u001b[1;33m \u001b[0ma\u001b[0m\u001b[1;33m[\u001b[0m\u001b[1;36m0\u001b[0m\u001b[1;33m]\u001b[0m\u001b[1;33m\u001b[0m\u001b[1;33m\u001b[0m\u001b[0m\n\u001b[0m",
      "\u001b[1;31mTypeError\u001b[0m: 'set' object is not subscriptable"
     ]
    }
   ],
   "source": [
    "a[0]"
   ]
  },
  {
   "cell_type": "code",
   "execution_count": 70,
   "id": "c4afeeef-39bf-446d-ad96-524013093c3b",
   "metadata": {},
   "outputs": [],
   "source": [
    "class1 = {\"Marc\", \"Esteban\", \"Laura\", \"Carmen\", \"Monica\", \"Juan\"}\n",
    "class2 = {\"Esteban\", \"Carmen\", \"Luisa\"}"
   ]
  },
  {
   "cell_type": "code",
   "execution_count": 71,
   "id": "7834ec73-87ed-4d6b-a36a-d21f95082e1c",
   "metadata": {},
   "outputs": [
    {
     "data": {
      "text/plain": [
       "{'Carmen', 'Esteban'}"
      ]
     },
     "execution_count": 71,
     "metadata": {},
     "output_type": "execute_result"
    }
   ],
   "source": [
    "class1.intersection(class2)"
   ]
  },
  {
   "cell_type": "code",
   "execution_count": 72,
   "id": "06461ce8-3f3c-4cbb-bb82-9b12a652c78a",
   "metadata": {},
   "outputs": [
    {
     "data": {
      "text/plain": [
       "{'Carmen', 'Esteban', 'Juan', 'Laura', 'Luisa', 'Marc', 'Monica'}"
      ]
     },
     "execution_count": 72,
     "metadata": {},
     "output_type": "execute_result"
    }
   ],
   "source": [
    "class1.union(class2)"
   ]
  },
  {
   "cell_type": "code",
   "execution_count": 73,
   "id": "29e5ef7c-c35d-40e4-90be-b40138979eaa",
   "metadata": {},
   "outputs": [
    {
     "data": {
      "text/plain": [
       "{'Juan', 'Laura', 'Luisa', 'Marc', 'Monica'}"
      ]
     },
     "execution_count": 73,
     "metadata": {},
     "output_type": "execute_result"
    }
   ],
   "source": [
    "class1.union(class2) - class1.intersection(class2)"
   ]
  },
  {
   "cell_type": "markdown",
   "id": "0f7beae4-6596-45b1-8f85-105b411d9b05",
   "metadata": {},
   "source": [
    "Click here to see [set methods](https://www.w3schools.com/python/python_ref_set.asp)."
   ]
  },
  {
   "cell_type": "markdown",
   "id": "d9828a6f-00ad-46bd-8202-1a6b36e4d01a",
   "metadata": {},
   "source": [
    "#### Exercise 4.1.\n",
    "Given the following lists:\n",
    "```python\n",
    "list_a = [\"a\", \"b\", \"a\", \"v\", \"a\"]\n",
    "```\n",
    "1. Create a list from the last to the beginning.\n"
   ]
  },
  {
   "cell_type": "markdown",
   "id": "a80a7952-ee17-45ec-a7a6-cc0b753d42c7",
   "metadata": {},
   "source": [
    "#### Exercise 4.2.\n",
    "Given the following lists:\n",
    "```python\n",
    "list_a = [\"Hello\", \"World!\", \"Nice\", \"to\", \"meet\", \"you\", \".\"]\n",
    "```\n",
    "1. Create a string from that list\n"
   ]
  },
  {
   "cell_type": "markdown",
   "id": "f2f946d4-e53c-4510-a1e0-c9af0f5cca78",
   "metadata": {},
   "source": [
    "#### Exercise 4.3.\n",
    "1. Create a string from that list of 5 elements.\n",
    "2. Change element 2 and 3 by `7`.\n",
    "3. Drop repeated values inside the list.\n",
    "4. Elevate the first element of the list to the last element of the list."
   ]
  },
  {
   "cell_type": "markdown",
   "id": "d06a9c37-c627-47cf-8b62-7d7d06cc7142",
   "metadata": {},
   "source": [
    "#### Exercise 4.4.\n",
    "Join both dictionaries\n",
    "```python\n",
    "d1 = {\"1\": 10, \"2\": 100}\n",
    "d2 = {\"3\": 54, \"4\": 540}\n",
    "```"
   ]
  },
  {
   "cell_type": "markdown",
   "id": "5a460367-3566-479e-8374-14ef9249217f",
   "metadata": {},
   "source": [
    "<div><a href=\"05_loops.ipynb\"><p style=\"text-align:right;\" href=\"05_loops.ipynb\">Next - 5. Loops</p></a> "
   ]
  }
 ],
 "metadata": {
  "kernelspec": {
   "display_name": "Python 3",
   "language": "python",
   "name": "python3"
  },
  "language_info": {
   "codemirror_mode": {
    "name": "ipython",
    "version": 3
   },
   "file_extension": ".py",
   "mimetype": "text/x-python",
   "name": "python",
   "nbconvert_exporter": "python",
   "pygments_lexer": "ipython3",
   "version": "3.8.10"
  }
 },
 "nbformat": 4,
 "nbformat_minor": 5
}
