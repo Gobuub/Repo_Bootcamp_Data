{
 "cells": [
  {
   "cell_type": "markdown",
   "id": "483c3f66-e07e-460c-986a-c6766b31c355",
   "metadata": {},
   "source": [
    "<div style=\"text-align:center\"><img src=\"./images/more_py.jpg\" /></div>"
   ]
  },
  {
   "cell_type": "markdown",
   "id": "fc92b1e9-f707-44ca-8ca0-043708844d7c",
   "metadata": {},
   "source": [
    "<a href=\"00_cover_page.ipynb\"><p style=\"text-align:right;\" href=\"00_cover_page.ipynb\">Back To Cover Page</p></a> "
   ]
  },
  {
   "cell_type": "markdown",
   "id": "54b5e74f-a52f-44f0-bc96-62ccdb2f7394",
   "metadata": {},
   "source": [
    "<a href=\"10_files.ipynb\"><p style=\"text-align:left;\" href=\"10_files.ipynb\">Back - 10. Files</p></a></div>"
   ]
  },
  {
   "cell_type": "markdown",
   "id": "8674c085-7c98-4a88-a364-0809f6a49ad9",
   "metadata": {},
   "source": [
    "# More Python"
   ]
  },
  {
   "cell_type": "markdown",
   "id": "2facbc90-7a09-4be9-9401-53622b6f0f12",
   "metadata": {},
   "source": [
    "- [Accelerate Python (Numba)](http://numba.pydata.org/)\n",
    "- [Use all cores of your computer with Python (multiprocessing)](https://docs.python.org/3/library/multiprocessing.html)"
   ]
  },
  {
   "cell_type": "markdown",
   "id": "f7a139b4-4f54-48ff-bb46-d97ced88398c",
   "metadata": {},
   "source": [
    "----\n",
    "# END"
   ]
  },
  {
   "cell_type": "code",
   "execution_count": null,
   "id": "3222127f-20fd-4340-81f4-19329bd4c6f2",
   "metadata": {},
   "outputs": [],
   "source": []
  }
 ],
 "metadata": {
  "kernelspec": {
   "display_name": "Python 3",
   "language": "python",
   "name": "python3"
  },
  "language_info": {
   "codemirror_mode": {
    "name": "ipython",
    "version": 3
   },
   "file_extension": ".py",
   "mimetype": "text/x-python",
   "name": "python",
   "nbconvert_exporter": "python",
   "pygments_lexer": "ipython3",
   "version": "3.8.10"
  }
 },
 "nbformat": 4,
 "nbformat_minor": 5
}
