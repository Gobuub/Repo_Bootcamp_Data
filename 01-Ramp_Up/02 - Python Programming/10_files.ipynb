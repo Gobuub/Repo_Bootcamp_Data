{
 "cells": [
  {
   "cell_type": "markdown",
   "id": "49b14f67-fe36-449a-8060-2932c4da0617",
   "metadata": {},
   "source": [
    "<div style=\"text-align:center\"><img src=\"./images/files.webp\" /></div>"
   ]
  },
  {
   "cell_type": "markdown",
   "id": "22bd2dc8-2cd0-40c5-b656-3aab39ab4949",
   "metadata": {},
   "source": [
    "<a href=\"00_cover_page.ipynb\"><p style=\"text-align:right;\" href=\"00_cover_page.ipynb\">Back To Cover Page</p></a> "
   ]
  },
  {
   "cell_type": "markdown",
   "id": "55331437-c47a-4b73-a664-ece30505a480",
   "metadata": {},
   "source": [
    "<a id = \"idx10\"></a>\n",
    "<a href=\"09_classes.ipynb\"><p style=\"text-align:left;\" href=\"09_classes.ipynb\">Back - 9. Classes</p></a></div>\n",
    "#### Index\n",
    "- [10. Files](#10.)\n",
    "    * [10.1. Open](#10.1.)\n",
    "    * [10.2. Write](#10.2.)"
   ]
  },
  {
   "cell_type": "markdown",
   "id": "29c82ba3-46d7-49d7-b4de-6d01e40f545a",
   "metadata": {},
   "source": [
    "<a id = \"10.\"></a>\n",
    "<a href=\"#idx10\"><p style=\"text-align:right;\" href=\"#idx10\">Back To Index</p></a> \n",
    "# 10. Files"
   ]
  },
  {
   "cell_type": "markdown",
   "id": "26c5e340-b3ac-4398-a698-6c076552aba8",
   "metadata": {},
   "source": [
    "We can open files with Python to read, process data or save data among other operations. We can see [here](https://www.programiz.com/python-programming/file-operation) more information."
   ]
  },
  {
   "cell_type": "markdown",
   "id": "f3580ce9-9232-4f26-9438-121776a9344c",
   "metadata": {},
   "source": [
    "<a id = \"10.1.\"></a>\n",
    "<a href=\"#idx10\"><p style=\"text-align:right;\" href=\"#idx10\">Back To Index</p></a> \n",
    "## 10.1. Open"
   ]
  },
  {
   "cell_type": "code",
   "execution_count": 5,
   "id": "97332932-cc4d-4258-b0b8-ecd07cd4b19e",
   "metadata": {},
   "outputs": [],
   "source": [
    "file = open(\"./data/test_file.txt\")"
   ]
  },
  {
   "cell_type": "code",
   "execution_count": 6,
   "id": "14e5a4de-f60c-4ce6-9f2b-860780b5535a",
   "metadata": {},
   "outputs": [
    {
     "data": {
      "text/plain": [
       "'This is a test file'"
      ]
     },
     "execution_count": 6,
     "metadata": {},
     "output_type": "execute_result"
    }
   ],
   "source": [
    "file.read()"
   ]
  },
  {
   "cell_type": "code",
   "execution_count": 7,
   "id": "28369afd-f635-4b87-bdbe-b398d0a78914",
   "metadata": {},
   "outputs": [
    {
     "data": {
      "text/plain": [
       "''"
      ]
     },
     "execution_count": 7,
     "metadata": {},
     "output_type": "execute_result"
    }
   ],
   "source": [
    "file.read()  # We have read the file once so right now we don't have data to read in file variable."
   ]
  },
  {
   "cell_type": "code",
   "execution_count": 8,
   "id": "df3e35b0-da14-446f-9622-e5a467054e3c",
   "metadata": {},
   "outputs": [],
   "source": [
    "file = open(\"./data/test_file.txt\")\n",
    "content = file.read()  # save all content into a new variable\n",
    "file.close()  # To close the file"
   ]
  },
  {
   "cell_type": "code",
   "execution_count": 10,
   "id": "e115177a-ac9e-4ccc-81cc-49a7e9932de0",
   "metadata": {},
   "outputs": [
    {
     "ename": "ValueError",
     "evalue": "I/O operation on closed file.",
     "output_type": "error",
     "traceback": [
      "\u001b[1;31m---------------------------------------------------------------------------\u001b[0m",
      "\u001b[1;31mValueError\u001b[0m                                Traceback (most recent call last)",
      "\u001b[1;32m<ipython-input-10-f3fc120c03c1>\u001b[0m in \u001b[0;36m<module>\u001b[1;34m\u001b[0m\n\u001b[1;32m----> 1\u001b[1;33m \u001b[0mfile\u001b[0m\u001b[1;33m.\u001b[0m\u001b[0mread\u001b[0m\u001b[1;33m(\u001b[0m\u001b[1;33m)\u001b[0m\u001b[1;33m\u001b[0m\u001b[1;33m\u001b[0m\u001b[0m\n\u001b[0m",
      "\u001b[1;31mValueError\u001b[0m: I/O operation on closed file."
     ]
    }
   ],
   "source": [
    "file.read()"
   ]
  },
  {
   "cell_type": "code",
   "execution_count": 11,
   "id": "655902f2-f6e3-4433-9bf7-a41f0c1c9e6d",
   "metadata": {},
   "outputs": [
    {
     "data": {
      "text/plain": [
       "'This is a test file'"
      ]
     },
     "execution_count": 11,
     "metadata": {},
     "output_type": "execute_result"
    }
   ],
   "source": [
    "content"
   ]
  },
  {
   "cell_type": "markdown",
   "id": "befe38c8-588a-4ac2-b98e-36bad765c675",
   "metadata": {},
   "source": [
    "<a id = \"10.2.\"></a>\n",
    "<a href=\"#idx10\"><p style=\"text-align:right;\" href=\"#idx10\">Back To Index</p></a> \n",
    "## 10.2. Write"
   ]
  },
  {
   "cell_type": "code",
   "execution_count": 13,
   "id": "76d5b79e-4799-4f65-9868-055b340aa356",
   "metadata": {},
   "outputs": [],
   "source": [
    "file_name = \"example\""
   ]
  },
  {
   "cell_type": "code",
   "execution_count": 15,
   "id": "180acd06-de88-46cc-a4db-8ba40dfb62d5",
   "metadata": {},
   "outputs": [],
   "source": [
    "file = open(f\"./data/{file_name}.txt\", \"w\")  # we use \"W\" to specify that is a file to create.\n",
    "file.write(\"writing example \\n\")\n",
    "file.write(\"Hello World!\")\n",
    "file.close()"
   ]
  },
  {
   "cell_type": "code",
   "execution_count": 17,
   "id": "da111952-83c7-407e-badd-956a6d0e7360",
   "metadata": {},
   "outputs": [
    {
     "name": "stdout",
     "output_type": "stream",
     "text": [
      "writing example \n",
      "Hello World!\n"
     ]
    }
   ],
   "source": [
    "file = open(f\"./data/{file_name}.txt\")\n",
    "print(file.read())"
   ]
  },
  {
   "cell_type": "markdown",
   "id": "dce3d007-92f2-40cd-a6b7-d8a17add3ff8",
   "metadata": {},
   "source": [
    "#### Exercise 10.1.\n",
    "Read file `./data/quijote.txt`.\n",
    "1. Count the number of lines in the file.\n",
    "2. Count the number of words.\n",
    "3. Keep only punctuation and count how many punctuations.\n",
    "4. Count number of non repeated words.\n",
    "5. Write a json file with the previous calculations."
   ]
  },
  {
   "cell_type": "markdown",
   "id": "ba5f83e7-e5f1-4cfd-a60a-2a8b44ab3b6d",
   "metadata": {},
   "source": [
    "<div><a href=\"11_extra_info.ipynb\"><p style=\"text-align:right;\" href=\"11_extra_info.ipynb\">Next - More Python</p></a> "
   ]
  }
 ],
 "metadata": {
  "kernelspec": {
   "display_name": "Python 3",
   "language": "python",
   "name": "python3"
  },
  "language_info": {
   "codemirror_mode": {
    "name": "ipython",
    "version": 3
   },
   "file_extension": ".py",
   "mimetype": "text/x-python",
   "name": "python",
   "nbconvert_exporter": "python",
   "pygments_lexer": "ipython3",
   "version": "3.8.10"
  }
 },
 "nbformat": 4,
 "nbformat_minor": 5
}
