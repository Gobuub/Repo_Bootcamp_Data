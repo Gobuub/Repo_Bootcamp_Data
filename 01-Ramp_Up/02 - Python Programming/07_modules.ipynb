{
 "cells": [
  {
   "cell_type": "markdown",
   "id": "0504e06c-ede8-4fd8-9e40-97e2245e7b52",
   "metadata": {},
   "source": [
    "<div style=\"text-align:center\"><img src=\"./images/modules.jpg\" /></div>"
   ]
  },
  {
   "cell_type": "markdown",
   "id": "2e5b6f11-dbf0-43fe-bf5c-6a029d7be842",
   "metadata": {},
   "source": [
    "<a href=\"00_cover_page.ipynb\"><p style=\"text-align:right;\" href=\"00_cover_page.ipynb\">Back To Cover Page</p></a> "
   ]
  },
  {
   "cell_type": "markdown",
   "id": "4f1c8ce2-f324-41c3-a310-907365a10e58",
   "metadata": {},
   "source": [
    "<a id = \"idx7\"></a>\n",
    "<a href=\"06_functions_i.ipynb\"><p style=\"text-align:left;\" href=\"06_functions_i.ipynb\">Back - 6. Functions I </p></a></div>\n",
    "#### Index\n",
    "- [7. Modules](#7.)\n",
    "    * [7.1. Built-in libraries](#7.1.)\n",
    "        + [7.1.1. Regex](#7.1.1.)\n",
    "        + [7.1.2. Sys & Os](#7.1.2.)\n",
    "        + [7.1.3. Copy](#7.1.3.)\n",
    "    * [7.2. 3rd party libraries](#7.2.)\n",
    "        + [7.2.1. Matplotlib](#7.2.1.)\n",
    "        + [7.2.2. Numpy](#7.2.2.)\n",
    "        + [7.2.3. Pandas](#7.2.3.)\n",
    "    * [7.3. Custom libraries](#7.3.)"
   ]
  },
  {
   "cell_type": "markdown",
   "id": "1abd629f-1be7-4514-8726-547922722005",
   "metadata": {},
   "source": [
    "<a id = \"7.\"></a>\n",
    "<a href=\"#idx7\"><p style=\"text-align:right;\" href=\"#idx7\">Back To Index</p></a> \n",
    "# 7. Modules"
   ]
  },
  {
   "cell_type": "markdown",
   "id": "634bb859-d7e3-4e23-ae34-20681ab990ac",
   "metadata": {},
   "source": [
    "Modular programming refers to the process of breaking a large, unwieldy programming task into separate, smaller, more manageable subtasks or modules. Individual modules can then be cobbled together like building blocks to create a larger application.\n",
    "\n",
    "There are several advantages to modularizing code in a large application:\n",
    "\n",
    "- Simplicity: Rather than focusing on the entire problem at hand, a module typically focuses on one relatively small portion of the problem. If you’re working on a single module, you’ll have a smaller problem domain to wrap your head around. This makes development easier and less error-prone.\n",
    "\n",
    "- Maintainability: Modules are typically designed so that they enforce logical boundaries between different problem domains. If modules are written in a way that minimizes interdependency, there is decreased likelihood that modifications to a single module will have an impact on other parts of the program. (You may even be able to make changes to a module without having any knowledge of the application outside that module.) This makes it more viable for a team of many programmers to work collaboratively on a large application.\n",
    "\n",
    "- Reusability: Functionality defined in a single module can be easily reused (through an appropriately defined interface) by other parts of the application. This eliminates the need to duplicate code.\n",
    "\n",
    "- Scoping: Modules typically define a separate namespace, which helps avoid collisions between identifiers in different areas of a program. "
   ]
  },
  {
   "cell_type": "markdown",
   "id": "f93a4e5a-da28-4f2f-9679-3f8dca42991c",
   "metadata": {},
   "source": [
    "We use this in order to not re-invented the wheel. There are 3rd party modules or built-in."
   ]
  },
  {
   "cell_type": "markdown",
   "id": "e93f8804-2e2e-4b53-a288-a8695db553fa",
   "metadata": {},
   "source": [
    "<a id = \"7.1.\"></a>\n",
    "<a href=\"#idx7\"><p style=\"text-align:right;\" href=\"#idx7\">Back To Index</p></a> \n",
    "## 7.1. Built-in libraries"
   ]
  },
  {
   "cell_type": "markdown",
   "id": "2c4b8097-4b6a-4352-a1ab-c95f8783bf90",
   "metadata": {},
   "source": [
    "In order to use a module or a package we use `import` statement."
   ]
  },
  {
   "cell_type": "markdown",
   "id": "9f348dc9-68cd-44d3-9e75-3e4db9323789",
   "metadata": {},
   "source": [
    "Imports should be grouped in the following order:\n",
    "\n",
    "1. Standard library imports.\n",
    "2. Related third party imports.\n",
    "3. Local application/library specific imports."
   ]
  },
  {
   "cell_type": "markdown",
   "id": "230b1514-5efb-466a-bc4c-ff1b04735547",
   "metadata": {},
   "source": [
    "```python\n",
    "import mod  # import all the module\n",
    "import mod2 as m2  # import all the module as m2\n",
    "from mod import mod_func  # import only mod_func from mod\n",
    "from mod import *  # import everything from mod\n",
    "```\n",
    "\n",
    "Is highly recomend to import only what it is necessary because of the time consuming and the memory consuming. See more modules [here](https://www.tutorialsteacher.com/python/python-builtin-modules)"
   ]
  },
  {
   "cell_type": "code",
   "execution_count": 23,
   "id": "1c7b7cc1-c26d-496c-a05a-ca4143e21246",
   "metadata": {},
   "outputs": [],
   "source": [
    "import math as m"
   ]
  },
  {
   "cell_type": "code",
   "execution_count": 4,
   "id": "5e4a93a7-9650-436b-94a8-28b4d966b533",
   "metadata": {},
   "outputs": [
    {
     "data": {
      "text/plain": [
       "(0.0, 1.0)"
      ]
     },
     "execution_count": 4,
     "metadata": {},
     "output_type": "execute_result"
    }
   ],
   "source": [
    "m.sin(0), m.cos(0)"
   ]
  },
  {
   "cell_type": "markdown",
   "id": "d9478ca5-b5ab-4805-886e-6a0d5dcbb56d",
   "metadata": {},
   "source": [
    "<a id = \"7.1.1.\"></a>\n",
    "<a href=\"#idx7\"><p style=\"text-align:right;\" href=\"#idx7\">Back To Index</p></a> \n",
    "### 7.1.1. Regex"
   ]
  },
  {
   "cell_type": "markdown",
   "id": "f56e256e-64ad-469b-acca-a64d06e6db25",
   "metadata": {},
   "source": [
    "Regular expressions are used to find patterns in text. We can see how are the expressions [here](https://www.w3schools.com/python/python_regex.asp) or [here](https://www.programiz.com/python-programming/regex) and we can test them [here](https://regex101.com/)"
   ]
  },
  {
   "cell_type": "code",
   "execution_count": 5,
   "id": "a6858210-b70c-40bf-b4f0-cec41aae52fd",
   "metadata": {},
   "outputs": [],
   "source": [
    "import re"
   ]
  },
  {
   "cell_type": "code",
   "execution_count": 9,
   "id": "76842dc1-03a1-4ce2-873a-3f0773d9edd2",
   "metadata": {},
   "outputs": [
    {
     "name": "stdout",
     "output_type": "stream",
     "text": [
      "['The', 'rain', 'in', 'Spain']\n"
     ]
    }
   ],
   "source": [
    "txt = \"The rain in Spain\"\n",
    "x = re.split(\"\\s\", txt)  # white-space character\n",
    "print(x)"
   ]
  },
  {
   "cell_type": "code",
   "execution_count": 12,
   "id": "3680589e-8c30-4f1c-bf11-bcaa1744295b",
   "metadata": {},
   "outputs": [
    {
     "name": "stdout",
     "output_type": "stream",
     "text": [
      "['12', '89', '34']\n"
     ]
    }
   ],
   "source": [
    "string = 'hello 12 hi 89. Howdy 34'\n",
    "pattern = '\\d+'\n",
    "\n",
    "result = re.findall(pattern, string) \n",
    "print(result)"
   ]
  },
  {
   "cell_type": "code",
   "execution_count": 16,
   "id": "1ae0f72d-1e34-4051-a4a4-0181c3f6b329",
   "metadata": {},
   "outputs": [
    {
     "name": "stdout",
     "output_type": "stream",
     "text": [
      "abc 12de 23 \n",
      " f45 6 \n",
      "\n",
      " abc12de23f456\n"
     ]
    }
   ],
   "source": [
    "string = 'abc 12\\\n",
    "de 23 \\n f45 6'\n",
    "\n",
    "pattern = '\\s+'\n",
    "\n",
    "replace = ''\n",
    "\n",
    "new_string = re.sub(pattern, replace, string) \n",
    "print(string, \"\\n\\n\", new_string)"
   ]
  },
  {
   "cell_type": "code",
   "execution_count": 17,
   "id": "721ec5c0-168a-482f-aa62-e468b389f0ed",
   "metadata": {},
   "outputs": [
    {
     "name": "stdout",
     "output_type": "stream",
     "text": [
      "pattern found inside the string\n"
     ]
    }
   ],
   "source": [
    "string = \"Python is fun\"\n",
    "\n",
    "match = re.search('^Python', string)\n",
    "\n",
    "if match:\n",
    "    print(\"pattern found inside the string\")\n",
    "else:\n",
    "    print(\"pattern not found\")  \n"
   ]
  },
  {
   "cell_type": "code",
   "execution_count": 18,
   "id": "8ad5628a-1de2-4fa3-a172-bc4c7d389f71",
   "metadata": {},
   "outputs": [
    {
     "name": "stdout",
     "output_type": "stream",
     "text": [
      "801 35\n"
     ]
    }
   ],
   "source": [
    "string = '39801 356, 2102 1111'\n",
    "\n",
    "pattern = '(\\d{3}) (\\d{2})'\n",
    "\n",
    "match = re.search(pattern, string) \n",
    "\n",
    "if match:\n",
    "    print(match.group())\n",
    "else:\n",
    "    print(\"pattern not found\")"
   ]
  },
  {
   "cell_type": "code",
   "execution_count": 20,
   "id": "a905b9d8-3f1e-4f83-80ca-11673f8e6841",
   "metadata": {},
   "outputs": [
    {
     "data": {
      "text/plain": [
       "'28004'"
      ]
     },
     "execution_count": 20,
     "metadata": {},
     "output_type": "execute_result"
    }
   ],
   "source": [
    "address = \"Paseo de la Castellana 15, 28004\"\n",
    "\n",
    "m = re.search(\"[0-9]{5}\", address)\n",
    "m.group()"
   ]
  },
  {
   "cell_type": "markdown",
   "id": "6c8dca75-2638-4126-b5a5-6461c8bd093e",
   "metadata": {},
   "source": [
    "<a id = \"7.1.2.\"></a>\n",
    "<a href=\"#idx7\"><p style=\"text-align:right;\" href=\"#idx7\">Back To Index</p></a> \n",
    "### 7.1.2. Sys & os"
   ]
  },
  {
   "cell_type": "markdown",
   "id": "a5539431-0c2d-452a-9ea9-ed711a43349f",
   "metadata": {},
   "source": [
    "- The OS module in Python provides functions for interacting with the operating system. [Info](https://www.geeksforgeeks.org/os-module-python-examples/).\n",
    "- The sys module in Python provides various functions and variables that are used to manipulate different parts of the Python runtime environment. [Info](https://www.geeksforgeeks.org/python-sys-module/)."
   ]
  },
  {
   "cell_type": "code",
   "execution_count": 2,
   "id": "9c82b200-2780-4b01-819a-c130eca9a4ab",
   "metadata": {},
   "outputs": [],
   "source": [
    "import os\n",
    "import sys"
   ]
  },
  {
   "cell_type": "code",
   "execution_count": 42,
   "id": "7aa3d40c-e179-4320-aaa4-0cd9d1f34e47",
   "metadata": {},
   "outputs": [
    {
     "name": "stdout",
     "output_type": "stream",
     "text": [
      "Python version is: 3.8.10 (default, May 19 2021, 13:12:57) [MSC v.1916 64 bit (AMD64)]\n"
     ]
    }
   ],
   "source": [
    "print(f\"Python version is: {sys.version}\")"
   ]
  },
  {
   "cell_type": "code",
   "execution_count": 43,
   "id": "8f4ded42-c675-402e-8654-bdc7bad2db3c",
   "metadata": {},
   "outputs": [
    {
     "data": {
      "text/plain": [
       "['C:\\\\Users\\\\esteb\\\\Documents\\\\TheBridge\\\\bootcamp_pt_sept_2021\\\\RampUp\\\\02_Python_Programming',\n",
       " 'C:\\\\Users\\\\esteb\\\\anaconda3\\\\envs\\\\esteban\\\\python38.zip',\n",
       " 'C:\\\\Users\\\\esteb\\\\anaconda3\\\\envs\\\\esteban\\\\DLLs',\n",
       " 'C:\\\\Users\\\\esteb\\\\anaconda3\\\\envs\\\\esteban\\\\lib',\n",
       " 'C:\\\\Users\\\\esteb\\\\anaconda3\\\\envs\\\\esteban',\n",
       " '',\n",
       " 'C:\\\\Users\\\\esteb\\\\anaconda3\\\\envs\\\\esteban\\\\lib\\\\site-packages',\n",
       " 'C:\\\\Users\\\\esteb\\\\anaconda3\\\\envs\\\\esteban\\\\lib\\\\site-packages\\\\win32',\n",
       " 'C:\\\\Users\\\\esteb\\\\anaconda3\\\\envs\\\\esteban\\\\lib\\\\site-packages\\\\win32\\\\lib',\n",
       " 'C:\\\\Users\\\\esteb\\\\anaconda3\\\\envs\\\\esteban\\\\lib\\\\site-packages\\\\Pythonwin',\n",
       " 'C:\\\\Users\\\\esteb\\\\anaconda3\\\\envs\\\\esteban\\\\lib\\\\site-packages\\\\IPython\\\\extensions',\n",
       " 'C:\\\\Users\\\\esteb\\\\.ipython']"
      ]
     },
     "execution_count": 43,
     "metadata": {},
     "output_type": "execute_result"
    }
   ],
   "source": [
    "sys.path"
   ]
  },
  {
   "cell_type": "code",
   "execution_count": 44,
   "id": "1918b4dd-dba6-4721-92f1-e27348832993",
   "metadata": {},
   "outputs": [
    {
     "data": {
      "text/plain": [
       "['.ipynb_checkpoints',\n",
       " '00_cover_page.ipynb',\n",
       " '01_what_is_python.ipynb',\n",
       " '02_variables_in_python.ipynb',\n",
       " '03_conditionals.ipynb',\n",
       " '04_data_structures.ipynb',\n",
       " '05_loops.ipynb',\n",
       " '06_functions_i.ipynb',\n",
       " '07_modules.ipynb',\n",
       " '08_functions_ii.ipynb',\n",
       " '09_clases.ipynb',\n",
       " '10_files.ipynb',\n",
       " 'images',\n",
       " 'python_academic_ex.ipynb']"
      ]
     },
     "execution_count": 44,
     "metadata": {},
     "output_type": "execute_result"
    }
   ],
   "source": [
    "os.listdir(\"./\")"
   ]
  },
  {
   "cell_type": "code",
   "execution_count": 45,
   "id": "5d2cd283-315c-42a5-adf6-d17a30d21506",
   "metadata": {},
   "outputs": [
    {
     "data": {
      "text/plain": [
       "True"
      ]
     },
     "execution_count": 45,
     "metadata": {},
     "output_type": "execute_result"
    }
   ],
   "source": [
    "os.path.exists(\"10_files.ipynb\")"
   ]
  },
  {
   "cell_type": "code",
   "execution_count": 46,
   "id": "83474fd6-3cf5-4647-838c-48c84365b20a",
   "metadata": {},
   "outputs": [
    {
     "data": {
      "text/plain": [
       "False"
      ]
     },
     "execution_count": 46,
     "metadata": {},
     "output_type": "execute_result"
    }
   ],
   "source": [
    "os.path.exists(\"10.ipynb\")"
   ]
  },
  {
   "cell_type": "markdown",
   "id": "6e280ebd-d8a3-4053-9a1b-443d84c08135",
   "metadata": {},
   "source": [
    "<a id = \"7.1.3.\"></a>\n",
    "<a href=\"#idx7\"><p style=\"text-align:right;\" href=\"#idx7\">Back To Index</p></a> \n",
    "### 7.1.3. Copy"
   ]
  },
  {
   "cell_type": "markdown",
   "id": "912be52f-6a7c-443c-9eae-b29121885d86",
   "metadata": {},
   "source": [
    "In Python, we use `=` operator to create a copy of an object. You may think that this creates a new object; it doesn't. It only creates a new variable that shares the reference of the original object."
   ]
  },
  {
   "cell_type": "code",
   "execution_count": 2,
   "id": "0522217c-2eff-40b6-a386-89f7d5723be1",
   "metadata": {},
   "outputs": [
    {
     "name": "stdout",
     "output_type": "stream",
     "text": [
      "Old List: [[1, 2, 3], [4, 5, 6], [7, 8, 9]]\n",
      "ID of Old List: 2461298078400\n",
      "New List: [[1, 2, 3], [4, 5, 6], [7, 8, 9]]\n",
      "ID of New List: 2461298078400\n"
     ]
    }
   ],
   "source": [
    "old_list = [[1, 2, 3], [4, 5, 6], [7, 8, 'a']]\n",
    "new_list = old_list\n",
    "\n",
    "new_list[2][2] = 9\n",
    "\n",
    "print(\"Old List:\", old_list)\n",
    "print(\"ID of Old List:\", id(old_list))\n",
    "\n",
    "print(\"New List:\", new_list)\n",
    "print(\"ID of New List:\", id(new_list))"
   ]
  },
  {
   "cell_type": "markdown",
   "id": "c5948335-8d30-4e7c-a913-45b12ffda203",
   "metadata": {},
   "source": [
    "Essentially, sometimes you may want to have the original values unchanged and only modify the new values or vice versa. In Python, there are two ways to create copies:\n",
    "\n",
    "- Shallow Copy\n",
    "- Deep Copy"
   ]
  },
  {
   "cell_type": "code",
   "execution_count": 3,
   "id": "ad9fb5e8-4c78-4ad9-85bb-ca41806e3438",
   "metadata": {},
   "outputs": [],
   "source": [
    "import copy"
   ]
  },
  {
   "cell_type": "code",
   "execution_count": 5,
   "id": "e8fddba3-4623-4065-a524-ce4d1f7aca62",
   "metadata": {},
   "outputs": [
    {
     "name": "stdout",
     "output_type": "stream",
     "text": [
      "Old list: [[1, 2, 3], [4, 5, 6], [7, 8, 9]] 2461298440192\n",
      "New list: [[1, 2, 3], [4, 5, 6], [7, 8, 9]] 2461298142720\n"
     ]
    }
   ],
   "source": [
    "# Shallow copy\n",
    "old_list = [[1, 2, 3], [4, 5, 6], [7, 8, 9]]\n",
    "new_list = copy.copy(old_list)\n",
    "\n",
    "print(\"Old list:\", old_list, id(old_list))\n",
    "print(\"New list:\", new_list, id(new_list))"
   ]
  },
  {
   "cell_type": "code",
   "execution_count": 6,
   "id": "f14f9b91-1d4c-4c2d-968d-6792bdcec1ed",
   "metadata": {},
   "outputs": [
    {
     "name": "stdout",
     "output_type": "stream",
     "text": [
      "Old list: [[1, 1, 1], [2, 2, 2], [3, 3, 3], [4, 4, 4]]\n",
      "New list: [[1, 1, 1], [2, 2, 2], [3, 3, 3]]\n"
     ]
    }
   ],
   "source": [
    "old_list = [[1, 1, 1], [2, 2, 2], [3, 3, 3]]\n",
    "new_list = copy.copy(old_list)\n",
    "\n",
    "old_list.append([4, 4, 4])\n",
    "\n",
    "print(\"Old list:\", old_list)\n",
    "print(\"New list:\", new_list)"
   ]
  },
  {
   "cell_type": "code",
   "execution_count": 7,
   "id": "5c737c91-c87d-46ad-81c2-31b243700539",
   "metadata": {},
   "outputs": [
    {
     "name": "stdout",
     "output_type": "stream",
     "text": [
      "Old list: [[1, 1, 1], [2, 'AA', 2], [3, 3, 3]]\n",
      "New list: [[1, 1, 1], [2, 'AA', 2], [3, 3, 3]]\n"
     ]
    }
   ],
   "source": [
    "old_list = [[1, 1, 1], [2, 2, 2], [3, 3, 3]]\n",
    "new_list = copy.copy(old_list)\n",
    "\n",
    "old_list[1][1] = \"AA\"  # This will change new_list also becasue it shares the references of the nested objects. \n",
    "\n",
    "print(\"Old list:\", old_list)\n",
    "print(\"New list:\", new_list)"
   ]
  },
  {
   "cell_type": "code",
   "execution_count": 8,
   "id": "889575b4-7b26-41b6-bbba-5826975d6df9",
   "metadata": {},
   "outputs": [
    {
     "name": "stdout",
     "output_type": "stream",
     "text": [
      "Old list: [[1, 1, 1], [2, 2, 2], [3, 3, 3]] 2461298307136\n",
      "New list: [[1, 1, 1], [2, 2, 2], [3, 3, 3]] 2461298441472\n"
     ]
    }
   ],
   "source": [
    "# Deepcopy\n",
    "old_list = [[1, 1, 1], [2, 2, 2], [3, 3, 3]]\n",
    "new_list = copy.deepcopy(old_list)\n",
    "\n",
    "print(\"Old list:\", old_list, id(old_list))\n",
    "print(\"New list:\", new_list, id(new_list))"
   ]
  },
  {
   "cell_type": "code",
   "execution_count": 9,
   "id": "3f0eab37-ad60-4c15-837b-ef6ce2975d3d",
   "metadata": {},
   "outputs": [
    {
     "name": "stdout",
     "output_type": "stream",
     "text": [
      "Old list: [[1, 1, 1], ['BB', 2, 2], [3, 3, 3]]\n",
      "New list: [[1, 1, 1], [2, 2, 2], [3, 3, 3]]\n"
     ]
    }
   ],
   "source": [
    "old_list = [[1, 1, 1], [2, 2, 2], [3, 3, 3]]\n",
    "new_list = copy.deepcopy(old_list)\n",
    "\n",
    "old_list[1][0] = \"BB\"\n",
    "\n",
    "print(\"Old list:\", old_list)\n",
    "print(\"New list:\", new_list)"
   ]
  },
  {
   "cell_type": "markdown",
   "id": "6130eb01-a648-4f78-921d-5931fc7c37d4",
   "metadata": {},
   "source": [
    "<a id = \"7.2.\"></a>\n",
    "<a href=\"#idx7\"><p style=\"text-align:right;\" href=\"#idx7\">Back To Index</p></a> \n",
    "## 7.2. 3rd party libraries"
   ]
  },
  {
   "cell_type": "markdown",
   "id": "9292b096-9ce3-42d5-989f-7a5a97011f34",
   "metadata": {},
   "source": [
    "To use these libraries we have to download from `pip` or `conda` by doing from a cell:\n",
    "\n",
    "`!pip install library_name` or `!conda install library_name`"
   ]
  },
  {
   "cell_type": "markdown",
   "id": "1e216650-848d-49f1-b4fe-8d65bd762cd4",
   "metadata": {},
   "source": [
    "<a id = \"7.2.1.\"></a>\n",
    "<a href=\"#idx7\"><p style=\"text-align:right;\" href=\"#idx7\">Back To Index</p></a> \n",
    "### 7.2.1. Matplotlib"
   ]
  },
  {
   "cell_type": "markdown",
   "id": "44bad4ad-336e-46e0-bb37-42333f1c3705",
   "metadata": {},
   "source": [
    "This library is widely used to plot figures, you will see on data analysis."
   ]
  },
  {
   "cell_type": "code",
   "execution_count": 24,
   "id": "8c03cb32-ac55-41ee-bd92-06bf3cf22ab9",
   "metadata": {},
   "outputs": [],
   "source": [
    "import math\n",
    "\n",
    "import matplotlib.pyplot as plt"
   ]
  },
  {
   "cell_type": "code",
   "execution_count": 25,
   "id": "b79565a2-ed33-4dc9-9e16-05c3fc30cd20",
   "metadata": {},
   "outputs": [],
   "source": [
    "x = range(0, 100)\n",
    "def sine(x):\n",
    "    \"\"\"Return the sine of a list.\n",
    "    \n",
    "    Parameters\n",
    "    ----------\n",
    "        x list:\n",
    "            List with numbers to calculate the sine.\n",
    "            \n",
    "    Returns\n",
    "    -------\n",
    "        list:\n",
    "            List of the calculated sine\n",
    "    \"\"\"\n",
    "    return [math.sin(_) for _ in x]\n",
    "\n",
    "y = sine(x)"
   ]
  },
  {
   "cell_type": "code",
   "execution_count": 28,
   "id": "a8eed53c-5032-49b5-a880-b0a31f80ae04",
   "metadata": {},
   "outputs": [
    {
     "data": {
      "text/plain": [
       "[<matplotlib.lines.Line2D at 0x25177dcf1c0>]"
      ]
     },
     "execution_count": 28,
     "metadata": {},
     "output_type": "execute_result"
    },
    {
     "data": {
      "image/png": "[encoded data removed]",
      "text/plain": [
       "<Figure size 432x288 with 1 Axes>"
      ]
     },
     "metadata": {
      "needs_background": "light"
     },
     "output_type": "display_data"
    }
   ],
   "source": [
    "plt.plot(x, y)"
   ]
  },
  {
   "cell_type": "code",
   "execution_count": 29,
   "id": "fe6a5cc1-6837-4a56-ae67-b71a92fdbad9",
   "metadata": {},
   "outputs": [
    {
     "data": {
      "image/png": "[encoded data removed]",
      "text/plain": [
       "<Figure size 432x288 with 1 Axes>"
      ]
     },
     "metadata": {
      "needs_background": "light"
     },
     "output_type": "display_data"
    }
   ],
   "source": [
    "plt.plot(x, y);  # We use \";\" at the end of the line to avoid plot a msg"
   ]
  },
  {
   "cell_type": "code",
   "execution_count": 35,
   "id": "145d03f8-22ee-432a-bea8-11212e809e0c",
   "metadata": {},
   "outputs": [
    {
     "data": {
      "image/png": "[encoded data removed]",
      "text/plain": [
       "<Figure size 432x288 with 1 Axes>"
      ]
     },
     "metadata": {
      "needs_background": "light"
     },
     "output_type": "display_data"
    }
   ],
   "source": [
    "plt.plot(x, y, color=\"red\");\n",
    "plt.title(\"Sine\");\n",
    "plt.xlabel(\"X\");\n",
    "plt.ylabel(\"Y\");"
   ]
  },
  {
   "cell_type": "markdown",
   "id": "de350b9d-1157-4f06-8f4c-348d21b1eb06",
   "metadata": {},
   "source": [
    "<a id = \"7.2.2.\"></a>\n",
    "<a href=\"#idx7\"><p style=\"text-align:right;\" href=\"#idx7\">Back To Index</p></a> \n",
    "### 7.2.2. Numpy"
   ]
  },
  {
   "cell_type": "markdown",
   "id": "613033fb-c5e9-4a9b-b5bd-331d1b67ff38",
   "metadata": {},
   "source": [
    "- NumPy is a Python library used for working with arrays.\n",
    "- It also has functions for working in domain of linear algebra, fourier transform, and matrices.\n",
    "- NumPy stands for Numerical Python.\n",
    "- NumPy aims to provide an array object that is up to 50x faster than traditional Python lists.\n",
    "- Vectorized operations.\n"
   ]
  },
  {
   "cell_type": "code",
   "execution_count": 47,
   "id": "9dd39eae-b275-4250-b9b2-5ffcd4825218",
   "metadata": {},
   "outputs": [],
   "source": [
    "import numpy as np"
   ]
  },
  {
   "cell_type": "code",
   "execution_count": 48,
   "id": "ffc24bf0-6f44-480d-b5c0-bdaa277db4a7",
   "metadata": {},
   "outputs": [
    {
     "data": {
      "text/plain": [
       "numpy.ndarray"
      ]
     },
     "execution_count": 48,
     "metadata": {},
     "output_type": "execute_result"
    }
   ],
   "source": [
    "arr = np.array([1, 2, 3])\n",
    "type(arr)"
   ]
  },
  {
   "cell_type": "code",
   "execution_count": 51,
   "id": "555c1fdf-4eaf-4483-8468-a8fc1bb8dff7",
   "metadata": {},
   "outputs": [
    {
     "name": "stdout",
     "output_type": "stream",
     "text": [
      "[[1 0]\n",
      " [0 1]]\n"
     ]
    }
   ],
   "source": [
    "arr2 = np.array([[1, 0], [0, 1]])\n",
    "print(arr2)"
   ]
  },
  {
   "cell_type": "code",
   "execution_count": 57,
   "id": "05b0259b-f333-4cec-a7f1-27fd98916249",
   "metadata": {
    "collapsed": true,
    "jupyter": {
     "outputs_hidden": true
    },
    "tags": []
   },
   "outputs": [
    {
     "data": {
      "text/plain": [
       "array([0.        , 0.06346652, 0.12693304, 0.19039955, 0.25386607,\n",
       "       0.31733259, 0.38079911, 0.44426563, 0.50773215, 0.57119866,\n",
       "       0.63466518, 0.6981317 , 0.76159822, 0.82506474, 0.88853126,\n",
       "       0.95199777, 1.01546429, 1.07893081, 1.14239733, 1.20586385,\n",
       "       1.26933037, 1.33279688, 1.3962634 , 1.45972992, 1.52319644,\n",
       "       1.58666296, 1.65012947, 1.71359599, 1.77706251, 1.84052903,\n",
       "       1.90399555, 1.96746207, 2.03092858, 2.0943951 , 2.15786162,\n",
       "       2.22132814, 2.28479466, 2.34826118, 2.41172769, 2.47519421,\n",
       "       2.53866073, 2.60212725, 2.66559377, 2.72906028, 2.7925268 ,\n",
       "       2.85599332, 2.91945984, 2.98292636, 3.04639288, 3.10985939,\n",
       "       3.17332591, 3.23679243, 3.30025895, 3.36372547, 3.42719199,\n",
       "       3.4906585 , 3.55412502, 3.61759154, 3.68105806, 3.74452458,\n",
       "       3.8079911 , 3.87145761, 3.93492413, 3.99839065, 4.06185717,\n",
       "       4.12532369, 4.1887902 , 4.25225672, 4.31572324, 4.37918976,\n",
       "       4.44265628, 4.5061228 , 4.56958931, 4.63305583, 4.69652235,\n",
       "       4.75998887, 4.82345539, 4.88692191, 4.95038842, 5.01385494,\n",
       "       5.07732146, 5.14078798, 5.2042545 , 5.26772102, 5.33118753,\n",
       "       5.39465405, 5.45812057, 5.52158709, 5.58505361, 5.64852012,\n",
       "       5.71198664, 5.77545316, 5.83891968, 5.9023862 , 5.96585272,\n",
       "       6.02931923, 6.09278575, 6.15625227, 6.21971879, 6.28318531])"
      ]
     },
     "execution_count": 57,
     "metadata": {},
     "output_type": "execute_result"
    }
   ],
   "source": [
    "x = np.linspace(0, 2*np.pi, 100)\n",
    "x"
   ]
  },
  {
   "cell_type": "code",
   "execution_count": 58,
   "id": "124d33c9-6700-481e-8a6c-e04bd36bad07",
   "metadata": {
    "collapsed": true,
    "jupyter": {
     "outputs_hidden": true
    },
    "tags": []
   },
   "outputs": [
    {
     "data": {
      "text/plain": [
       "array([ 0.00000000e+00,  6.34239197e-02,  1.26592454e-01,  1.89251244e-01,\n",
       "        2.51147987e-01,  3.12033446e-01,  3.71662456e-01,  4.29794912e-01,\n",
       "        4.86196736e-01,  5.40640817e-01,  5.92907929e-01,  6.42787610e-01,\n",
       "        6.90079011e-01,  7.34591709e-01,  7.76146464e-01,  8.14575952e-01,\n",
       "        8.49725430e-01,  8.81453363e-01,  9.09631995e-01,  9.34147860e-01,\n",
       "        9.54902241e-01,  9.71811568e-01,  9.84807753e-01,  9.93838464e-01,\n",
       "        9.98867339e-01,  9.99874128e-01,  9.96854776e-01,  9.89821442e-01,\n",
       "        9.78802446e-01,  9.63842159e-01,  9.45000819e-01,  9.22354294e-01,\n",
       "        8.95993774e-01,  8.66025404e-01,  8.32569855e-01,  7.95761841e-01,\n",
       "        7.55749574e-01,  7.12694171e-01,  6.66769001e-01,  6.18158986e-01,\n",
       "        5.67059864e-01,  5.13677392e-01,  4.58226522e-01,  4.00930535e-01,\n",
       "        3.42020143e-01,  2.81732557e-01,  2.20310533e-01,  1.58001396e-01,\n",
       "        9.50560433e-02,  3.17279335e-02, -3.17279335e-02, -9.50560433e-02,\n",
       "       -1.58001396e-01, -2.20310533e-01, -2.81732557e-01, -3.42020143e-01,\n",
       "       -4.00930535e-01, -4.58226522e-01, -5.13677392e-01, -5.67059864e-01,\n",
       "       -6.18158986e-01, -6.66769001e-01, -7.12694171e-01, -7.55749574e-01,\n",
       "       -7.95761841e-01, -8.32569855e-01, -8.66025404e-01, -8.95993774e-01,\n",
       "       -9.22354294e-01, -9.45000819e-01, -9.63842159e-01, -9.78802446e-01,\n",
       "       -9.89821442e-01, -9.96854776e-01, -9.99874128e-01, -9.98867339e-01,\n",
       "       -9.93838464e-01, -9.84807753e-01, -9.71811568e-01, -9.54902241e-01,\n",
       "       -9.34147860e-01, -9.09631995e-01, -8.81453363e-01, -8.49725430e-01,\n",
       "       -8.14575952e-01, -7.76146464e-01, -7.34591709e-01, -6.90079011e-01,\n",
       "       -6.42787610e-01, -5.92907929e-01, -5.40640817e-01, -4.86196736e-01,\n",
       "       -4.29794912e-01, -3.71662456e-01, -3.12033446e-01, -2.51147987e-01,\n",
       "       -1.89251244e-01, -1.26592454e-01, -6.34239197e-02, -2.44929360e-16])"
      ]
     },
     "execution_count": 58,
     "metadata": {},
     "output_type": "execute_result"
    }
   ],
   "source": [
    "y = np.sin(x)  # this is a vectorize operation\n",
    "y"
   ]
  },
  {
   "cell_type": "code",
   "execution_count": 61,
   "id": "51b75bce-f38a-4074-ba94-f4267078038b",
   "metadata": {},
   "outputs": [
    {
     "name": "stdout",
     "output_type": "stream",
     "text": [
      "3.04 µs ± 309 ns per loop (mean ± std. dev. of 7 runs, 100000 loops each)\n"
     ]
    }
   ],
   "source": [
    "%%timeit\n",
    "np.sin(x)"
   ]
  },
  {
   "cell_type": "code",
   "execution_count": 62,
   "id": "60d4f1dd-aa67-4ed6-944e-8b9f9b5a5d9e",
   "metadata": {},
   "outputs": [
    {
     "name": "stdout",
     "output_type": "stream",
     "text": [
      "60.1 µs ± 4.32 µs per loop (mean ± std. dev. of 7 runs, 10000 loops each)\n"
     ]
    }
   ],
   "source": [
    "%%timeit\n",
    "sine(x)"
   ]
  },
  {
   "cell_type": "code",
   "execution_count": 59,
   "id": "aa20d115-995f-4302-be60-d61bfd7dbf1b",
   "metadata": {},
   "outputs": [
    {
     "data": {
      "image/png": "[encoded data removed]",
      "text/plain": [
       "<Figure size 432x288 with 1 Axes>"
      ]
     },
     "metadata": {
      "needs_background": "light"
     },
     "output_type": "display_data"
    }
   ],
   "source": [
    "plt.plot(x, y);"
   ]
  },
  {
   "cell_type": "markdown",
   "id": "0f944956-eeeb-4a4a-b6d6-585ae07d8540",
   "metadata": {},
   "source": [
    "#### Exercise 7.1.\n",
    "Create an array randomly of 10000 elements between 0 and 1 and analyse the time in calculate the `sqrt` using loops and using vectorize operations."
   ]
  },
  {
   "cell_type": "markdown",
   "id": "09112ff4-2a11-41a3-a0d9-a59cff000d1f",
   "metadata": {},
   "source": [
    "You can vectorize functions using [np.vectorize](https://numpy.org/doc/stable/reference/generated/numpy.vectorize.html)"
   ]
  },
  {
   "cell_type": "markdown",
   "id": "96cfb72b-8958-4638-ad91-2acdc2ba8e30",
   "metadata": {},
   "source": [
    "<a id = \"7.2.3.\"></a>\n",
    "<a href=\"#idx7\"><p style=\"text-align:right;\" href=\"#idx7\">Back To Index</p></a> \n",
    "### 7.2.3. Pandas"
   ]
  },
  {
   "cell_type": "markdown",
   "id": "d53452c7-aa75-4cc7-b72d-31014bf353f3",
   "metadata": {},
   "source": [
    "- Pandas is a Python library used for working with data sets.\n",
    "- It has functions for analyzing, cleaning, exploring, and manipulating data.\n",
    "- Pandas allows us to analyze big data and make conclusions based on statistical theories.\n",
    "- Pandas can clean messy data sets, and make them readable and relevant.\n",
    "- Is built on top of Numpy."
   ]
  },
  {
   "cell_type": "code",
   "execution_count": 64,
   "id": "f4beec59-8767-4601-9d38-a62445e26965",
   "metadata": {},
   "outputs": [],
   "source": [
    "import pandas as pd"
   ]
  },
  {
   "cell_type": "code",
   "execution_count": 65,
   "id": "613477b2-01ed-47a0-a151-3f4ff5d0091a",
   "metadata": {},
   "outputs": [],
   "source": [
    "df = pd.read_csv(\"./data/aux_data.csv\")"
   ]
  },
  {
   "cell_type": "code",
   "execution_count": 66,
   "id": "fd506d83-aa2f-43ed-9ccf-73dde5044fa3",
   "metadata": {},
   "outputs": [
    {
     "data": {
      "text/html": [
       "<div>\n",
       "<style scoped>\n",
       "    .dataframe tbody tr th:only-of-type {\n",
       "        vertical-align: middle;\n",
       "    }\n",
       "\n",
       "    .dataframe tbody tr th {\n",
       "        vertical-align: top;\n",
       "    }\n",
       "\n",
       "    .dataframe thead th {\n",
       "        text-align: right;\n",
       "    }\n",
       "</style>\n",
       "<table border=\"1\" class=\"dataframe\">\n",
       "  <thead>\n",
       "    <tr style=\"text-align: right;\">\n",
       "      <th></th>\n",
       "      <th>PassengerId</th>\n",
       "      <th>Survived</th>\n",
       "      <th>Pclass</th>\n",
       "      <th>Name</th>\n",
       "      <th>Sex</th>\n",
       "      <th>Age</th>\n",
       "      <th>SibSp</th>\n",
       "      <th>Parch</th>\n",
       "      <th>Ticket</th>\n",
       "      <th>Fare</th>\n",
       "      <th>Cabin</th>\n",
       "      <th>Embarked</th>\n",
       "    </tr>\n",
       "  </thead>\n",
       "  <tbody>\n",
       "    <tr>\n",
       "      <th>0</th>\n",
       "      <td>1</td>\n",
       "      <td>0</td>\n",
       "      <td>3</td>\n",
       "      <td>Braund, Mr. Owen Harris</td>\n",
       "      <td>male</td>\n",
       "      <td>22.0</td>\n",
       "      <td>1</td>\n",
       "      <td>0</td>\n",
       "      <td>A/5 21171</td>\n",
       "      <td>7.2500</td>\n",
       "      <td>NaN</td>\n",
       "      <td>S</td>\n",
       "    </tr>\n",
       "    <tr>\n",
       "      <th>1</th>\n",
       "      <td>2</td>\n",
       "      <td>1</td>\n",
       "      <td>1</td>\n",
       "      <td>Cumings, Mrs. John Bradley (Florence Briggs Th...</td>\n",
       "      <td>female</td>\n",
       "      <td>38.0</td>\n",
       "      <td>1</td>\n",
       "      <td>0</td>\n",
       "      <td>PC 17599</td>\n",
       "      <td>71.2833</td>\n",
       "      <td>C85</td>\n",
       "      <td>C</td>\n",
       "    </tr>\n",
       "    <tr>\n",
       "      <th>2</th>\n",
       "      <td>3</td>\n",
       "      <td>1</td>\n",
       "      <td>3</td>\n",
       "      <td>Heikkinen, Miss. Laina</td>\n",
       "      <td>female</td>\n",
       "      <td>26.0</td>\n",
       "      <td>0</td>\n",
       "      <td>0</td>\n",
       "      <td>STON/O2. 3101282</td>\n",
       "      <td>7.9250</td>\n",
       "      <td>NaN</td>\n",
       "      <td>S</td>\n",
       "    </tr>\n",
       "    <tr>\n",
       "      <th>3</th>\n",
       "      <td>4</td>\n",
       "      <td>1</td>\n",
       "      <td>1</td>\n",
       "      <td>Futrelle, Mrs. Jacques Heath (Lily May Peel)</td>\n",
       "      <td>female</td>\n",
       "      <td>35.0</td>\n",
       "      <td>1</td>\n",
       "      <td>0</td>\n",
       "      <td>113803</td>\n",
       "      <td>53.1000</td>\n",
       "      <td>C123</td>\n",
       "      <td>S</td>\n",
       "    </tr>\n",
       "    <tr>\n",
       "      <th>4</th>\n",
       "      <td>5</td>\n",
       "      <td>0</td>\n",
       "      <td>3</td>\n",
       "      <td>Allen, Mr. William Henry</td>\n",
       "      <td>male</td>\n",
       "      <td>35.0</td>\n",
       "      <td>0</td>\n",
       "      <td>0</td>\n",
       "      <td>373450</td>\n",
       "      <td>8.0500</td>\n",
       "      <td>NaN</td>\n",
       "      <td>S</td>\n",
       "    </tr>\n",
       "  </tbody>\n",
       "</table>\n",
       "</div>"
      ],
      "text/plain": [
       "   PassengerId  Survived  Pclass  \\\n",
       "0            1         0       3   \n",
       "1            2         1       1   \n",
       "2            3         1       3   \n",
       "3            4         1       1   \n",
       "4            5         0       3   \n",
       "\n",
       "                                                Name     Sex   Age  SibSp  \\\n",
       "0                            Braund, Mr. Owen Harris    male  22.0      1   \n",
       "1  Cumings, Mrs. John Bradley (Florence Briggs Th...  female  38.0      1   \n",
       "2                             Heikkinen, Miss. Laina  female  26.0      0   \n",
       "3       Futrelle, Mrs. Jacques Heath (Lily May Peel)  female  35.0      1   \n",
       "4                           Allen, Mr. William Henry    male  35.0      0   \n",
       "\n",
       "   Parch            Ticket     Fare Cabin Embarked  \n",
       "0      0         A/5 21171   7.2500   NaN        S  \n",
       "1      0          PC 17599  71.2833   C85        C  \n",
       "2      0  STON/O2. 3101282   7.9250   NaN        S  \n",
       "3      0            113803  53.1000  C123        S  \n",
       "4      0            373450   8.0500   NaN        S  "
      ]
     },
     "execution_count": 66,
     "metadata": {},
     "output_type": "execute_result"
    }
   ],
   "source": [
    "df.head()"
   ]
  },
  {
   "cell_type": "code",
   "execution_count": 68,
   "id": "15c5e993-6e46-4c9a-8c14-6cbe543bd3cc",
   "metadata": {},
   "outputs": [
    {
     "data": {
      "text/plain": [
       "Index(['PassengerId', 'Survived', 'Pclass', 'Name', 'Sex', 'Age', 'SibSp',\n",
       "       'Parch', 'Ticket', 'Fare', 'Cabin', 'Embarked'],\n",
       "      dtype='object')"
      ]
     },
     "execution_count": 68,
     "metadata": {},
     "output_type": "execute_result"
    }
   ],
   "source": [
    "df.columns"
   ]
  },
  {
   "cell_type": "code",
   "execution_count": 69,
   "id": "e7342add-c0a8-45a9-9473-9c7daadf73d5",
   "metadata": {},
   "outputs": [
    {
     "data": {
      "text/plain": [
       "29.69911764705882"
      ]
     },
     "execution_count": 69,
     "metadata": {},
     "output_type": "execute_result"
    }
   ],
   "source": [
    "df[\"Age\"].mean()"
   ]
  },
  {
   "cell_type": "markdown",
   "id": "d993a352-5e22-4a3a-ab75-563914937f2b",
   "metadata": {},
   "source": [
    "<a id = \"7.3.\"></a>\n",
    "<a href=\"#idx7\"><p style=\"text-align:right;\" href=\"#idx7\">Back To Index</p></a> \n",
    "## 7.3. Custom libraries"
   ]
  },
  {
   "cell_type": "markdown",
   "id": "447462db-3526-47b0-b74c-41f5bfdb604f",
   "metadata": {},
   "source": [
    "These are functionalities that you deploy to your own project and must be recognized in `sys.path` the route."
   ]
  },
  {
   "cell_type": "code",
   "execution_count": 4,
   "id": "415edcd6-96fe-4c89-a97d-9a51bbb940c8",
   "metadata": {},
   "outputs": [
    {
     "data": {
      "text/plain": [
       "['C:\\\\Users\\\\esteb\\\\Documents\\\\TheBridge\\\\bootcamp_pt_sept_2021\\\\RampUp\\\\02_Python_Programming',\n",
       " 'C:\\\\Users\\\\esteb\\\\anaconda3\\\\envs\\\\esteban\\\\python38.zip',\n",
       " 'C:\\\\Users\\\\esteb\\\\anaconda3\\\\envs\\\\esteban\\\\DLLs',\n",
       " 'C:\\\\Users\\\\esteb\\\\anaconda3\\\\envs\\\\esteban\\\\lib',\n",
       " 'C:\\\\Users\\\\esteb\\\\anaconda3\\\\envs\\\\esteban',\n",
       " '',\n",
       " 'C:\\\\Users\\\\esteb\\\\anaconda3\\\\envs\\\\esteban\\\\lib\\\\site-packages',\n",
       " 'C:\\\\Users\\\\esteb\\\\anaconda3\\\\envs\\\\esteban\\\\lib\\\\site-packages\\\\win32',\n",
       " 'C:\\\\Users\\\\esteb\\\\anaconda3\\\\envs\\\\esteban\\\\lib\\\\site-packages\\\\win32\\\\lib',\n",
       " 'C:\\\\Users\\\\esteb\\\\anaconda3\\\\envs\\\\esteban\\\\lib\\\\site-packages\\\\Pythonwin',\n",
       " 'C:\\\\Users\\\\esteb\\\\anaconda3\\\\envs\\\\esteban\\\\lib\\\\site-packages\\\\IPython\\\\extensions',\n",
       " 'C:\\\\Users\\\\esteb\\\\.ipython']"
      ]
     },
     "execution_count": 4,
     "metadata": {},
     "output_type": "execute_result"
    }
   ],
   "source": [
    "sys.path  # first line recognize 02_Python_Programming as a route to find modules"
   ]
  },
  {
   "cell_type": "code",
   "execution_count": 11,
   "id": "d23bd52b-c3f3-4922-9377-6fedbf3749ca",
   "metadata": {},
   "outputs": [],
   "source": [
    "from aux_module.aux_file import mean_function as mf\n",
    "import aux_module.constant as c"
   ]
  },
  {
   "cell_type": "code",
   "execution_count": 10,
   "id": "5b79e651-6f9a-439c-9958-44b7632c48a8",
   "metadata": {},
   "outputs": [
    {
     "data": {
      "text/plain": [
       "3.3600000000000003"
      ]
     },
     "execution_count": 10,
     "metadata": {},
     "output_type": "execute_result"
    }
   ],
   "source": [
    "mf([1, 2, 3, 4, 6.8])"
   ]
  },
  {
   "cell_type": "code",
   "execution_count": 12,
   "id": "07a809b1-0d96-4fc5-803a-4585f851e3b7",
   "metadata": {},
   "outputs": [
    {
     "data": {
      "text/plain": [
       "(5000, 'DOS')"
      ]
     },
     "execution_count": 12,
     "metadata": {},
     "output_type": "execute_result"
    }
   ],
   "source": [
    "c.CONSTANT_VARIABLE_1, c.CONSTANT_VARIABLE_2"
   ]
  },
  {
   "cell_type": "markdown",
   "id": "8019fbf7-d7d7-4f91-af44-6e54a582f5cd",
   "metadata": {},
   "source": [
    "[Definitive Guide Python Imports](https://chrisyeh96.github.io/2017/08/08/definitive-guide-python-imports.html)"
   ]
  },
  {
   "cell_type": "markdown",
   "id": "d0aced97-9e71-4c8c-adb4-7623d300e972",
   "metadata": {},
   "source": [
    "<div><a href=\"08_functions_ii.ipynb\"><p style=\"text-align:right;\" href=\"08_functions_ii.ipynb\">Next - 8. Functions II</p></a> "
   ]
  }
 ],
 "metadata": {
  "kernelspec": {
   "display_name": "Python 3",
   "language": "python",
   "name": "python3"
  },
  "language_info": {
   "codemirror_mode": {
    "name": "ipython",
    "version": 3
   },
   "file_extension": ".py",
   "mimetype": "text/x-python",
   "name": "python",
   "nbconvert_exporter": "python",
   "pygments_lexer": "ipython3",
   "version": "3.8.10"
  }
 },
 "nbformat": 4,
 "nbformat_minor": 5
}
