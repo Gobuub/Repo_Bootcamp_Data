{
 "cells": [
  {
   "cell_type": "markdown",
   "id": "2045adf2-0eb9-4922-9382-296bb7d4e152",
   "metadata": {},
   "source": [
    "<div style=\"text-align:center\"><img src=\"./images/functions.png\" /></div>"
   ]
  },
  {
   "cell_type": "markdown",
   "id": "05ce0aa9-4357-402c-8116-5f81a3bf13eb",
   "metadata": {},
   "source": [
    "<a href=\"00_cover_page.ipynb\"><p style=\"text-align:right;\" href=\"00_cover_page.ipynb\">Back To Cover Page</p></a> "
   ]
  },
  {
   "cell_type": "markdown",
   "id": "4648fbd1-fde4-416e-bdb0-e3f241079f4b",
   "metadata": {},
   "source": [
    "<a id = \"idx8\"></a>\n",
    "<a href=\"07_modules.ipynb\"><p style=\"text-align:left;\" href=\"07_modules.ipynb\">Back - 7. Modules</p></a></div>\n",
    "#### Index\n",
    "- [8. Functions (II)](#8.)\n",
    "    + [8.1. Anonymous functions](#8.1.)\n",
    "        * [8.1.1. Lambda](#8.1.1.)\n",
    "        * [8.1.2. Filter](#8.1.2.)\n",
    "        * [8.1.3. Map](#8.1.3.)\n",
    "        * [8.1.4. Reduce](#8.1.4.)\n",
    "    + [8.2. Recursive programming](#8.2.)\n",
    "    + [8.3. Generator](#8.3.)"
   ]
  },
  {
   "cell_type": "markdown",
   "id": "daea74d0-2c0d-47ba-a038-cb114db90154",
   "metadata": {},
   "source": [
    "<a id = \"8.\"></a>\n",
    "<a href=\"#idx8\"><p style=\"text-align:right;\" href=\"#idx8\">Back To Index</p></a> \n",
    "# 8. Functions (II)"
   ]
  },
  {
   "cell_type": "markdown",
   "id": "49ffaf6f-29f2-4492-b7f7-67d37b9b72f8",
   "metadata": {},
   "source": [
    "<a id = \"8.1.\"></a>\n",
    "<a href=\"#idx8\"><p style=\"text-align:right;\" href=\"#idx8\">Back To Index</p></a> \n",
    "## 8.1. Anonymous functions"
   ]
  },
  {
   "cell_type": "markdown",
   "id": "6cc2744d-eb1f-4cdd-809e-45d5f95def0b",
   "metadata": {},
   "source": [
    "- Anonymous functions: Function that is defined without a name. Anonymous functions are also called as lambda functions. They are not declared with the def keyword."
   ]
  },
  {
   "cell_type": "markdown",
   "id": "4d8fa121-0fb4-45a3-9a99-b44de97c0931",
   "metadata": {},
   "source": [
    "<a id = \"8.1.1.\"></a>\n",
    "<a href=\"#idx8\"><p style=\"text-align:right;\" href=\"#idx8\">Back To Index</p></a> \n",
    "### 8.1.1. Lambda"
   ]
  },
  {
   "cell_type": "markdown",
   "id": "eab45f1c-4cb5-4859-8ed0-5baaa80051d6",
   "metadata": {},
   "source": [
    "- A lambda function is an anonymous function (function without a name).\n",
    "- Lambda functions can have any number of arguments but only one expression. The expression is evaluated and returned.\n",
    "- We use lambda functions when we require a nameless function for a short period of time."
   ]
  },
  {
   "cell_type": "markdown",
   "id": "b74b5a60-c9e0-44d8-ba4c-893ba657cd19",
   "metadata": {},
   "source": [
    "```python\n",
    "# Theory\n",
    "lambda arguments: code\n",
    "\n",
    "# Example\n",
    "add = lambda a, b: a + b\n",
    "add(5, 6)\n",
    ">> 11\n",
    "```"
   ]
  },
  {
   "cell_type": "code",
   "execution_count": 1,
   "id": "4ba526e4-315e-4be9-8740-5e1d88b377a2",
   "metadata": {},
   "outputs": [
    {
     "data": {
      "text/plain": [
       "11"
      ]
     },
     "execution_count": 1,
     "metadata": {},
     "output_type": "execute_result"
    }
   ],
   "source": [
    "add = lambda a,b: a + b\n",
    "add(5, 6)"
   ]
  },
  {
   "cell_type": "code",
   "execution_count": 4,
   "id": "e405e7c8-95fa-43ca-9a9a-f330f6d58bdb",
   "metadata": {},
   "outputs": [
    {
     "data": {
      "text/plain": [
       "(6, 4950)"
      ]
     },
     "execution_count": 4,
     "metadata": {},
     "output_type": "execute_result"
    }
   ],
   "source": [
    "summ = lambda *args: sum(args)\n",
    "summ(1, 2, 3), summ(*list(range(100)))"
   ]
  },
  {
   "cell_type": "code",
   "execution_count": 5,
   "id": "6a5a8374-3109-4ffa-b1eb-fc1d202ce0aa",
   "metadata": {},
   "outputs": [
    {
     "data": {
      "text/plain": [
       "(6000, 12000000)"
      ]
     },
     "execution_count": 5,
     "metadata": {},
     "output_type": "execute_result"
    }
   ],
   "source": [
    "def product(nums):\n",
    "    total = 1\n",
    "    for i in nums:\n",
    "        total *= i\n",
    "    return total\n",
    "\n",
    "res1 = (lambda **kwargs: product(kwargs.values()))\n",
    "res1(a=10, b=20, c=30), res1(a=10, b=20, c=30, d=40, e=50)"
   ]
  },
  {
   "cell_type": "markdown",
   "id": "fae43679-a34b-4424-a414-5cdbdab127e3",
   "metadata": {},
   "source": [
    "<a id = \"8.1.2.\"></a>\n",
    "<a href=\"#idx8\"><p style=\"text-align:right;\" href=\"#idx8\">Back To Index</p></a> \n",
    "### 8.1.2. Filter"
   ]
  },
  {
   "cell_type": "markdown",
   "id": "7d26298b-b681-40af-bbec-ff712af31055",
   "metadata": {},
   "source": [
    "- It is used to filter the iterables/sequence as per the conditions.\n",
    "- Filter function filters the original iterable and passes the items that returns True for the function provided to filter.\n",
    "- It is normally used with Lambda functions to filter list, tuple, or sets."
   ]
  },
  {
   "cell_type": "markdown",
   "id": "d3d7b7cb-dddd-4271-9159-41071d55db3b",
   "metadata": {},
   "source": [
    "```python\n",
    "# Theory\n",
    "filter(function, iterable)\n",
    "\n",
    "# Example\n",
    "list(filter(lambda x: x!=2, [1, 2, 3, 4]))\n",
    ">> [1, 3, 4]\n",
    "```"
   ]
  },
  {
   "cell_type": "code",
   "execution_count": 7,
   "id": "570ee015-8cf6-4e2a-8668-b266ab4801db",
   "metadata": {},
   "outputs": [
    {
     "data": {
      "text/plain": [
       "[1, 3, 4]"
      ]
     },
     "execution_count": 7,
     "metadata": {},
     "output_type": "execute_result"
    }
   ],
   "source": [
    "list(filter(lambda x: x!=2, [1, 2, 3, 4]))"
   ]
  },
  {
   "cell_type": "code",
   "execution_count": 8,
   "id": "1df80a5e-03c8-454f-82b1-c26cdc77cca2",
   "metadata": {},
   "outputs": [
    {
     "data": {
      "text/plain": [
       "[1, 3, 5, 7, 9]"
      ]
     },
     "execution_count": 8,
     "metadata": {},
     "output_type": "execute_result"
    }
   ],
   "source": [
    "list1 = list(range(1, 10))\n",
    "\n",
    "odd_filter = filter(lambda n: n%2==1, list1)\n",
    "list(odd_filter)"
   ]
  },
  {
   "cell_type": "markdown",
   "id": "fe93228d-def3-4d50-9260-504ae69aca71",
   "metadata": {},
   "source": [
    "<a id = \"8.1.3.\"></a>\n",
    "<a href=\"#idx8\"><p style=\"text-align:right;\" href=\"#idx8\">Back To Index</p></a> \n",
    "### 8.1.3. Map"
   ]
  },
  {
   "cell_type": "markdown",
   "id": "dd6daaad-602f-4fae-a963-1523ace2ab14",
   "metadata": {},
   "source": [
    "- The map() function applies a given function to each item of an iterable (list, tuple etc.) and returns a list of the results.\n"
   ]
  },
  {
   "cell_type": "markdown",
   "id": "bc72aaac-ce02-48ee-a565-51083ab24ccb",
   "metadata": {},
   "source": [
    "```python\n",
    "# Theory\n",
    "map(function, iterable)\n",
    "\n",
    "# Example\n",
    "list(map(lambda x: x**2, [1, 2, 3, 4]))\n",
    ">> [1, 4, 9, 16]\n",
    "```"
   ]
  },
  {
   "cell_type": "code",
   "execution_count": 18,
   "id": "eefeb5e6-2618-40c9-b686-da7d5eb46439",
   "metadata": {},
   "outputs": [
    {
     "data": {
      "text/plain": [
       "[1, 8, 27, 64, 125, 216, 343, 512, 729]"
      ]
     },
     "execution_count": 18,
     "metadata": {},
     "output_type": "execute_result"
    }
   ],
   "source": [
    "list1 = list(range(1, 10))\n",
    "\n",
    "power3 = map(lambda n: n**3, list1)\n",
    "l_power3 = list(power3)\n",
    "l_power3"
   ]
  },
  {
   "cell_type": "markdown",
   "id": "c7399bcc-71dd-4d1c-be9c-f0c162fd2051",
   "metadata": {},
   "source": [
    "<a id = \"8.1.4.\"></a>\n",
    "<a href=\"#idx8\"><p style=\"text-align:right;\" href=\"#idx8\">Back To Index</p></a> \n",
    "### 8.1.4. Reduce"
   ]
  },
  {
   "cell_type": "markdown",
   "id": "be2bb92f-171e-4d5d-b7c7-cd8f454de0d1",
   "metadata": {},
   "source": [
    "- The reduce() function is defined in the functools python module.The reduce() function receives two arguments, a function and an iterable. However, it doesn't return another iterable, instead it returns a single value."
   ]
  },
  {
   "cell_type": "markdown",
   "id": "ddb9f8eb-6ea3-4d5b-8778-81e019e7f069",
   "metadata": {},
   "source": [
    "```python\n",
    "# Theory\n",
    "from functools import reduce\n",
    "reduce(function, iterable)\n",
    "```"
   ]
  },
  {
   "cell_type": "code",
   "execution_count": 20,
   "id": "3f7b229d-c5c4-41a1-a37a-9011eea1d822",
   "metadata": {},
   "outputs": [
    {
     "data": {
      "text/plain": [
       "2025"
      ]
     },
     "execution_count": 20,
     "metadata": {},
     "output_type": "execute_result"
    }
   ],
   "source": [
    "from functools import reduce\n",
    "\n",
    "sum_all = reduce(lambda a,b: a+b, l_power3)\n",
    "sum_all"
   ]
  },
  {
   "cell_type": "markdown",
   "id": "eec236f5-3c40-4a80-88cf-aaa4714709d9",
   "metadata": {},
   "source": [
    "#### Exercise 8.1.\n",
    "Sort the following list using lambda expression and by the integer value from the highest.\n",
    "```python\n",
    "lis = [(\"one\", 298), (\"two\", 193), (\"three\", 1), (\"four\", 93), (\"five\", 129)]\n",
    "```"
   ]
  },
  {
   "cell_type": "markdown",
   "id": "2bd7a90b-b668-4c23-9546-f212d39d36ad",
   "metadata": {},
   "source": [
    "#### Exercise 8.2.\n",
    "Write a list of 100 elements randomly and sum only the odd values."
   ]
  },
  {
   "cell_type": "markdown",
   "id": "9a57beee-f33e-45d6-8c82-43dc0bd4dac1",
   "metadata": {},
   "source": [
    "#### Exercise 8.3.\n",
    "Create a list of strings and sort them by its length using Anonymous functions."
   ]
  },
  {
   "cell_type": "markdown",
   "id": "f65a3258-1357-4fe2-9a05-0a77af43fa4e",
   "metadata": {},
   "source": [
    "<a id = \"8.2.\"></a>\n",
    "<a href=\"#idx8\"><p style=\"text-align:right;\" href=\"#idx8\">Back To Index</p></a> \n",
    "## 8.2. Recursive programming"
   ]
  },
  {
   "cell_type": "code",
   "execution_count": 21,
   "id": "7ed445f4-9df0-4ccd-b0fa-6eb8b3b10e8d",
   "metadata": {},
   "outputs": [
    {
     "data": {
      "text/plain": [
       "(120, 1, 1, 720)"
      ]
     },
     "execution_count": 21,
     "metadata": {},
     "output_type": "execute_result"
    }
   ],
   "source": [
    "def factorial(num):\n",
    "    \"\"\"Calculate factorial of a number using recursive function\"\"\"\n",
    "    if num <=1 :\n",
    "        return 1\n",
    "    else:\n",
    "        return num * factorial(num-1)\n",
    "\n",
    "factorial(5), factorial(0), factorial(1), factorial(6)"
   ]
  },
  {
   "cell_type": "code",
   "execution_count": 22,
   "id": "427ac120-d000-4952-815b-2980072ce9cc",
   "metadata": {},
   "outputs": [
    {
     "data": {
      "text/plain": [
       "(10, 55)"
      ]
     },
     "execution_count": 22,
     "metadata": {},
     "output_type": "execute_result"
    }
   ],
   "source": [
    "def add(num):\n",
    "    \"\"\"Sum of first n natural numbers.\"\"\"\n",
    "    if num == 0:\n",
    "        return 0\n",
    "    else:\n",
    "        return num + add(num-1)\n",
    "\n",
    "add(4), add(10)"
   ]
  },
  {
   "cell_type": "code",
   "execution_count": 24,
   "id": "d023b3a4-2024-447a-b672-3aa3ecc10902",
   "metadata": {},
   "outputs": [
    {
     "data": {
      "text/plain": [
       "(55, 5)"
      ]
     },
     "execution_count": 24,
     "metadata": {},
     "output_type": "execute_result"
    }
   ],
   "source": [
    "def fibonacci(num):\n",
    "    if num <= 1:\n",
    "        return num\n",
    "    if num == 2:\n",
    "        return 1\n",
    "    else:\n",
    "        return(fibonacci(num-1) + fibonacci(num-2)) \n",
    "\n",
    "fibonacci(10), fibonacci(5)"
   ]
  },
  {
   "cell_type": "markdown",
   "id": "7795f499-5707-492b-95dc-3ce7c44c343b",
   "metadata": {},
   "source": [
    "<a id = \"8.3.\"></a>\n",
    "<a href=\"#idx8\"><p style=\"text-align:right;\" href=\"#idx8\">Back To Index</p></a> \n",
    "## 8.3. Generator"
   ]
  },
  {
   "cell_type": "markdown",
   "id": "35f35546-4ce9-4148-b192-b72c0101b04d",
   "metadata": {},
   "source": [
    "- An iterable is an object that can be iterated upon. It can return an iterator object with the purpose of traversing through all the elements of an iterable.\n",
    "- An iterable object implements `iter()` which is expected to return an iterator object. The iterator object uses the `next()` method. Every time `next()` is called next element in the iterator stream is returned. When there are no more elements available StopIteration exception is encountered. So any object that has a `next()` method is called an iterator.\n",
    "- Python lists, tuples, dictionaries and sets are all examples of iterable objects.\n",
    "- Python generators are easy way of creating iterators. It generates values one at a time from a given sequence instead of returning the entire sequence at once.\n",
    "- It is a special type of function which returns an iterator object.\n",
    "- In a generator function, a yield statement is used rather than a return statement.\n",
    "- The generator function cannot include the return keyword. If we include it then it will terminate the execution of the function.\n",
    "- The difference between yield and return is that once yield returns a value the function is paused and the control is transferred to the caller.Local variables and their states are remembered between successive calls. In case of the return statement value is returned and the execution of the function is terminated.\n",
    "- Methods like iter() and next() are implemented automatically in generator function.\n",
    "- Simple generators can be easily created using generator expressions. Generator expressions create anonymous generator functions like lambda.\n",
    "- The syntax for generator expression is similar to that of a list comprehension but the only difference is square brackets are replaced with round parentheses. Also list comprehension produces the entire list while the generator expression produces one item at a time which is more memory efficient than list comprehension."
   ]
  },
  {
   "cell_type": "code",
   "execution_count": 2,
   "id": "f305b275-b6c0-4acb-89a2-041219cccd3a",
   "metadata": {},
   "outputs": [
    {
     "name": "stdout",
     "output_type": "stream",
     "text": [
      "Jose\n",
      "Pilar\n",
      "Manuel\n",
      "Noelia\n"
     ]
    },
    {
     "ename": "StopIteration",
     "evalue": "",
     "output_type": "error",
     "traceback": [
      "\u001b[1;31m---------------------------------------------------------------------------\u001b[0m",
      "\u001b[1;31mStopIteration\u001b[0m                             Traceback (most recent call last)",
      "\u001b[1;32m<ipython-input-2-9af15cb7e5d9>\u001b[0m in \u001b[0;36m<module>\u001b[1;34m\u001b[0m\n\u001b[0;32m      5\u001b[0m \u001b[0mprint\u001b[0m\u001b[1;33m(\u001b[0m\u001b[0mnext\u001b[0m\u001b[1;33m(\u001b[0m\u001b[0mlist_iter\u001b[0m\u001b[1;33m)\u001b[0m\u001b[1;33m)\u001b[0m\u001b[1;33m\u001b[0m\u001b[1;33m\u001b[0m\u001b[0m\n\u001b[0;32m      6\u001b[0m \u001b[0mprint\u001b[0m\u001b[1;33m(\u001b[0m\u001b[0mnext\u001b[0m\u001b[1;33m(\u001b[0m\u001b[0mlist_iter\u001b[0m\u001b[1;33m)\u001b[0m\u001b[1;33m)\u001b[0m\u001b[1;33m\u001b[0m\u001b[1;33m\u001b[0m\u001b[0m\n\u001b[1;32m----> 7\u001b[1;33m \u001b[0mprint\u001b[0m\u001b[1;33m(\u001b[0m\u001b[0mnext\u001b[0m\u001b[1;33m(\u001b[0m\u001b[0mlist_iter\u001b[0m\u001b[1;33m)\u001b[0m\u001b[1;33m)\u001b[0m\u001b[1;33m\u001b[0m\u001b[1;33m\u001b[0m\u001b[0m\n\u001b[0m",
      "\u001b[1;31mStopIteration\u001b[0m: "
     ]
    }
   ],
   "source": [
    "mylist = [\"Jose\", \"Pilar\", \"Manuel\", \"Noelia\"]\n",
    "list_iter = iter(mylist)\n",
    "print(next(list_iter))\n",
    "print(next(list_iter))\n",
    "print(next(list_iter))\n",
    "print(next(list_iter))\n",
    "print(next(list_iter))"
   ]
  },
  {
   "cell_type": "code",
   "execution_count": 3,
   "id": "b12fab3f-1833-4cb5-b038-597f9f329745",
   "metadata": {},
   "outputs": [
    {
     "name": "stdout",
     "output_type": "stream",
     "text": [
      "1\n",
      "1\n",
      "2\n",
      "3\n",
      "5\n",
      "8\n",
      "13\n",
      "21\n",
      "34\n"
     ]
    }
   ],
   "source": [
    "class myfibonacci:\n",
    "    def __init__(self):\n",
    "        self.prev = 0\n",
    "        self.cur = 0\n",
    "\n",
    "    def __iter__(self):\n",
    "        self.prev = 0\n",
    "        self.cur = 1\n",
    "        return self\n",
    "\n",
    "    def __next__(self):\n",
    "        if self.cur <= 50:\n",
    "            val = self.cur\n",
    "            self.cur += self.prev\n",
    "            self.prev = val\n",
    "            return val\n",
    "        else:\n",
    "            raise StopIteration\n",
    "\n",
    "myfibo = myfibonacci()\n",
    "iter1 = iter(myfibo)\n",
    "for i in iter1:\n",
    "    print(i)"
   ]
  },
  {
   "cell_type": "code",
   "execution_count": 10,
   "id": "ad19fd7d-3cff-4140-be9d-0eeda3cbee30",
   "metadata": {},
   "outputs": [
    {
     "name": "stdout",
     "output_type": "stream",
     "text": [
      "1\n",
      "2\n",
      "3\n",
      "4\n"
     ]
    }
   ],
   "source": [
    "# Simple generator function that will generate natural numbers from 1 to 4.\n",
    "def mygen():\n",
    "    for i in range(1, 5):\n",
    "        yield i\n",
    "\n",
    "mygen1 = mygen()\n",
    "for i in mygen1:\n",
    "    print(i)"
   ]
  },
  {
   "cell_type": "markdown",
   "id": "9616a87d-1b2b-459a-93ee-3949677aa2a7",
   "metadata": {},
   "source": [
    "<div><a href=\"09_classes.ipynb\"><p style=\"text-align:right;\" href=\"09_classes.ipynb\">Next - 9. Classes</p></a> "
   ]
  }
 ],
 "metadata": {
  "kernelspec": {
   "display_name": "Python 3",
   "language": "python",
   "name": "python3"
  },
  "language_info": {
   "codemirror_mode": {
    "name": "ipython",
    "version": 3
   },
   "file_extension": ".py",
   "mimetype": "text/x-python",
   "name": "python",
   "nbconvert_exporter": "python",
   "pygments_lexer": "ipython3",
   "version": "3.8.10"
  }
 },
 "nbformat": 4,
 "nbformat_minor": 5
}
