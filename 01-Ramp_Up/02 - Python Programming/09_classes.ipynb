{
 "cells": [
  {
   "cell_type": "markdown",
   "id": "f404b2cb-e7d9-4420-ae7a-21abefa472e3",
   "metadata": {},
   "source": [
    "<div style=\"text-align:center\"><img src=\"./images/classes.png\" /></div>"
   ]
  },
  {
   "cell_type": "markdown",
   "id": "82c49962-723d-4db1-9f1c-e80807761227",
   "metadata": {},
   "source": [
    "<a href=\"00_cover_page.ipynb\"><p style=\"text-align:right;\" href=\"00_cover_page.ipynb\">Back To Cover Page</p></a> "
   ]
  },
  {
   "cell_type": "markdown",
   "id": "ac61f0ad-2ec2-4569-b3b5-572370d6f532",
   "metadata": {},
   "source": [
    "<a id = \"idx9\"></a>\n",
    "<a href=\"08_functions_ii.ipynb\"><p style=\"text-align:left;\" href=\"08_functions_ii.ipynb\">Back - 8. Functions (II)</p></a></div>\n",
    "#### Index\n",
    "- [9. Classes](#9.)\n",
    "    + [9.1. Inheritance](#9.1.)\n",
    "    + [9.2. Decorator](#9.2.)"
   ]
  },
  {
   "cell_type": "markdown",
   "id": "298ec9ab-f3a3-43f5-8536-4f6c2421909a",
   "metadata": {},
   "source": [
    "<a id = \"9.\"></a>\n",
    "<a href=\"#idx9\"><p style=\"text-align:right;\" href=\"#idx9\">Back To Index</p></a> \n",
    "# 9. Classes"
   ]
  },
  {
   "cell_type": "markdown",
   "id": "f6a11867-ccb4-4124-96ae-29777561074d",
   "metadata": {},
   "source": [
    "- A Class is an object constructor or a \"blueprint\" for creating objects.\n",
    "- Objects are nothing but an encapsulation of variables and functions into a single entity.\n",
    "- Objects get their variables and functions from classes.\n",
    "- To create a class we use the keyword `class`.\n",
    "- The first string inside the class is called docstring which gives the brief description about the class.\n",
    "- All classes have a function called `__init__()` which is always executed when the class is being initiated.\n",
    "- We can use function `__init__()` to assign values to object properties or other operations that are necessary to perform when the object is being created\n",
    "- We can have common atributes of the class, defined inside the class, or atributes of the class when is instantiated via `__init__()` and self.\n",
    "- The self parameter is a reference to the current instance of the class and is used to access class variables.\n",
    "- self must be the first parameter of any function in the class\n",
    "- The `super()` builtin function returns a temporary object of the superclass that allows us to access methods of the base class.\n",
    "- `super()` allows us to avoid using the base class name explicitly and to enable multiple inheritance.\n",
    "-  To define a class we use CamelCase style.\n",
    "- When creating a new class, a new object type is created, allowing new instances of that type to be created. Each class instance can have attributes attached to it to maintain its state. Class instances can also have methods (defined by their class) to modify their state."
   ]
  },
  {
   "cell_type": "markdown",
   "id": "d01ac26f-6aa8-45eb-b145-9ad22c6dfbd1",
   "metadata": {},
   "source": [
    "```python\n",
    "# Theory\n",
    "class MiFirstClass:\n",
    "    \"\"\"Class docstring.\"\"\"\n",
    "    # Common variables.\n",
    "    v0 = \"Hello \"\n",
    "    \n",
    "    def __init__(self, var1):\n",
    "        \"\"\"Class constructor docstring.\"\"\"\n",
    "        self.v1 = var1 \n",
    "    \n",
    "    def method1(self):\n",
    "        \"\"\"Method1 docstring.\"\"\"\n",
    "        print(self.v0 + self.v1)\n",
    "\n",
    "mfc = MiFirstClass(\"World\")\n",
    "mfc.method1()\n",
    ">> \"Hello World\"\n",
    "\n",
    "mfc2 = MiFirstClass(\"Class\")\n",
    "mfc2.method1()\n",
    ">> \"Hello Class\"\n",
    "```"
   ]
  },
  {
   "cell_type": "code",
   "execution_count": 2,
   "id": "7fde8a4a-66b5-4ecc-b2c3-1765f48b4a8c",
   "metadata": {},
   "outputs": [],
   "source": [
    "class Employee:\n",
    "    \"\"\"Employee class.\"\"\"\n",
    "    \n",
    "    comp_name = \"The Bridge Education\"\n",
    "    \n",
    "    def __init__(self, name, empid):\n",
    "        \"\"\"Employee constructor.\n",
    "        \n",
    "        Parameters\n",
    "        ----------\n",
    "            name str:\n",
    "                Name of the employee.\n",
    "            empid int:\n",
    "                Id of the employee.\n",
    "        \n",
    "        Return\n",
    "        ------\n",
    "            None\n",
    "        \"\"\"\n",
    "        self.name = name\n",
    "        self.empid = empid\n",
    "        \n",
    "    def greet(self):\n",
    "        \"\"\"Greeting the new employee.\"\"\"\n",
    "        print(f\"Thanks for joining {self.comp_name} {self.name}!!\")\n",
    "\n",
    "employee = Employee(\"Esteban\", 1234567890)"
   ]
  },
  {
   "cell_type": "code",
   "execution_count": 3,
   "id": "fdc007e9-8c81-4de6-ab21-69c9d5b1619d",
   "metadata": {},
   "outputs": [
    {
     "name": "stdout",
     "output_type": "stream",
     "text": [
      "Thanks for joining The Bridge Education Esteban!!\n"
     ]
    }
   ],
   "source": [
    "employee.greet()"
   ]
  },
  {
   "cell_type": "code",
   "execution_count": 4,
   "id": "2e082ecd-9475-4d77-a599-dc30f394b992",
   "metadata": {},
   "outputs": [
    {
     "data": {
      "text/plain": [
       "('Esteban', 1234567890)"
      ]
     },
     "execution_count": 4,
     "metadata": {},
     "output_type": "execute_result"
    }
   ],
   "source": [
    "employee.name, employee.empid"
   ]
  },
  {
   "cell_type": "code",
   "execution_count": 5,
   "id": "8e7f2761-3db5-41b4-afa2-5a99f096641f",
   "metadata": {},
   "outputs": [
    {
     "name": "stdout",
     "output_type": "stream",
     "text": [
      "Thanks for joining Sony Esteban!!\n",
      "Thanks for joining Sony Carmen!!\n"
     ]
    }
   ],
   "source": [
    "# We can change attribute values\n",
    "employee.comp_name = \"Sony\"\n",
    "employee.greet()\n",
    "\n",
    "employee.name = \"Carmen\"\n",
    "employee.greet()"
   ]
  },
  {
   "cell_type": "code",
   "execution_count": 6,
   "id": "7439dfae-714d-4651-80e0-c08bb9000fff",
   "metadata": {},
   "outputs": [],
   "source": [
    "# Set private attributes.\n",
    "\n",
    "class Employee:\n",
    "    \"\"\"Employee class.\"\"\"\n",
    "    \n",
    "    __comp_name = \"The Bridge Education\"  # Adding extra __ at the beginning will set an attribute as private.\n",
    "    \n",
    "    def __init__(self, name, empid):\n",
    "        \"\"\"Employee constructor.\n",
    "        \n",
    "        Parameters\n",
    "        ----------\n",
    "            name str:\n",
    "                Name of the employee.\n",
    "            empid int:\n",
    "                Id of the employee.\n",
    "        \n",
    "        Return\n",
    "        ------\n",
    "            None\n",
    "        \"\"\"\n",
    "        self.name = name\n",
    "        self.empid = empid\n",
    "        \n",
    "    def greet(self):\n",
    "        \"\"\"Greeting the new employee.\"\"\"\n",
    "        print(f\"Thanks for joining {self.__comp_name} {self.name}!!\")\n",
    "\n",
    "employee = Employee(\"Esteban\", 1234567890)"
   ]
  },
  {
   "cell_type": "code",
   "execution_count": 7,
   "id": "5a99c406-8247-415d-9b5b-650d997259f9",
   "metadata": {},
   "outputs": [
    {
     "name": "stdout",
     "output_type": "stream",
     "text": [
      "Thanks for joining The Bridge Education Esteban!!\n"
     ]
    }
   ],
   "source": [
    "employee.greet()"
   ]
  },
  {
   "cell_type": "code",
   "execution_count": 8,
   "id": "32f74110-fe64-4874-9eb0-ce2b0db62bfe",
   "metadata": {},
   "outputs": [
    {
     "ename": "AttributeError",
     "evalue": "'Employee' object has no attribute '__comp_name'",
     "output_type": "error",
     "traceback": [
      "\u001b[1;31m---------------------------------------------------------------------------\u001b[0m",
      "\u001b[1;31mAttributeError\u001b[0m                            Traceback (most recent call last)",
      "\u001b[1;32m<ipython-input-8-b39fa4637a85>\u001b[0m in \u001b[0;36m<module>\u001b[1;34m\u001b[0m\n\u001b[1;32m----> 1\u001b[1;33m \u001b[0memployee\u001b[0m\u001b[1;33m.\u001b[0m\u001b[0m__comp_name\u001b[0m  \u001b[1;31m# We cannot change now because it is private.\u001b[0m\u001b[1;33m\u001b[0m\u001b[1;33m\u001b[0m\u001b[0m\n\u001b[0m",
      "\u001b[1;31mAttributeError\u001b[0m: 'Employee' object has no attribute '__comp_name'"
     ]
    }
   ],
   "source": [
    "employee.__comp_name  # We cannot change now because it is private."
   ]
  },
  {
   "cell_type": "markdown",
   "id": "0976d416-d524-4115-b7e5-8dbef66741ba",
   "metadata": {},
   "source": [
    "#### Exercise 9.1.\n",
    "Create a Car class:\n",
    "1. Private numbers of wheels = 4\n",
    "2. method get_name and a variable name\n",
    "3. getter of number of wheels\n",
    "4. show info"
   ]
  },
  {
   "cell_type": "markdown",
   "id": "2095839c-e6b9-4328-8335-f194bdc2179d",
   "metadata": {},
   "source": [
    "<a id = \"9.1.\"></a>\n",
    "<a href=\"#idx9\"><p style=\"text-align:right;\" href=\"#idx9\">Back To Index</p></a> \n",
    "## 9.1. Inheritance"
   ]
  },
  {
   "cell_type": "markdown",
   "id": "10848d10-0a08-42ca-be7c-8b8878555b81",
   "metadata": {},
   "source": [
    "- Inheritance is a powerful feature in object oriented programming.\n",
    "- Inheritance provides code reusability in the program because we can use an existing class (Super Class/ Parent Class / Base Class) to create a new class (Sub Class / Child Class / Derived Class) instead of creating it from scratch.\n",
    "- The child class inherits data definitions and methods from the parent class which facilitates the reuse of features already available. The child class can add few more definitions or redefine a base class method.\n",
    "- Inheritance comes into picture when a new class possesses the 'IS A' relationship with an existing class. E.g Student is a person. Hence person is the base class and student is derived class.\n",
    "- In this type of inheritance, a class can inherit from a child class or derived class.\n",
    "- Multilevel Inheritance can be of any depth in python.\n",
    "- Overriding is a very important part of object oreinted programming because it makes inheritance exploit its full power.\n",
    "- Overriding is the ability of a class (Sub Class / Child Class / Derived Class) to change the implementation of a method provided by one of its parent classes.\n",
    "- When a method in a subclass has the same name, same parameter and same return type as a method in its super-class, then the method in the subclass is said to override the method in the super-class.\n",
    "- The version of a method that is executed will be determined by the object that is used to invoke it.\n",
    "- If an object of a parent class is used to invoke the method, then the version in the parent class will be executed, but if an object of the subclass is used to invoke the method, then the version in the child class will be executed.\n",
    "- Multiple inheritance is a feature in which a class (derived class) can inherit attributes and methods from more than one parent class.\n",
    "- The derived class inherits all the features of the base case.\n",
    "___\n",
    "- Overriding is the ability of a class (Sub Class / Child Class / Derived Class) to change theimplementation of a method provided by one of its parent classes.\n",
    "- When a method in a subclass has the same name, same parameter and same return type as a method in its super-class, then the method in the subclass is said to override the method in the super-class.\n",
    "- The version of a method that is executed will be determined by the object that is used to invoke it.\n",
    "- If an object of a parent class is used to invoke the method, then the version in the parent class will be executed, but if an object of the subclass is used to invoke the method, then the version in the child class will be executed."
   ]
  },
  {
   "cell_type": "code",
   "execution_count": 9,
   "id": "25e7ef96-603d-4537-b47a-7aaa7c2ac08f",
   "metadata": {},
   "outputs": [],
   "source": [
    "class Person:\n",
    "    def __init__(self, name, age, gender):\n",
    "        self.name = name\n",
    "        self.age = age\n",
    "        self.gender = gender\n",
    "\n",
    "    def person_info(self):\n",
    "        print(f\"Name: {self.name}\")\n",
    "        print(f\"Age: {self.age}\")\n",
    "        print(f\"Gender: {self.gender}\")\n",
    "        \n",
    "class Student(Person):\n",
    "    def __init__(self, name, age, gender, studentid, fees):\n",
    "        super().__init__(name, age, gender)\n",
    "        self.studentid = studentid\n",
    "        self.fees = fees\n",
    "\n",
    "    def student_info(self):\n",
    "        super().person_info()\n",
    "        print(f\"Student ID: {self.studentid}\")\n",
    "        print(f\"Fees: {self.fees}\")\n",
    "        \n",
    "        \n",
    "class Teacher(Person):\n",
    "    def __init__(self, name, age, gender, empid, salary):\n",
    "        super().__init__(name, age, gender)\n",
    "        self.empid = empid\n",
    "        self.salary = salary\n",
    "\n",
    "    def teacher_info(self):\n",
    "        super().person_info()\n",
    "        print(f\"Employee ID: {self.empid}\")\n",
    "        print(f\"Salary: {self.salary}\")"
   ]
  },
  {
   "cell_type": "code",
   "execution_count": 10,
   "id": "74105c36-a6e0-48c4-933e-52af44d90e65",
   "metadata": {},
   "outputs": [],
   "source": [
    "stud1 = Student(\"Esteban\", 27, \"Male\", 123 , 1200)\n",
    "teac1 = Teacher(\"Carmen\", 27, \"Female\", 321, 25000)"
   ]
  },
  {
   "cell_type": "code",
   "execution_count": 11,
   "id": "f45ff179-4416-4612-a6b7-2064e84e1590",
   "metadata": {},
   "outputs": [
    {
     "name": "stdout",
     "output_type": "stream",
     "text": [
      "STUDENT INFO\n",
      "Name: Esteban\n",
      "Age: 27\n",
      "Gender: Male\n",
      "Student ID: 123\n",
      "Fees: 1200\n",
      "----------\n",
      "TEACHER INFO\n",
      "Name: Carmen\n",
      "Age: 27\n",
      "Gender: Female\n",
      "Employee ID: 321\n",
      "Salary: 25000\n"
     ]
    }
   ],
   "source": [
    "print(\"STUDENT INFO\")\n",
    "stud1.student_info()\n",
    "print(\"-\" * 10)\n",
    "print(\"TEACHER INFO\")\n",
    "teac1.teacher_info()"
   ]
  },
  {
   "cell_type": "code",
   "execution_count": 17,
   "id": "1518b1dd-d895-45d8-9147-9d9bfe69eece",
   "metadata": {},
   "outputs": [],
   "source": [
    "# Multi-Level Inheritance\n",
    "class FullTime(Teacher):\n",
    "    def __init__(self, name, age, gender, empid, salary, work_experience):\n",
    "        super().__init__(name, age, gender, empid, salary)\n",
    "        self.work_experience = work_experience\n",
    "\n",
    "    def full_time_info(self):\n",
    "        super().teacher_info()\n",
    "        print(f\"Work Experience: {self.work_experience}\")\n",
    "        \n",
    "\n",
    "class Contractual(Teacher):\n",
    "    def __init__(self, name, age, gender, empid, salary, contract_expiry):\n",
    "        super().__init__(name, age, gender, empid, salary)\n",
    "        self.contract_expiry = contract_expiry\n",
    "\n",
    "    def contract_info(self):\n",
    "        print(f\"Contract Expiry: {self.contract_expiry}\")"
   ]
  },
  {
   "cell_type": "code",
   "execution_count": 15,
   "id": "a0223a20-833e-484a-ac1c-13b6d163f8f0",
   "metadata": {},
   "outputs": [],
   "source": [
    "full_time_teacher = FullTime(\"Esteban Sanchez\", 27, \"Male\", \"123\", \"100K\", 4)"
   ]
  },
  {
   "cell_type": "code",
   "execution_count": 16,
   "id": "c949ab86-e65b-491d-a2c9-c8e70a7aeff0",
   "metadata": {},
   "outputs": [
    {
     "name": "stdout",
     "output_type": "stream",
     "text": [
      "Name: Esteban Sanchez\n",
      "Age: 27\n",
      "Gender: Male\n",
      "Employee ID: 123\n",
      "Salary: 100K\n",
      "Work Experience: 4\n"
     ]
    }
   ],
   "source": [
    "full_time_teacher.full_time_info()"
   ]
  },
  {
   "cell_type": "code",
   "execution_count": 18,
   "id": "085cf962-9ad3-4aa7-9187-9fc10fa9ef7f",
   "metadata": {},
   "outputs": [],
   "source": [
    "# Multiple Inheritance\n",
    "class Father:\n",
    "    def __init__(self, father_name):\n",
    "        self.fathername = father_name\n",
    "\n",
    "class Mother:\n",
    "    def __init__(self, mother_name):\n",
    "        self.mothername = mother_name\n",
    "\n",
    "class Son(Father, Mother):\n",
    "    def __init__(self, father_name, mother_name, name):\n",
    "        Father.__init__(self, father_name)\n",
    "        Mother.__init__(self, mother_name)\n",
    "        self.name = name\n",
    "    def show(self):\n",
    "        print(f\"My Name: {self.name}\")\n",
    "        print(f\"Father: {self.fathername}\")\n",
    "        print(f\"Mother: {self.mothername}\")"
   ]
  },
  {
   "cell_type": "code",
   "execution_count": 19,
   "id": "36bf9d80-0f9e-4600-a75f-b81ad8c42d3d",
   "metadata": {},
   "outputs": [
    {
     "name": "stdout",
     "output_type": "stream",
     "text": [
      "My Name: Esteban\n",
      "Father: Juan\n",
      "Mother: Mila\n"
     ]
    }
   ],
   "source": [
    "child = Son(\"Juan\", \"Mila\", \"Esteban\")\n",
    "child.show()"
   ]
  },
  {
   "cell_type": "markdown",
   "id": "dca6c9ce-4cc9-493c-8493-3754191f6613",
   "metadata": {},
   "source": [
    "#### Exercise 9.2.\n",
    "Create two class of cars, Audi and Ford:\n",
    "1. Both class will inherit from class car\n",
    "2. Add car name\n",
    "3. add a setter of the model\n",
    "4. add a variable in audi of +1 wheel\n",
    "5. show total info"
   ]
  },
  {
   "cell_type": "markdown",
   "id": "d3b17b34-bb26-49fc-8bbe-9f460a27cd24",
   "metadata": {},
   "source": [
    "<a id = \"9.2.\"></a>\n",
    "<a href=\"#idx9\"><p style=\"text-align:right;\" href=\"#idx9\">Back To Index</p></a> \n",
    "## 9.2. Decorator"
   ]
  },
  {
   "cell_type": "markdown",
   "id": "03fad8e3-0dc6-46ca-aa63-b315977a72a4",
   "metadata": {},
   "source": [
    "Decorator is very powerful and useful tool in Python as it allows us to wrap another function in order to extend the behavior of wrapped function without permanently modifying it."
   ]
  },
  {
   "cell_type": "code",
   "execution_count": 31,
   "id": "e3019d1f-c935-4bef-b5ba-ad3d5740310c",
   "metadata": {},
   "outputs": [],
   "source": [
    "class Calculator:\n",
    "    \n",
    "    def __init__(self, num1, num2):\n",
    "        self.n1 = num1\n",
    "        self.n2 = num2\n",
    "    \n",
    "    def summa(self):\n",
    "        return self.n1 + self.n2\n",
    "    \n",
    "    def params(self):\n",
    "        return (self.n1, self.n2)\n",
    "    \n",
    "    @staticmethod  # we add this to use outside of the class\n",
    "    def dot(n1, n2):\n",
    "        return n1 * n2"
   ]
  },
  {
   "cell_type": "code",
   "execution_count": 32,
   "id": "02ecdc2e-6f34-4f97-bfcc-07267afa2efa",
   "metadata": {},
   "outputs": [
    {
     "data": {
      "text/plain": [
       "9"
      ]
     },
     "execution_count": 32,
     "metadata": {},
     "output_type": "execute_result"
    }
   ],
   "source": [
    "calc = Calculator(2, 7)\n",
    "calc.summa()"
   ]
  },
  {
   "cell_type": "code",
   "execution_count": 33,
   "id": "4e6cbc31-69ea-41c7-add1-efb84423c7c2",
   "metadata": {},
   "outputs": [
    {
     "ename": "TypeError",
     "evalue": "dot() missing 2 required positional arguments: 'n1' and 'n2'",
     "output_type": "error",
     "traceback": [
      "\u001b[1;31m---------------------------------------------------------------------------\u001b[0m",
      "\u001b[1;31mTypeError\u001b[0m                                 Traceback (most recent call last)",
      "\u001b[1;32m<ipython-input-33-9a2c2ebf94d6>\u001b[0m in \u001b[0;36m<module>\u001b[1;34m\u001b[0m\n\u001b[1;32m----> 1\u001b[1;33m \u001b[0mcalc\u001b[0m\u001b[1;33m.\u001b[0m\u001b[0mdot\u001b[0m\u001b[1;33m(\u001b[0m\u001b[1;33m)\u001b[0m\u001b[1;33m\u001b[0m\u001b[1;33m\u001b[0m\u001b[0m\n\u001b[0m",
      "\u001b[1;31mTypeError\u001b[0m: dot() missing 2 required positional arguments: 'n1' and 'n2'"
     ]
    }
   ],
   "source": [
    "calc.dot()"
   ]
  },
  {
   "cell_type": "code",
   "execution_count": 34,
   "id": "4bb9f77a-e059-45fb-a156-df11e3581ae0",
   "metadata": {},
   "outputs": [
    {
     "data": {
      "text/plain": [
       "14"
      ]
     },
     "execution_count": 34,
     "metadata": {},
     "output_type": "execute_result"
    }
   ],
   "source": [
    "calc.dot(*calc.params())"
   ]
  },
  {
   "cell_type": "code",
   "execution_count": 45,
   "id": "63d04447-284b-416d-b9f0-032f6ed80e8c",
   "metadata": {},
   "outputs": [
    {
     "name": "stdout",
     "output_type": "stream",
     "text": [
      "4 - 2 = 2\n",
      "2 - 4 = -2\n"
     ]
    }
   ],
   "source": [
    "def subtract(num1 , num2):\n",
    "    res = num1 - num2\n",
    "    return res\n",
    "\n",
    "print(\"4 - 2 =\", subtract(4,2))\n",
    "print(\"2 - 4 =\", subtract(2,4))"
   ]
  },
  {
   "cell_type": "code",
   "execution_count": 46,
   "id": "695522cc-85a7-414f-9822-f5ebdbd300e0",
   "metadata": {},
   "outputs": [
    {
     "name": "stdout",
     "output_type": "stream",
     "text": [
      "2 - 4 = 2\n"
     ]
    }
   ],
   "source": [
    "def sub_decorator(func):\n",
    "    def wrapper(num1, num2):\n",
    "        if num1 < num2:\n",
    "            num1, num2 = num2, num1\n",
    "        return func(num1, num2)\n",
    "    return wrapper\n",
    "\n",
    "\n",
    "sub = sub_decorator(subtract)\n",
    "print(\"2 - 4 =\", sub(2, 4))  # Now is like absolute value!"
   ]
  },
  {
   "cell_type": "code",
   "execution_count": 47,
   "id": "a2da05af-0b0e-475d-a02b-d7e897a078d5",
   "metadata": {},
   "outputs": [
    {
     "name": "stdout",
     "output_type": "stream",
     "text": [
      "4 - 2 = 2\n",
      "2 - 4 = 2\n"
     ]
    }
   ],
   "source": [
    "@sub_decorator  # same behaviour as previous cell\n",
    "def subtract(num1 , num2):\n",
    "    res = num1 - num2\n",
    "    return res\n",
    "\n",
    "print(\"4 - 2 =\", subtract(4, 2))\n",
    "print(\"2 - 4 =\", subtract(2, 4))"
   ]
  },
  {
   "cell_type": "markdown",
   "id": "4a5d1ac6-6ca3-4d27-a481-3ccd9f384a38",
   "metadata": {},
   "source": [
    "<div><a href=\"10_files.ipynb\"><p style=\"text-align:right;\" href=\"10_files.ipynb\">Next - 10. Files</p></a> "
   ]
  }
 ],
 "metadata": {
  "kernelspec": {
   "display_name": "Python 3",
   "language": "python",
   "name": "python3"
  },
  "language_info": {
   "codemirror_mode": {
    "name": "ipython",
    "version": 3
   },
   "file_extension": ".py",
   "mimetype": "text/x-python",
   "name": "python",
   "nbconvert_exporter": "python",
   "pygments_lexer": "ipython3",
   "version": "3.8.10"
  }
 },
 "nbformat": 4,
 "nbformat_minor": 5
}
