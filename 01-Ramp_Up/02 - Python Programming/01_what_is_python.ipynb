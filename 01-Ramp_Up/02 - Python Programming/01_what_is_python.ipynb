{
 "cells": [
  {
   "cell_type": "markdown",
   "id": "e3cfedde-2b1b-4014-8de7-e400c24d2a18",
   "metadata": {},
   "source": [
    "<div style=\"text-align:center\"><img src=\"./images/python.png\" /></div>"
   ]
  },
  {
   "cell_type": "markdown",
   "id": "255b15e9-841b-42ea-a2da-50e1a0593a0a",
   "metadata": {},
   "source": [
    "<a id = \"idx\"></a>\n"
   ]
  },
  {
   "cell_type": "markdown",
   "id": "51ac7d06-5dea-4f15-bb88-65ccbc808e30",
   "metadata": {},
   "source": [
    "<a href=\"00_cover_page.ipynb\"><p style=\"text-align:right;\" href=\"00_cover_page.ipynb\">Back To Cover Page</p></a> \n",
    "#### Index\n",
    "- [1. What is Python?](#1.)\n",
    "    + [1.1. How to write in Python](#1.1.)"
   ]
  },
  {
   "cell_type": "markdown",
   "id": "acd6d259-454a-40b5-a152-85035ac78886",
   "metadata": {},
   "source": [
    "<a id = \"1.\"></a>\n",
    "<a href=\"#idx\"><p style=\"text-align:right;\" href=\"#idx\">Back To Index</p></a> \n",
    "# 1. What is Python?"
   ]
  },
  {
   "cell_type": "markdown",
   "id": "bb93ea57-069c-4565-bad7-9005ca22ff78",
   "metadata": {},
   "source": [
    "- Interpreted high-level general-purpose programming language. This means that **repeatedly reads instructions** (one at a time) and translates them to machine code and supports **object-oriented programming** and structured programming are fully supported, and many of its features support functional programming and aspect-oriented programming. \n",
    "\n",
    "- Dynamically-typed and garbage-collected which means that a variable could have **different types** and that the **memory manage is done implicitly**."
   ]
  },
  {
   "cell_type": "code",
   "execution_count": 6,
   "id": "dbaae965-d3ce-4035-9ab1-6f67e19327d4",
   "metadata": {},
   "outputs": [
    {
     "name": "stdout",
     "output_type": "stream",
     "text": [
      "The Zen of Python, by Tim Peters\n",
      "\n",
      "Beautiful is better than ugly.\n",
      "Explicit is better than implicit.\n",
      "Simple is better than complex.\n",
      "Complex is better than complicated.\n",
      "Flat is better than nested.\n",
      "Sparse is better than dense.\n",
      "Readability counts.\n",
      "Special cases aren't special enough to break the rules.\n",
      "Although practicality beats purity.\n",
      "Errors should never pass silently.\n",
      "Unless explicitly silenced.\n",
      "In the face of ambiguity, refuse the temptation to guess.\n",
      "There should be one-- and preferably only one --obvious way to do it.\n",
      "Although that way may not be obvious at first unless you're Dutch.\n",
      "Now is better than never.\n",
      "Although never is often better than *right* now.\n",
      "If the implementation is hard to explain, it's a bad idea.\n",
      "If the implementation is easy to explain, it may be a good idea.\n",
      "Namespaces are one honking great idea -- let's do more of those!\n"
     ]
    }
   ],
   "source": [
    "import this"
   ]
  },
  {
   "cell_type": "markdown",
   "id": "8ec02509-4366-478f-84c6-58a739214165",
   "metadata": {},
   "source": [
    "<a id = \"1.1.\"></a>"
   ]
  },
  {
   "cell_type": "markdown",
   "id": "ae46e0b0-fb2b-4f16-a2c3-85333ca8bd0a",
   "metadata": {},
   "source": [
    "<a href=\"#idx\"><p style=\"text-align:right;\" href=\"#idx\">Back To Index</p></a> \n",
    "## 1.1. How to write in Python"
   ]
  },
  {
   "cell_type": "code",
   "execution_count": 7,
   "id": "ba190885-f45c-48d3-a39b-359107b94cad",
   "metadata": {},
   "outputs": [
    {
     "name": "stdout",
     "output_type": "stream",
     "text": [
      "0\n",
      "2\n",
      "4\n",
      "6\n",
      "8\n",
      "NAME Esteban - AGE 27 - JOB Data Scientist\n"
     ]
    }
   ],
   "source": [
    "AGE = 27  # This is the first line to execute, which is to assign a value to a variable.\n",
    "NAME = \"Esteban\"  # This is the second line to execute. One by one.\n",
    "\n",
    "# To define a piece of code to reuse several times we have to encapsulate it inside a function with tabs:\n",
    "def func1(arg1):\n",
    "    # Do something\n",
    "    a = ...  # First line to execute inside the function\n",
    "    b = ...  # Second line\n",
    "    # More code if is necessary\n",
    "    return a, b\n",
    "\n",
    "# In order to write a loop we have to specify also with tabs with corresponds with the loop:\n",
    "\n",
    "for _ in range(5):\n",
    "    # Code to do inside the loop\n",
    "    print(_ * 2)\n",
    "    \n",
    "# When the loop is over the code will continue step by step\n",
    "\n",
    "JOB = \"Data Scientist\"\n",
    "print(f\"NAME {NAME} - AGE {AGE} - JOB {JOB}\")"
   ]
  },
  {
   "cell_type": "markdown",
   "id": "efaeac31-82ef-404d-88f5-8f508275b41e",
   "metadata": {},
   "source": [
    "<div><a href=\"02_variables_in_python.ipynb\"><p style=\"text-align:right;\" href=\"02_variables_in_python.ipynb\">Next - 2. Variables in Python</p></a> "
   ]
  }
 ],
 "metadata": {
  "kernelspec": {
   "display_name": "Python 3",
   "language": "python",
   "name": "python3"
  },
  "language_info": {
   "codemirror_mode": {
    "name": "ipython",
    "version": 3
   },
   "file_extension": ".py",
   "mimetype": "text/x-python",
   "name": "python",
   "nbconvert_exporter": "python",
   "pygments_lexer": "ipython3",
   "version": "3.8.10"
  }
 },
 "nbformat": 4,
 "nbformat_minor": 5
}
