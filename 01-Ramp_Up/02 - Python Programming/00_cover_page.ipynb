{
 "cells": [
  {
   "cell_type": "markdown",
   "id": "c26629e7-2a87-46ad-a667-c6575015c4bc",
   "metadata": {},
   "source": [
    "![imagen](./images/tb.jfif)"
   ]
  },
  {
   "cell_type": "markdown",
   "id": "a87bea5d-4f42-442e-b794-cbd56f919d86",
   "metadata": {},
   "source": [
    "# Python Programming - Data Science Bootcamp The Bridge\n",
    "> *Any fool can write code that a computer can understand. Good programmers write code that humans can understand.* - Martin Fowler."
   ]
  },
  {
   "cell_type": "markdown",
   "id": "22f44fb4-9fc9-4c82-9433-63d63bb89486",
   "metadata": {},
   "source": [
    "![imagen](./images/portada_python_programming.jpg)"
   ]
  },
  {
   "cell_type": "markdown",
   "id": "891b5b7b-4c58-463e-9ef6-4e00da0d84a2",
   "metadata": {},
   "source": [
    "#### Table Of Contents\n",
    "- [1. What is Python?](01_what_is_python.ipynb)\n",
    "- [2. Variables in Python](02_variables_in_python.ipynb)\n",
    "- [3. Conditionals](03_conditionals.ipynb)\n",
    "- [4. Data Structures](04_data_structures.ipynb)\n",
    "- [5. Loops](05_loops.ipynb)\n",
    "- [6. Functions I](06_functions_i.ipynb)\n",
    "- [7. Modules](07_modules.ipynb)\n",
    "- [8. Functions II](08_functions_ii.ipynb)\n",
    "- [9 Classes](09_classes.ipynb)\n",
    "- [10. Files](10_files.ipynb)\n",
    "- [11. More Python](11_extra_info.ipynb)\n",
    "---\n",
    "- [Class exercises](class_exercises.ipynb)\n",
    "- [Graded exercises](graded_exercises.ipynb)"
   ]
  },
  {
   "cell_type": "code",
   "execution_count": null,
   "id": "01be65f1-46c8-47a7-a18e-10d54206d9f5",
   "metadata": {},
   "outputs": [],
   "source": []
  }
 ],
 "metadata": {
  "kernelspec": {
   "display_name": "Python 3",
   "language": "python",
   "name": "python3"
  },
  "language_info": {
   "codemirror_mode": {
    "name": "ipython",
    "version": 3
   },
   "file_extension": ".py",
   "mimetype": "text/x-python",
   "name": "python",
   "nbconvert_exporter": "python",
   "pygments_lexer": "ipython3",
   "version": "3.8.10"
  }
 },
 "nbformat": 4,
 "nbformat_minor": 5
}
