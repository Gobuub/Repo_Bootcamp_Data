{
 "cells": [
  {
   "cell_type": "markdown",
   "id": "69140fcc-f314-4c5f-af97-13edf3263665",
   "metadata": {},
   "source": [
    "<div style=\"text-align:center\"><img src=\"./images/pconds.png\" /></div>"
   ]
  },
  {
   "cell_type": "markdown",
   "id": "9084f98e-f5cc-4aad-a5bc-86f39cbfcd9f",
   "metadata": {},
   "source": [
    "<a id = \"idx3\"></a>\n",
    "<a href=\"00_cover_page.ipynb\"><p style=\"text-align:right;\" href=\"00_cover_page.ipynb\">Back To Cover Page</p></a> "
   ]
  },
  {
   "cell_type": "markdown",
   "id": "457eb61a-0906-49e7-8b73-22c44cbd3625",
   "metadata": {},
   "source": [
    "<a href=\"02_variables_in_python.ipynb\"><p style=\"text-align:left;\" href=\"02_variables_in_python.ipynb\">Back - 2. Variables in Python</p></a></div>\n",
    "#### Index\n",
    "- [3. Conditionals](#3.)\n",
    "    + [3.1. If statement](#3.1.)\n",
    "    + [3.2. Else statement](#3.2.)\n",
    "    + [3.3. Elif statement](#3.3.)\n",
    "    + [3.4. Nested conditionals: and & or](#3.4.)\n",
    "    + [3.5. Try & except statement](#3.5.)"
   ]
  },
  {
   "cell_type": "markdown",
   "id": "3c1a02ec-07bb-4da8-a7ba-4a34805a1b99",
   "metadata": {},
   "source": [
    "<a id = \"3.\"></a>\n",
    "<a href=\"#idx3\"><p style=\"text-align:right;\" href=\"#idx3\">Back To Index</p></a> \n",
    "# 3. Conditionals"
   ]
  },
  {
   "cell_type": "markdown",
   "id": "567b191a-8408-4ca5-bc2c-db77dae5d0df",
   "metadata": {},
   "source": [
    "This are used to control the workflow in Python, commonly used to specify branches in code. It is very important to know that these sentences has a **concrete order of execution** which is `if`, `elif` and `else`.\n",
    "\n",
    "We can write conditionals inside other conditionals on an infitity way, however this will give you a more complex code and which is called *spaghetti code*. This is why a good practise is to write only, if it is necessay, 2 or 3 as maximun conditions inside conditions."
   ]
  },
  {
   "cell_type": "markdown",
   "id": "e9de0c63-d262-4124-9d9b-fd5d39bed291",
   "metadata": {},
   "source": [
    "<a href=\"#idx3\"><p style=\"text-align:right;\" href=\"#idx3\">Back To Index</p></a> \n"
   ]
  },
  {
   "cell_type": "markdown",
   "id": "f7779577-cf60-48aa-8ad8-4a62258eb7c7",
   "metadata": {},
   "source": [
    "<a id = \"3.1.\"></a>\n",
    "## 3.1. If statement"
   ]
  },
  {
   "cell_type": "markdown",
   "id": "580a62de-0601-4c68-bd5e-8337f48488fb",
   "metadata": {},
   "source": [
    "The first statement is `if` and is used to **check whether a condition is evaluated to true.**\n",
    "\n",
    "```python\n",
    "# Theory\n",
    "if condition1:\n",
    "    # do something\n",
    "    ...\n",
    "```\n",
    "\n",
    "The code of above is translate into a human language as *\"If condition one is true then do the following part of code\"*."
   ]
  },
  {
   "cell_type": "code",
   "execution_count": 1,
   "id": "2f3199fd-5713-4e49-bb65-e4d530436b9d",
   "metadata": {},
   "outputs": [
    {
     "name": "stdout",
     "output_type": "stream",
     "text": [
      "This is True.\n"
     ]
    }
   ],
   "source": [
    "if 1:\n",
    "    print(\"This is True.\")"
   ]
  },
  {
   "cell_type": "code",
   "execution_count": 2,
   "id": "c20937fc-b243-4086-b96d-ffad0a8769c1",
   "metadata": {},
   "outputs": [],
   "source": [
    "if \"\":\n",
    "    print(\"This is False\")"
   ]
  },
  {
   "cell_type": "code",
   "execution_count": 3,
   "id": "1d19a539-59a4-4716-8aca-d121afa0f606",
   "metadata": {},
   "outputs": [
    {
     "name": "stdout",
     "output_type": "stream",
     "text": [
      "This is True.\n"
     ]
    }
   ],
   "source": [
    "a = \"a\"\n",
    "A = \"A\"\n",
    "\n",
    "if a == A.lower():\n",
    "    print(\"This is True.\")"
   ]
  },
  {
   "cell_type": "code",
   "execution_count": 4,
   "id": "d825cbe7-1f11-43aa-af50-64f3a98a5cef",
   "metadata": {},
   "outputs": [
    {
     "name": "stdout",
     "output_type": "stream",
     "text": [
      "Wow, what a big number!\n"
     ]
    }
   ],
   "source": [
    "arg1 = 100\n",
    "if arg1 >= 1:\n",
    "    if arg1 >= 10:\n",
    "        if arg1 >= 100:\n",
    "            print(\"Wow, what a big number!\")"
   ]
  },
  {
   "cell_type": "code",
   "execution_count": 5,
   "id": "a616b0ff-30dd-4906-9829-4c7ce129b155",
   "metadata": {},
   "outputs": [
    {
     "name": "stdout",
     "output_type": "stream",
     "text": [
      "This is evaluated as True.\n"
     ]
    }
   ],
   "source": [
    "if arg1 != 10:\n",
    "    print(\"This is evaluated as True.\")"
   ]
  },
  {
   "cell_type": "code",
   "execution_count": 6,
   "id": "a4d3a959-5332-4e5b-bff9-8821a3886e82",
   "metadata": {},
   "outputs": [
    {
     "name": "stdout",
     "output_type": "stream",
     "text": [
      "This is evaluated as True\n"
     ]
    }
   ],
   "source": [
    "if not \"\":\n",
    "    print(\"This is evaluated as True\")"
   ]
  },
  {
   "cell_type": "markdown",
   "id": "bf52cd6c-ec04-4e9a-8d29-fb6055d99c78",
   "metadata": {},
   "source": [
    "<a id = \"3.2.\"></a>\n",
    "<a href=\"#idx3\"><p style=\"text-align:right;\" href=\"#idx3\">Back To Index</p></a> \n",
    "## 3.2. Else statement"
   ]
  },
  {
   "cell_type": "markdown",
   "id": "a411767f-cfc5-4185-a20a-ec828d1c741a",
   "metadata": {},
   "source": [
    "The close statement is `else` and is used to **control when the if is not evaluated to True.**\n",
    "\n",
    "```python\n",
    "# Theory\n",
    "if condition1:\n",
    "    # do something\n",
    "    ...\n",
    "else:\n",
    "    # in case condition1 is False then do the following\n",
    "    # something code\n",
    "    ...\n",
    "```\n",
    "\n",
    "The code of above is translate into a human language as *\"If condition one is true then do the following part of code if not then do 'else' piece of code\"*. As we can see `else` does not have any condition associate because this do its code when the other (if/elif) condition is not satisfied."
   ]
  },
  {
   "cell_type": "code",
   "execution_count": 7,
   "id": "4a8cd3fb-921e-421e-8c0f-cfe02f65f003",
   "metadata": {},
   "outputs": [
    {
     "name": "stdout",
     "output_type": "stream",
     "text": [
      "User 'esan' does not have access to our databases.\n"
     ]
    }
   ],
   "source": [
    "ADMIN = \"admin\"\n",
    "user = \"esan\"\n",
    "\n",
    "if user == ADMIN:\n",
    "    print(f\"Full access to our databases.\")\n",
    "else:\n",
    "    print(f\"User '{user}' does not have access to our databases.\")"
   ]
  },
  {
   "cell_type": "markdown",
   "id": "54ab7652-f365-428e-8975-c1ed75b1f98b",
   "metadata": {},
   "source": [
    "<a id = \"3.3.\"></a>\n",
    "<a href=\"#idx3\"><p style=\"text-align:right;\" href=\"#idx3\">Back To Index</p></a> \n",
    "## 3.3. Elif statement"
   ]
  },
  {
   "cell_type": "markdown",
   "id": "f76bfcb8-5b33-4fcd-a633-c990297957ce",
   "metadata": {},
   "source": [
    "`elif` statement is used to **add other possibilities to the True evaluation of any condition.**\n",
    "\n",
    "```python\n",
    "# Theory\n",
    "if condition1 == \"Netflix\":\n",
    "    # do something\n",
    "    ...\n",
    "\n",
    "elif condition1 == \"Disney+\":\n",
    "    # do something\n",
    "    ...\n",
    "\n",
    "elif condition1 == \"HBO\":\n",
    "    # do something\n",
    "    ...\n",
    "else:\n",
    "    # in case condition1 is False then do the following\n",
    "    # something code\n",
    "    ...\n",
    "```\n",
    "\n",
    "The code of above is translate into a human language as *\"If condition one is true then do the following part of code if not check the elif conditions and if is not possible then do 'else' piece of code\"*."
   ]
  },
  {
   "cell_type": "code",
   "execution_count": 8,
   "id": "a84c3378-0c23-4667-91bf-da930eb5ec98",
   "metadata": {},
   "outputs": [
    {
     "data": {
      "text/plain": [
       "0"
      ]
     },
     "execution_count": 8,
     "metadata": {},
     "output_type": "execute_result"
    }
   ],
   "source": [
    "12 % 3"
   ]
  },
  {
   "cell_type": "code",
   "execution_count": 9,
   "id": "b4752dfb-7c0e-4c67-8d44-e5de589e3de8",
   "metadata": {},
   "outputs": [
    {
     "name": "stdout",
     "output_type": "stream",
     "text": [
      "Number 9 is not prime because it is divisible by 3.\n"
     ]
    }
   ],
   "source": [
    "arg = 9  # Try changing this number\n",
    "\n",
    "if not arg % 2:\n",
    "    print(f\"Number {arg} is not prime because it is divisible by 2.\")\n",
    "elif not arg % 3:\n",
    "    print(f\"Number {arg} is not prime because it is divisible by 3.\")\n",
    "else:\n",
    "    print(f\"Is possible that number {arg} will be prime.\")\n",
    "    "
   ]
  },
  {
   "cell_type": "markdown",
   "id": "617a35ad-272f-4757-8299-fcf7383bf914",
   "metadata": {},
   "source": [
    "<div style=\"text-align:center\"><img width=\"200\" height=\"200\" src=\"./images/exclamation.png\" /></div>"
   ]
  },
  {
   "cell_type": "markdown",
   "id": "7e047678-b3c6-48ea-8954-3dbfd6394079",
   "metadata": {},
   "source": [
    "Once a condition is evaluated to True it will espace the rest of all, this means that if you want to check a condition you have to specify a concrete orde. Let's see an example"
   ]
  },
  {
   "cell_type": "code",
   "execution_count": 10,
   "id": "5b6576d7-b45f-45d1-be94-e19f7662769e",
   "metadata": {},
   "outputs": [
    {
     "name": "stdout",
     "output_type": "stream",
     "text": [
      "Less than 15.\n",
      "Less than 25.\n"
     ]
    }
   ],
   "source": [
    "arg = 10\n",
    "\n",
    "# This will check every condition statement before to execute else.\n",
    "if arg < 5:\n",
    "    print(\"Less than 5.\")\n",
    "elif arg < 15:\n",
    "    print(\"Less than 15.\")\n",
    "elif arg < 25:\n",
    "    print(\"Less than 25.\")\n",
    "else:\n",
    "    print(\"More or equal than 25\")\n",
    "\n",
    "# Because arg=10 always will satisfy the first condition and will never evaluate the other elifs.\n",
    "if arg < 25:\n",
    "    print(\"Less than 25.\")\n",
    "elif arg < 15:\n",
    "    print(\"Less than 15.\")\n",
    "elif arg < 5:\n",
    "    print(\"Less than 5.\")\n",
    "else:\n",
    "    print(\"More or equal than 25\")"
   ]
  },
  {
   "cell_type": "markdown",
   "id": "f6815b0a-4059-4784-a3c6-33c64b0ec4f9",
   "metadata": {},
   "source": [
    "<a id = \"3.4.\"></a>\n",
    "<a href=\"#idx3\"><p style=\"text-align:right;\" href=\"#idx3\">Back To Index</p></a> \n",
    "## 3.4. Nested conditionals: and & or"
   ]
  },
  {
   "cell_type": "markdown",
   "id": "e1ccfc94-2d9a-4b56-ab28-f1d40f6f2bd8",
   "metadata": {},
   "source": [
    "```python\n",
    "# Theory\n",
    "if cond1 and cond2:\n",
    "    ...\n",
    "elif cond3 or cond4:\n",
    "    ...\n",
    "else:\n",
    "    ...\n",
    "```"
   ]
  },
  {
   "cell_type": "code",
   "execution_count": 11,
   "id": "16a11e6e-dd50-4bdf-840c-f62f335f7ea2",
   "metadata": {},
   "outputs": [
    {
     "name": "stdout",
     "output_type": "stream",
     "text": [
      "Numeber 10 is between 5 and 15.\n"
     ]
    }
   ],
   "source": [
    "a = 10\n",
    "\n",
    "if (a > 5) and (a < 15):\n",
    "    print(f\"Numeber {a} is between 5 and 15.\")\n",
    "else:\n",
    "    print(f\"Numeber {a} is not between 5 and 15.\")"
   ]
  },
  {
   "cell_type": "code",
   "execution_count": 12,
   "id": "32353757-1dfd-41af-bf21-cef0b4ee7c8a",
   "metadata": {},
   "outputs": [
    {
     "name": "stdout",
     "output_type": "stream",
     "text": [
      "Student Esteban approved.\n"
     ]
    }
   ],
   "source": [
    "student = \"Esteban\"\n",
    "mark = 4.5\n",
    "optional_test = True\n",
    "\n",
    "if (mark >= 5) or ((mark >= 4.5) and optional_test):\n",
    "    print(f\"Student {student} approved.\")\n",
    "else:\n",
    "    print(f\"Student {student} failed.\")"
   ]
  },
  {
   "cell_type": "markdown",
   "id": "004561d2-ac1a-4c5c-99f7-6949451f7eb3",
   "metadata": {},
   "source": [
    "#### Exercise 3.1.\n",
    "Create a workflow that:\n",
    "1. Check if a given input is a int or not.\n",
    "\n",
    "If is an integer:\n",
    "\n",
    "2. Check if less than 10 -> Multiply per 5\n",
    "3. If not check if it is equal to 10 -> divide by 5\n",
    "4. If not add 20\n",
    "\n",
    "If is not an integer:\n",
    "\n",
    "2. print \"The input is not an integer\"\n",
    "        "
   ]
  },
  {
   "cell_type": "markdown",
   "id": "1a1aa5e5-4732-4279-8b4a-f119e879cf67",
   "metadata": {},
   "source": [
    "<a id = \"3.5.\"></a>\n",
    "<a href=\"#idx3\"><p style=\"text-align:right;\" href=\"#idx3\">Back To Index</p></a> \n",
    "## 3.5. Try & except statement"
   ]
  },
  {
   "cell_type": "markdown",
   "id": "ad7a7aa3-d16b-4ce8-afcf-f8f7ece107b0",
   "metadata": {},
   "source": [
    "- Python has many built-in exceptions (ArithmeticError, ZeroDivisionError, EOFError, IndexError, KeyError, SyntaxError, IndentationError, FileNotFoundError etc) that are raised when your program encounters an error.\n",
    "- When the exception occurs Python interpreter stops the current process and passes it to the calling process until it is handled. If exception is not handled the program will crash.\n",
    "- Exceptions in python can be handled using a try statement. The try block lets you test a block of code for errors.\n",
    "- The block of code which can raise an exception is placed inside the try clause. The code that will handle the exceptions is written in the except clause.\n",
    "- The finally code block will execute regardless of the result of the try and except blocks.\n",
    "- We can also use the else keyword to define a block of code to be executed if no exceptions were raised.\n",
    "- Python also allows us to create our own exceptions that can be raised from the program using the raise keyword and caught using the except clause. We can define what kind of error to raise, and the text to print to the user.\n",
    "\n",
    "The list of possible errors (built-in) are [here](https://www.geeksforgeeks.org/built-exceptions-python/)."
   ]
  },
  {
   "cell_type": "markdown",
   "id": "460606d9-884c-48fc-be37-8c04e575cc00",
   "metadata": {},
   "source": [
    "```python\n",
    "# Theory\n",
    "try:\n",
    "    # Run this block of code.\n",
    "except:\n",
    "    # Run this block of code when exception occurs.\n",
    "else:\n",
    "    # Run this block of code when NO exception occurs.\n",
    "finally:\n",
    "    # Run this block of code always.\n",
    "```"
   ]
  },
  {
   "cell_type": "code",
   "execution_count": 20,
   "id": "4e25a9e8-0cd3-4187-b94d-e101f992a134",
   "metadata": {},
   "outputs": [],
   "source": [
    "import sys  # We will see this later.\n",
    "x = 0"
   ]
  },
  {
   "cell_type": "code",
   "execution_count": 21,
   "id": "9a37e3ad-6bf9-43b7-b268-933d8f4e7bfc",
   "metadata": {},
   "outputs": [
    {
     "name": "stdout",
     "output_type": "stream",
     "text": [
      "division by zero Exception occured\n",
      "Run this block of code always\n"
     ]
    }
   ],
   "source": [
    "try:\n",
    "    print(100/x)\n",
    "except:\n",
    "    print(sys.exc_info()[1] , 'Exception occured')\n",
    "else:\n",
    "    print('No exception occurred')\n",
    "finally:\n",
    "    print('Run this block of code always')"
   ]
  },
  {
   "cell_type": "code",
   "execution_count": 24,
   "id": "096710b6-1a83-41b5-9bd3-d1138a71b2bf",
   "metadata": {},
   "outputs": [
    {
     "ename": "IndexError",
     "evalue": "list index out of range",
     "output_type": "error",
     "traceback": [
      "\u001b[1;31m---------------------------------------------------------------------------\u001b[0m",
      "\u001b[1;31mIndexError\u001b[0m                                Traceback (most recent call last)",
      "\u001b[1;32m<ipython-input-24-9511ab13fd2c>\u001b[0m in \u001b[0;36m<module>\u001b[1;34m\u001b[0m\n\u001b[0;32m      1\u001b[0m \u001b[1;32mtry\u001b[0m\u001b[1;33m:\u001b[0m\u001b[1;33m\u001b[0m\u001b[1;33m\u001b[0m\u001b[0m\n\u001b[0;32m      2\u001b[0m     \u001b[0ma\u001b[0m \u001b[1;33m=\u001b[0m \u001b[1;33m[\u001b[0m\u001b[1;36m1\u001b[0m\u001b[1;33m,\u001b[0m \u001b[1;36m2\u001b[0m\u001b[1;33m,\u001b[0m \u001b[1;36m3\u001b[0m\u001b[1;33m]\u001b[0m\u001b[1;33m\u001b[0m\u001b[1;33m\u001b[0m\u001b[0m\n\u001b[1;32m----> 3\u001b[1;33m     \u001b[0mprint\u001b[0m \u001b[1;33m(\u001b[0m\u001b[0ma\u001b[0m\u001b[1;33m[\u001b[0m\u001b[1;36m3\u001b[0m\u001b[1;33m]\u001b[0m\u001b[1;33m)\u001b[0m\u001b[1;33m\u001b[0m\u001b[1;33m\u001b[0m\u001b[0m\n\u001b[0m\u001b[0;32m      4\u001b[0m \u001b[1;32mexcept\u001b[0m \u001b[0mNameError\u001b[0m\u001b[1;33m:\u001b[0m\u001b[1;33m\u001b[0m\u001b[1;33m\u001b[0m\u001b[0m\n\u001b[0;32m      5\u001b[0m     \u001b[0mprint\u001b[0m \u001b[1;33m(\u001b[0m\u001b[1;34m\"Index out of bound error.\"\u001b[0m\u001b[1;33m)\u001b[0m\u001b[1;33m\u001b[0m\u001b[1;33m\u001b[0m\u001b[0m\n",
      "\u001b[1;31mIndexError\u001b[0m: list index out of range"
     ]
    }
   ],
   "source": [
    "try: \n",
    "    a = [1, 2, 3] \n",
    "    print (a[3]) \n",
    "except NameError:  # This is not the error.\n",
    "    print (\"Index out of bound error.\")\n",
    "else: \n",
    "    print (\"Success\")"
   ]
  },
  {
   "cell_type": "code",
   "execution_count": 25,
   "id": "15cc5dd8-7022-474c-893b-4c9a9cfa554b",
   "metadata": {},
   "outputs": [
    {
     "name": "stdout",
     "output_type": "stream",
     "text": [
      "Index out of bound error.\n"
     ]
    }
   ],
   "source": [
    "try: \n",
    "    a = [1, 2, 3] \n",
    "    print (a[3]) \n",
    "except LookupError:  # This is the error.\n",
    "    print (\"Index out of bound error.\")\n",
    "else: \n",
    "    print (\"Success\")"
   ]
  },
  {
   "cell_type": "markdown",
   "id": "27f52f70-2fe7-46d0-8011-5406c15d34a2",
   "metadata": {},
   "source": [
    "<div><a href=\"04_data_structures.ipynb\"><p style=\"text-align:right;\" href=\"04_data_structures.ipynb\">Next - 4. Data Structures</p></a> "
   ]
  }
 ],
 "metadata": {
  "kernelspec": {
   "display_name": "Python 3",
   "language": "python",
   "name": "python3"
  },
  "language_info": {
   "codemirror_mode": {
    "name": "ipython",
    "version": 3
   },
   "file_extension": ".py",
   "mimetype": "text/x-python",
   "name": "python",
   "nbconvert_exporter": "python",
   "pygments_lexer": "ipython3",
   "version": "3.8.10"
  }
 },
 "nbformat": 4,
 "nbformat_minor": 5
}
