{
 "cells": [
  {
   "cell_type": "markdown",
   "id": "4568ae9d-1545-41eb-a48b-23def94e3546",
   "metadata": {},
   "source": [
    "<div style=\"text-align:center\"><img src=\"./images/loops.jpg\" /></div>"
   ]
  },
  {
   "cell_type": "markdown",
   "id": "84442b79-9515-48f9-bd92-231dbe1e50f2",
   "metadata": {},
   "source": [
    "<a href=\"00_cover_page.ipynb\"><p style=\"text-align:right;\" href=\"00_cover_page.ipynb\">Back To Cover Page</p></a> "
   ]
  },
  {
   "cell_type": "markdown",
   "id": "a19fc28a-e3b0-4a23-a357-a8437af993f6",
   "metadata": {},
   "source": [
    "<a id = \"idx5\"></a>\n",
    "<a href=\"04_data_structures.ipynb\"><p style=\"text-align:left;\" href=\"04_data_structures.ipynb\">Back - 4. Data Structures</p></a></div>\n",
    "#### Index\n",
    "- [5. Loops](#5.)\n",
    "    + [5.1. While](#5.1.)\n",
    "    + [5.2. For](#5.2.)\n",
    "    + [5.3. List comprehension](#5.3.)\n",
    "    + [5.4. Dictionary comprehension](#5.4.)"
   ]
  },
  {
   "cell_type": "markdown",
   "id": "cac4b89b-24ce-4804-8eab-7eb26325b43a",
   "metadata": {},
   "source": [
    "<a id = \"5.\"></a>\n",
    "<a href=\"#idx5\"><p style=\"text-align:right;\" href=\"#idx5\">Back To Index</p></a> \n",
    "# 5. Loops"
   ]
  },
  {
   "cell_type": "markdown",
   "id": "60a9b1e7-59e2-4ae1-ac81-bfa0ad62ae57",
   "metadata": {},
   "source": [
    "In programming a loop is a piece of code that is going to be execute provided that a condition is `True`."
   ]
  },
  {
   "cell_type": "markdown",
   "id": "b4970400-4581-47c4-824f-64616b91727f",
   "metadata": {},
   "source": [
    "<a id = \"5.1.\"></a>\n",
    "<a href=\"#idx5\"><p style=\"text-align:right;\" href=\"#idx5\">Back To Index</p></a> \n",
    "## 5.1. While"
   ]
  },
  {
   "cell_type": "markdown",
   "id": "34d141d0-4889-4e09-a255-9609629931db",
   "metadata": {},
   "source": [
    "while loop is translate into human lenguaje as 'do the following piece of code provided condition is True'\n",
    "```python\n",
    "# Theory\n",
    "while condition:\n",
    "    # Execute some code\n",
    "    ...\n",
    "    \n",
    "# Example\n",
    "condition = 5\n",
    "while condition:\n",
    "    print(condition)\n",
    "    condition -= 1\n",
    "\n",
    ">> 5\n",
    "4\n",
    "3\n",
    "2\n",
    "1\n",
    "```"
   ]
  },
  {
   "cell_type": "code",
   "execution_count": 2,
   "id": "8ce5b840-2fd4-4143-8352-17d8a83ae7a2",
   "metadata": {},
   "outputs": [
    {
     "name": "stdout",
     "output_type": "stream",
     "text": [
      "bread\n",
      "lettuce\n",
      "tomato\n",
      "bacon\n",
      "mayo\n",
      "chicken\n"
     ]
    }
   ],
   "source": [
    "recipe = {\n",
    "    \"sandwich-club\": [\"bread\", \"lettuce\", \"tomato\", \"bacon\", \"mayo\", \"chicken\"]\n",
    "}\n",
    "is_cooking = True\n",
    "while is_cooking:\n",
    "    \n",
    "    sc = recipe.get(\"sandwich-club\")\n",
    "    len_sc = len(sc)\n",
    "    if len_sc > 0:\n",
    "        ingredient = sc[0]\n",
    "        recipe[\"sandwich-club\"].remove(ingredient)\n",
    "        print(ingredient)\n",
    "    else:\n",
    "        is_cooking = False"
   ]
  },
  {
   "cell_type": "code",
   "execution_count": 3,
   "id": "f431f538-d1bd-4698-8edc-0d22f1e5f603",
   "metadata": {},
   "outputs": [
    {
     "name": "stdout",
     "output_type": "stream",
     "text": [
      "10\n",
      "9\n",
      "8\n",
      "7\n",
      "6\n",
      "5\n",
      "4\n",
      "3\n",
      "2\n",
      "1\n"
     ]
    }
   ],
   "source": [
    "idx = 10\n",
    "while idx:\n",
    "    print(idx)\n",
    "    idx -= 1"
   ]
  },
  {
   "cell_type": "code",
   "execution_count": 4,
   "id": "f539b76a-eee2-46a2-86f9-428afcbd60ae",
   "metadata": {},
   "outputs": [
    {
     "name": "stdout",
     "output_type": "stream",
     "text": [
      "0\n",
      "1\n",
      "2\n",
      "3\n",
      "4\n",
      "5\n",
      "6\n",
      "7\n",
      "8\n",
      "9\n",
      "10\n",
      "11\n",
      "12\n",
      "13\n",
      "14\n",
      "15\n"
     ]
    }
   ],
   "source": [
    "idx = 0\n",
    "while idx <= 15:\n",
    "    print(idx)\n",
    "    idx += 1"
   ]
  },
  {
   "cell_type": "markdown",
   "id": "48022f54-28d1-4aca-99a3-9506163701d9",
   "metadata": {},
   "source": [
    "<div style=\"text-align:center\"><img width=\"200\" height=\"200\" src=\"./images/exclamation.png\" /></div>"
   ]
  },
  {
   "cell_type": "markdown",
   "id": "efc0c363-4581-47e8-b9c4-fa3c059be6d4",
   "metadata": {},
   "source": [
    "Be carefull with the infinite loops as:\n",
    "```python\n",
    "idx = 0\n",
    "while True:\n",
    "    print(idx)\n",
    "    idx += 1\n",
    "```"
   ]
  },
  {
   "cell_type": "code",
   "execution_count": 5,
   "id": "f94f287f-52e0-4b39-9589-361cc8d27dd9",
   "metadata": {},
   "outputs": [
    {
     "name": "stdout",
     "output_type": "stream",
     "text": [
      "1\n",
      "2\n",
      "4\n",
      "5\n",
      "6\n"
     ]
    }
   ],
   "source": [
    "cond = True\n",
    "x = 0\n",
    "while cond:\n",
    "    x += 1\n",
    "    if x >= 7:\n",
    "        break  # This keyword breaks the loop\n",
    "    elif x == 3:\n",
    "        continue  # This keyword update to the following the loop\n",
    "    else: \n",
    "        pass  # This keyword do nothing\n",
    "    print(x)"
   ]
  },
  {
   "cell_type": "markdown",
   "id": "cf9c4320-b24e-4a2a-94b4-a7578e8949b1",
   "metadata": {},
   "source": [
    "#### Exercise 5.1.\n",
    "Write a countdown from 10 to 1 and finally print `\"BUM!\"` using `while`"
   ]
  },
  {
   "cell_type": "markdown",
   "id": "72f285a6-6ea3-41fe-8677-ca14fb46ece5",
   "metadata": {},
   "source": [
    "#### Exercise 5.2.\n",
    "Write the following pattern usign while loops.\n",
    "```\n",
    "*\n",
    "**\n",
    "***\n",
    "****\n",
    "*****\n",
    "******\n",
    "*****\n",
    "****\n",
    "***\n",
    "**\n",
    "*\n",
    "```\n",
    "This is for an input of 6. Be aware that it has to work for different inputs."
   ]
  },
  {
   "cell_type": "markdown",
   "id": "95052ffa-5fca-4784-b34e-67c7576918f8",
   "metadata": {},
   "source": [
    "<a id = \"5.2.\"></a>\n",
    "<a href=\"#idx5\"><p style=\"text-align:right;\" href=\"#idx5\">Back To Index</p></a> \n",
    "## 5.2. For"
   ]
  },
  {
   "cell_type": "markdown",
   "id": "5361c9df-3dbb-4c4b-bd82-80a69f75dbaa",
   "metadata": {},
   "source": [
    "For loop is one of the most used in programming because its simplicity and power.\n",
    "\n",
    "- A for loop has a variable which is going to be updated in every iteration.\n",
    "- Is used for automatization.\n",
    "- Commonly used for write less code.\n",
    "\n",
    "```python\n",
    "# Theory\n",
    "for element in list_of_elements:\n",
    "    # do the following\n",
    "    ...\n",
    "```"
   ]
  },
  {
   "cell_type": "code",
   "execution_count": 7,
   "id": "92032d08-2453-4e66-bdc1-2e71a7cde769",
   "metadata": {},
   "outputs": [
    {
     "name": "stdout",
     "output_type": "stream",
     "text": [
      "cat\n",
      "dog\n",
      "bird\n",
      "elephant\n"
     ]
    }
   ],
   "source": [
    "elements = (\"cat\", \"dog\", \"bird\", \"elephant\")\n",
    "for e in range(0, len(elements)):  # for e in iterable\n",
    "    print(elements[e]) "
   ]
  },
  {
   "cell_type": "code",
   "execution_count": 14,
   "id": "608456cc-7f7f-4a91-b1c2-f6dc51dcf1d5",
   "metadata": {},
   "outputs": [
    {
     "name": "stdout",
     "output_type": "stream",
     "text": [
      "cat\n",
      "dog\n",
      "bird\n",
      "elephant\n"
     ]
    }
   ],
   "source": [
    "for element in elements:\n",
    "    print(element)"
   ]
  },
  {
   "cell_type": "code",
   "execution_count": 8,
   "id": "a6df971c-ff2c-442e-93aa-619262261e82",
   "metadata": {},
   "outputs": [
    {
     "name": "stdout",
     "output_type": "stream",
     "text": [
      "An element of the dic1 is user1 with value esan.\n",
      "An element of the dic1 is user2 with value rubentonces.\n",
      "An element of the dic1 is user3 with value percebesygrelos.\n",
      "An element of the dic1 is user4 with value mariavalero.\n",
      "An element of the dic1 is user5 with value antonlofer.\n"
     ]
    }
   ],
   "source": [
    "dic1 = {\n",
    "    \"user1\": \"esan\",\n",
    "    \"user2\": \"rubentonces\",\n",
    "    \"user3\": \"percebesygrelos\",\n",
    "    \"user4\": \"mariavalero\",\n",
    "    \"user5\": \"antonlofer\"\n",
    "}\n",
    "\n",
    "for key, value in dic1.items():\n",
    "    print(f\"An element of the dic1 is {key} with value {value}.\")"
   ]
  },
  {
   "cell_type": "code",
   "execution_count": 12,
   "id": "3bacdb63-3198-4bac-bcb9-025d9ecbbb4a",
   "metadata": {},
   "outputs": [
    {
     "name": "stdout",
     "output_type": "stream",
     "text": [
      "Hello \n"
     ]
    }
   ],
   "source": [
    "str1 = \"Hello World\"\n",
    "\n",
    "printable_char = \"\"\n",
    "for char in str1:  # a string is an iterable object\n",
    "    printable_char += char\n",
    "    if char == \" \":\n",
    "        print(printable_char)\n",
    "        printable_char = \"\""
   ]
  },
  {
   "cell_type": "code",
   "execution_count": 13,
   "id": "8a0e0cdd-9e36-494e-bd95-d096cf3fbecf",
   "metadata": {},
   "outputs": [
    {
     "name": "stdout",
     "output_type": "stream",
     "text": [
      "Real Madrid is from Comunidad de Madrid.\n",
      "Getafe is from Comunidad de Madrid.\n",
      "Barcelona is not from Comunidad de Madrid.\n"
     ]
    }
   ],
   "source": [
    "teams = [\"Real Madrid\", \"Getafe\", \"Barcelona\"]\n",
    "\n",
    "for idx, team in enumerate(teams):  # This function give an iterator with its idx\n",
    "    if idx <= 1:\n",
    "        print(f\"{team} is from Comunidad de Madrid.\")\n",
    "    else:\n",
    "        print(f\"{team} is not from Comunidad de Madrid.\")"
   ]
  },
  {
   "cell_type": "code",
   "execution_count": 15,
   "id": "adf483e0-94d7-4d30-9bc2-1ac9f7a7e891",
   "metadata": {},
   "outputs": [
    {
     "data": {
      "text/plain": [
       "{'1': 'Cadiz', '2': 'Madrid', '3': 'Sevilla', '4': 'Malaga', '5': 'Santiago'}"
      ]
     },
     "execution_count": 15,
     "metadata": {},
     "output_type": "execute_result"
    }
   ],
   "source": [
    "x_range = list(\"12345\")\n",
    "x_vals = [\"Cadiz\", \"Madrid\", \"Sevilla\", \"Malaga\", \"Santiago\"]\n",
    "\n",
    "dicc = dict()\n",
    "for key, val in zip(x_range, x_vals):\n",
    "    dicc[key] = val\n",
    "dicc"
   ]
  },
  {
   "cell_type": "markdown",
   "id": "6f1077ac-c7e3-4730-bcd7-8f3404665de4",
   "metadata": {},
   "source": [
    "#### Exercise 5.3.\n",
    "Multiply all values in the following dictionary:\n",
    "```python\n",
    "d1 = {\"Jan\": 2.3, \"Feb\": -.4, \"Mar\": 1.1, \"Apr\": .98}\n",
    "``` "
   ]
  },
  {
   "cell_type": "markdown",
   "id": "17e1cf7a-b0e9-4c64-b9c6-a20b273dc0a5",
   "metadata": {},
   "source": [
    "<a id = \"5.3.\"></a>\n",
    "<a href=\"#idx5\"><p style=\"text-align:right;\" href=\"#idx5\">Back To Index</p></a> \n",
    "## 5.3. List comprehension"
   ]
  },
  {
   "cell_type": "markdown",
   "id": "d2f6a5df-b140-4914-b86c-a73b3af1e438",
   "metadata": {},
   "source": [
    "This combine for loop, a list creation and also if-else statement over the same line."
   ]
  },
  {
   "cell_type": "markdown",
   "id": "92266590-61bc-465b-8dc7-550e9fe6dc87",
   "metadata": {},
   "source": [
    "```python\n",
    "# Theory\n",
    "elements = [...]\n",
    "list_comp = [e for e in elements <optional: if condition>]  # just one if\n",
    "\n",
    "list_comp2 = [e if condition else <code> for e in elements]  # with if-else statement\n",
    "```"
   ]
  },
  {
   "cell_type": "code",
   "execution_count": 16,
   "id": "58ec9242-152b-4085-be0c-59500bdd2e9a",
   "metadata": {},
   "outputs": [
    {
     "data": {
      "text/plain": [
       "[0, 1, 2, 3, 4, 5, 6, 7, 8, 9]"
      ]
     },
     "execution_count": 16,
     "metadata": {},
     "output_type": "execute_result"
    }
   ],
   "source": [
    "# 4 code lines\n",
    "x = []\n",
    "for i in range(10):\n",
    "    x.append(i)\n",
    "x"
   ]
  },
  {
   "cell_type": "code",
   "execution_count": 17,
   "id": "5719c8b7-9fb9-4226-8009-aca9d3cdb064",
   "metadata": {},
   "outputs": [
    {
     "data": {
      "text/plain": [
       "[0, 1, 2, 3, 4, 5, 6, 7, 8, 9]"
      ]
     },
     "execution_count": 17,
     "metadata": {},
     "output_type": "execute_result"
    }
   ],
   "source": [
    "# 2 code line\n",
    "x = [i for i in range(10)]\n",
    "x"
   ]
  },
  {
   "cell_type": "code",
   "execution_count": 21,
   "id": "d5dca4d1-df6f-4960-ac72-351a88d5709f",
   "metadata": {},
   "outputs": [
    {
     "data": {
      "text/plain": [
       "(['2', '3', '6', '8', '9'], ['one', 'four', 'five', 'seven', 'ten'])"
      ]
     },
     "execution_count": 21,
     "metadata": {},
     "output_type": "execute_result"
    }
   ],
   "source": [
    "numbers = [\"one\", \"2\", \"3\", \"four\", \"five\", \"6\", \"seven\", \"8\", \"9\", \"ten\"]\n",
    "\n",
    "digit_numbers = [number for number in numbers if number.isdigit()]\n",
    "alpha_numbers = [number for number in numbers if number.isalpha()]\n",
    "digit_numbers, alpha_numbers"
   ]
  },
  {
   "cell_type": "code",
   "execution_count": 24,
   "id": "d0f04def-3998-448a-8328-692a6e039bc6",
   "metadata": {},
   "outputs": [
    {
     "data": {
      "text/plain": [
       "([20.0,\n",
       "  400.0,\n",
       "  2.0,\n",
       "  100.0,\n",
       "  1.0,\n",
       "  1600.0,\n",
       "  131.4,\n",
       "  19.6,\n",
       "  4.4,\n",
       "  1869.2,\n",
       "  156.60000000000002,\n",
       "  19.6,\n",
       "  35.6],\n",
       " 932.6153846153846)"
      ]
     },
     "execution_count": 24,
     "metadata": {},
     "output_type": "execute_result"
    }
   ],
   "source": [
    "x = [100, 1000, 10, 500, 5, 4000, 657, 98, 22, 4673, 783, 98, 178]\n",
    "lim = sum(x)/len(x)\n",
    "y = [n * .2 if n <= lim else n * .4 for n in x]\n",
    "y, lim"
   ]
  },
  {
   "cell_type": "markdown",
   "id": "e2807009-383e-4e2f-976f-f87bfa55442d",
   "metadata": {},
   "source": [
    "#### Exercise 5.4.\n",
    "Transform the following into the same using list comprehension.\n",
    "```python\n",
    "lis = [1.1, 1.3, 1.5, 2.9, .2, .3, 9]\n",
    "out = []\n",
    "for l in lis:\n",
    "    val = l ** 2\n",
    "    out.append(val)\n",
    "``` "
   ]
  },
  {
   "cell_type": "markdown",
   "id": "8a280343-0ddc-4f51-80ec-09aa550b65de",
   "metadata": {},
   "source": [
    "<a id = \"5.4.\"></a>\n",
    "<a href=\"#idx5\"><p style=\"text-align:right;\" href=\"#idx5\">Back To Index</p></a> \n",
    "## 5.4. Dictionary comprehension"
   ]
  },
  {
   "cell_type": "markdown",
   "id": "f6c96d10-139f-4a1e-9dbc-d19cc0f62074",
   "metadata": {},
   "source": [
    "This combines a loop inside a dictionary creation and conditionals."
   ]
  },
  {
   "cell_type": "markdown",
   "id": "b7af5956-8491-46cd-a3c9-bbda0ef4069a",
   "metadata": {},
   "source": [
    "```python\n",
    "d = {k: v for k, v in enumerate([...])}\n",
    "\n",
    "d = {k: v if v <= 10 else v * .9 for k, v in [...] }\n",
    "\n",
    "d = {k: v for k, v in [...] if cond1}\n",
    "```"
   ]
  },
  {
   "cell_type": "code",
   "execution_count": 25,
   "id": "49c1ae4c-2269-4796-98b5-8a83e18f7b4b",
   "metadata": {},
   "outputs": [],
   "source": [
    "cities = [\"cadiz\", \"malaga\", \"sevilla\", \"almeria\", \"huelva\", \"jaen\", \"cordoba\", \"granada\"]"
   ]
  },
  {
   "cell_type": "code",
   "execution_count": 26,
   "id": "5a1f8705-a123-44ed-8322-17490bfccc67",
   "metadata": {},
   "outputs": [
    {
     "data": {
      "text/plain": [
       "{1: 'cadiz',\n",
       " 2: 'malaga',\n",
       " 3: 'sevilla',\n",
       " 4: 'almeria',\n",
       " 5: 'huelva',\n",
       " 6: 'jaen',\n",
       " 7: 'cordoba',\n",
       " 8: 'granada'}"
      ]
     },
     "execution_count": 26,
     "metadata": {},
     "output_type": "execute_result"
    }
   ],
   "source": [
    "dic = {\n",
    "    n: city for n, city in enumerate(cities, 1)\n",
    "}\n",
    "dic"
   ]
  },
  {
   "cell_type": "code",
   "execution_count": 27,
   "id": "3538c493-22e5-4248-81f1-3729cf3a7ff9",
   "metadata": {},
   "outputs": [
    {
     "data": {
      "text/plain": [
       "{0: 100, 2: 10, 3: 500, 4: 5, 6: 657, 7: 98, 8: 22, 10: 783, 11: 98, 12: 178}"
      ]
     },
     "execution_count": 27,
     "metadata": {},
     "output_type": "execute_result"
    }
   ],
   "source": [
    "x = [100, 1000, 10, 500, 5, 4000, 657, 98, 22, 4673, 783, 98, 178]\n",
    "lim = sum(x)/len(x)\n",
    "\n",
    "y = {\n",
    "    k: v for k, v in enumerate(x) if v <= lim\n",
    "}\n",
    "y"
   ]
  },
  {
   "cell_type": "code",
   "execution_count": 28,
   "id": "0581592a-400b-4d4f-8567-0029c0d1d546",
   "metadata": {},
   "outputs": [
    {
     "data": {
      "text/plain": [
       "{0: 100,\n",
       " 1: 'mayor',\n",
       " 2: 10,\n",
       " 3: 500,\n",
       " 4: 5,\n",
       " 5: 'mayor',\n",
       " 6: 657,\n",
       " 7: 98,\n",
       " 8: 22,\n",
       " 9: 'mayor',\n",
       " 10: 783,\n",
       " 11: 98,\n",
       " 12: 178}"
      ]
     },
     "execution_count": 28,
     "metadata": {},
     "output_type": "execute_result"
    }
   ],
   "source": [
    "x = [100, 1000, 10, 500, 5, 4000, 657, 98, 22, 4673, 783, 98, 178]\n",
    "lim = sum(x)/len(x)\n",
    "\n",
    "y = {\n",
    "    k: v if v <= lim else \"mayor\" for k, v in enumerate(x) \n",
    "}\n",
    "y"
   ]
  },
  {
   "cell_type": "markdown",
   "id": "e739685c-2715-4bfe-aae4-4fa44a9df21b",
   "metadata": {},
   "source": [
    "**MAGIC** We cannot use elifs in list/dict comprehension, however there are a way to deploy that:"
   ]
  },
  {
   "cell_type": "code",
   "execution_count": 31,
   "id": "21e7ac9b-3e4d-4e8a-aa37-ce4af86d0586",
   "metadata": {},
   "outputs": [
    {
     "data": {
      "text/plain": [
       "'Is unregister'"
      ]
     },
     "execution_count": 31,
     "metadata": {},
     "output_type": "execute_result"
    }
   ],
   "source": [
    "status = \"unregister\"  # suppose this variable could be active, unactive and unregister\n",
    "\n",
    "d = {\n",
    "    status == \"active\": \"Is active\",  # if\n",
    "    status == \"unactive\": \"Is unactive\"  # elifs\n",
    "}\n",
    "\n",
    "d.get(True, \"Is unregister\")  # else"
   ]
  },
  {
   "cell_type": "markdown",
   "id": "ac0f7b31-a1dd-4af5-a5a2-f2cf06238f2a",
   "metadata": {},
   "source": [
    "<div><a href=\"06_functions_i.ipynb\"><p style=\"text-align:right;\" href=\"06_functions_i.ipynb\">Next - 6. Functions</p></a> "
   ]
  }
 ],
 "metadata": {
  "kernelspec": {
   "display_name": "Python 3",
   "language": "python",
   "name": "python3"
  },
  "language_info": {
   "codemirror_mode": {
    "name": "ipython",
    "version": 3
   },
   "file_extension": ".py",
   "mimetype": "text/x-python",
   "name": "python",
   "nbconvert_exporter": "python",
   "pygments_lexer": "ipython3",
   "version": "3.8.10"
  }
 },
 "nbformat": 4,
 "nbformat_minor": 5
}
