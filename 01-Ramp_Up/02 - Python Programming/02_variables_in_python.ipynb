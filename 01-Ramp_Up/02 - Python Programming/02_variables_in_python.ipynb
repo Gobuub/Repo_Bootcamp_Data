{
 "cells": [
  {
   "cell_type": "markdown",
   "id": "eb7686c8-d47b-46e6-bcdc-574f830199c1",
   "metadata": {},
   "source": [
    "<div style=\"text-align:center\"><img src=\"./images/02.jfif\" /></div>"
   ]
  },
  {
   "cell_type": "markdown",
   "id": "d911555b-dd57-4872-959d-10102205f9b7",
   "metadata": {},
   "source": [
    "<a id = \"idx2\"></a>\n",
    "<a href=\"00_cover_page.ipynb\"><p style=\"text-align:right;\" href=\"00_cover_page.ipynb\">Back To Cover Page</p></a> "
   ]
  },
  {
   "cell_type": "markdown",
   "id": "aac70ae7-816d-44e8-bd3b-202e58d48329",
   "metadata": {},
   "source": [
    "<a href=\"01_what_is_python.ipynb\"><p style=\"text-align:left;\" href=\"01_what_is_python.ipynb\">Back - 1. What is Python?</p></a></div>\n",
    "#### Index\n",
    "- [2. Variables in Python](#2.)\n",
    "    * [2.1. Numeric values](#2.1.)\n",
    "        + [2.1.1. Integer values](#2.1.1.)\n",
    "        + [2.1.2. Float values](#2.1.2.)\n",
    "        + [2.1.3. Arithmetic operations](#2.1.3.)\n",
    "    * [2.2. String values](#2.2.)\n",
    "        + [2.2.1. String operations](#2.2.1.)\n",
    "    * [2.3. Boolean values](#2.3.)\n",
    "        + [2.3.1. Boolean operations](#2.3.1.)\n",
    "    * [2.4. Change types](#2.4.)\n",
    "    * [2.5. None type](#2.5)\n",
    "    * [2.6. Global and local variables](#2.6.)\n",
    "    * [2.7. Good practises](#2.7.)"
   ]
  },
  {
   "cell_type": "markdown",
   "id": "69ec3b3c-0b76-42e5-996c-c2ea56a4b4af",
   "metadata": {},
   "source": [
    "<a id = \"2.\"></a>\n",
    "<a href=\"#idx2\"><p style=\"text-align:right;\" href=\"#idx2\">Back To Index</p></a> \n",
    "# 2. Variables in Python"
   ]
  },
  {
   "cell_type": "markdown",
   "id": "0b2a3ead-e4c6-4bfd-b7ac-513d50774496",
   "metadata": {},
   "source": [
    "- In python we use variables to store data (objects) in the computer.\n",
    "- This works by assigning an object to a variable name.\n",
    "- Variables names are case sensitive which means that \"number\" is different to \"Number\"\n",
    "- Objects could be integers, strings, booleans among others.\n"
   ]
  },
  {
   "cell_type": "markdown",
   "id": "b976d654-6d47-44d5-a3c9-fdb781953b82",
   "metadata": {},
   "source": [
    "<a id = \"2.1.\"></a>\n",
    "<a href=\"#idx2\"><p style=\"text-align:right;\" href=\"#idx2\">Back To Index</p></a> \n",
    "## 2.1. Numeric values"
   ]
  },
  {
   "cell_type": "markdown",
   "id": "d9c75220-7937-4dcb-aa9e-014534fe09c2",
   "metadata": {},
   "source": [
    "<a id = \"2.1.1.\"></a>\n",
    "<a href=\"#idx2\"><p style=\"text-align:right;\" href=\"#idx2\">Back To Index</p></a> \n",
    "### 2.1.1. Integer values"
   ]
  },
  {
   "cell_type": "code",
   "execution_count": 1,
   "id": "591facb1-40df-4ecc-844e-1c95184830d6",
   "metadata": {},
   "outputs": [
    {
     "data": {
      "text/plain": [
       "7"
      ]
     },
     "execution_count": 1,
     "metadata": {},
     "output_type": "execute_result"
    }
   ],
   "source": [
    "7"
   ]
  },
  {
   "cell_type": "code",
   "execution_count": 2,
   "id": "05fa5194-a6e8-4efe-a34d-085ba70c2639",
   "metadata": {},
   "outputs": [
    {
     "data": {
      "text/plain": [
       "-1"
      ]
     },
     "execution_count": 2,
     "metadata": {},
     "output_type": "execute_result"
    }
   ],
   "source": [
    "-1"
   ]
  },
  {
   "cell_type": "code",
   "execution_count": 3,
   "id": "a73f63c2-e5fe-480e-82d7-11e9dbaa1272",
   "metadata": {},
   "outputs": [
    {
     "ename": "SyntaxError",
     "evalue": "leading zeros in decimal integer literals are not permitted; use an 0o prefix for octal integers (<ipython-input-3-66ddacb94d26>, line 2)",
     "output_type": "error",
     "traceback": [
      "\u001b[1;36m  File \u001b[1;32m\"<ipython-input-3-66ddacb94d26>\"\u001b[1;36m, line \u001b[1;32m2\u001b[0m\n\u001b[1;33m    09\u001b[0m\n\u001b[1;37m     ^\u001b[0m\n\u001b[1;31mSyntaxError\u001b[0m\u001b[1;31m:\u001b[0m leading zeros in decimal integer literals are not permitted; use an 0o prefix for octal integers\n"
     ]
    }
   ],
   "source": [
    "# This don't work\n",
    "09"
   ]
  },
  {
   "cell_type": "code",
   "execution_count": 4,
   "id": "e5235e76-ed54-4410-86ab-ec49146964da",
   "metadata": {},
   "outputs": [],
   "source": [
    "number = 9\n",
    "Number = 1 # Case sensitive"
   ]
  },
  {
   "cell_type": "code",
   "execution_count": 5,
   "id": "639504e1-fece-4f4a-80e9-8bd37dc59a20",
   "metadata": {},
   "outputs": [
    {
     "data": {
      "text/plain": [
       "9"
      ]
     },
     "execution_count": 5,
     "metadata": {},
     "output_type": "execute_result"
    }
   ],
   "source": [
    "number"
   ]
  },
  {
   "cell_type": "code",
   "execution_count": 6,
   "id": "ec190a7b-3f14-463e-a5de-c41751700773",
   "metadata": {},
   "outputs": [
    {
     "data": {
      "text/plain": [
       "1"
      ]
     },
     "execution_count": 6,
     "metadata": {},
     "output_type": "execute_result"
    }
   ],
   "source": [
    "Number"
   ]
  },
  {
   "cell_type": "markdown",
   "id": "e4b23142-9d20-4366-8e57-c84fd668c91b",
   "metadata": {},
   "source": [
    "<a id = \"2.1.2.\"></a>\n",
    "<a href=\"#idx2\"><p style=\"text-align:right;\" href=\"#idx2\">Back To Index</p></a> \n",
    "### 2.1.2. Float values"
   ]
  },
  {
   "cell_type": "markdown",
   "id": "1e870e57-a8cf-41db-b577-5c6ad48f0f6e",
   "metadata": {},
   "source": [
    "Float number use `.` to separate integer part from decimal part. Python **will not** understand `,` as a decimal separator."
   ]
  },
  {
   "cell_type": "code",
   "execution_count": 7,
   "id": "c6fd1540-5cf9-480d-be25-24620c87ca0c",
   "metadata": {},
   "outputs": [
    {
     "data": {
      "text/plain": [
       "1.0"
      ]
     },
     "execution_count": 7,
     "metadata": {},
     "output_type": "execute_result"
    }
   ],
   "source": [
    "1.0"
   ]
  },
  {
   "cell_type": "code",
   "execution_count": 8,
   "id": "b225ee30-5f7a-4050-bf01-366eede1d332",
   "metadata": {},
   "outputs": [
    {
     "data": {
      "text/plain": [
       "1.5"
      ]
     },
     "execution_count": 8,
     "metadata": {},
     "output_type": "execute_result"
    }
   ],
   "source": [
    "float_number = 1.5\n",
    "float_number"
   ]
  },
  {
   "cell_type": "code",
   "execution_count": 9,
   "id": "500a1691-6446-4930-a762-534a3c66f184",
   "metadata": {},
   "outputs": [
    {
     "data": {
      "text/plain": [
       "0.5"
      ]
     },
     "execution_count": 9,
     "metadata": {},
     "output_type": "execute_result"
    }
   ],
   "source": [
    ".5"
   ]
  },
  {
   "cell_type": "markdown",
   "id": "eb450e46-e53e-480a-a4f7-477051a425db",
   "metadata": {},
   "source": [
    "#### Exercise 2.1.\n",
    "1. Assign two `int` numbers to variables.\n",
    "2. Assign two `float` numbers to variables.\n",
    "3. Check types [Hint](https://stackabuse.com/python-check-if-variable-is-a-number)"
   ]
  },
  {
   "cell_type": "markdown",
   "id": "383bde85-96cc-47eb-a7ed-be3057e8aff2",
   "metadata": {},
   "source": [
    "<a id = \"2.1.3.\"></a>\n",
    "<a href=\"#idx2\"><p style=\"text-align:right;\" href=\"#idx2\">Back To Index</p></a> \n",
    "### 2.1.3. Arithmetic operations"
   ]
  },
  {
   "cell_type": "markdown",
   "id": "9002ffcf-cc9e-4ad3-bb7f-1894d8f33030",
   "metadata": {},
   "source": [
    "##### Sum\n",
    "```python\n",
    "# Theory\n",
    "num1 + num2\n",
    "num1 - num2\n",
    "\n",
    "#Example\n",
    "2 - 1\n",
    ">> 1\n",
    "```"
   ]
  },
  {
   "cell_type": "code",
   "execution_count": 10,
   "id": "9b22de87-bc19-4442-90c5-a211e5e84399",
   "metadata": {},
   "outputs": [
    {
     "data": {
      "text/plain": [
       "17"
      ]
     },
     "execution_count": 10,
     "metadata": {},
     "output_type": "execute_result"
    }
   ],
   "source": [
    "number + 8"
   ]
  },
  {
   "cell_type": "code",
   "execution_count": 11,
   "id": "e365da26-d990-4bca-81dc-c0fe3595d57b",
   "metadata": {},
   "outputs": [
    {
     "data": {
      "text/plain": [
       "0"
      ]
     },
     "execution_count": 11,
     "metadata": {},
     "output_type": "execute_result"
    }
   ],
   "source": [
    "number - 9"
   ]
  },
  {
   "cell_type": "code",
   "execution_count": 12,
   "id": "9f0164b6-f3b8-46d6-a31e-19048d2c6f8d",
   "metadata": {},
   "outputs": [
    {
     "data": {
      "text/plain": [
       "2.5"
      ]
     },
     "execution_count": 12,
     "metadata": {},
     "output_type": "execute_result"
    }
   ],
   "source": [
    "float_number + 1"
   ]
  },
  {
   "cell_type": "code",
   "execution_count": 13,
   "id": "0d423e4c-a0cc-485e-8170-521052c2edc1",
   "metadata": {},
   "outputs": [
    {
     "name": "stdout",
     "output_type": "stream",
     "text": [
      "6\n"
     ]
    }
   ],
   "source": [
    "# Othe way of summing\n",
    "a = 5\n",
    "a += 1\n",
    "print(a)"
   ]
  },
  {
   "cell_type": "markdown",
   "id": "2fdc5bd0-af00-4a80-9271-d82bc414a748",
   "metadata": {},
   "source": [
    "##### Multiplication\n",
    "```python\n",
    "# Theory\n",
    "num1 * num2\n",
    "\n",
    "# Example\n",
    "15 * -2\n",
    ">> -30\n",
    "```"
   ]
  },
  {
   "cell_type": "code",
   "execution_count": 14,
   "id": "f53e0d89-b679-4d90-ac07-add6d4aa5d47",
   "metadata": {},
   "outputs": [
    {
     "data": {
      "text/plain": [
       "0"
      ]
     },
     "execution_count": 14,
     "metadata": {},
     "output_type": "execute_result"
    }
   ],
   "source": [
    "number * 0"
   ]
  },
  {
   "cell_type": "code",
   "execution_count": 15,
   "id": "e0d999e4-692f-4694-bc27-3ba5e6fbdd37",
   "metadata": {},
   "outputs": [
    {
     "data": {
      "text/plain": [
       "-9"
      ]
     },
     "execution_count": 15,
     "metadata": {},
     "output_type": "execute_result"
    }
   ],
   "source": [
    "number * -1"
   ]
  },
  {
   "cell_type": "code",
   "execution_count": 16,
   "id": "67225173-93ef-4cd7-909d-5d84ad3ce592",
   "metadata": {},
   "outputs": [
    {
     "data": {
      "text/plain": [
       "4.5"
      ]
     },
     "execution_count": 16,
     "metadata": {},
     "output_type": "execute_result"
    }
   ],
   "source": [
    "number * .5"
   ]
  },
  {
   "cell_type": "code",
   "execution_count": 17,
   "id": "2cfc0354-f127-4df3-831d-e4f8232ed32c",
   "metadata": {},
   "outputs": [
    {
     "name": "stdout",
     "output_type": "stream",
     "text": [
      "6\n"
     ]
    }
   ],
   "source": [
    "# Other way of multiplication\n",
    "b = 2\n",
    "b *= 3\n",
    "print(b)"
   ]
  },
  {
   "cell_type": "markdown",
   "id": "123073c4-5158-421a-a761-ba6c4be8d894",
   "metadata": {},
   "source": [
    "##### Division\n",
    "\n",
    "```python\n",
    "# Theory\n",
    "num1 / num2\n",
    "\n",
    "# Example\n",
    "4 / 2\n",
    ">> 2.0\n",
    "```"
   ]
  },
  {
   "cell_type": "code",
   "execution_count": 18,
   "id": "1bd1b21c-b364-4d18-919c-bb5ae4ed191e",
   "metadata": {},
   "outputs": [
    {
     "data": {
      "text/plain": [
       "3.0"
      ]
     },
     "execution_count": 18,
     "metadata": {},
     "output_type": "execute_result"
    }
   ],
   "source": [
    "div = number / 3\n",
    "div"
   ]
  },
  {
   "cell_type": "code",
   "execution_count": 19,
   "id": "947cf899-0f6e-4dfe-a449-58c6ddc97bbf",
   "metadata": {},
   "outputs": [
    {
     "ename": "ZeroDivisionError",
     "evalue": "division by zero",
     "output_type": "error",
     "traceback": [
      "\u001b[1;31m---------------------------------------------------------------------------\u001b[0m",
      "\u001b[1;31mZeroDivisionError\u001b[0m                         Traceback (most recent call last)",
      "\u001b[1;32m<ipython-input-19-79bbccbb62a3>\u001b[0m in \u001b[0;36m<module>\u001b[1;34m\u001b[0m\n\u001b[1;32m----> 1\u001b[1;33m \u001b[0mNumber\u001b[0m \u001b[1;33m/\u001b[0m \u001b[1;36m0\u001b[0m\u001b[1;33m\u001b[0m\u001b[1;33m\u001b[0m\u001b[0m\n\u001b[0m",
      "\u001b[1;31mZeroDivisionError\u001b[0m: division by zero"
     ]
    }
   ],
   "source": [
    "Number / 0"
   ]
  },
  {
   "cell_type": "code",
   "execution_count": 20,
   "id": "5f9d4c29-05f7-4115-beba-c9d72ae09d49",
   "metadata": {},
   "outputs": [
    {
     "data": {
      "text/plain": [
       "2.0"
      ]
     },
     "execution_count": 20,
     "metadata": {},
     "output_type": "execute_result"
    }
   ],
   "source": [
    "Number / .5"
   ]
  },
  {
   "cell_type": "markdown",
   "id": "e16c02b7-6e4c-495f-a964-ecdb1acb50a5",
   "metadata": {},
   "source": [
    "##### Power\n",
    "```python\n",
    "#Theory\n",
    "num1 ** num2\n",
    "\n",
    "# Example\n",
    "2 ** 3\n",
    ">> 8\n",
    "```"
   ]
  },
  {
   "cell_type": "code",
   "execution_count": 21,
   "id": "f6ae3b48-af57-4562-8d23-cd3ca20bc1e6",
   "metadata": {},
   "outputs": [
    {
     "data": {
      "text/plain": [
       "9"
      ]
     },
     "execution_count": 21,
     "metadata": {},
     "output_type": "execute_result"
    }
   ],
   "source": [
    "3 ** 2"
   ]
  },
  {
   "cell_type": "code",
   "execution_count": 22,
   "id": "b38c8487-295a-4708-a240-5a8391e28878",
   "metadata": {},
   "outputs": [
    {
     "data": {
      "text/plain": [
       "3.0"
      ]
     },
     "execution_count": 22,
     "metadata": {},
     "output_type": "execute_result"
    }
   ],
   "source": [
    "number ** .5"
   ]
  },
  {
   "cell_type": "code",
   "execution_count": 23,
   "id": "ddc38bfe-13fa-400d-80d1-d7d7623bcf58",
   "metadata": {},
   "outputs": [
    {
     "data": {
      "text/plain": [
       "0.5"
      ]
     },
     "execution_count": 23,
     "metadata": {},
     "output_type": "execute_result"
    }
   ],
   "source": [
    "2 ** -1"
   ]
  },
  {
   "cell_type": "markdown",
   "id": "99f9145a-bd32-474d-bc74-4d5eb7de3590",
   "metadata": {},
   "source": [
    "##### Modulus\n",
    "```python\n",
    "# Theory\n",
    "num1 % num2\n",
    "\n",
    "# Example\n",
    "5 % 2\n",
    ">> 1\n",
    "\n",
    "6 % 3\n",
    ">> 0\n",
    "```"
   ]
  },
  {
   "cell_type": "code",
   "execution_count": 24,
   "id": "7b31c2da-0dcb-4139-988c-9007781b48fb",
   "metadata": {},
   "outputs": [
    {
     "data": {
      "text/plain": [
       "1"
      ]
     },
     "execution_count": 24,
     "metadata": {},
     "output_type": "execute_result"
    }
   ],
   "source": [
    "mod = 3 % 2\n",
    "mod"
   ]
  },
  {
   "cell_type": "code",
   "execution_count": 25,
   "id": "d18e3dda-63fe-4586-bb63-fbf7ddc3e0c0",
   "metadata": {},
   "outputs": [
    {
     "data": {
      "text/plain": [
       "0"
      ]
     },
     "execution_count": 25,
     "metadata": {},
     "output_type": "execute_result"
    }
   ],
   "source": [
    "3 % 3"
   ]
  },
  {
   "cell_type": "code",
   "execution_count": 26,
   "id": "f3ceec74-32c4-473e-82b4-d2f9171bf931",
   "metadata": {},
   "outputs": [
    {
     "name": "stdout",
     "output_type": "stream",
     "text": [
      "0\n",
      "0\n",
      "2\n"
     ]
    }
   ],
   "source": [
    "mod1, mod2, mod3 = 12 % 2, 12 % 3, 12 % 5  # multiple assignation\n",
    "print(mod1)\n",
    "print(mod2)\n",
    "print(mod3)"
   ]
  },
  {
   "cell_type": "markdown",
   "id": "1763fde3-0835-4dad-b842-b1943756ddb3",
   "metadata": {},
   "source": [
    "##### Floor division\n",
    "```python\n",
    "# Theory\n",
    "num1 // num2\n",
    "\n",
    "# Example\n",
    "2 // 2\n",
    ">> 1\n",
    "\n",
    "12 // 5\n",
    ">> 2\n",
    "```"
   ]
  },
  {
   "cell_type": "code",
   "execution_count": 27,
   "id": "f3086ad2-1b38-4752-b4be-e9a69335b3a1",
   "metadata": {},
   "outputs": [
    {
     "data": {
      "text/plain": [
       "1.0"
      ]
     },
     "execution_count": 27,
     "metadata": {},
     "output_type": "execute_result"
    }
   ],
   "source": [
    "3 // 2.0"
   ]
  },
  {
   "cell_type": "code",
   "execution_count": 28,
   "id": "f9684379-a325-4808-9ec2-63921d653c84",
   "metadata": {},
   "outputs": [
    {
     "data": {
      "text/plain": [
       "2"
      ]
     },
     "execution_count": 28,
     "metadata": {},
     "output_type": "execute_result"
    }
   ],
   "source": [
    "13 // 6"
   ]
  },
  {
   "cell_type": "markdown",
   "id": "597e80f4-c9f1-416a-9d5b-72392aaeacb3",
   "metadata": {},
   "source": [
    "#### Exercise 2.2.\n",
    "1. Assign one `int` and one `float` to different variables.\n",
    "2. Sum them and check types."
   ]
  },
  {
   "cell_type": "markdown",
   "id": "f7368a9d-8163-4ff0-86b8-6259dfbcbf88",
   "metadata": {},
   "source": [
    "<a id = \"2.2.\"></a>\n",
    "<a href=\"#idx2\"><p style=\"text-align:right;\" href=\"#idx2\">Back To Index</p></a> \n",
    "## 2.2. String values"
   ]
  },
  {
   "cell_type": "code",
   "execution_count": 31,
   "id": "006ed852-c755-46c6-aa43-f4f02d418a50",
   "metadata": {},
   "outputs": [
    {
     "data": {
      "text/plain": [
       "'Hello World'"
      ]
     },
     "execution_count": 31,
     "metadata": {},
     "output_type": "execute_result"
    }
   ],
   "source": [
    "char = \"Hello World\"\n",
    "char"
   ]
  },
  {
   "cell_type": "code",
   "execution_count": 32,
   "id": "2c451db5-3d57-4faa-82d4-5bf1b19f140f",
   "metadata": {},
   "outputs": [
    {
     "data": {
      "text/plain": [
       "'Hello\\nWorld'"
      ]
     },
     "execution_count": 32,
     "metadata": {},
     "output_type": "execute_result"
    }
   ],
   "source": [
    "char2 = \"Hello\\nWorld\"\n",
    "char2"
   ]
  },
  {
   "cell_type": "code",
   "execution_count": 33,
   "id": "96b8200d-7d40-4b6a-8717-79b051fe9830",
   "metadata": {},
   "outputs": [
    {
     "name": "stdout",
     "output_type": "stream",
     "text": [
      "Hello\n",
      "World\n"
     ]
    }
   ],
   "source": [
    "print(char2)"
   ]
  },
  {
   "cell_type": "markdown",
   "id": "e4090acc-5b4b-4066-bd7a-b4086782766e",
   "metadata": {},
   "source": [
    "[Escape characters](https://www.w3schools.com/python/gloss_python_escape_characters.asp) This are scape characters to use inside a string"
   ]
  },
  {
   "cell_type": "code",
   "execution_count": 34,
   "id": "775a4642-2073-4414-905e-9425a0161e9e",
   "metadata": {},
   "outputs": [
    {
     "data": {
      "text/plain": [
       "str"
      ]
     },
     "execution_count": 34,
     "metadata": {},
     "output_type": "execute_result"
    }
   ],
   "source": [
    "type(char)"
   ]
  },
  {
   "cell_type": "code",
   "execution_count": 35,
   "id": "5d3157ff-86d4-4ee0-b327-3c754ac27335",
   "metadata": {},
   "outputs": [
    {
     "data": {
      "text/plain": [
       "str"
      ]
     },
     "execution_count": 35,
     "metadata": {},
     "output_type": "execute_result"
    }
   ],
   "source": [
    "char3 = 'Welcome!'  # use of single ' to create strings\n",
    "type(char3)"
   ]
  },
  {
   "cell_type": "code",
   "execution_count": 36,
   "id": "963ab0a4-5642-48cd-89fc-128d3128a5bc",
   "metadata": {},
   "outputs": [
    {
     "data": {
      "text/plain": [
       "'ILovePython'"
      ]
     },
     "execution_count": 36,
     "metadata": {},
     "output_type": "execute_result"
    }
   ],
   "source": [
    "char4 = (\"I\" \n",
    "         \"Love\" \n",
    "         \"Python\")\n",
    "char4"
   ]
  },
  {
   "cell_type": "code",
   "execution_count": 37,
   "id": "89d722f7-25b4-40cd-9847-3c906fc3a152",
   "metadata": {},
   "outputs": [
    {
     "name": "stdout",
     "output_type": "stream",
     "text": [
      "'I Love JAVA' said anyone never...\n"
     ]
    }
   ],
   "source": [
    "char5 = \"'I Love JAVA' said anyone never...\"  # you have to altern between \"\" and '' to use inside of a string\n",
    "print(char5)"
   ]
  },
  {
   "cell_type": "code",
   "execution_count": 38,
   "id": "bf09e80d-03a0-4f6f-b17c-48da81c14739",
   "metadata": {},
   "outputs": [
    {
     "ename": "SyntaxError",
     "evalue": "EOL while scanning string literal (<ipython-input-38-9d9aacdcc1cb>, line 2)",
     "output_type": "error",
     "traceback": [
      "\u001b[1;36m  File \u001b[1;32m\"<ipython-input-38-9d9aacdcc1cb>\"\u001b[1;36m, line \u001b[1;32m2\u001b[0m\n\u001b[1;33m    char6 = \"This is a failed str...\u001b[0m\n\u001b[1;37m                                    ^\u001b[0m\n\u001b[1;31mSyntaxError\u001b[0m\u001b[1;31m:\u001b[0m EOL while scanning string literal\n"
     ]
    }
   ],
   "source": [
    "# As we can see from the error this is because we have to close the str with the last \"\n",
    "char6 = \"This is a failed str..."
   ]
  },
  {
   "cell_type": "markdown",
   "id": "ca129d33-371e-4818-8453-ac0893372a71",
   "metadata": {},
   "source": [
    "#### Exercise 2.3.\n",
    "1. Create 3 string with your name, your street and you dni."
   ]
  },
  {
   "cell_type": "markdown",
   "id": "ded1d846-8103-4822-84d2-8b0b96d75bd4",
   "metadata": {},
   "source": [
    "<a id = \"2.2.1.\"></a>\n",
    "<a href=\"#idx2\"><p style=\"text-align:right;\" href=\"#idx2\">Back To Index</p></a> \n",
    "## 2.2.1 String operations"
   ]
  },
  {
   "cell_type": "markdown",
   "id": "3015fd2d-b043-4508-87a7-c3e6bf86340f",
   "metadata": {},
   "source": [
    "##### Concatenate strings\n",
    "```python\n",
    "# Theory\n",
    "str1 + str2 = str1str2\n",
    "\n",
    "# Example\n",
    "\"Hello\" + \" \" + \"World\" = \"Hello World\"\n",
    "```"
   ]
  },
  {
   "cell_type": "code",
   "execution_count": 39,
   "id": "5a55f42a-a77d-4a99-ba88-6b753f0019cf",
   "metadata": {},
   "outputs": [
    {
     "name": "stdout",
     "output_type": "stream",
     "text": [
      "4 8 2021\n"
     ]
    }
   ],
   "source": [
    "day = \"4\"\n",
    "month = \"8\"\n",
    "year = \"2021\"\n",
    "print(day, month, year)"
   ]
  },
  {
   "cell_type": "markdown",
   "id": "eb07debc-745d-4c42-8e15-fa376ac45d9d",
   "metadata": {},
   "source": [
    "##### String formatting\n",
    "```python\n",
    "# Theory\n",
    "char = f\"My name is {name_var} and I am {age_var} years old\"\n",
    "\n",
    "# Example\n",
    "name_var = \"Esteban\"\n",
    "age_var = \"27\"\n",
    "char = f\"My name is {name_var} and I am {age_var} years old\"\n",
    "print(char)\n",
    ">> \"My name is Esteban and I am 27 years old\n",
    "```"
   ]
  },
  {
   "cell_type": "code",
   "execution_count": 40,
   "id": "e1d25d3d-234e-4a68-9f5f-f71dc4104837",
   "metadata": {},
   "outputs": [
    {
     "name": "stdout",
     "output_type": "stream",
     "text": [
      "Your salary will increase a 15% next quarter.\n"
     ]
    }
   ],
   "source": [
    "per = \"15\"\n",
    "char = f\"Your salary will increase a {per}% next quarter.\"\n",
    "print(char)"
   ]
  },
  {
   "cell_type": "markdown",
   "id": "23fc47b2-769c-46a8-889e-c8c85fe630e5",
   "metadata": {},
   "source": [
    "##### String methods\n",
    "\n",
    "There are several string methods that you could use to perform any operation, [here (python)](https://docs.python.org/3/library/stdtypes.html) or [here (w3sch)](https://www.w3schools.com/python/python_ref_string.asp) you can find them. Let's see some example"
   ]
  },
  {
   "cell_type": "code",
   "execution_count": 41,
   "id": "c681025a-1709-450a-8f86-b777c140d722",
   "metadata": {},
   "outputs": [
    {
     "data": {
      "text/plain": [
       "'spain, spain, spain'"
      ]
     },
     "execution_count": 41,
     "metadata": {},
     "output_type": "execute_result"
    }
   ],
   "source": [
    "# Lowercase\n",
    "char = \"SPAIN, spain, Spain\"\n",
    "char.casefold()  # or char.lower()"
   ]
  },
  {
   "cell_type": "code",
   "execution_count": 42,
   "id": "2cf201a2-7537-4ca0-96e5-a0917ff56c4c",
   "metadata": {},
   "outputs": [
    {
     "data": {
      "text/plain": [
       "'SPAIN, spain, Spain'"
      ]
     },
     "execution_count": 42,
     "metadata": {},
     "output_type": "execute_result"
    }
   ],
   "source": [
    "char  # As we can see previous method don't override the variable. In some cases the behaviour will be different."
   ]
  },
  {
   "cell_type": "code",
   "execution_count": 43,
   "id": "25813496-656c-48d0-9b07-28ae05714224",
   "metadata": {},
   "outputs": [
    {
     "data": {
      "text/plain": [
       "'spain, spain, spain'"
      ]
     },
     "execution_count": 43,
     "metadata": {},
     "output_type": "execute_result"
    }
   ],
   "source": [
    "lower_char = char.lower()  # to add the lowercase str object to a new variable name\n",
    "lower_char"
   ]
  },
  {
   "cell_type": "code",
   "execution_count": 44,
   "id": "83b3ba97-6b4c-48bf-b1d4-db042cac4037",
   "metadata": {},
   "outputs": [
    {
     "data": {
      "text/plain": [
       "'SPAIN - spain - Spain'"
      ]
     },
     "execution_count": 44,
     "metadata": {},
     "output_type": "execute_result"
    }
   ],
   "source": [
    "# Replace a value\n",
    "char.replace(\", \", \" - \")"
   ]
  },
  {
   "cell_type": "code",
   "execution_count": 45,
   "id": "b901696e-dd87-498a-91f9-db2e4bf236d2",
   "metadata": {},
   "outputs": [
    {
     "data": {
      "text/plain": [
       "'08014'"
      ]
     },
     "execution_count": 45,
     "metadata": {},
     "output_type": "execute_result"
    }
   ],
   "source": [
    "# Add 0 in the beginning of a string until match with the given length\n",
    "\"8014\".zfill(5)"
   ]
  },
  {
   "cell_type": "markdown",
   "id": "3596381b-3291-4d24-85b0-526ef0d2f4f7",
   "metadata": {},
   "source": [
    "#### Exercise 2.4.\n",
    "1. Remove extra white-spaces from `\"  Hello \"` using string methods."
   ]
  },
  {
   "cell_type": "markdown",
   "id": "d5bc46cb-eb97-4f57-9efd-bd2cf606a02a",
   "metadata": {},
   "source": [
    "#### Exercise 2.5.\n",
    "1. Use the variables in `Exercise 2.3.` to crate the following string: `My name is {name}, my DNI is {dni} and I live in {}.`."
   ]
  },
  {
   "cell_type": "markdown",
   "id": "2399e6ed-8391-4b4b-97b3-2003fef004dc",
   "metadata": {},
   "source": [
    "<a id = \"2.3.\"></a>\n",
    "<a href=\"#idx2\"><p style=\"text-align:right;\" href=\"#idx2\">Back To Index</p></a> \n",
    "## 2.3. Boolean values"
   ]
  },
  {
   "cell_type": "code",
   "execution_count": 48,
   "id": "21109f39-71d6-472a-a9d3-7034d23af310",
   "metadata": {},
   "outputs": [],
   "source": [
    "bool_var1 = True\n",
    "bool_var2 = False"
   ]
  },
  {
   "cell_type": "markdown",
   "id": "5e0eadbf-845f-4a06-9750-31039f2ef53f",
   "metadata": {},
   "source": [
    "<a id = \"2.3.1.\"></a>\n",
    "<a href=\"#idx2\"><p style=\"text-align:right;\" href=\"#idx2\">Back To Index</p></a> \n",
    "### 2.3.1. Boolean operations"
   ]
  },
  {
   "cell_type": "markdown",
   "id": "312bb7af-0779-4f92-b8fe-cfa8e7f21a45",
   "metadata": {},
   "source": [
    "##### Equality\n",
    "```python\n",
    "# Theory\n",
    "var1 == var2\n",
    "\n",
    "# Example\n",
    "True == True\n",
    ">> True\n",
    "\n",
    "5 == 5\n",
    ">> True\n",
    "\n",
    "\"hello\" == \"Hello\"\n",
    ">> False\n",
    "```"
   ]
  },
  {
   "cell_type": "code",
   "execution_count": 49,
   "id": "ebdf41de-a0de-42e9-8b07-d900e1508261",
   "metadata": {},
   "outputs": [
    {
     "name": "stdout",
     "output_type": "stream",
     "text": [
      "False True\n"
     ]
    }
   ],
   "source": [
    "a = 10\n",
    "print(a == 9, a == 10)"
   ]
  },
  {
   "cell_type": "markdown",
   "id": "9a54dc17-f1c0-4f8f-8e77-a71de348fcf4",
   "metadata": {},
   "source": [
    "##### Non-equality\n",
    "```python\n",
    "# Theory\n",
    "var1 != var2\n",
    "\n",
    "# Example\n",
    "False != True\n",
    ">> True\n",
    "\n",
    "5 != 5\n",
    ">> False\n",
    "\n",
    "\"hello\" != \"Hello\"\n",
    ">> True\n",
    "```"
   ]
  },
  {
   "cell_type": "code",
   "execution_count": 50,
   "id": "c8e0ea15-230f-4787-8deb-3d503aa03eab",
   "metadata": {},
   "outputs": [
    {
     "name": "stdout",
     "output_type": "stream",
     "text": [
      "True False\n"
     ]
    }
   ],
   "source": [
    "a = 10\n",
    "print(a != 9, a != 10)"
   ]
  },
  {
   "cell_type": "markdown",
   "id": "595b43e3-4731-4299-b819-89d7a0373360",
   "metadata": {},
   "source": [
    "##### Greater\n",
    "```python\n",
    "# Theory\n",
    "var1 > var2\n",
    "\n",
    "# Example\n",
    "1 > 1\n",
    ">> False\n",
    "\n",
    "1 > -1\n",
    ">> True\n",
    "\n",
    "1 >= 1  # Greater or equal\n",
    ">> True\n",
    "```"
   ]
  },
  {
   "cell_type": "code",
   "execution_count": 51,
   "id": "bb5f2d49-5b87-4e8f-b189-5f427bc77436",
   "metadata": {},
   "outputs": [
    {
     "name": "stdout",
     "output_type": "stream",
     "text": [
      "True False\n"
     ]
    }
   ],
   "source": [
    "a = 10\n",
    "print(a > 9, a > 10)"
   ]
  },
  {
   "cell_type": "markdown",
   "id": "a4675541-b782-4c91-81bd-eb67577f017b",
   "metadata": {},
   "source": [
    "##### Fewer\n",
    "```python\n",
    "# Theory\n",
    "var1 < var2\n",
    "\n",
    "# Example\n",
    "1 < 1\n",
    ">> False\n",
    "\n",
    "1 < 3\n",
    ">> True\n",
    "\n",
    "1 <= 1  # Fewer or equal\n",
    ">> True\n",
    "```"
   ]
  },
  {
   "cell_type": "code",
   "execution_count": 52,
   "id": "f0e95e14-a301-43b8-82a1-c31495db53ea",
   "metadata": {},
   "outputs": [
    {
     "name": "stdout",
     "output_type": "stream",
     "text": [
      "False True\n"
     ]
    }
   ],
   "source": [
    "a = 10\n",
    "print(a < 9, a <= 10)"
   ]
  },
  {
   "cell_type": "markdown",
   "id": "28f1fb2e-6119-4e0f-beee-88d31ecfa877",
   "metadata": {},
   "source": [
    "#### Exercise 2.6.\n",
    "Given:\n",
    "```python\n",
    "a = 4\n",
    "b = \"text\"\n",
    "c = 4.1\n",
    "```\n",
    "1. Check if there are any variable equal to other.\n",
    "2. Check if there are any variable different from other.\n",
    "3. Check if `a` is greater than `c`."
   ]
  },
  {
   "cell_type": "markdown",
   "id": "b6cc7658-b9c8-4e2e-ab10-5e054008a08d",
   "metadata": {},
   "source": [
    "<a id = \"2.4.\"></a>\n",
    "<a href=\"#idx2\"><p style=\"text-align:right;\" href=\"#idx2\">Back To Index</p></a> \n",
    "## 2.4. Change types"
   ]
  },
  {
   "cell_type": "markdown",
   "id": "c7841ab6-ebd8-4865-a45d-d4bf990714c3",
   "metadata": {},
   "source": [
    "In python there are pre-defined functions (**built-in functions**) used to do something. In this case we are going to see the ones to create varibles."
   ]
  },
  {
   "cell_type": "markdown",
   "id": "380ec91e-638e-46f1-81a1-472e11ac3adb",
   "metadata": {},
   "source": [
    "##### Integer\n",
    "```python\n",
    "# Theory\n",
    "int(arg)\n",
    "```"
   ]
  },
  {
   "cell_type": "code",
   "execution_count": 53,
   "id": "25390889-bba4-433c-b34a-025ecc8e9793",
   "metadata": {},
   "outputs": [
    {
     "data": {
      "text/plain": [
       "(0, 1)"
      ]
     },
     "execution_count": 53,
     "metadata": {},
     "output_type": "execute_result"
    }
   ],
   "source": [
    "int(), int(1)"
   ]
  },
  {
   "cell_type": "markdown",
   "id": "2e3f2444-aed9-4800-8f3b-ab396e1702bb",
   "metadata": {},
   "source": [
    "We can keep the integer part of a decimal number by doing:\n",
    "```python\n",
    "int(3.6)\n",
    ">> 3\n",
    "```"
   ]
  },
  {
   "cell_type": "code",
   "execution_count": 54,
   "id": "155b9fca-0517-4194-9262-ed321a594584",
   "metadata": {},
   "outputs": [
    {
     "data": {
      "text/plain": [
       "(3, 4, 4)"
      ]
     },
     "execution_count": 54,
     "metadata": {},
     "output_type": "execute_result"
    }
   ],
   "source": [
    "int(3.2), int(4.6), int(4.0)"
   ]
  },
  {
   "cell_type": "markdown",
   "id": "bd14b4d6-04d4-42f7-93c4-dfe915a50b3b",
   "metadata": {},
   "source": [
    "We can change from string to integer by doing:\n",
    "```python\n",
    "int(\"2\")\n",
    ">> 2\n",
    "```"
   ]
  },
  {
   "cell_type": "code",
   "execution_count": 55,
   "id": "48257550-3a22-4c20-88ca-7aee9ab61679",
   "metadata": {},
   "outputs": [
    {
     "data": {
      "text/plain": [
       "(-5, 909)"
      ]
     },
     "execution_count": 55,
     "metadata": {},
     "output_type": "execute_result"
    }
   ],
   "source": [
    "a, b = int(\"-5\"), int(\"909 \")\n",
    "a, b"
   ]
  },
  {
   "cell_type": "code",
   "execution_count": 56,
   "id": "07bd7fd9-c9e6-49a5-b91b-c0e9e5fe1d8a",
   "metadata": {},
   "outputs": [
    {
     "ename": "ValueError",
     "evalue": "invalid literal for int() with base 10: '5.4'",
     "output_type": "error",
     "traceback": [
      "\u001b[1;31m---------------------------------------------------------------------------\u001b[0m",
      "\u001b[1;31mValueError\u001b[0m                                Traceback (most recent call last)",
      "\u001b[1;32m<ipython-input-56-3f9f6d34f6df>\u001b[0m in \u001b[0;36m<module>\u001b[1;34m\u001b[0m\n\u001b[1;32m----> 1\u001b[1;33m \u001b[0mint\u001b[0m\u001b[1;33m(\u001b[0m\u001b[1;34m\"5.4\"\u001b[0m\u001b[1;33m)\u001b[0m  \u001b[1;31m# Not valid\u001b[0m\u001b[1;33m\u001b[0m\u001b[1;33m\u001b[0m\u001b[0m\n\u001b[0m",
      "\u001b[1;31mValueError\u001b[0m: invalid literal for int() with base 10: '5.4'"
     ]
    }
   ],
   "source": [
    "int(\"5.4\")  # Not valid"
   ]
  },
  {
   "cell_type": "markdown",
   "id": "772db4eb-276f-4e0a-9169-8c2ae08731ed",
   "metadata": {},
   "source": [
    "##### Float\n",
    "```python\n",
    "# Theory\n",
    "float(arg)\n",
    "```"
   ]
  },
  {
   "cell_type": "code",
   "execution_count": 57,
   "id": "314c54e8-8eb5-4e55-b807-1df235f6cd95",
   "metadata": {},
   "outputs": [
    {
     "data": {
      "text/plain": [
       "(0.0, 4.0)"
      ]
     },
     "execution_count": 57,
     "metadata": {},
     "output_type": "execute_result"
    }
   ],
   "source": [
    "float(), float(4)"
   ]
  },
  {
   "cell_type": "markdown",
   "id": "bdb29dd4-46ad-49aa-9b3a-490d6147d4e4",
   "metadata": {},
   "source": [
    "We can change from string to float by doing:\n",
    "```python\n",
    "int(\"2.2\")\n",
    ">> 2.2\n",
    "```"
   ]
  },
  {
   "cell_type": "code",
   "execution_count": 58,
   "id": "40bf5129-3bee-47ae-88ce-f62ed205bf4f",
   "metadata": {},
   "outputs": [
    {
     "data": {
      "text/plain": [
       "-2.7"
      ]
     },
     "execution_count": 58,
     "metadata": {},
     "output_type": "execute_result"
    }
   ],
   "source": [
    "float(\" -2.7\")"
   ]
  },
  {
   "cell_type": "markdown",
   "id": "f41eaf6b-0fae-48a0-9853-7f4878f70542",
   "metadata": {},
   "source": [
    "##### String\n",
    "```python\n",
    "# Theory\n",
    "str(arg)\n",
    "```"
   ]
  },
  {
   "cell_type": "code",
   "execution_count": 59,
   "id": "1fc8d21f-f494-406d-87fb-369d7ef98e92",
   "metadata": {},
   "outputs": [
    {
     "data": {
      "text/plain": [
       "('1.3', '-6')"
      ]
     },
     "execution_count": 59,
     "metadata": {},
     "output_type": "execute_result"
    }
   ],
   "source": [
    "str(1.3), str(  -6)"
   ]
  },
  {
   "cell_type": "markdown",
   "id": "1a3d89db-a517-44f7-82a2-6ee2323e3305",
   "metadata": {},
   "source": [
    "##### Boolean\n",
    "```python\n",
    "#Theory\n",
    "bool(arg)\n",
    "```"
   ]
  },
  {
   "cell_type": "code",
   "execution_count": 60,
   "id": "ac457932-01d8-4f3c-a2c9-b84f556ebf9e",
   "metadata": {},
   "outputs": [
    {
     "data": {
      "text/plain": [
       "False"
      ]
     },
     "execution_count": 60,
     "metadata": {},
     "output_type": "execute_result"
    }
   ],
   "source": [
    "bool()"
   ]
  },
  {
   "cell_type": "markdown",
   "id": "50904e6b-36b8-4201-8a61-1de7b8698c7a",
   "metadata": {},
   "source": [
    "Every number in Python is considered as `True` and only 0 is `False`"
   ]
  },
  {
   "cell_type": "code",
   "execution_count": 61,
   "id": "7e0866aa-b856-4df1-991c-909d206d0ef4",
   "metadata": {},
   "outputs": [
    {
     "data": {
      "text/plain": [
       "(False, True, True)"
      ]
     },
     "execution_count": 61,
     "metadata": {},
     "output_type": "execute_result"
    }
   ],
   "source": [
    "bool(0.0), bool(0.1), bool(-12)"
   ]
  },
  {
   "cell_type": "code",
   "execution_count": 62,
   "id": "c1243f5e-636e-4e8c-97b9-6df802d49e0f",
   "metadata": {},
   "outputs": [
    {
     "data": {
      "text/plain": [
       "(1, 0.0)"
      ]
     },
     "execution_count": 62,
     "metadata": {},
     "output_type": "execute_result"
    }
   ],
   "source": [
    "int(True), float(False)"
   ]
  },
  {
   "cell_type": "markdown",
   "id": "8140e69a-9b98-4ed4-a4de-298f3d391cb7",
   "metadata": {},
   "source": [
    "Every string  is considered as `True` except for the empty string `\"\"`"
   ]
  },
  {
   "cell_type": "code",
   "execution_count": 63,
   "id": "0a75edc2-fcc6-4327-8994-a6f9833303bc",
   "metadata": {},
   "outputs": [
    {
     "data": {
      "text/plain": [
       "(False, True, True)"
      ]
     },
     "execution_count": 63,
     "metadata": {},
     "output_type": "execute_result"
    }
   ],
   "source": [
    "bool(\"\"), bool(\" \"), bool(\"Hello Worlds\")"
   ]
  },
  {
   "cell_type": "code",
   "execution_count": 64,
   "id": "83850168-1863-4b44-a0f2-c09f3dffe95f",
   "metadata": {},
   "outputs": [
    {
     "data": {
      "text/plain": [
       "('True', 'False')"
      ]
     },
     "execution_count": 64,
     "metadata": {},
     "output_type": "execute_result"
    }
   ],
   "source": [
    "str(True), str(False)"
   ]
  },
  {
   "cell_type": "code",
   "execution_count": 65,
   "id": "25368330-02db-4719-a016-42ad1da64319",
   "metadata": {},
   "outputs": [
    {
     "data": {
      "text/plain": [
       "(5, int)"
      ]
     },
     "execution_count": 65,
     "metadata": {},
     "output_type": "execute_result"
    }
   ],
   "source": [
    "# Changing the type of the same variable\n",
    "A = \"5\"\n",
    "A = int(A)\n",
    "A, type(A)"
   ]
  },
  {
   "cell_type": "markdown",
   "id": "eaa71c82-e93d-4dea-b575-9de5bc0dbd4e",
   "metadata": {},
   "source": [
    "<a id = \"#2.5\"></a>\n",
    "<a href=\"#idx2\"><p style=\"text-align:right;\" href=\"#idx2\">Back To Index</p></a> \n",
    "## 2.5. None type"
   ]
  },
  {
   "cell_type": "markdown",
   "id": "4092d00f-94a1-4ffa-b994-bf02aa4b81cd",
   "metadata": {},
   "source": [
    "This is a special type of variable which means empty variable."
   ]
  },
  {
   "cell_type": "code",
   "execution_count": 66,
   "id": "198da052-6602-4ab2-aee6-70edbfc78057",
   "metadata": {},
   "outputs": [],
   "source": [
    "special_var = None\n",
    "special_var"
   ]
  },
  {
   "cell_type": "code",
   "execution_count": 67,
   "id": "981d1530-1235-4abf-b888-8fcbcf25fa97",
   "metadata": {},
   "outputs": [
    {
     "name": "stdout",
     "output_type": "stream",
     "text": [
      "None\n"
     ]
    }
   ],
   "source": [
    "print(special_var)"
   ]
  },
  {
   "cell_type": "code",
   "execution_count": 68,
   "id": "b8c20382-a217-4b9d-960f-5f2e6a9446a5",
   "metadata": {},
   "outputs": [
    {
     "data": {
      "text/plain": [
       "(False, False)"
      ]
     },
     "execution_count": 68,
     "metadata": {},
     "output_type": "execute_result"
    }
   ],
   "source": [
    "None == True, None == False"
   ]
  },
  {
   "cell_type": "markdown",
   "id": "1eaff8cc-789d-4ef1-94fb-40e1127817c3",
   "metadata": {},
   "source": [
    "<a id = \"2.6.\"></a>\n",
    "<a href=\"#idx2\"><p style=\"text-align:right;\" href=\"#idx2\">Back To Index</p></a> \n",
    "## 2.6. Global and local variables"
   ]
  },
  {
   "cell_type": "markdown",
   "id": "de7ca3a0-4825-43be-8cce-2961c3274e5e",
   "metadata": {},
   "source": [
    "- We can use global variables over the code.\n",
    "- We can use local variables only in the scope of definition."
   ]
  },
  {
   "cell_type": "code",
   "execution_count": 71,
   "id": "1f5cad0f-0e1d-48d4-b4ab-17a27b2a2f4b",
   "metadata": {},
   "outputs": [
    {
     "name": "stdout",
     "output_type": "stream",
     "text": [
      "I love The Bridge\n"
     ]
    }
   ],
   "source": [
    "# This function uses global variable s\n",
    "def f():\n",
    "    print(s)\n",
    "\n",
    "s = \"I love The Bridge\"\n",
    "f()"
   ]
  },
  {
   "cell_type": "code",
   "execution_count": 76,
   "id": "6dbf4060-f21a-4215-ac3f-e3cc4bbb61bd",
   "metadata": {},
   "outputs": [
    {
     "name": "stdout",
     "output_type": "stream",
     "text": [
      "I love The Bridge\n"
     ]
    }
   ],
   "source": [
    "# Also we can do the following because of its globality\n",
    "print(s)"
   ]
  },
  {
   "cell_type": "code",
   "execution_count": 72,
   "id": "0e6433a1-85a0-4b90-9418-c055efd4c922",
   "metadata": {},
   "outputs": [],
   "source": [
    "def g():\n",
    "    GG = \"Good Game!\"  # This is a local variable in the scope of `g()` definition\n",
    "    print(GG)"
   ]
  },
  {
   "cell_type": "code",
   "execution_count": 73,
   "id": "e156c1a0-d236-40c9-8905-bf3b8319ea0e",
   "metadata": {},
   "outputs": [
    {
     "name": "stdout",
     "output_type": "stream",
     "text": [
      "Good Game!\n"
     ]
    }
   ],
   "source": [
    "g()"
   ]
  },
  {
   "cell_type": "code",
   "execution_count": 75,
   "id": "e9eaa6d6-966d-4c0a-9bba-a4e936cba13a",
   "metadata": {},
   "outputs": [
    {
     "ename": "NameError",
     "evalue": "name 'GG' is not defined",
     "output_type": "error",
     "traceback": [
      "\u001b[1;31m---------------------------------------------------------------------------\u001b[0m",
      "\u001b[1;31mNameError\u001b[0m                                 Traceback (most recent call last)",
      "\u001b[1;32m<ipython-input-75-f818eb65f44a>\u001b[0m in \u001b[0;36m<module>\u001b[1;34m\u001b[0m\n\u001b[1;32m----> 1\u001b[1;33m \u001b[0mprint\u001b[0m\u001b[1;33m(\u001b[0m\u001b[0mGG\u001b[0m\u001b[1;33m)\u001b[0m  \u001b[1;31m# We cannot do that because GG is a local variable\u001b[0m\u001b[1;33m\u001b[0m\u001b[1;33m\u001b[0m\u001b[0m\n\u001b[0m",
      "\u001b[1;31mNameError\u001b[0m: name 'GG' is not defined"
     ]
    }
   ],
   "source": [
    "print(GG)  # We cannot do that because GG is a local variable"
   ]
  },
  {
   "cell_type": "markdown",
   "id": "a6e1b287-a826-408b-98bc-a6cabb147ef7",
   "metadata": {},
   "source": [
    "<a id = \"2.7.\"></a>\n",
    "<a href=\"#idx2\"><p style=\"text-align:right;\" href=\"#idx2\">Back To Index</p></a> \n",
    "## 2.7. Good practises"
   ]
  },
  {
   "cell_type": "markdown",
   "id": "327d5e8c-7f4b-4f7a-82a9-d871d582d047",
   "metadata": {},
   "source": [
    "In Python there are more types of variables, however these are the most relevant for this course. Let's see some good practises to follow when you are coding.\n",
    "\n",
    "You can use as variable name whatever you want, however there are some tips to follow:\n",
    "- Do not use strange characters.\n",
    "- Use snake case to write variables names as follow `snake_case` or use camel case `camelCase`. The first one is more pythonic.\n",
    "- Use descriptive names in sake of an easy reading. For example `name = \"Esteban\"` is more descriptive than `n = \"Esteban\"`.\n",
    "- When you write code there are words that change their color, do not use those words to declare a variable because you will destroy its functionality."
   ]
  },
  {
   "cell_type": "markdown",
   "id": "ca81eb5a-96a5-46ad-97b4-c553fa73b601",
   "metadata": {},
   "source": [
    "<div><a href=\"03_conditionals.ipynb\"><p style=\"text-align:right;\" href=\"03_conditionals.ipynb\">Next - 3. Conditionals</p></a> "
   ]
  }
 ],
 "metadata": {
  "kernelspec": {
   "display_name": "Python 3",
   "language": "python",
   "name": "python3"
  },
  "language_info": {
   "codemirror_mode": {
    "name": "ipython",
    "version": 3
   },
   "file_extension": ".py",
   "mimetype": "text/x-python",
   "name": "python",
   "nbconvert_exporter": "python",
   "pygments_lexer": "ipython3",
   "version": "3.8.10"
  }
 },
 "nbformat": 4,
 "nbformat_minor": 5
}
