{
 "cells": [
  {
   "cell_type": "markdown",
   "id": "9f258805",
   "metadata": {},
   "source": [
    "# Entornos Virtuales\n",
    "> *Manejo de entornos virtuales con Anaconda.*\n",
    "___\n"
   ]
  },
  {
   "cell_type": "markdown",
   "id": "4ca692a1",
   "metadata": {},
   "source": [
    "**Indice**\n",
    "\n",
    "- **I. ¿Qué son los entornos virtuales?**\n",
    "- **II. ¿Cómo se crean los entornos virtuales?**\n",
    "- **III. Compartir entornos virtuales.**\n",
    "- **IV. ¿Cómo añadir librerías a un entorno virtual?**\n",
    "- **V. ¿Cómo eliminar un entorno virtual?**\n",
    "- **Recursos.**\n",
    "- **Ejercicio.**"
   ]
  },
  {
   "cell_type": "markdown",
   "id": "7fc5fe7d",
   "metadata": {},
   "source": [
    "## I. ¿Qué son los entornos virtuales?"
   ]
  },
  {
   "cell_type": "markdown",
   "id": "af8aa0d1",
   "metadata": {},
   "source": [
    "Los entornos virtuales son como estanterías de paquetes para cada proyecto. No tiene sentido tener para un proyecto de machine learning un paquete de conexión a bases de datos, al igual que no tiene sentido guardar en un paquete cosas de la cocina mezcladas con cosas de surf en pro a tener una mayor organización.\n",
    "\n",
    "Pues eso es lo que viene a poner en práctica los entornos virtuales, **organización**."
   ]
  },
  {
   "cell_type": "markdown",
   "id": "484616db",
   "metadata": {},
   "source": [
    "## II. ¿Cómo se crean los entornos virtuales?"
   ]
  },
  {
   "cell_type": "markdown",
   "id": "8c047235",
   "metadata": {},
   "source": [
    "Para **crear entornos virtuales** vamos a hacer uso del software Anaconda.\n",
    "\n",
    "```console\n",
    "conda create --name my_firt_venv\n",
    "```\n",
    "\n",
    "con ese comando creamos un nuevo entorno virtual vacío.\n",
    "\n",
    "Para crear un entorno virtual con el python instalado lo que hacemos es lo siguiente.\n",
    "```console\n",
    "conda create --name my_firt_venv python\n",
    "```\n",
    "\n",
    "Haciendo esto creamos un entorno virtual con la versión de python que tengamos puesta por defecto en nuestra terminal, si queremos una versión específica debemos de especificársela haciendo:\n",
    "```console\n",
    "conda create --name my_firt_venv python=3.8\n",
    "```\n",
    "siempre va a ser mejor opción la de especificar las versiones"
   ]
  },
  {
   "cell_type": "markdown",
   "id": "9a32555f",
   "metadata": {},
   "source": [
    "Una vez tenemos creado el entorno virtual, debemos de **activarlo**:\n",
    "```console\n",
    "conda activate my_first_venv\n",
    "```\n",
    "así tendremos activado ya nuestro entorno virtual y podremos acceder a la terminal de *Python* de nuestro entorno virtual además de poder ejecutar cosas en nuestro propio entorno virtual. Para desactivar el entorno virtual haremos:\n",
    "```console\n",
    "conda deactivate\n",
    "```\n",
    "Para ejecutar la terminal de *Python* en la consola escribimos:\n",
    "```console\n",
    "python\n",
    "```\n",
    "y automáticamente podremos escribir código python que podemos ejecutar. Para salir de esta consola hacemos Ctrl+D o escribimos\n",
    "```console\n",
    "exit()\n",
    "```"
   ]
  },
  {
   "cell_type": "markdown",
   "id": "8166d18e",
   "metadata": {},
   "source": [
    "## III. Compartir entornos virtuales"
   ]
  },
  {
   "cell_type": "markdown",
   "id": "c15118f9",
   "metadata": {},
   "source": [
    "Para compartir un entorno virtual o incluso para crear un entorno virtual que nos compartan a nosotros debemos de hacerlo a través de un archivo YAML. Este archivo se puede llamar como quiera pero tradicionalmente se usa el nombre de *environment.yml* que tiene la siguiente forma:\n",
    "```json\n",
    "name: nombre_del_venv\n",
    "\n",
    "channels:\n",
    "    - pytorch\n",
    "    - defaults\n",
    "    \n",
    "dependencies:\n",
    "    - python=3.8\n",
    "    - pip=20.0\n",
    "    - pandas=1.0\n",
    "    - scikit-learn=0.22\n",
    "    - pip:\n",
    "        - kaggle==1.5\n",
    "```\n",
    "En este caso **name** corresponde al nombre del entorno virtual, **channels** son los canales sobre los que va a buscar las dependencias, **dependencies** son las librerías que queremos en nuestro entorno virtual y añadir librerías con el **pip** se hace para especificar que esa librería la va a descargar usando pip."
   ]
  },
  {
   "cell_type": "markdown",
   "id": "4b1ff462",
   "metadata": {},
   "source": [
    "La forma de crear un entorno virtual desde un archivo yaml es:\n",
    "```console\n",
    "conda env create -f environment.yml\n",
    "```"
   ]
  },
  {
   "cell_type": "markdown",
   "id": "23e32ca0",
   "metadata": {},
   "source": [
    "Estos archivos no son necesarios escribirlos a mano, podemos crear uno directamente de un entorno previamente creado y en el que estemos trabajando (que esté activado) escribiendo:\n",
    "```console\n",
    "conda env export > environment.yml\n",
    "```\n",
    "Con esa línea lo que estamos haciendo es exportando el entorno virtual activo y guardándolo en un archivo que se llama environment.yml"
   ]
  },
  {
   "cell_type": "markdown",
   "id": "0d89a6ca",
   "metadata": {},
   "source": [
    "## IV. ¿Cómo añadir librerías a un entorno virtual?"
   ]
  },
  {
   "cell_type": "markdown",
   "id": "fbeb7e57",
   "metadata": {},
   "source": [
    "Las librerías podemos añadirlas tras haber creado y activado el entorno virtual haciendo cualquiera de los siguientes:\n",
    "```console\n",
    "conda install nombre_libreria\n",
    "\n",
    "pip install nombre_libreria\n",
    "```\n",
    "Para ejecutar el de **pip** hay que tenerlo instalado en el entorno. Otra manera de instalar librerías en un entorno virtual es especificándolas a la hora de la creación del entorno virtual.\n",
    "```console\n",
    "conda create --name my_firt_venv python=3.8 pandas numpy jupyter scikit-learn\n",
    "```\n",
    "de esta manera iniciaremos nuestro entorno virtual con el conjunto de librerías que queramos."
   ]
  },
  {
   "cell_type": "markdown",
   "id": "acf2b0ab",
   "metadata": {},
   "source": [
    "## V. ¿Cómo eliminar un entorno virtual?"
   ]
  },
  {
   "cell_type": "markdown",
   "id": "6a4eb2e0",
   "metadata": {},
   "source": [
    "Muchas veces puede llegar un momento que tengamos muchos entornos virtuales y tengamos que eliminar alguno, para ello primero vamos a ver como listar todos los entornos virtuales que tenemos.\n",
    "```console\n",
    "conda env list\n",
    "```\n",
    "y una vez que tengamos el nombre del que queremos eliminar hacemos\n",
    "```console\n",
    "conda remove --name nombre_del_venv --all\n",
    "```\n",
    "con esto **eliminamos solo las librerías no eliminamos el proyecto que hayamos creado**."
   ]
  },
  {
   "cell_type": "markdown",
   "id": "ec885aba",
   "metadata": {},
   "source": [
    "## Recursos\n",
    "1. [Virtual Envs with Conda](https://towardsdatascience.com/manage-your-python-virtual-environment-with-conda-a0d2934d5195)\n",
    "2. [Documentación Anaconda (entornos virtuales)](https://conda.io/projects/conda/en/latest/user-guide/tasks/manage-environments.html)"
   ]
  },
  {
   "cell_type": "markdown",
   "id": "2ae28cc0",
   "metadata": {},
   "source": [
    "## Ejercicio\n",
    "**1.** Crea un entorno virtual vacío con el nombre que quieras para el resto del curso.\n",
    "\n",
    "**2.** Activa el entorno virtual y comprueba las librerías instaladas.\n",
    "\n",
    "**3.** Borra el entorno virtual y crea uno nuevo con python y las librerías de numpy, pandas, scikit-learn, keras, flask, jupyter y jupyterlab.\n",
    "\n",
    "**4.** Crea el siguiente archivo con la extensión de *Python* \".py\" y ejecutalo. El archivo va a ser:\n",
    "```python\n",
    "import sys\n",
    "\n",
    "NAME = sys.argv[1]\n",
    "print(f\"Hello World {NAME}. Welcome to your Virtual Environment.\")\n",
    "```\n",
    "y se ejecuta con:\n",
    "```console\n",
    "python nombre_del_archivo.py tu_nombre_sin_espacios\n",
    "```\n",
    "**5.** Inicia Jupyter o JupyterLab desde un directorio de trabajo deseado."
   ]
  },
  {
   "cell_type": "code",
   "execution_count": null,
   "id": "558120b1",
   "metadata": {},
   "outputs": [],
   "source": []
  }
 ],
 "metadata": {
  "kernelspec": {
   "display_name": "Python 3",
   "language": "python",
   "name": "python3"
  },
  "language_info": {
   "codemirror_mode": {
    "name": "ipython",
    "version": 3
   },
   "file_extension": ".py",
   "mimetype": "text/x-python",
   "name": "python",
   "nbconvert_exporter": "python",
   "pygments_lexer": "ipython3",
   "version": "3.8.10"
  }
 },
 "nbformat": 4,
 "nbformat_minor": 5
}
